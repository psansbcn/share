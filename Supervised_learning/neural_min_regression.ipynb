{
 "cells": [
  {
   "cell_type": "markdown",
   "id": "0d580031",
   "metadata": {},
   "source": [
    "### Neural Network, objective attributes data set\n",
    "Using only data available prior to start the journey. This is all but the departure delay and the delay causes (weather, NSA, late plane arrival... which can only be known during or after the flight)\n",
    "Will use Neural Network because it was the best perofming model in the previous excercises"
   ]
  },
  {
   "cell_type": "code",
   "execution_count": 1,
   "id": "068ce499",
   "metadata": {},
   "outputs": [],
   "source": [
    "import pandas as pd\n",
    "import numpy as np\n",
    "import matplotlib.pyplot as plt\n",
    "import seaborn as sns\n",
    "from sklearn.model_selection import train_test_split"
   ]
  },
  {
   "cell_type": "code",
   "execution_count": 2,
   "id": "3373ba18",
   "metadata": {},
   "outputs": [],
   "source": [
    "import keras\n",
    "from keras.models import Sequential\n",
    "from keras.layers import Dense\n",
    "\n",
    "from sklearn.metrics import mean_squared_error\n",
    "from sklearn.metrics import mean_absolute_error\n",
    "\n",
    "from math import sqrt"
   ]
  },
  {
   "cell_type": "code",
   "execution_count": 3,
   "id": "04a89e91",
   "metadata": {},
   "outputs": [],
   "source": [
    "import sqlite3\n",
    "conn=sqlite3.connect(\"parametres.db\")\n",
    "cur=conn.cursor()"
   ]
  },
  {
   "cell_type": "code",
   "execution_count": 11,
   "id": "d29cf7d5",
   "metadata": {},
   "outputs": [
    {
     "name": "stdout",
     "output_type": "stream",
     "text": [
      "<class 'pandas.core.frame.DataFrame'>\n",
      "Int64Index: 48419 entries, 447482 to 400486\n",
      "Data columns (total 23 columns):\n",
      " #   Column             Non-Null Count  Dtype  \n",
      "---  ------             --------------  -----  \n",
      " 0   ActualElapsedTime  48419 non-null  int64  \n",
      " 1   AirTime            48419 non-null  int64  \n",
      " 2   ArrDelay           48419 non-null  int64  \n",
      " 3   DepDelay           48419 non-null  float64\n",
      " 4   Distance           48419 non-null  float64\n",
      " 5   TaxiIn             48419 non-null  float64\n",
      " 6   TaxiOut            48419 non-null  float64\n",
      " 7   Cancelled          48419 non-null  float64\n",
      " 8   Diverted           48419 non-null  int64  \n",
      " 9   CarrierDelay       48419 non-null  float64\n",
      " 10  WeatherDelay       48419 non-null  float64\n",
      " 11  NASDelay           48419 non-null  float64\n",
      " 12  SecurityDelay      48419 non-null  float64\n",
      " 13  LateAircraftDelay  48419 non-null  float64\n",
      " 14  DepTime_sin        48419 non-null  float64\n",
      " 15  DepTime_cos        48419 non-null  float64\n",
      " 16  Month_sin          48419 non-null  float64\n",
      " 17  Month_cos          48419 non-null  float64\n",
      " 18  DayOfWeek_sin      48419 non-null  float64\n",
      " 19  DayOfWeek_cos      48419 non-null  float64\n",
      " 20  origin_freq        48419 non-null  float64\n",
      " 21  dest               48419 non-null  float64\n",
      " 22  carrier_me         48419 non-null  float64\n",
      "dtypes: float64(19), int64(4)\n",
      "memory usage: 8.9 MB\n"
     ]
    }
   ],
   "source": [
    "df=pd.read_csv('delayed25.csv', index_col=False, warn_bad_lines=True, error_bad_lines=False)\n",
    "# as the process take too much time, we resample the database \n",
    "df = df.sample(frac =.1)\n",
    "df=df.drop(['Unnamed: 0'], axis=1)\n",
    "df.info()"
   ]
  },
  {
   "cell_type": "markdown",
   "id": "8be61cda",
   "metadata": {},
   "source": [
    "##### Keep the attributes we know before flying"
   ]
  },
  {
   "cell_type": "code",
   "execution_count": 12,
   "id": "464439ab",
   "metadata": {},
   "outputs": [],
   "source": [
    "dfmin=df[['AirTime','Distance','DepTime_sin','DepTime_cos','Month_sin','Month_cos',\n",
    "           'DayOfWeek_sin','DayOfWeek_cos','origin_freq','dest','carrier_me','ArrDelay']]"
   ]
  },
  {
   "cell_type": "code",
   "execution_count": 13,
   "id": "ef4d649c",
   "metadata": {},
   "outputs": [
    {
     "data": {
      "text/html": [
       "<div>\n",
       "<style scoped>\n",
       "    .dataframe tbody tr th:only-of-type {\n",
       "        vertical-align: middle;\n",
       "    }\n",
       "\n",
       "    .dataframe tbody tr th {\n",
       "        vertical-align: top;\n",
       "    }\n",
       "\n",
       "    .dataframe thead th {\n",
       "        text-align: right;\n",
       "    }\n",
       "</style>\n",
       "<table border=\"1\" class=\"dataframe\">\n",
       "  <thead>\n",
       "    <tr style=\"text-align: right;\">\n",
       "      <th></th>\n",
       "      <th>AirTime</th>\n",
       "      <th>Distance</th>\n",
       "      <th>DepTime_sin</th>\n",
       "      <th>DepTime_cos</th>\n",
       "      <th>Month_sin</th>\n",
       "      <th>Month_cos</th>\n",
       "      <th>DayOfWeek_sin</th>\n",
       "      <th>DayOfWeek_cos</th>\n",
       "      <th>origin_freq</th>\n",
       "      <th>dest</th>\n",
       "      <th>carrier_me</th>\n",
       "      <th>ArrDelay</th>\n",
       "    </tr>\n",
       "  </thead>\n",
       "  <tbody>\n",
       "    <tr>\n",
       "      <th>447482</th>\n",
       "      <td>199</td>\n",
       "      <td>1.733333</td>\n",
       "      <td>-0.526956</td>\n",
       "      <td>-0.849893</td>\n",
       "      <td>1.000000e+00</td>\n",
       "      <td>6.123234e-17</td>\n",
       "      <td>0.433884</td>\n",
       "      <td>-0.900969</td>\n",
       "      <td>0.027732</td>\n",
       "      <td>0.017956</td>\n",
       "      <td>36.445019</td>\n",
       "      <td>19</td>\n",
       "    </tr>\n",
       "    <tr>\n",
       "      <th>78489</th>\n",
       "      <td>163</td>\n",
       "      <td>1.053030</td>\n",
       "      <td>-0.710799</td>\n",
       "      <td>-0.703395</td>\n",
       "      <td>1.224647e-16</td>\n",
       "      <td>-1.000000e+00</td>\n",
       "      <td>-0.781831</td>\n",
       "      <td>0.623490</td>\n",
       "      <td>0.005420</td>\n",
       "      <td>0.024699</td>\n",
       "      <td>30.087884</td>\n",
       "      <td>-10</td>\n",
       "    </tr>\n",
       "    <tr>\n",
       "      <th>266391</th>\n",
       "      <td>42</td>\n",
       "      <td>-0.578788</td>\n",
       "      <td>-0.627284</td>\n",
       "      <td>-0.778791</td>\n",
       "      <td>1.000000e+00</td>\n",
       "      <td>6.123234e-17</td>\n",
       "      <td>-0.433884</td>\n",
       "      <td>-0.900969</td>\n",
       "      <td>0.049265</td>\n",
       "      <td>0.022669</td>\n",
       "      <td>46.561553</td>\n",
       "      <td>14</td>\n",
       "    </tr>\n",
       "  </tbody>\n",
       "</table>\n",
       "</div>"
      ],
      "text/plain": [
       "        AirTime  Distance  DepTime_sin  DepTime_cos     Month_sin  \\\n",
       "447482      199  1.733333    -0.526956    -0.849893  1.000000e+00   \n",
       "78489       163  1.053030    -0.710799    -0.703395  1.224647e-16   \n",
       "266391       42 -0.578788    -0.627284    -0.778791  1.000000e+00   \n",
       "\n",
       "           Month_cos  DayOfWeek_sin  DayOfWeek_cos  origin_freq      dest  \\\n",
       "447482  6.123234e-17       0.433884      -0.900969     0.027732  0.017956   \n",
       "78489  -1.000000e+00      -0.781831       0.623490     0.005420  0.024699   \n",
       "266391  6.123234e-17      -0.433884      -0.900969     0.049265  0.022669   \n",
       "\n",
       "        carrier_me  ArrDelay  \n",
       "447482   36.445019        19  \n",
       "78489    30.087884       -10  \n",
       "266391   46.561553        14  "
      ]
     },
     "execution_count": 13,
     "metadata": {},
     "output_type": "execute_result"
    }
   ],
   "source": [
    "dfmin.head(3)"
   ]
  },
  {
   "cell_type": "markdown",
   "id": "bc5c6fff",
   "metadata": {},
   "source": [
    "##### We wantto predict the possibility of a late arrival"
   ]
  },
  {
   "cell_type": "code",
   "execution_count": 14,
   "id": "066bf03f",
   "metadata": {
    "scrolled": true
   },
   "outputs": [
    {
     "name": "stderr",
     "output_type": "stream",
     "text": [
      "/Users/psans/opt/anaconda3/lib/python3.8/site-packages/pandas/core/frame.py:3191: SettingWithCopyWarning: \n",
      "A value is trying to be set on a copy of a slice from a DataFrame.\n",
      "Try using .loc[row_indexer,col_indexer] = value instead\n",
      "\n",
      "See the caveats in the documentation: https://pandas.pydata.org/pandas-docs/stable/user_guide/indexing.html#returning-a-view-versus-a-copy\n",
      "  self[k1] = value[k2]\n"
     ]
    }
   ],
   "source": [
    "target_column = ['ArrDelay'] \n",
    "predictors = list(set(list(dfmin.columns))-set(target_column))\n",
    "dfmin[predictors] = dfmin[predictors]/dfmin[predictors].max()"
   ]
  },
  {
   "cell_type": "code",
   "execution_count": 15,
   "id": "dad66a8a",
   "metadata": {},
   "outputs": [
    {
     "name": "stdout",
     "output_type": "stream",
     "text": [
      "(33893, 11)\n",
      "(14526, 11)\n"
     ]
    }
   ],
   "source": [
    "#Split the data into train and test sets\n",
    "X = df[predictors].values\n",
    "y = df[target_column].values\n",
    "\n",
    "\n",
    "X_train, X_test, y_train, y_test = train_test_split(X, y, test_size=0.30, random_state=40)\n",
    "print(X_train.shape); print(X_test.shape)"
   ]
  },
  {
   "cell_type": "code",
   "execution_count": 16,
   "id": "e9ceae15",
   "metadata": {},
   "outputs": [
    {
     "name": "stdout",
     "output_type": "stream",
     "text": [
      "Model: \"sequential_1\"\n",
      "_________________________________________________________________\n",
      "Layer (type)                 Output Shape              Param #   \n",
      "=================================================================\n",
      "dense_2 (Dense)              (None, 100)               1200      \n",
      "_________________________________________________________________\n",
      "dense_3 (Dense)              (None, 1)                 101       \n",
      "=================================================================\n",
      "Total params: 1,301\n",
      "Trainable params: 1,301\n",
      "Non-trainable params: 0\n",
      "_________________________________________________________________\n"
     ]
    }
   ],
   "source": [
    "# Define model previously tested\n",
    "\n",
    "model = Sequential()\n",
    "model.add(Dense(100, input_dim=11, activation='relu'))\n",
    "# check to see if the regression node should be added\n",
    "model.add(Dense(1))\n",
    "\n",
    "model.summary() #Print model Summary"
   ]
  },
  {
   "cell_type": "code",
   "execution_count": null,
   "id": "b67c013d",
   "metadata": {},
   "outputs": [],
   "source": [
    "model.compile(loss= \"mean_squared_error\" , optimizer=\"adam\", metrics=[\"mean_squared_error\"])\n",
    "\n",
    "model.fit(X_train, y_train, epochs=200)"
   ]
  },
  {
   "cell_type": "code",
   "execution_count": 18,
   "id": "ec8809f3",
   "metadata": {},
   "outputs": [
    {
     "name": "stdout",
     "output_type": "stream",
     "text": [
      "52.57064816251308\n",
      "53.1841595934956\n"
     ]
    }
   ],
   "source": [
    "pred_train= model.predict(X_train)\n",
    "print(np.sqrt(mean_squared_error(y_train,pred_train)))\n",
    "\n",
    "pred= model.predict(X_test)\n",
    "print(np.sqrt(mean_squared_error(y_test,pred))) "
   ]
  },
  {
   "cell_type": "code",
   "execution_count": 19,
   "id": "5f91a110",
   "metadata": {},
   "outputs": [
    {
     "name": "stdout",
     "output_type": "stream",
     "text": [
      "MAE: 35.1097\n",
      "MSE: 2828.555\n",
      "RMSE: 1414.277\n",
      "R-Squared: 0.1285\n"
     ]
    }
   ],
   "source": [
    "from sklearn.metrics import mean_absolute_error\n",
    "y_pred = model.predict(X_test)\n",
    "\n",
    "mae=mean_absolute_error(y_test, y_pred)\n",
    "print('MAE: %.4f' % mae)\n",
    "\n",
    "mse = mean_squared_error(y_test, y_pred)\n",
    "print('MSE: %.3f' % mse)\n",
    "print('RMSE: %.3f' % (mse*(1/2.0)))\n",
    "\n",
    "from sklearn.metrics import r2_score\n",
    "y_pred = model.predict(X_test)\n",
    "r2 = r2_score(y_test,y_pred)\n",
    "print('R-Squared: %.4f' % r2)"
   ]
  },
  {
   "cell_type": "code",
   "execution_count": 20,
   "id": "07dfad4c",
   "metadata": {},
   "outputs": [],
   "source": [
    "#SQL database update\n",
    "code='objective'\n",
    "process='Neural_network'\n",
    "datab='objective_dt'\n",
    "depdelay='no'\n",
    "\n",
    "cur.execute(\"INSERT OR REPLACE INTO parametres(codi,proces,DepDelay, base_dades, MAE, R2, MSE) VALUES(?,?,?,?,?,?,?)\",(code,process,depdelay,datab,'%.3f' % mae,'%.3f' % r2,'%.3f' % mse))\n",
    "conn.commit()"
   ]
  },
  {
   "cell_type": "markdown",
   "id": "9b15c9f2",
   "metadata": {},
   "source": [
    "##### The compiled database with the different tests.\n",
    "The last row is the result of this objective prediction, which indicates it is difficult to predict if a flight is going to be late"
   ]
  },
  {
   "cell_type": "code",
   "execution_count": 21,
   "id": "3e0bb341",
   "metadata": {
    "scrolled": false
   },
   "outputs": [
    {
     "name": "stdout",
     "output_type": "stream",
     "text": [
      "         codi          proces DepDelay    base_dades     MAE     R2       MSE\n",
      "0         dt1   Decision_Tree      yes      standard   5.826  0.977    83.016\n",
      "1         dt2   Decision_Tree      yes      standard   9.383  0.936   205.708\n",
      "2         dt3   Decision_Tree       no      standard  15.117  0.840   524.455\n",
      "3         dt4   Decision_Tree      yes  standard/min   9.383  0.840   205.708\n",
      "4         dt5   Decision_Tree      yes   no standard   9.818  0.840   227.035\n",
      "5         dt6   Decision_Tree       no   no standard  14.717  0.840   493.721\n",
      "6         nn1  Neural_network      yes      standard   2.295  0.995    16.489\n",
      "7         nn2  Neural_network       no      standard   2.822  0.989    35.978\n",
      "8         ls1           Lasso      yes      standard   3.548  0.987    44.190\n",
      "9         ls2           Lasso       no      standard   3.548  0.987    44.190\n",
      "10  objective  Neural_network       no  objective_dt  35.110  0.129  2828.555\n"
     ]
    }
   ],
   "source": [
    "print(pd.read_sql_query(\"SELECT * from parametres\", conn))"
   ]
  },
  {
   "cell_type": "code",
   "execution_count": null,
   "id": "b62cdf61",
   "metadata": {},
   "outputs": [],
   "source": []
  }
 ],
 "metadata": {
  "kernelspec": {
   "display_name": "Python 3",
   "language": "python",
   "name": "python3"
  },
  "language_info": {
   "codemirror_mode": {
    "name": "ipython",
    "version": 3
   },
   "file_extension": ".py",
   "mimetype": "text/x-python",
   "name": "python",
   "nbconvert_exporter": "python",
   "pygments_lexer": "ipython3",
   "version": "3.8.5"
  }
 },
 "nbformat": 4,
 "nbformat_minor": 5
}
