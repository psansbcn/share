{
 "cells": [
  {
   "cell_type": "markdown",
   "id": "aaeb21ab",
   "metadata": {},
   "source": [
    "### Classification models\n",
    "##### Without Departure Delay Column, balanced and with PCA"
   ]
  },
  {
   "cell_type": "code",
   "execution_count": 1,
   "id": "0b547f14",
   "metadata": {},
   "outputs": [],
   "source": [
    "import numpy as np\n",
    "import pandas as pd\n",
    "\n",
    "import warnings\n",
    "warnings.simplefilter('ignore')\n",
    "\n",
    "from sklearn.model_selection import train_test_split, cross_val_score, StratifiedKFold\n",
    "from sklearn import metrics\n",
    "from sklearn.neighbors import KNeighborsClassifier\n",
    "from sklearn import svm\n",
    "from sklearn.linear_model import LogisticRegression, LinearRegression\n",
    "\n",
    "from sklearn.tree import DecisionTreeClassifier\n",
    "from sklearn.neural_network import MLPClassifier\n",
    "from sklearn.naive_bayes import GaussianNB\n",
    "from sklearn.gaussian_process import GaussianProcessClassifier\n",
    "from sklearn.gaussian_process.kernels import RBF\n",
    "\n",
    "from sklearn.ensemble import RandomForestClassifier, AdaBoostClassifier\n",
    "from sklearn.metrics import confusion_matrix, ConfusionMatrixDisplay, f1_score, classification_report\n",
    "\n",
    "import xgboost as xgb"
   ]
  },
  {
   "cell_type": "markdown",
   "id": "9e18c9d0",
   "metadata": {},
   "source": [
    "##### Load the SQL db for later comparison"
   ]
  },
  {
   "cell_type": "code",
   "execution_count": 2,
   "id": "5506859d",
   "metadata": {},
   "outputs": [],
   "source": [
    "import sqlite3\n",
    "conn=sqlite3.connect(\"models.db\")\n",
    "cur=conn.cursor()"
   ]
  },
  {
   "cell_type": "code",
   "execution_count": 4,
   "id": "9282f03e",
   "metadata": {},
   "outputs": [
    {
     "data": {
      "text/html": [
       "<div>\n",
       "<style scoped>\n",
       "    .dataframe tbody tr th:only-of-type {\n",
       "        vertical-align: middle;\n",
       "    }\n",
       "\n",
       "    .dataframe tbody tr th {\n",
       "        vertical-align: top;\n",
       "    }\n",
       "\n",
       "    .dataframe thead th {\n",
       "        text-align: right;\n",
       "    }\n",
       "</style>\n",
       "<table border=\"1\" class=\"dataframe\">\n",
       "  <thead>\n",
       "    <tr style=\"text-align: right;\">\n",
       "      <th></th>\n",
       "      <th>CRSElapsedTime</th>\n",
       "      <th>Distance</th>\n",
       "      <th>ArrDelay</th>\n",
       "      <th>DepTime_sin</th>\n",
       "      <th>DepTime_cos</th>\n",
       "      <th>ArrTime_sin</th>\n",
       "      <th>ArrTime_cos</th>\n",
       "      <th>Month_sin</th>\n",
       "      <th>Month_cos</th>\n",
       "      <th>DayOfWeek_sin</th>\n",
       "      <th>DayOfWeek_cos</th>\n",
       "      <th>origin_freq</th>\n",
       "      <th>dest_freq</th>\n",
       "      <th>carrier</th>\n",
       "    </tr>\n",
       "  </thead>\n",
       "  <tbody>\n",
       "    <tr>\n",
       "      <th>0</th>\n",
       "      <td>0.278278</td>\n",
       "      <td>-0.380734</td>\n",
       "      <td>0</td>\n",
       "      <td>-0.598325</td>\n",
       "      <td>-0.801254</td>\n",
       "      <td>-0.794944</td>\n",
       "      <td>-0.606682</td>\n",
       "      <td>1.000000</td>\n",
       "      <td>6.123234e-17</td>\n",
       "      <td>0.781831</td>\n",
       "      <td>0.623490</td>\n",
       "      <td>0.000485</td>\n",
       "      <td>0.055796</td>\n",
       "      <td>0.042186</td>\n",
       "    </tr>\n",
       "    <tr>\n",
       "      <th>1</th>\n",
       "      <td>0.975309</td>\n",
       "      <td>2.409786</td>\n",
       "      <td>1</td>\n",
       "      <td>-0.927836</td>\n",
       "      <td>-0.372988</td>\n",
       "      <td>-0.939094</td>\n",
       "      <td>0.343660</td>\n",
       "      <td>0.866025</td>\n",
       "      <td>-5.000000e-01</td>\n",
       "      <td>0.781831</td>\n",
       "      <td>0.623490</td>\n",
       "      <td>0.068270</td>\n",
       "      <td>0.016548</td>\n",
       "      <td>0.059441</td>\n",
       "    </tr>\n",
       "    <tr>\n",
       "      <th>2</th>\n",
       "      <td>0.208709</td>\n",
       "      <td>-0.513761</td>\n",
       "      <td>1</td>\n",
       "      <td>-0.370557</td>\n",
       "      <td>-0.928810</td>\n",
       "      <td>-0.623197</td>\n",
       "      <td>-0.782065</td>\n",
       "      <td>-1.000000</td>\n",
       "      <td>-1.836970e-16</td>\n",
       "      <td>0.781831</td>\n",
       "      <td>0.623490</td>\n",
       "      <td>0.004281</td>\n",
       "      <td>0.055796</td>\n",
       "      <td>0.059441</td>\n",
       "    </tr>\n",
       "    <tr>\n",
       "      <th>3</th>\n",
       "      <td>0.342342</td>\n",
       "      <td>-0.480122</td>\n",
       "      <td>1</td>\n",
       "      <td>-0.962455</td>\n",
       "      <td>0.271440</td>\n",
       "      <td>-0.834367</td>\n",
       "      <td>0.551209</td>\n",
       "      <td>1.000000</td>\n",
       "      <td>6.123234e-17</td>\n",
       "      <td>0.000000</td>\n",
       "      <td>1.000000</td>\n",
       "      <td>0.002323</td>\n",
       "      <td>0.019771</td>\n",
       "      <td>0.027531</td>\n",
       "    </tr>\n",
       "    <tr>\n",
       "      <th>4</th>\n",
       "      <td>0.457457</td>\n",
       "      <td>0.126911</td>\n",
       "      <td>1</td>\n",
       "      <td>-0.856718</td>\n",
       "      <td>0.515786</td>\n",
       "      <td>-0.243615</td>\n",
       "      <td>0.969872</td>\n",
       "      <td>0.500000</td>\n",
       "      <td>8.660254e-01</td>\n",
       "      <td>0.974928</td>\n",
       "      <td>-0.222521</td>\n",
       "      <td>0.015944</td>\n",
       "      <td>0.015046</td>\n",
       "      <td>0.195616</td>\n",
       "    </tr>\n",
       "  </tbody>\n",
       "</table>\n",
       "</div>"
      ],
      "text/plain": [
       "   CRSElapsedTime  Distance  ArrDelay  DepTime_sin  DepTime_cos  ArrTime_sin  \\\n",
       "0        0.278278 -0.380734         0    -0.598325    -0.801254    -0.794944   \n",
       "1        0.975309  2.409786         1    -0.927836    -0.372988    -0.939094   \n",
       "2        0.208709 -0.513761         1    -0.370557    -0.928810    -0.623197   \n",
       "3        0.342342 -0.480122         1    -0.962455     0.271440    -0.834367   \n",
       "4        0.457457  0.126911         1    -0.856718     0.515786    -0.243615   \n",
       "\n",
       "   ArrTime_cos  Month_sin     Month_cos  DayOfWeek_sin  DayOfWeek_cos  \\\n",
       "0    -0.606682   1.000000  6.123234e-17       0.781831       0.623490   \n",
       "1     0.343660   0.866025 -5.000000e-01       0.781831       0.623490   \n",
       "2    -0.782065  -1.000000 -1.836970e-16       0.781831       0.623490   \n",
       "3     0.551209   1.000000  6.123234e-17       0.000000       1.000000   \n",
       "4     0.969872   0.500000  8.660254e-01       0.974928      -0.222521   \n",
       "\n",
       "   origin_freq  dest_freq   carrier  \n",
       "0     0.000485   0.055796  0.042186  \n",
       "1     0.068270   0.016548  0.059441  \n",
       "2     0.004281   0.055796  0.059441  \n",
       "3     0.002323   0.019771  0.027531  \n",
       "4     0.015944   0.015046  0.195616  "
      ]
     },
     "execution_count": 4,
     "metadata": {},
     "output_type": "execute_result"
    }
   ],
   "source": [
    "#Loading the dataset\n",
    "df=pd.read_csv('depdelay20enc.csv', index_col=False, warn_bad_lines=True, error_bad_lines=False)\n",
    "df=df.drop(['Unnamed: 0','DepDelay'],axis=1)\n",
    "df = df.sample(frac =.02).reset_index().drop(['index'], axis=1)\n",
    "df.head()"
   ]
  },
  {
   "cell_type": "markdown",
   "id": "c8ea8e8a",
   "metadata": {},
   "source": [
    "##### Split Train and Test  and set ArrDelay as target column"
   ]
  },
  {
   "cell_type": "code",
   "execution_count": 5,
   "id": "b9b7f04c",
   "metadata": {},
   "outputs": [],
   "source": [
    "X,y = df.loc[:, df.columns != 'ArrDelay'],df.loc[:, df.columns == 'ArrDelay']\n",
    "\n",
    "X_train,X_test, y_train, y_test = train_test_split(X,y, test_size=0.25, random_state=42, stratify=y)"
   ]
  },
  {
   "cell_type": "markdown",
   "id": "8e2bf2da",
   "metadata": {},
   "source": [
    "##### Apply PCA"
   ]
  },
  {
   "cell_type": "code",
   "execution_count": 6,
   "id": "31035f78",
   "metadata": {},
   "outputs": [],
   "source": [
    "from sklearn.decomposition import PCA\n",
    "pca = PCA(n_components=3)\n",
    "principalComponents = pca.fit_transform(X)\n",
    "principalDf = pd.DataFrame(data = principalComponents, columns = ['component_1', 'component_2', 'component_3'])"
   ]
  },
  {
   "cell_type": "code",
   "execution_count": 6,
   "id": "9751816c",
   "metadata": {},
   "outputs": [
    {
     "data": {
      "text/html": [
       "<div>\n",
       "<style scoped>\n",
       "    .dataframe tbody tr th:only-of-type {\n",
       "        vertical-align: middle;\n",
       "    }\n",
       "\n",
       "    .dataframe tbody tr th {\n",
       "        vertical-align: top;\n",
       "    }\n",
       "\n",
       "    .dataframe thead th {\n",
       "        text-align: right;\n",
       "    }\n",
       "</style>\n",
       "<table border=\"1\" class=\"dataframe\">\n",
       "  <thead>\n",
       "    <tr style=\"text-align: right;\">\n",
       "      <th></th>\n",
       "      <th>component_1</th>\n",
       "      <th>component_2</th>\n",
       "      <th>component_3</th>\n",
       "    </tr>\n",
       "  </thead>\n",
       "  <tbody>\n",
       "    <tr>\n",
       "      <th>0</th>\n",
       "      <td>1.126088</td>\n",
       "      <td>-0.720947</td>\n",
       "      <td>-0.914716</td>\n",
       "    </tr>\n",
       "    <tr>\n",
       "      <th>1</th>\n",
       "      <td>-1.026933</td>\n",
       "      <td>0.893241</td>\n",
       "      <td>0.720963</td>\n",
       "    </tr>\n",
       "    <tr>\n",
       "      <th>2</th>\n",
       "      <td>1.171402</td>\n",
       "      <td>-0.112925</td>\n",
       "      <td>0.733394</td>\n",
       "    </tr>\n",
       "    <tr>\n",
       "      <th>3</th>\n",
       "      <td>1.344861</td>\n",
       "      <td>0.102220</td>\n",
       "      <td>0.455604</td>\n",
       "    </tr>\n",
       "    <tr>\n",
       "      <th>4</th>\n",
       "      <td>0.059360</td>\n",
       "      <td>0.328877</td>\n",
       "      <td>0.810598</td>\n",
       "    </tr>\n",
       "    <tr>\n",
       "      <th>...</th>\n",
       "      <td>...</td>\n",
       "      <td>...</td>\n",
       "      <td>...</td>\n",
       "    </tr>\n",
       "    <tr>\n",
       "      <th>7708</th>\n",
       "      <td>-0.088579</td>\n",
       "      <td>0.307509</td>\n",
       "      <td>0.443416</td>\n",
       "    </tr>\n",
       "    <tr>\n",
       "      <th>7709</th>\n",
       "      <td>-0.278303</td>\n",
       "      <td>-0.844049</td>\n",
       "      <td>0.759292</td>\n",
       "    </tr>\n",
       "    <tr>\n",
       "      <th>7710</th>\n",
       "      <td>1.138404</td>\n",
       "      <td>1.227541</td>\n",
       "      <td>1.064855</td>\n",
       "    </tr>\n",
       "    <tr>\n",
       "      <th>7711</th>\n",
       "      <td>1.101782</td>\n",
       "      <td>-0.976768</td>\n",
       "      <td>0.396171</td>\n",
       "    </tr>\n",
       "    <tr>\n",
       "      <th>7712</th>\n",
       "      <td>1.251713</td>\n",
       "      <td>-0.232453</td>\n",
       "      <td>1.225079</td>\n",
       "    </tr>\n",
       "  </tbody>\n",
       "</table>\n",
       "<p>7713 rows × 3 columns</p>\n",
       "</div>"
      ],
      "text/plain": [
       "      component_1  component_2  component_3\n",
       "0        1.126088    -0.720947    -0.914716\n",
       "1       -1.026933     0.893241     0.720963\n",
       "2        1.171402    -0.112925     0.733394\n",
       "3        1.344861     0.102220     0.455604\n",
       "4        0.059360     0.328877     0.810598\n",
       "...           ...          ...          ...\n",
       "7708    -0.088579     0.307509     0.443416\n",
       "7709    -0.278303    -0.844049     0.759292\n",
       "7710     1.138404     1.227541     1.064855\n",
       "7711     1.101782    -0.976768     0.396171\n",
       "7712     1.251713    -0.232453     1.225079\n",
       "\n",
       "[7713 rows x 3 columns]"
      ]
     },
     "execution_count": 6,
     "metadata": {},
     "output_type": "execute_result"
    }
   ],
   "source": [
    "principalDf"
   ]
  },
  {
   "cell_type": "code",
   "execution_count": 7,
   "id": "839fa137",
   "metadata": {},
   "outputs": [],
   "source": [
    "df = pd.concat([principalDf, df[['ArrDelay']]], axis = 1)"
   ]
  },
  {
   "cell_type": "markdown",
   "id": "7bfbb160",
   "metadata": {},
   "source": [
    "##### The target classes are imbalanced, it can be balanced undersampling the majority class (1)"
   ]
  },
  {
   "cell_type": "code",
   "execution_count": 8,
   "id": "da3f2ae1",
   "metadata": {},
   "outputs": [
    {
     "name": "stdout",
     "output_type": "stream",
     "text": [
      "majority-1 3765 minority-0 2019\n"
     ]
    },
    {
     "data": {
      "text/plain": [
       "0    2019\n",
       "1    2019\n",
       "Name: ArrDelay, dtype: int64"
      ]
     },
     "execution_count": 8,
     "metadata": {},
     "output_type": "execute_result"
    }
   ],
   "source": [
    "from sklearn.utils import resample\n",
    "\n",
    "# concatenate our training data back together\n",
    "X = pd.concat([X_train, y_train], axis=1)\n",
    "\n",
    "\n",
    "# Separate majority and minority classes\n",
    "df_majority = X[X.ArrDelay==1]\n",
    "df_minority = X[X.ArrDelay==0]\n",
    "\n",
    "print('majority-1',len(df_majority),'minority-0',len(df_minority))\n",
    "\n",
    "# Downsample majority class\n",
    "df_majority_downsampled = resample(df_majority, \n",
    "                                 replace=False,    # sample without replacement\n",
    "                                 n_samples=len(df_minority),     # to match minority class\n",
    "                                 random_state=42) # reproducible results\n",
    " \n",
    "# Combine minority class with downsampled majority class\n",
    "downsampled = pd.concat([df_majority_downsampled, df_minority])\n",
    " \n",
    "# Display new class counts\n",
    "downsampled['ArrDelay'].value_counts()"
   ]
  },
  {
   "cell_type": "code",
   "execution_count": 9,
   "id": "4db4e1d1",
   "metadata": {},
   "outputs": [],
   "source": [
    "y_train = downsampled.ArrDelay\n",
    "X_train = downsampled.drop('ArrDelay', axis=1)"
   ]
  },
  {
   "cell_type": "markdown",
   "id": "59d5d59a",
   "metadata": {},
   "source": [
    "##### Support Vector Classification"
   ]
  },
  {
   "cell_type": "code",
   "execution_count": 10,
   "id": "67930e37",
   "metadata": {},
   "outputs": [
    {
     "name": "stdout",
     "output_type": "stream",
     "text": [
      "Accuracy Score: 0.5856\n"
     ]
    }
   ],
   "source": [
    "clf = svm.SVC(kernel='linear', random_state=42, gamma='auto')\n",
    "scores = cross_val_score(clf, X_train, y_train, cv=StratifiedKFold(n_splits=5), scoring='accuracy').mean()\n",
    "print('Accuracy Score: %.4f' % scores)"
   ]
  },
  {
   "cell_type": "code",
   "execution_count": 11,
   "id": "43ff8aa3",
   "metadata": {},
   "outputs": [],
   "source": [
    "clf.fit(X_train, y_train)\n",
    "y_pred = clf.predict(X_test)\n"
   ]
  },
  {
   "cell_type": "code",
   "execution_count": 12,
   "id": "6166897b",
   "metadata": {},
   "outputs": [],
   "source": [
    "cm=confusion_matrix(y_test, y_pred)\n",
    "tn, fp, fn, tp = confusion_matrix(y_test, y_pred).ravel()"
   ]
  },
  {
   "cell_type": "code",
   "execution_count": 13,
   "id": "1f52f870",
   "metadata": {},
   "outputs": [
    {
     "data": {
      "text/plain": [
       "<sklearn.metrics._plot.confusion_matrix.ConfusionMatrixDisplay at 0x7fa6f7e15be0>"
      ]
     },
     "execution_count": 13,
     "metadata": {},
     "output_type": "execute_result"
    },
    {
     "data": {
      "image/png": "[encoded data removed]",
      "text/plain": [
       "<Figure size 432x288 with 2 Axes>"
      ]
     },
     "metadata": {
      "needs_background": "light"
     },
     "output_type": "display_data"
    }
   ],
   "source": [
    "disp = ConfusionMatrixDisplay(confusion_matrix=cm,display_labels=clf.classes_)\n",
    "disp.plot(cmap='Purples') "
   ]
  },
  {
   "cell_type": "code",
   "execution_count": 14,
   "id": "fe72db84",
   "metadata": {},
   "outputs": [
    {
     "name": "stdout",
     "output_type": "stream",
     "text": [
      "Specificity: 0.5878\n",
      "Accuracy: 0.5868\n",
      "Precision: 0.7268\n",
      "Recall or Sensitivity: 0.5863\n",
      "F1 Score: 0.6491\n"
     ]
    }
   ],
   "source": [
    "#Specificity = TN / (TN + FP)\n",
    "spec= round(tn/(tn+fp), 4)\n",
    "acc= round(metrics.accuracy_score(y_test, y_pred), 4)\n",
    "prec= round(metrics.precision_score(y_test, y_pred), 4)\n",
    "rec= round(metrics.recall_score(y_test, y_pred), 4)\n",
    "f1= round(metrics.f1_score(y_test, y_pred), 4)\n",
    "print ('Specificity:',spec)\n",
    "print ('Accuracy:',acc)\n",
    "print ('Precision:',prec)\n",
    "print ('Recall or Sensitivity:',rec)\n",
    "print ('F1 Score:',f1)"
   ]
  },
  {
   "cell_type": "code",
   "execution_count": 15,
   "id": "cbc5f79c",
   "metadata": {},
   "outputs": [],
   "source": [
    "model='sv2pca'\n",
    "depdelay='no'\n",
    "\n",
    "cur.execute(\"INSERT OR REPLACE INTO s13_models(model,dep_delay,Specificity, Accuracy, Precision, Recall, f1_score) VALUES(?,?,?,?,?,?,?)\",(model,depdelay,spec,acc,prec,rec,f1))\n",
    "conn.commit()"
   ]
  },
  {
   "cell_type": "markdown",
   "id": "adf02318",
   "metadata": {},
   "source": [
    "##### KNN K-Nearest Neighbors"
   ]
  },
  {
   "cell_type": "code",
   "execution_count": 16,
   "id": "5d24e677",
   "metadata": {},
   "outputs": [
    {
     "name": "stdout",
     "output_type": "stream",
     "text": [
      "Accuracy Score: 0.5734\n"
     ]
    }
   ],
   "source": [
    "knn = KNeighborsClassifier(n_neighbors=32)\n",
    "score=cross_val_score(knn, X_train, y_train, cv=StratifiedKFold(n_splits=5), scoring='accuracy').mean()\n",
    "print('Accuracy Score: %.4f' % score)"
   ]
  },
  {
   "cell_type": "code",
   "execution_count": 17,
   "id": "be9f1944",
   "metadata": {},
   "outputs": [
    {
     "data": {
      "text/plain": [
       "<sklearn.metrics._plot.confusion_matrix.ConfusionMatrixDisplay at 0x7fa6f7e159d0>"
      ]
     },
     "execution_count": 17,
     "metadata": {},
     "output_type": "execute_result"
    },
    {
     "data": {
      "image/png": "[encoded data removed]",
      "text/plain": [
       "<Figure size 432x288 with 2 Axes>"
      ]
     },
     "metadata": {
      "needs_background": "light"
     },
     "output_type": "display_data"
    }
   ],
   "source": [
    "knn.fit(X_train, y_train)\n",
    "y_pred = knn.predict(X_test)\n",
    "\n",
    "cm=confusion_matrix(y_test, y_pred)\n",
    "tn, fp, fn, tp = confusion_matrix(y_test, y_pred).ravel()\n",
    "\n",
    "disp = ConfusionMatrixDisplay(confusion_matrix=cm,display_labels=clf.classes_)\n",
    "disp.plot(cmap='Purples') \n"
   ]
  },
  {
   "cell_type": "code",
   "execution_count": 18,
   "id": "b8191b0a",
   "metadata": {},
   "outputs": [
    {
     "name": "stdout",
     "output_type": "stream",
     "text": [
      "Specificity: 0.5789\n",
      "Accuracy: 0.548\n",
      "Precision: 0.7024\n",
      "Recall or Sensitivity: 0.5314\n",
      "F1 Score: 0.6051\n"
     ]
    }
   ],
   "source": [
    "spec= round(tn/(tn+fp), 4)\n",
    "acc= round(metrics.accuracy_score(y_test, y_pred), 4)\n",
    "prec= round(metrics.precision_score(y_test, y_pred), 4)\n",
    "rec= round(metrics.recall_score(y_test, y_pred), 4)\n",
    "f1= round(metrics.f1_score(y_test, y_pred), 4)\n",
    "print ('Specificity:',spec)\n",
    "print ('Accuracy:',acc)\n",
    "print ('Precision:',prec)\n",
    "print ('Recall or Sensitivity:',rec)\n",
    "print ('F1 Score:',f1)"
   ]
  },
  {
   "cell_type": "code",
   "execution_count": 19,
   "id": "0b0207d6",
   "metadata": {},
   "outputs": [],
   "source": [
    "model='knn2pca'\n",
    "depdelay='no'\n",
    "\n",
    "cur.execute(\"INSERT OR REPLACE INTO s13_models(model,dep_delay,Specificity, Accuracy, Precision, Recall, f1_score) VALUES(?,?,?,?,?,?,?)\",(model,depdelay,spec,acc,prec,rec,f1))\n",
    "conn.commit()"
   ]
  },
  {
   "cell_type": "markdown",
   "id": "1b1b5fe5",
   "metadata": {},
   "source": [
    "\n",
    "\n",
    "\n",
    "##### Decision Tree"
   ]
  },
  {
   "cell_type": "code",
   "execution_count": 24,
   "id": "3eae131e",
   "metadata": {},
   "outputs": [
    {
     "name": "stdout",
     "output_type": "stream",
     "text": [
      "Accuracy Score: 0.5804\n"
     ]
    }
   ],
   "source": [
    "clf = DecisionTreeClassifier(criterion=\"gini\", max_depth=4, random_state=42)\n",
    "scores=cross_val_score(clf, X_train, y_train, cv=StratifiedKFold(n_splits=5), scoring='accuracy').mean()\n",
    "print('Accuracy Score: %.4f' % scores)"
   ]
  },
  {
   "cell_type": "code",
   "execution_count": 25,
   "id": "1a2581bd",
   "metadata": {},
   "outputs": [
    {
     "data": {
      "text/plain": [
       "<sklearn.metrics._plot.confusion_matrix.ConfusionMatrixDisplay at 0x7fa6e1a240a0>"
      ]
     },
     "execution_count": 25,
     "metadata": {},
     "output_type": "execute_result"
    },
    {
     "data": {
      "image/png": "[encoded data removed]",
      "text/plain": [
       "<Figure size 432x288 with 2 Axes>"
      ]
     },
     "metadata": {
      "needs_background": "light"
     },
     "output_type": "display_data"
    }
   ],
   "source": [
    "clf.fit(X_train, y_train)\n",
    "y_pred = clf.predict(X_test)\n",
    "\n",
    "cm=confusion_matrix(y_test, y_pred)\n",
    "tn, fp, fn, tp = confusion_matrix(y_test, y_pred).ravel()\n",
    "\n",
    "disp = ConfusionMatrixDisplay(confusion_matrix=cm,display_labels=clf.classes_)\n",
    "disp.plot(cmap='Purples') "
   ]
  },
  {
   "cell_type": "code",
   "execution_count": 26,
   "id": "407b3778",
   "metadata": {},
   "outputs": [
    {
     "name": "stdout",
     "output_type": "stream",
     "text": [
      "Specificity: 0.7054\n",
      "Accuracy: 0.548\n",
      "Precision: 0.7465\n",
      "Recall or Sensitivity: 0.4638\n",
      "F1 Score: 0.5721\n"
     ]
    }
   ],
   "source": [
    "spec= round(tn/(tn+fp), 4)\n",
    "acc= round(metrics.accuracy_score(y_test, y_pred), 4)\n",
    "prec= round(metrics.precision_score(y_test, y_pred), 4)\n",
    "rec= round(metrics.recall_score(y_test, y_pred), 4)\n",
    "f1= round(metrics.f1_score(y_test, y_pred), 4)\n",
    "print ('Specificity:',spec)\n",
    "print ('Accuracy:',acc)\n",
    "print ('Precision:',prec)\n",
    "print ('Recall or Sensitivity:',rec)\n",
    "print ('F1 Score:',f1)"
   ]
  },
  {
   "cell_type": "code",
   "execution_count": 27,
   "id": "88d8f756",
   "metadata": {},
   "outputs": [],
   "source": [
    "model='dt2pca'\n",
    "depdelay='no'\n",
    "\n",
    "cur.execute(\"INSERT OR REPLACE INTO s13_models(model,dep_delay,Specificity, Accuracy, Precision, Recall, f1_score) VALUES(?,?,?,?,?,?,?)\",(model,depdelay,spec,acc,prec,rec,f1))\n",
    "conn.commit()"
   ]
  },
  {
   "cell_type": "markdown",
   "id": "c997f728",
   "metadata": {},
   "source": [
    "\n",
    "\n",
    "\n",
    "##### neural network MLPClassifier"
   ]
  },
  {
   "cell_type": "code",
   "execution_count": 28,
   "id": "3a406272",
   "metadata": {},
   "outputs": [
    {
     "name": "stdout",
     "output_type": "stream",
     "text": [
      "Accuracy Score: 0.5873\n"
     ]
    }
   ],
   "source": [
    "mlp = MLPClassifier(hidden_layer_sizes=(20, 10, 5), max_iter=50, activation = 'relu',solver='adam',random_state=42)\n",
    "score=cross_val_score(mlp, X_train, y_train, cv=StratifiedKFold(n_splits=10), scoring='accuracy').mean()\n",
    "print('Accuracy Score: %.4f' % score)"
   ]
  },
  {
   "cell_type": "code",
   "execution_count": 29,
   "id": "2df68937",
   "metadata": {},
   "outputs": [
    {
     "data": {
      "text/plain": [
       "<sklearn.metrics._plot.confusion_matrix.ConfusionMatrixDisplay at 0x7fa6e22085e0>"
      ]
     },
     "execution_count": 29,
     "metadata": {},
     "output_type": "execute_result"
    },
    {
     "data": {
      "image/png": "[encoded data removed]",
      "text/plain": [
       "<Figure size 432x288 with 2 Axes>"
      ]
     },
     "metadata": {
      "needs_background": "light"
     },
     "output_type": "display_data"
    }
   ],
   "source": [
    "mlp.fit(X_train, y_train)\n",
    "y_pred = mlp.predict(X_test)\n",
    "\n",
    "cm=confusion_matrix(y_test, y_pred)\n",
    "tn, fp, fn, tp = confusion_matrix(y_test, y_pred).ravel()\n",
    "\n",
    "disp = ConfusionMatrixDisplay(confusion_matrix=cm,display_labels=clf.classes_)\n",
    "disp.plot(cmap='Purples') "
   ]
  },
  {
   "cell_type": "code",
   "execution_count": 30,
   "id": "da9659b7",
   "metadata": {},
   "outputs": [
    {
     "name": "stdout",
     "output_type": "stream",
     "text": [
      "Specificity: 0.5595\n",
      "Accuracy: 0.5791\n",
      "Precision: 0.7146\n",
      "Recall or Sensitivity: 0.5895\n",
      "F1 Score: 0.646\n"
     ]
    }
   ],
   "source": [
    "spec= round(tn/(tn+fp), 4)\n",
    "acc= round(metrics.accuracy_score(y_test, y_pred), 4)\n",
    "prec= round(metrics.precision_score(y_test, y_pred), 4)\n",
    "rec= round(metrics.recall_score(y_test, y_pred), 4)\n",
    "f1= round(metrics.f1_score(y_test, y_pred), 4)\n",
    "print ('Specificity:',spec)\n",
    "print ('Accuracy:',acc)\n",
    "print ('Precision:',prec)\n",
    "print ('Recall or Sensitivity:',rec)\n",
    "print ('F1 Score:',f1)"
   ]
  },
  {
   "cell_type": "code",
   "execution_count": 31,
   "id": "bc519a97",
   "metadata": {},
   "outputs": [],
   "source": [
    "model='nn2pca'\n",
    "depdelay='no'\n",
    "\n",
    "cur.execute(\"INSERT OR REPLACE INTO s13_models(model,dep_delay,Specificity, Accuracy, Precision, Recall, f1_score) VALUES(?,?,?,?,?,?,?)\",(model,depdelay,spec,acc,prec,rec,f1))\n",
    "conn.commit()"
   ]
  },
  {
   "cell_type": "markdown",
   "id": "c9ecf846",
   "metadata": {},
   "source": [
    "##### Gaussian Naive Bayes"
   ]
  },
  {
   "cell_type": "code",
   "execution_count": 32,
   "id": "f5ab8fe3",
   "metadata": {},
   "outputs": [
    {
     "name": "stdout",
     "output_type": "stream",
     "text": [
      "Accuracy Score: 0.5903\n"
     ]
    }
   ],
   "source": [
    "clf = GaussianNB()\n",
    "score=cross_val_score(clf, X_train, y_train, cv=StratifiedKFold(n_splits=5), scoring='accuracy').mean()\n",
    "print('Accuracy Score: %.4f' % score)"
   ]
  },
  {
   "cell_type": "code",
   "execution_count": 33,
   "id": "a651022f",
   "metadata": {},
   "outputs": [
    {
     "data": {
      "text/plain": [
       "<sklearn.metrics._plot.confusion_matrix.ConfusionMatrixDisplay at 0x7fa6e1fb51c0>"
      ]
     },
     "execution_count": 33,
     "metadata": {},
     "output_type": "execute_result"
    },
    {
     "data": {
      "image/png": "[encoded data removed]",
      "text/plain": [
       "<Figure size 432x288 with 2 Axes>"
      ]
     },
     "metadata": {
      "needs_background": "light"
     },
     "output_type": "display_data"
    }
   ],
   "source": [
    "clf.fit(X_train, y_train)\n",
    "y_pred = clf.predict(X_test)\n",
    "\n",
    "cm=confusion_matrix(y_test, y_pred)\n",
    "tn, fp, fn, tp = confusion_matrix(y_test, y_pred).ravel()\n",
    "\n",
    "disp = ConfusionMatrixDisplay(confusion_matrix=cm,display_labels=clf.classes_)\n",
    "disp.plot(cmap='Purples') "
   ]
  },
  {
   "cell_type": "code",
   "execution_count": 34,
   "id": "3840295b",
   "metadata": {},
   "outputs": [
    {
     "name": "stdout",
     "output_type": "stream",
     "text": [
      "Specificity: 0.5491\n",
      "Accuracy: 0.5931\n",
      "Precision: 0.7189\n",
      "Recall or Sensitivity: 0.6165\n",
      "F1 Score: 0.6638\n"
     ]
    }
   ],
   "source": [
    "spec= round(tn/(tn+fp), 4)\n",
    "acc= round(metrics.accuracy_score(y_test, y_pred), 4)\n",
    "prec= round(metrics.precision_score(y_test, y_pred), 4)\n",
    "rec= round(metrics.recall_score(y_test, y_pred), 4)\n",
    "f1= round(metrics.f1_score(y_test, y_pred), 4)\n",
    "print ('Specificity:',spec)\n",
    "print ('Accuracy:',acc)\n",
    "print ('Precision:',prec)\n",
    "print ('Recall or Sensitivity:',rec)\n",
    "print ('F1 Score:',f1)"
   ]
  },
  {
   "cell_type": "code",
   "execution_count": 35,
   "id": "222c477a",
   "metadata": {},
   "outputs": [],
   "source": [
    "model='nb2pca'\n",
    "depdelay='no'\n",
    "\n",
    "cur.execute(\"INSERT OR REPLACE INTO s13_models(model,dep_delay,Specificity, Accuracy, Precision, Recall, f1_score) VALUES(?,?,?,?,?,?,?)\",(model,depdelay,spec,acc,prec,rec,f1))\n",
    "conn.commit()"
   ]
  },
  {
   "cell_type": "markdown",
   "id": "85cffa82",
   "metadata": {},
   "source": [
    "\n",
    "\n",
    "##### Ada Boost Classifier"
   ]
  },
  {
   "cell_type": "code",
   "execution_count": 36,
   "id": "427d46b8",
   "metadata": {},
   "outputs": [
    {
     "name": "stdout",
     "output_type": "stream",
     "text": [
      "Accuracy Score: 0.5858\n"
     ]
    }
   ],
   "source": [
    "ada = AdaBoostClassifier(n_estimators=12, random_state=42,algorithm='SAMME')\n",
    "score=cross_val_score(ada, X_train, y_train, cv=StratifiedKFold(n_splits=5), scoring='accuracy').mean()\n",
    "print('Accuracy Score: %.4f' % score)"
   ]
  },
  {
   "cell_type": "code",
   "execution_count": 37,
   "id": "f2c6bb5e",
   "metadata": {},
   "outputs": [
    {
     "data": {
      "text/plain": [
       "<sklearn.metrics._plot.confusion_matrix.ConfusionMatrixDisplay at 0x7fa6e2216190>"
      ]
     },
     "execution_count": 37,
     "metadata": {},
     "output_type": "execute_result"
    },
    {
     "data": {
      "image/png": "[encoded data removed]",
      "text/plain": [
       "<Figure size 432x288 with 2 Axes>"
      ]
     },
     "metadata": {
      "needs_background": "light"
     },
     "output_type": "display_data"
    }
   ],
   "source": [
    "ada.fit(X_train, y_train)\n",
    "y_pred = ada.predict(X_test)\n",
    "\n",
    "cm=confusion_matrix(y_test, y_pred)\n",
    "tn, fp, fn, tp = confusion_matrix(y_test, y_pred).ravel()\n",
    "\n",
    "disp = ConfusionMatrixDisplay(confusion_matrix=cm)\n",
    "disp.plot(cmap='Purples') "
   ]
  },
  {
   "cell_type": "code",
   "execution_count": 38,
   "id": "5c1eedda",
   "metadata": {},
   "outputs": [
    {
     "name": "stdout",
     "output_type": "stream",
     "text": [
      "Specificity: 0.5729\n",
      "Accuracy: 0.5863\n",
      "Precision: 0.7222\n",
      "Recall or Sensitivity: 0.5935\n",
      "F1 Score: 0.6515\n"
     ]
    }
   ],
   "source": [
    "spec= round(tn/(tn+fp), 4)\n",
    "acc= round(metrics.accuracy_score(y_test, y_pred), 4)\n",
    "prec= round(metrics.precision_score(y_test, y_pred), 4)\n",
    "rec= round(metrics.recall_score(y_test, y_pred), 4)\n",
    "f1= round(metrics.f1_score(y_test, y_pred), 4)\n",
    "print ('Specificity:',spec)\n",
    "print ('Accuracy:',acc)\n",
    "print ('Precision:',prec)\n",
    "print ('Recall or Sensitivity:',rec)\n",
    "print ('F1 Score:',f1)"
   ]
  },
  {
   "cell_type": "code",
   "execution_count": 39,
   "id": "a9cb42b6",
   "metadata": {},
   "outputs": [],
   "source": [
    "model='ada2pca'\n",
    "depdelay='no'\n",
    "\n",
    "cur.execute(\"INSERT OR REPLACE INTO s13_models(model,dep_delay,Specificity, Accuracy, Precision, Recall, f1_score) VALUES(?,?,?,?,?,?,?)\",(model,depdelay,spec,acc,prec,rec,f1))\n",
    "conn.commit()"
   ]
  },
  {
   "cell_type": "markdown",
   "id": "f641f90b",
   "metadata": {},
   "source": [
    "##### Gaussian Process Classifier"
   ]
  },
  {
   "cell_type": "code",
   "execution_count": 40,
   "id": "e006ad4d",
   "metadata": {},
   "outputs": [
    {
     "name": "stdout",
     "output_type": "stream",
     "text": [
      "Accuracy Score: 0.5923\n"
     ]
    }
   ],
   "source": [
    "gpc = GaussianProcessClassifier(kernel=1*RBF(1.0))\n",
    "score=cross_val_score(gpc, X_train, y_train, cv=StratifiedKFold(n_splits=5), scoring='accuracy').mean()\n",
    "print('Accuracy Score: %.4f' % score)"
   ]
  },
  {
   "cell_type": "code",
   "execution_count": 41,
   "id": "b569fe12",
   "metadata": {},
   "outputs": [
    {
     "data": {
      "text/plain": [
       "<sklearn.metrics._plot.confusion_matrix.ConfusionMatrixDisplay at 0x7fa6e1afefa0>"
      ]
     },
     "execution_count": 41,
     "metadata": {},
     "output_type": "execute_result"
    },
    {
     "data": {
      "image/png": "[encoded data removed]",
      "text/plain": [
       "<Figure size 432x288 with 2 Axes>"
      ]
     },
     "metadata": {
      "needs_background": "light"
     },
     "output_type": "display_data"
    }
   ],
   "source": [
    "gpc.fit(X_train, y_train)\n",
    "y_pred = gpc.predict(X_test)\n",
    "\n",
    "cm=confusion_matrix(y_test, y_pred)\n",
    "tn, fp, fn, tp = confusion_matrix(y_test, y_pred).ravel()\n",
    "\n",
    "disp = ConfusionMatrixDisplay(confusion_matrix=cm)\n",
    "disp.plot(cmap='Purples') "
   ]
  },
  {
   "cell_type": "code",
   "execution_count": 42,
   "id": "352400b7",
   "metadata": {},
   "outputs": [
    {
     "name": "stdout",
     "output_type": "stream",
     "text": [
      "Specificity: 0.5685\n",
      "Accuracy: 0.5775\n",
      "Precision: 0.7162\n",
      "Recall or Sensitivity: 0.5823\n",
      "F1 Score: 0.6424\n"
     ]
    }
   ],
   "source": [
    "spec= round(tn/(tn+fp), 4)\n",
    "acc= round(metrics.accuracy_score(y_test, y_pred), 4)\n",
    "prec= round(metrics.precision_score(y_test, y_pred), 4)\n",
    "rec= round(metrics.recall_score(y_test, y_pred), 4)\n",
    "f1= round(metrics.f1_score(y_test, y_pred), 4)\n",
    "print ('Specificity:',spec)\n",
    "print ('Accuracy:',acc)\n",
    "print ('Precision:',prec)\n",
    "print ('Recall or Sensitivity:',rec)\n",
    "print ('F1 Score:',f1)"
   ]
  },
  {
   "cell_type": "code",
   "execution_count": 43,
   "id": "2d85d7d1",
   "metadata": {},
   "outputs": [],
   "source": [
    "model='gp2pca'\n",
    "depdelay='no'\n",
    "\n",
    "cur.execute(\"INSERT OR REPLACE INTO s13_models(model,dep_delay,Specificity, Accuracy, Precision, Recall, f1_score) VALUES(?,?,?,?,?,?,?)\",(model,depdelay,spec,acc,prec,rec,f1))\n",
    "conn.commit()"
   ]
  },
  {
   "cell_type": "markdown",
   "id": "d7ea8590",
   "metadata": {},
   "source": [
    "\n",
    "\n",
    "\n",
    "##### XGboost"
   ]
  },
  {
   "cell_type": "code",
   "execution_count": 10,
   "id": "6369f503",
   "metadata": {},
   "outputs": [
    {
     "data": {
      "text/plain": [
       "0.49975216852540266"
      ]
     },
     "execution_count": 10,
     "metadata": {},
     "output_type": "execute_result"
    }
   ],
   "source": [
    "xg_reg = xgb.XGBClassifier(objective=\"reg:squarederror\", booster=\"gblinear\", colsample_bytree = 0.3, learning_rate = 0.1,\n",
    "                           max_depth = 5, alpha = 10, n_estimators = 1000, verbosity = 0)\n",
    "scores = cross_val_score(xg_reg, X_train, y_train, cv=StratifiedKFold(n_splits=5), scoring='accuracy').mean()\n",
    "scores"
   ]
  },
  {
   "cell_type": "code",
   "execution_count": 11,
   "id": "1ff53e72",
   "metadata": {},
   "outputs": [
    {
     "name": "stdout",
     "output_type": "stream",
     "text": [
      "Accuracy: 0.349404\n"
     ]
    }
   ],
   "source": [
    "xg_reg.fit(X_train,y_train)\n",
    "preds = xg_reg.predict(X_test)\n",
    "\n",
    "acc = metrics.accuracy_score(y_test, preds)\n",
    "print(\"Accuracy: %f\" % (acc))"
   ]
  },
  {
   "cell_type": "code",
   "execution_count": 12,
   "id": "878adc46",
   "metadata": {},
   "outputs": [
    {
     "data": {
      "text/plain": [
       "<sklearn.metrics._plot.confusion_matrix.ConfusionMatrixDisplay at 0x7fe4da827310>"
      ]
     },
     "execution_count": 12,
     "metadata": {},
     "output_type": "execute_result"
    },
    {
     "data": {
      "image/png": "[encoded data removed]",
      "text/plain": [
       "<Figure size 432x288 with 2 Axes>"
      ]
     },
     "metadata": {
      "needs_background": "light"
     },
     "output_type": "display_data"
    }
   ],
   "source": [
    "xg_reg.fit(X_train, y_train)\n",
    "y_pred = xg_reg.predict(X_test)\n",
    "\n",
    "cm=confusion_matrix(y_test, y_pred)\n",
    "tn, fp, fn, tp = confusion_matrix(y_test, y_pred).ravel()\n",
    "\n",
    "disp = ConfusionMatrixDisplay(confusion_matrix=cm)\n",
    "disp.plot(cmap='Purples') "
   ]
  },
  {
   "cell_type": "code",
   "execution_count": 13,
   "id": "56975583",
   "metadata": {},
   "outputs": [
    {
     "name": "stdout",
     "output_type": "stream",
     "text": [
      "Specificity: 0.549\n",
      "Accuracy: 0.5635\n",
      "Precision: 0.7023\n",
      "Recall or Sensitivity: 0.5713\n",
      "F1 Score: 0.6301\n"
     ]
    }
   ],
   "source": [
    "spec= round(tn/(tn+fp), 4)\n",
    "acc= round(metrics.accuracy_score(y_test, y_pred), 4)\n",
    "prec= round(metrics.precision_score(y_test, y_pred), 4)\n",
    "rec= round(metrics.recall_score(y_test, y_pred), 4)\n",
    "f1= round(metrics.f1_score(y_test, y_pred), 4)\n",
    "print ('Specificity:',spec)\n",
    "print ('Accuracy:',acc)\n",
    "print ('Precision:',prec)\n",
    "print ('Recall or Sensitivity:',rec)\n",
    "print ('F1 Score:',f1)"
   ]
  },
  {
   "cell_type": "code",
   "execution_count": 14,
   "id": "54bc1dd3",
   "metadata": {},
   "outputs": [],
   "source": [
    "model='xgb2pca'\n",
    "depdelay='no'\n",
    "\n",
    "cur.execute(\"INSERT OR REPLACE INTO s13_models(model,dep_delay,Specificity, Accuracy, Precision, Recall, f1_score) VALUES(?,?,?,?,?,?,?)\",(model,depdelay,spec,acc,prec,rec,f1))\n",
    "conn.commit()"
   ]
  },
  {
   "cell_type": "code",
   "execution_count": null,
   "id": "fe9a1061",
   "metadata": {},
   "outputs": [],
   "source": []
  }
 ],
 "metadata": {
  "kernelspec": {
   "display_name": "Python 3",
   "language": "python",
   "name": "python3"
  },
  "language_info": {
   "codemirror_mode": {
    "name": "ipython",
    "version": 3
   },
   "file_extension": ".py",
   "mimetype": "text/x-python",
   "name": "python",
   "nbconvert_exporter": "python",
   "pygments_lexer": "ipython3",
   "version": "3.8.5"
  }
 },
 "nbformat": 4,
 "nbformat_minor": 5
}
