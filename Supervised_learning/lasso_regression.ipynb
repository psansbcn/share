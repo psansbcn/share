{
 "cells": [
  {
   "cell_type": "markdown",
   "id": "5b338bce",
   "metadata": {},
   "source": [
    "### LASSO regression"
   ]
  },
  {
   "cell_type": "code",
   "execution_count": 12,
   "id": "9343bf4a",
   "metadata": {},
   "outputs": [],
   "source": [
    "import pandas as pd\n",
    "import numpy as np\n",
    "import matplotlib.pyplot as plt\n",
    "import seaborn as sns\n",
    "from sklearn.model_selection import train_test_split\n",
    "\n",
    "\n",
    "from sklearn.model_selection import cross_val_score\n",
    "from sklearn.model_selection import RepeatedKFold\n",
    "from sklearn.linear_model import Lasso\n",
    "\n",
    "from sklearn.metrics import mean_squared_error\n",
    "from sklearn.metrics import mean_absolute_error\n",
    "from sklearn.metrics import r2_score\n",
    "\n",
    "import sqlite3\n",
    "conn=sqlite3.connect(\"parametres.db\")\n",
    "cur=conn.cursor()"
   ]
  },
  {
   "cell_type": "code",
   "execution_count": 2,
   "id": "4f00a9e6",
   "metadata": {},
   "outputs": [
    {
     "name": "stdout",
     "output_type": "stream",
     "text": [
      "<class 'pandas.core.frame.DataFrame'>\n",
      "Int64Index: 48419 entries, 323984 to 78907\n",
      "Data columns (total 23 columns):\n",
      " #   Column             Non-Null Count  Dtype  \n",
      "---  ------             --------------  -----  \n",
      " 0   ActualElapsedTime  48419 non-null  int64  \n",
      " 1   AirTime            48419 non-null  int64  \n",
      " 2   ArrDelay           48419 non-null  int64  \n",
      " 3   DepDelay           48419 non-null  float64\n",
      " 4   Distance           48419 non-null  float64\n",
      " 5   TaxiIn             48419 non-null  float64\n",
      " 6   TaxiOut            48419 non-null  float64\n",
      " 7   Cancelled          48419 non-null  float64\n",
      " 8   Diverted           48419 non-null  int64  \n",
      " 9   CarrierDelay       48419 non-null  float64\n",
      " 10  WeatherDelay       48419 non-null  float64\n",
      " 11  NASDelay           48419 non-null  float64\n",
      " 12  SecurityDelay      48419 non-null  float64\n",
      " 13  LateAircraftDelay  48419 non-null  float64\n",
      " 14  DepTime_sin        48419 non-null  float64\n",
      " 15  DepTime_cos        48419 non-null  float64\n",
      " 16  Month_sin          48419 non-null  float64\n",
      " 17  Month_cos          48419 non-null  float64\n",
      " 18  DayOfWeek_sin      48419 non-null  float64\n",
      " 19  DayOfWeek_cos      48419 non-null  float64\n",
      " 20  origin_freq        48419 non-null  float64\n",
      " 21  dest               48419 non-null  float64\n",
      " 22  carrier_me         48419 non-null  float64\n",
      "dtypes: float64(19), int64(4)\n",
      "memory usage: 8.9 MB\n"
     ]
    }
   ],
   "source": [
    "df=pd.read_csv('delayed25.csv', index_col=False, warn_bad_lines=True, error_bad_lines=False)\n",
    "# as the process take too much time, we resample the database\n",
    "df = df.sample(frac =.1)\n",
    "df=df.drop(['Unnamed: 0'], axis=1)\n",
    "df.info()"
   ]
  },
  {
   "cell_type": "code",
   "execution_count": 3,
   "id": "b1117f81",
   "metadata": {},
   "outputs": [],
   "source": [
    "X,y = df.loc[:, df.columns != 'ArrDelay'],df.loc[:, df.columns == 'ArrDelay']\n",
    "\n",
    "X_train,X_test, y_train, y_test = train_test_split(X,y, test_size=0.2, random_state=42)"
   ]
  },
  {
   "cell_type": "code",
   "execution_count": 4,
   "id": "28b2f4a1",
   "metadata": {},
   "outputs": [],
   "source": [
    "Xdata = X.values\n",
    "ydata = y.values"
   ]
  },
  {
   "cell_type": "code",
   "execution_count": 5,
   "id": "b1923ca2",
   "metadata": {},
   "outputs": [],
   "source": [
    "from numpy import absolute\n",
    "from numpy import mean\n",
    "from numpy import std"
   ]
  },
  {
   "cell_type": "code",
   "execution_count": null,
   "id": "76b133b7",
   "metadata": {},
   "outputs": [
    {
     "name": "stdout",
     "output_type": "stream",
     "text": [
      "for aplha= 20   Mean MAE: 9.106\n",
      "for aplha= 10   Mean MAE: 5.775\n",
      "for aplha= 5   Mean MAE: 4.285\n",
      "for aplha= 1   Mean MAE: 3.891\n"
     ]
    }
   ],
   "source": [
    "# looking for the optimal aplpha value\n",
    "\n",
    "list=[20,10,5,1,0.1,0.01,0.001,0.0001]\n",
    "for val in list:\n",
    "    model = Lasso(alpha=val)\n",
    "    # define model evaluation method\n",
    "    cv = RepeatedKFold(n_splits=10, n_repeats=3, random_state=1)\n",
    "    # evaluate model with CROSS VALIDATION\n",
    "    scores = cross_val_score(model, Xdata, ydata, scoring='neg_mean_absolute_error', cv=cv, n_jobs=-1)\n",
    "    # force scores to be positive\n",
    "    scores = absolute(scores)\n",
    "    print('for aplha=',val,'  Mean MAE: %.3f' % (mean(scores)))\n",
    "\n",
    "    \n",
    "    "
   ]
  },
  {
   "cell_type": "code",
   "execution_count": 6,
   "id": "b9e7a788",
   "metadata": {},
   "outputs": [
    {
     "name": "stderr",
     "output_type": "stream",
     "text": [
      "/Users/psans/opt/anaconda3/lib/python3.8/site-packages/sklearn/linear_model/_coordinate_descent.py:530: ConvergenceWarning: Objective did not converge. You might want to increase the number of iterations. Duality gap: 582273.7448225775, tolerance: 12849.588914588874\n",
      "  model = cd_fast.enet_coordinate_descent(\n"
     ]
    },
    {
     "data": {
      "text/plain": [
       "Lasso(alpha=0.01)"
      ]
     },
     "execution_count": 6,
     "metadata": {},
     "output_type": "execute_result"
    }
   ],
   "source": [
    "# Use the best alpha \n",
    "model_lasso = Lasso(alpha=0.01)\n",
    "model_lasso.fit(X_train, y_train) "
   ]
  },
  {
   "cell_type": "code",
   "execution_count": 11,
   "id": "f631acf8",
   "metadata": {},
   "outputs": [
    {
     "name": "stdout",
     "output_type": "stream",
     "text": [
      "R-Squared on train dataset=0.9867742229303337\n",
      "MSE: 44.190\n",
      "RMSE: 22.095\n",
      "MAE: 3.548\n"
     ]
    },
    {
     "name": "stderr",
     "output_type": "stream",
     "text": [
      "/Users/psans/opt/anaconda3/lib/python3.8/site-packages/sklearn/linear_model/_coordinate_descent.py:530: ConvergenceWarning: Objective did not converge. You might want to increase the number of iterations. Duality gap: 800892.9602510676, tolerance: 16085.266240760864\n",
      "  model = cd_fast.enet_coordinate_descent(\n"
     ]
    }
   ],
   "source": [
    "\n",
    "pred_train_lasso= model_lasso.predict(X_train)\n",
    "pred_test_lasso= model_lasso.predict(X_test)\n",
    "\n",
    "\n",
    "\n",
    "\n",
    "y_pred = model_lasso.predict(X_test)\n",
    "\n",
    "model_lasso.fit(X,y)\n",
    "print(\"R-Squared on train dataset={}\".format(model_lasso.score(X_test,y_test)))\n",
    "r2=model_lasso.score(X_test,y_test)\n",
    "\n",
    "\n",
    "mse = mean_squared_error(y_test,pred_test_lasso)\n",
    "print('MSE: %.3f' % mse)\n",
    "print('RMSE: %.3f' % (mse*(1/2.0)))\n",
    "\n",
    "mae=mean_absolute_error(y_test,pred_test_lasso)\n",
    "print('MAE: %.3f' % mae)\n",
    "\n"
   ]
  },
  {
   "cell_type": "code",
   "execution_count": 13,
   "id": "777398f7",
   "metadata": {},
   "outputs": [],
   "source": [
    "#SQL database update\n",
    "code='ls1'\n",
    "process='Lasso'\n",
    "datab='standard'\n",
    "depdelay='yes'\n",
    "\n",
    "cur.execute(\"INSERT OR REPLACE INTO parametres(codi,proces,DepDelay, base_dades, MAE, R2, MSE) VALUES(?,?,?,?,?,?,?)\",(code,process,depdelay,datab,'%.3f' % mae,'%.3f' % r2,'%.3f' % mse))\n",
    "conn.commit()"
   ]
  },
  {
   "cell_type": "markdown",
   "id": "c18c0f4e",
   "metadata": {},
   "source": [
    "##### Eliminem la columna DepDelay"
   ]
  },
  {
   "cell_type": "code",
   "execution_count": 14,
   "id": "c2010196",
   "metadata": {},
   "outputs": [],
   "source": [
    "dfdel=df.drop(['DepDelay'], axis=1)"
   ]
  },
  {
   "cell_type": "code",
   "execution_count": 15,
   "id": "29019a9d",
   "metadata": {},
   "outputs": [],
   "source": [
    "X,y = dfdel.loc[:, dfdel.columns != 'ArrDelay'],dfdel.loc[:, dfdel.columns == 'ArrDelay']\n",
    "\n",
    "X_train,X_test, y_train, y_test = train_test_split(X,y, test_size=0.2, random_state=42)\n",
    "\n",
    "Xdata = X.values\n",
    "ydata = y.values"
   ]
  },
  {
   "cell_type": "code",
   "execution_count": 16,
   "id": "75ee51da",
   "metadata": {},
   "outputs": [
    {
     "name": "stdout",
     "output_type": "stream",
     "text": [
      "6.0519530288049435\n",
      "0.9889590759160927\n",
      "8.124146862371434\n",
      "0.9802462238297284\n"
     ]
    },
    {
     "name": "stderr",
     "output_type": "stream",
     "text": [
      "/Users/psans/opt/anaconda3/lib/python3.8/site-packages/sklearn/linear_model/_coordinate_descent.py:530: ConvergenceWarning: Objective did not converge. You might want to increase the number of iterations. Duality gap: 713686.4653260664, tolerance: 12849.588914588874\n",
      "  model = cd_fast.enet_coordinate_descent(\n"
     ]
    }
   ],
   "source": [
    "model_lasso = Lasso(alpha=0.01)\n",
    "model_lasso.fit(X_train, y_train) \n",
    "\n",
    "pred_train_lasso= model_lasso.predict(X_train)\n",
    "print(np.sqrt(mean_squared_error(y_train,pred_train_lasso)))\n",
    "print(r2_score(y_train, pred_train_lasso))\n",
    "\n",
    "\n",
    "pred_test_lasso= model_lasso.predict(X_test)\n",
    "print(np.sqrt(mean_squared_error(y_test,pred_test_lasso))) \n",
    "print(r2_score(y_test, pred_test_lasso))"
   ]
  },
  {
   "cell_type": "code",
   "execution_count": 17,
   "id": "35151c62",
   "metadata": {},
   "outputs": [],
   "source": [
    "#SQL database update\n",
    "code='ls2'\n",
    "process='Lasso'\n",
    "datab='standard'\n",
    "depdelay='no'\n",
    "\n",
    "cur.execute(\"INSERT OR REPLACE INTO parametres(codi,proces,DepDelay, base_dades, MAE, R2, MSE) VALUES(?,?,?,?,?,?,?)\",(code,process,depdelay,datab,'%.3f' % mae,'%.3f' % r2,'%.3f' % mse))\n",
    "conn.commit()"
   ]
  },
  {
   "cell_type": "code",
   "execution_count": 18,
   "id": "adc1a718",
   "metadata": {},
   "outputs": [
    {
     "name": "stdout",
     "output_type": "stream",
     "text": [
      "  codi          proces DepDelay    base_dades     MAE     R2      MSE\n",
      "0  dt1   Decision_Tree      yes      standard   5.826  0.977   83.016\n",
      "1  dt2   Decision_Tree      yes      standard   9.383  0.936  205.708\n",
      "2  dt3   Decision_Tree       no      standard  15.117  0.840  524.455\n",
      "3  dt4   Decision_Tree      yes  standard/min   9.383  0.840  205.708\n",
      "4  dt5   Decision_Tree      yes   no standard   9.818  0.840  227.035\n",
      "5  dt6   Decision_Tree       no   no standard  14.717  0.840  493.721\n",
      "6  nn1  Neural_network      yes      standard   2.295  0.995   16.489\n",
      "7  nn2  Neural_network       no      standard   2.822  0.989   35.978\n",
      "8  ls1           Lasso      yes      standard   3.548  0.987   44.190\n",
      "9  ls2           Lasso       no      standard   3.548  0.987   44.190\n"
     ]
    }
   ],
   "source": [
    "print(pd.read_sql_query(\"SELECT * from parametres\", conn))"
   ]
  },
  {
   "cell_type": "code",
   "execution_count": null,
   "id": "21c0e7f9",
   "metadata": {},
   "outputs": [],
   "source": []
  }
 ],
 "metadata": {
  "kernelspec": {
   "display_name": "Python 3",
   "language": "python",
   "name": "python3"
  },
  "language_info": {
   "codemirror_mode": {
    "name": "ipython",
    "version": 3
   },
   "file_extension": ".py",
   "mimetype": "text/x-python",
   "name": "python",
   "nbconvert_exporter": "python",
   "pygments_lexer": "ipython3",
   "version": "3.8.5"
  }
 },
 "nbformat": 4,
 "nbformat_minor": 5
}
