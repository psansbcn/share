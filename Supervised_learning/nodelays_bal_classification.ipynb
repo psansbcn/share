{
 "cells": [
  {
   "cell_type": "markdown",
   "id": "aaeb21ab",
   "metadata": {},
   "source": [
    "### Classification models\n",
    "##### Without Departure Delay Column and balanced"
   ]
  },
  {
   "cell_type": "code",
   "execution_count": 1,
   "id": "0b547f14",
   "metadata": {},
   "outputs": [],
   "source": [
    "import numpy as np\n",
    "import pandas as pd\n",
    "\n",
    "import warnings\n",
    "warnings.simplefilter('ignore')\n",
    "\n",
    "from sklearn.model_selection import train_test_split, cross_val_score, StratifiedKFold\n",
    "from sklearn import metrics\n",
    "from sklearn.neighbors import KNeighborsClassifier\n",
    "from sklearn import svm\n",
    "from sklearn.linear_model import LogisticRegression, LinearRegression\n",
    "\n",
    "from sklearn.tree import DecisionTreeClassifier\n",
    "from sklearn.neural_network import MLPClassifier\n",
    "from sklearn.naive_bayes import GaussianNB\n",
    "from sklearn.gaussian_process import GaussianProcessClassifier\n",
    "from sklearn.gaussian_process.kernels import RBF\n",
    "\n",
    "from sklearn.ensemble import RandomForestClassifier, AdaBoostClassifier\n",
    "from sklearn.metrics import confusion_matrix, ConfusionMatrixDisplay, f1_score, classification_report\n",
    "\n",
    "import xgboost as xgb"
   ]
  },
  {
   "cell_type": "markdown",
   "id": "9e18c9d0",
   "metadata": {},
   "source": [
    "##### Load the SQL db for later comparison"
   ]
  },
  {
   "cell_type": "code",
   "execution_count": 2,
   "id": "5506859d",
   "metadata": {},
   "outputs": [],
   "source": [
    "import sqlite3\n",
    "conn=sqlite3.connect(\"models.db\")\n",
    "cur=conn.cursor()"
   ]
  },
  {
   "cell_type": "code",
   "execution_count": 3,
   "id": "9282f03e",
   "metadata": {},
   "outputs": [
    {
     "data": {
      "text/html": [
       "<div>\n",
       "<style scoped>\n",
       "    .dataframe tbody tr th:only-of-type {\n",
       "        vertical-align: middle;\n",
       "    }\n",
       "\n",
       "    .dataframe tbody tr th {\n",
       "        vertical-align: top;\n",
       "    }\n",
       "\n",
       "    .dataframe thead th {\n",
       "        text-align: right;\n",
       "    }\n",
       "</style>\n",
       "<table border=\"1\" class=\"dataframe\">\n",
       "  <thead>\n",
       "    <tr style=\"text-align: right;\">\n",
       "      <th></th>\n",
       "      <th>CRSElapsedTime</th>\n",
       "      <th>Distance</th>\n",
       "      <th>ArrDelay</th>\n",
       "      <th>DepTime_sin</th>\n",
       "      <th>DepTime_cos</th>\n",
       "      <th>ArrTime_sin</th>\n",
       "      <th>ArrTime_cos</th>\n",
       "      <th>Month_sin</th>\n",
       "      <th>Month_cos</th>\n",
       "      <th>DayOfWeek_sin</th>\n",
       "      <th>DayOfWeek_cos</th>\n",
       "      <th>origin_freq</th>\n",
       "      <th>dest_freq</th>\n",
       "      <th>carrier</th>\n",
       "    </tr>\n",
       "  </thead>\n",
       "  <tbody>\n",
       "    <tr>\n",
       "      <th>0</th>\n",
       "      <td>0.379379</td>\n",
       "      <td>-0.244648</td>\n",
       "      <td>0</td>\n",
       "      <td>-0.081069</td>\n",
       "      <td>-0.996709</td>\n",
       "      <td>-0.515786</td>\n",
       "      <td>-8.567175e-01</td>\n",
       "      <td>-1.000000</td>\n",
       "      <td>-1.836970e-16</td>\n",
       "      <td>-0.781831</td>\n",
       "      <td>0.623490</td>\n",
       "      <td>0.004273</td>\n",
       "      <td>0.055796</td>\n",
       "      <td>0.059441</td>\n",
       "    </tr>\n",
       "    <tr>\n",
       "      <th>1</th>\n",
       "      <td>0.297798</td>\n",
       "      <td>-0.518349</td>\n",
       "      <td>0</td>\n",
       "      <td>-0.939094</td>\n",
       "      <td>0.343660</td>\n",
       "      <td>-0.707107</td>\n",
       "      <td>7.071068e-01</td>\n",
       "      <td>0.866025</td>\n",
       "      <td>-5.000000e-01</td>\n",
       "      <td>0.000000</td>\n",
       "      <td>1.000000</td>\n",
       "      <td>0.030147</td>\n",
       "      <td>0.000988</td>\n",
       "      <td>0.072968</td>\n",
       "    </tr>\n",
       "    <tr>\n",
       "      <th>2</th>\n",
       "      <td>0.603103</td>\n",
       "      <td>-0.015291</td>\n",
       "      <td>1</td>\n",
       "      <td>-0.932639</td>\n",
       "      <td>-0.360811</td>\n",
       "      <td>-0.999877</td>\n",
       "      <td>1.570732e-02</td>\n",
       "      <td>0.866025</td>\n",
       "      <td>-5.000000e-01</td>\n",
       "      <td>0.433884</td>\n",
       "      <td>-0.900969</td>\n",
       "      <td>0.012285</td>\n",
       "      <td>0.014367</td>\n",
       "      <td>0.026351</td>\n",
       "    </tr>\n",
       "    <tr>\n",
       "      <th>3</th>\n",
       "      <td>0.073073</td>\n",
       "      <td>-0.584098</td>\n",
       "      <td>1</td>\n",
       "      <td>-0.333807</td>\n",
       "      <td>-0.942641</td>\n",
       "      <td>-0.549023</td>\n",
       "      <td>-8.358074e-01</td>\n",
       "      <td>-0.866025</td>\n",
       "      <td>-5.000000e-01</td>\n",
       "      <td>0.000000</td>\n",
       "      <td>1.000000</td>\n",
       "      <td>0.001805</td>\n",
       "      <td>0.016548</td>\n",
       "      <td>0.195616</td>\n",
       "    </tr>\n",
       "    <tr>\n",
       "      <th>4</th>\n",
       "      <td>0.423423</td>\n",
       "      <td>0.022936</td>\n",
       "      <td>0</td>\n",
       "      <td>-0.737867</td>\n",
       "      <td>-0.674947</td>\n",
       "      <td>-1.000000</td>\n",
       "      <td>-1.836970e-16</td>\n",
       "      <td>0.000000</td>\n",
       "      <td>1.000000e+00</td>\n",
       "      <td>0.433884</td>\n",
       "      <td>-0.900969</td>\n",
       "      <td>0.006695</td>\n",
       "      <td>0.024669</td>\n",
       "      <td>0.195616</td>\n",
       "    </tr>\n",
       "  </tbody>\n",
       "</table>\n",
       "</div>"
      ],
      "text/plain": [
       "   CRSElapsedTime  Distance  ArrDelay  DepTime_sin  DepTime_cos  ArrTime_sin  \\\n",
       "0        0.379379 -0.244648         0    -0.081069    -0.996709    -0.515786   \n",
       "1        0.297798 -0.518349         0    -0.939094     0.343660    -0.707107   \n",
       "2        0.603103 -0.015291         1    -0.932639    -0.360811    -0.999877   \n",
       "3        0.073073 -0.584098         1    -0.333807    -0.942641    -0.549023   \n",
       "4        0.423423  0.022936         0    -0.737867    -0.674947    -1.000000   \n",
       "\n",
       "    ArrTime_cos  Month_sin     Month_cos  DayOfWeek_sin  DayOfWeek_cos  \\\n",
       "0 -8.567175e-01  -1.000000 -1.836970e-16      -0.781831       0.623490   \n",
       "1  7.071068e-01   0.866025 -5.000000e-01       0.000000       1.000000   \n",
       "2  1.570732e-02   0.866025 -5.000000e-01       0.433884      -0.900969   \n",
       "3 -8.358074e-01  -0.866025 -5.000000e-01       0.000000       1.000000   \n",
       "4 -1.836970e-16   0.000000  1.000000e+00       0.433884      -0.900969   \n",
       "\n",
       "   origin_freq  dest_freq   carrier  \n",
       "0     0.004273   0.055796  0.059441  \n",
       "1     0.030147   0.000988  0.072968  \n",
       "2     0.012285   0.014367  0.026351  \n",
       "3     0.001805   0.016548  0.195616  \n",
       "4     0.006695   0.024669  0.195616  "
      ]
     },
     "execution_count": 3,
     "metadata": {},
     "output_type": "execute_result"
    }
   ],
   "source": [
    "#Loading the dataset\n",
    "df=pd.read_csv('depdelay20enc.csv', index_col=False, warn_bad_lines=True, error_bad_lines=False)\n",
    "df=df.drop(['Unnamed: 0','DepDelay'],axis=1)\n",
    "df = df.sample(frac =.02).reset_index().drop(['index'], axis=1)\n",
    "df.head()"
   ]
  },
  {
   "cell_type": "markdown",
   "id": "c8ea8e8a",
   "metadata": {},
   "source": [
    "##### Split Train and Test  and set ArrDelay as target column"
   ]
  },
  {
   "cell_type": "code",
   "execution_count": 4,
   "id": "b9b7f04c",
   "metadata": {},
   "outputs": [],
   "source": [
    "X,y = df.loc[:, df.columns != 'ArrDelay'],df.loc[:, df.columns == 'ArrDelay']\n",
    "\n",
    "X_train,X_test, y_train, y_test = train_test_split(X,y, test_size=0.25, random_state=42, stratify=y)"
   ]
  },
  {
   "cell_type": "markdown",
   "id": "7bfbb160",
   "metadata": {},
   "source": [
    "##### The target classes are imbalanced, it can be balanced undersampling the majority class (1)"
   ]
  },
  {
   "cell_type": "code",
   "execution_count": 8,
   "id": "da3f2ae1",
   "metadata": {},
   "outputs": [
    {
     "name": "stdout",
     "output_type": "stream",
     "text": [
      "majority-1 3803 minority-0 1981\n"
     ]
    },
    {
     "data": {
      "text/plain": [
       "0    1981\n",
       "1    1981\n",
       "Name: ArrDelay, dtype: int64"
      ]
     },
     "execution_count": 8,
     "metadata": {},
     "output_type": "execute_result"
    }
   ],
   "source": [
    "from sklearn.utils import resample\n",
    "\n",
    "# concatenate our training data back together\n",
    "X = pd.concat([X_train, y_train], axis=1)\n",
    "\n",
    "\n",
    "# Separate majority and minority classes\n",
    "df_majority = X[X.ArrDelay==1]\n",
    "df_minority = X[X.ArrDelay==0]\n",
    "\n",
    "print('majority-1',len(df_majority),'minority-0',len(df_minority))\n",
    "\n",
    "# Downsample majority class\n",
    "df_majority_downsampled = resample(df_majority, \n",
    "                                 replace=False,    # sample without replacement\n",
    "                                 n_samples=len(df_minority),     # to match minority class\n",
    "                                 random_state=42) # reproducible results\n",
    " \n",
    "# Combine minority class with downsampled majority class\n",
    "downsampled = pd.concat([df_majority_downsampled, df_minority])\n",
    " \n",
    "# Display new class counts\n",
    "downsampled['ArrDelay'].value_counts()"
   ]
  },
  {
   "cell_type": "code",
   "execution_count": 9,
   "id": "4db4e1d1",
   "metadata": {},
   "outputs": [],
   "source": [
    "y_train = downsampled.ArrDelay\n",
    "X_train = downsampled.drop('ArrDelay', axis=1)"
   ]
  },
  {
   "cell_type": "markdown",
   "id": "59d5d59a",
   "metadata": {},
   "source": [
    "##### Support Vector Classification"
   ]
  },
  {
   "cell_type": "code",
   "execution_count": 18,
   "id": "67930e37",
   "metadata": {},
   "outputs": [
    {
     "name": "stdout",
     "output_type": "stream",
     "text": [
      "Accuracy Score: 0.5758\n"
     ]
    }
   ],
   "source": [
    "clf = svm.SVC(kernel='linear', random_state=42, gamma='auto')\n",
    "scores = cross_val_score(clf, X_train, y_train, cv=StratifiedKFold(n_splits=5), scoring='accuracy').mean()\n",
    "print('Accuracy Score: %.4f' % scores)"
   ]
  },
  {
   "cell_type": "code",
   "execution_count": 19,
   "id": "43ff8aa3",
   "metadata": {},
   "outputs": [],
   "source": [
    "clf.fit(X_train, y_train)\n",
    "y_pred = clf.predict(X_test)\n"
   ]
  },
  {
   "cell_type": "code",
   "execution_count": 20,
   "id": "6166897b",
   "metadata": {},
   "outputs": [],
   "source": [
    "cm=confusion_matrix(y_test, y_pred)\n",
    "tn, fp, fn, tp = confusion_matrix(y_test, y_pred).ravel()"
   ]
  },
  {
   "cell_type": "code",
   "execution_count": 21,
   "id": "1f52f870",
   "metadata": {},
   "outputs": [
    {
     "data": {
      "text/plain": [
       "<sklearn.metrics._plot.confusion_matrix.ConfusionMatrixDisplay at 0x7fa17414de20>"
      ]
     },
     "execution_count": 21,
     "metadata": {},
     "output_type": "execute_result"
    },
    {
     "data": {
      "image/png": "[encoded data removed]",
      "text/plain": [
       "<Figure size 432x288 with 2 Axes>"
      ]
     },
     "metadata": {
      "needs_background": "light"
     },
     "output_type": "display_data"
    }
   ],
   "source": [
    "disp = ConfusionMatrixDisplay(confusion_matrix=cm,display_labels=clf.classes_)\n",
    "disp.plot(cmap='Purples') "
   ]
  },
  {
   "cell_type": "code",
   "execution_count": 22,
   "id": "fe72db84",
   "metadata": {},
   "outputs": [
    {
     "name": "stdout",
     "output_type": "stream",
     "text": [
      "Specificity: 0.6058\n",
      "Accuracy: 0.5633\n",
      "Precision: 0.5692\n",
      "Recall or Sensitivity: 0.5209\n",
      "F1 Score: 0.544\n"
     ]
    }
   ],
   "source": [
    "#Specificity = TN / (TN + FP)\n",
    "spec= round(tn/(tn+fp), 4)\n",
    "acc= round(metrics.accuracy_score(y_test, y_pred), 4)\n",
    "prec= round(metrics.precision_score(y_test, y_pred), 4)\n",
    "rec= round(metrics.recall_score(y_test, y_pred), 4)\n",
    "f1= round(metrics.f1_score(y_test, y_pred), 4)\n",
    "print ('Specificity:',spec)\n",
    "print ('Accuracy:',acc)\n",
    "print ('Precision:',prec)\n",
    "print ('Recall or Sensitivity:',rec)\n",
    "print ('F1 Score:',f1)"
   ]
  },
  {
   "cell_type": "code",
   "execution_count": 23,
   "id": "cbc5f79c",
   "metadata": {},
   "outputs": [],
   "source": [
    "model='sv2bal'\n",
    "depdelay='no'\n",
    "\n",
    "cur.execute(\"INSERT OR REPLACE INTO s13_models(model,dep_delay,Specificity, Accuracy, Precision, Recall, f1_score) VALUES(?,?,?,?,?,?,?)\",(model,depdelay,spec,acc,prec,rec,f1))\n",
    "conn.commit()"
   ]
  },
  {
   "cell_type": "markdown",
   "id": "adf02318",
   "metadata": {},
   "source": [
    "##### KNN K-Nearest Neighbors"
   ]
  },
  {
   "cell_type": "code",
   "execution_count": 24,
   "id": "5d24e677",
   "metadata": {},
   "outputs": [
    {
     "name": "stdout",
     "output_type": "stream",
     "text": [
      "Accuracy Score: 0.5475\n"
     ]
    }
   ],
   "source": [
    "knn = KNeighborsClassifier(n_neighbors=32)\n",
    "score=cross_val_score(knn, X_train, y_train, cv=StratifiedKFold(n_splits=5), scoring='accuracy').mean()\n",
    "print('Accuracy Score: %.4f' % score)"
   ]
  },
  {
   "cell_type": "code",
   "execution_count": 25,
   "id": "be9f1944",
   "metadata": {},
   "outputs": [
    {
     "data": {
      "text/plain": [
       "<sklearn.metrics._plot.confusion_matrix.ConfusionMatrixDisplay at 0x7fa174158e50>"
      ]
     },
     "execution_count": 25,
     "metadata": {},
     "output_type": "execute_result"
    },
    {
     "data": {
      "image/png": "[encoded data removed]",
      "text/plain": [
       "<Figure size 432x288 with 2 Axes>"
      ]
     },
     "metadata": {
      "needs_background": "light"
     },
     "output_type": "display_data"
    }
   ],
   "source": [
    "knn.fit(X_train, y_train)\n",
    "y_pred = knn.predict(X_test)\n",
    "\n",
    "cm=confusion_matrix(y_test, y_pred)\n",
    "tn, fp, fn, tp = confusion_matrix(y_test, y_pred).ravel()\n",
    "\n",
    "disp = ConfusionMatrixDisplay(confusion_matrix=cm,display_labels=clf.classes_)\n",
    "disp.plot(cmap='Purples') \n"
   ]
  },
  {
   "cell_type": "code",
   "execution_count": 26,
   "id": "b8191b0a",
   "metadata": {},
   "outputs": [
    {
     "name": "stdout",
     "output_type": "stream",
     "text": [
      "Specificity: 0.6273\n",
      "Accuracy: 0.5806\n",
      "Precision: 0.5889\n",
      "Recall or Sensitivity: 0.5338\n",
      "F1 Score: 0.56\n"
     ]
    }
   ],
   "source": [
    "spec= round(tn/(tn+fp), 4)\n",
    "acc= round(metrics.accuracy_score(y_test, y_pred), 4)\n",
    "prec= round(metrics.precision_score(y_test, y_pred), 4)\n",
    "rec= round(metrics.recall_score(y_test, y_pred), 4)\n",
    "f1= round(metrics.f1_score(y_test, y_pred), 4)\n",
    "print ('Specificity:',spec)\n",
    "print ('Accuracy:',acc)\n",
    "print ('Precision:',prec)\n",
    "print ('Recall or Sensitivity:',rec)\n",
    "print ('F1 Score:',f1)"
   ]
  },
  {
   "cell_type": "code",
   "execution_count": 27,
   "id": "0b0207d6",
   "metadata": {},
   "outputs": [],
   "source": [
    "model='knn2bal'\n",
    "depdelay='no'\n",
    "\n",
    "cur.execute(\"INSERT OR REPLACE INTO s13_models(model,dep_delay,Specificity, Accuracy, Precision, Recall, f1_score) VALUES(?,?,?,?,?,?,?)\",(model,depdelay,spec,acc,prec,rec,f1))\n",
    "conn.commit()"
   ]
  },
  {
   "cell_type": "markdown",
   "id": "757aac51",
   "metadata": {},
   "source": [
    "\n",
    "\n",
    "\n",
    "##### logistic regression"
   ]
  },
  {
   "cell_type": "code",
   "execution_count": 28,
   "id": "b84984af",
   "metadata": {},
   "outputs": [
    {
     "name": "stdout",
     "output_type": "stream",
     "text": [
      "Accuracy Score: 0.5840\n"
     ]
    }
   ],
   "source": [
    "logreg = LogisticRegression(solver='liblinear')\n",
    "score=cross_val_score(logreg, X_train, y_train, cv=StratifiedKFold(n_splits=5), scoring='accuracy').mean()\n",
    "print('Accuracy Score: %.4f' % score)"
   ]
  },
  {
   "cell_type": "code",
   "execution_count": 29,
   "id": "bafb3a3d",
   "metadata": {},
   "outputs": [
    {
     "data": {
      "text/plain": [
       "<sklearn.metrics._plot.confusion_matrix.ConfusionMatrixDisplay at 0x7fa1747ed430>"
      ]
     },
     "execution_count": 29,
     "metadata": {},
     "output_type": "execute_result"
    },
    {
     "data": {
      "image/png": "[encoded data removed]",
      "text/plain": [
       "<Figure size 432x288 with 2 Axes>"
      ]
     },
     "metadata": {
      "needs_background": "light"
     },
     "output_type": "display_data"
    }
   ],
   "source": [
    "logreg.fit(X_train, y_train)\n",
    "y_pred = logreg.predict(X_test)\n",
    "\n",
    "cm=confusion_matrix(y_test, y_pred)\n",
    "tn, fp, fn, tp = confusion_matrix(y_test, y_pred).ravel()\n",
    "\n",
    "disp = ConfusionMatrixDisplay(confusion_matrix=cm,display_labels=clf.classes_)\n",
    "disp.plot(cmap='Purples') "
   ]
  },
  {
   "cell_type": "code",
   "execution_count": 30,
   "id": "75d2e300",
   "metadata": {},
   "outputs": [
    {
     "name": "stdout",
     "output_type": "stream",
     "text": [
      "Specificity: 0.5712\n",
      "Accuracy: 0.5755\n",
      "Precision: 0.5749\n",
      "Recall or Sensitivity: 0.5799\n",
      "F1 Score: 0.5774\n"
     ]
    }
   ],
   "source": [
    "spec= round(tn/(tn+fp), 4)\n",
    "acc= round(metrics.accuracy_score(y_test, y_pred), 4)\n",
    "prec= round(metrics.precision_score(y_test, y_pred), 4)\n",
    "rec= round(metrics.recall_score(y_test, y_pred), 4)\n",
    "f1= round(metrics.f1_score(y_test, y_pred), 4)\n",
    "print ('Specificity:',spec)\n",
    "print ('Accuracy:',acc)\n",
    "print ('Precision:',prec)\n",
    "print ('Recall or Sensitivity:',rec)\n",
    "print ('F1 Score:',f1)"
   ]
  },
  {
   "cell_type": "code",
   "execution_count": 31,
   "id": "269f0821",
   "metadata": {},
   "outputs": [],
   "source": [
    "model='lg2bal'\n",
    "depdelay='no'\n",
    "\n",
    "cur.execute(\"INSERT OR REPLACE INTO s13_models(model,dep_delay,Specificity, Accuracy, Precision, Recall, f1_score) VALUES(?,?,?,?,?,?,?)\",(model,depdelay,spec,acc,prec,rec,f1))\n",
    "conn.commit()"
   ]
  },
  {
   "cell_type": "markdown",
   "id": "1b1b5fe5",
   "metadata": {},
   "source": [
    "\n",
    "\n",
    "\n",
    "##### Decision Tree"
   ]
  },
  {
   "cell_type": "code",
   "execution_count": 32,
   "id": "3eae131e",
   "metadata": {},
   "outputs": [
    {
     "name": "stdout",
     "output_type": "stream",
     "text": [
      "Accuracy Score: 0.5665\n"
     ]
    }
   ],
   "source": [
    "clf = DecisionTreeClassifier(criterion=\"gini\", max_depth=4, random_state=42)\n",
    "scores=cross_val_score(clf, X_train, y_train, cv=StratifiedKFold(n_splits=5), scoring='accuracy').mean()\n",
    "print('Accuracy Score: %.4f' % scores)"
   ]
  },
  {
   "cell_type": "code",
   "execution_count": 33,
   "id": "1a2581bd",
   "metadata": {},
   "outputs": [
    {
     "data": {
      "text/plain": [
       "<sklearn.metrics._plot.confusion_matrix.ConfusionMatrixDisplay at 0x7fa173ff6e20>"
      ]
     },
     "execution_count": 33,
     "metadata": {},
     "output_type": "execute_result"
    },
    {
     "data": {
      "image/png": "[encoded data removed]",
      "text/plain": [
       "<Figure size 432x288 with 2 Axes>"
      ]
     },
     "metadata": {
      "needs_background": "light"
     },
     "output_type": "display_data"
    }
   ],
   "source": [
    "clf.fit(X_train, y_train)\n",
    "y_pred = clf.predict(X_test)\n",
    "\n",
    "cm=confusion_matrix(y_test, y_pred)\n",
    "tn, fp, fn, tp = confusion_matrix(y_test, y_pred).ravel()\n",
    "\n",
    "disp = ConfusionMatrixDisplay(confusion_matrix=cm,display_labels=clf.classes_)\n",
    "disp.plot(cmap='Purples') "
   ]
  },
  {
   "cell_type": "code",
   "execution_count": 34,
   "id": "407b3778",
   "metadata": {},
   "outputs": [
    {
     "name": "stdout",
     "output_type": "stream",
     "text": [
      "Specificity: 0.6576\n",
      "Accuracy: 0.5799\n",
      "Precision: 0.5945\n",
      "Recall or Sensitivity: 0.5022\n",
      "F1 Score: 0.5445\n"
     ]
    }
   ],
   "source": [
    "spec= round(tn/(tn+fp), 4)\n",
    "acc= round(metrics.accuracy_score(y_test, y_pred), 4)\n",
    "prec= round(metrics.precision_score(y_test, y_pred), 4)\n",
    "rec= round(metrics.recall_score(y_test, y_pred), 4)\n",
    "f1= round(metrics.f1_score(y_test, y_pred), 4)\n",
    "print ('Specificity:',spec)\n",
    "print ('Accuracy:',acc)\n",
    "print ('Precision:',prec)\n",
    "print ('Recall or Sensitivity:',rec)\n",
    "print ('F1 Score:',f1)"
   ]
  },
  {
   "cell_type": "code",
   "execution_count": 35,
   "id": "88d8f756",
   "metadata": {},
   "outputs": [],
   "source": [
    "model='dt2bal'\n",
    "depdelay='no'\n",
    "\n",
    "cur.execute(\"INSERT OR REPLACE INTO s13_models(model,dep_delay,Specificity, Accuracy, Precision, Recall, f1_score) VALUES(?,?,?,?,?,?,?)\",(model,depdelay,spec,acc,prec,rec,f1))\n",
    "conn.commit()"
   ]
  },
  {
   "cell_type": "markdown",
   "id": "c997f728",
   "metadata": {},
   "source": [
    "\n",
    "\n",
    "\n",
    "##### neural network MLPClassifier"
   ]
  },
  {
   "cell_type": "code",
   "execution_count": 36,
   "id": "3a406272",
   "metadata": {},
   "outputs": [
    {
     "name": "stdout",
     "output_type": "stream",
     "text": [
      "Accuracy Score: 0.5880\n"
     ]
    }
   ],
   "source": [
    "mlp = MLPClassifier(hidden_layer_sizes=(20, 10, 5), max_iter=50, activation = 'relu',solver='adam',random_state=42)\n",
    "score=cross_val_score(mlp, X_train, y_train, cv=StratifiedKFold(n_splits=10), scoring='accuracy').mean()\n",
    "print('Accuracy Score: %.4f' % score)"
   ]
  },
  {
   "cell_type": "code",
   "execution_count": 37,
   "id": "2df68937",
   "metadata": {},
   "outputs": [
    {
     "data": {
      "text/plain": [
       "<sklearn.metrics._plot.confusion_matrix.ConfusionMatrixDisplay at 0x7fa173fd2d60>"
      ]
     },
     "execution_count": 37,
     "metadata": {},
     "output_type": "execute_result"
    },
    {
     "data": {
      "image/png": "[encoded data removed]",
      "text/plain": [
       "<Figure size 432x288 with 2 Axes>"
      ]
     },
     "metadata": {
      "needs_background": "light"
     },
     "output_type": "display_data"
    }
   ],
   "source": [
    "mlp.fit(X_train, y_train)\n",
    "y_pred = mlp.predict(X_test)\n",
    "\n",
    "cm=confusion_matrix(y_test, y_pred)\n",
    "tn, fp, fn, tp = confusion_matrix(y_test, y_pred).ravel()\n",
    "\n",
    "disp = ConfusionMatrixDisplay(confusion_matrix=cm,display_labels=clf.classes_)\n",
    "disp.plot(cmap='Purples') "
   ]
  },
  {
   "cell_type": "code",
   "execution_count": 38,
   "id": "da9659b7",
   "metadata": {},
   "outputs": [
    {
     "name": "stdout",
     "output_type": "stream",
     "text": [
      "Specificity: 0.6547\n",
      "Accuracy: 0.5899\n",
      "Precision: 0.6033\n",
      "Recall or Sensitivity: 0.5252\n",
      "F1 Score: 0.5615\n"
     ]
    }
   ],
   "source": [
    "spec= round(tn/(tn+fp), 4)\n",
    "acc= round(metrics.accuracy_score(y_test, y_pred), 4)\n",
    "prec= round(metrics.precision_score(y_test, y_pred), 4)\n",
    "rec= round(metrics.recall_score(y_test, y_pred), 4)\n",
    "f1= round(metrics.f1_score(y_test, y_pred), 4)\n",
    "print ('Specificity:',spec)\n",
    "print ('Accuracy:',acc)\n",
    "print ('Precision:',prec)\n",
    "print ('Recall or Sensitivity:',rec)\n",
    "print ('F1 Score:',f1)"
   ]
  },
  {
   "cell_type": "code",
   "execution_count": 39,
   "id": "bc519a97",
   "metadata": {},
   "outputs": [],
   "source": [
    "model='nn2bal'\n",
    "depdelay='no'\n",
    "\n",
    "cur.execute(\"INSERT OR REPLACE INTO s13_models(model,dep_delay,Specificity, Accuracy, Precision, Recall, f1_score) VALUES(?,?,?,?,?,?,?)\",(model,depdelay,spec,acc,prec,rec,f1))\n",
    "conn.commit()"
   ]
  },
  {
   "cell_type": "markdown",
   "id": "c9ecf846",
   "metadata": {},
   "source": [
    "##### Gaussian Naive Bayes"
   ]
  },
  {
   "cell_type": "code",
   "execution_count": 40,
   "id": "f5ab8fe3",
   "metadata": {},
   "outputs": [
    {
     "name": "stdout",
     "output_type": "stream",
     "text": [
      "Accuracy Score: 0.5845\n"
     ]
    }
   ],
   "source": [
    "clf = GaussianNB()\n",
    "score=cross_val_score(clf, X_train, y_train, cv=StratifiedKFold(n_splits=5), scoring='accuracy').mean()\n",
    "print('Accuracy Score: %.4f' % score)"
   ]
  },
  {
   "cell_type": "code",
   "execution_count": 41,
   "id": "a651022f",
   "metadata": {},
   "outputs": [
    {
     "data": {
      "text/plain": [
       "<sklearn.metrics._plot.confusion_matrix.ConfusionMatrixDisplay at 0x7fa17414dbe0>"
      ]
     },
     "execution_count": 41,
     "metadata": {},
     "output_type": "execute_result"
    },
    {
     "data": {
      "image/png": "[encoded data removed]",
      "text/plain": [
       "<Figure size 432x288 with 2 Axes>"
      ]
     },
     "metadata": {
      "needs_background": "light"
     },
     "output_type": "display_data"
    }
   ],
   "source": [
    "clf.fit(X_train, y_train)\n",
    "y_pred = clf.predict(X_test)\n",
    "\n",
    "cm=confusion_matrix(y_test, y_pred)\n",
    "tn, fp, fn, tp = confusion_matrix(y_test, y_pred).ravel()\n",
    "\n",
    "disp = ConfusionMatrixDisplay(confusion_matrix=cm,display_labels=clf.classes_)\n",
    "disp.plot(cmap='Purples') "
   ]
  },
  {
   "cell_type": "code",
   "execution_count": 44,
   "id": "3840295b",
   "metadata": {},
   "outputs": [
    {
     "name": "stdout",
     "output_type": "stream",
     "text": [
      "Specificity: 0.5957\n",
      "Accuracy: 0.5842\n",
      "Precision: 0.5862\n",
      "Recall or Sensitivity: 0.5727\n",
      "F1 Score: 0.5793\n"
     ]
    }
   ],
   "source": [
    "spec= round(tn/(tn+fp), 4)\n",
    "acc= round(metrics.accuracy_score(y_test, y_pred), 4)\n",
    "prec= round(metrics.precision_score(y_test, y_pred), 4)\n",
    "rec= round(metrics.recall_score(y_test, y_pred), 4)\n",
    "f1= round(metrics.f1_score(y_test, y_pred), 4)\n",
    "print ('Specificity:',spec)\n",
    "print ('Accuracy:',acc)\n",
    "print ('Precision:',prec)\n",
    "print ('Recall or Sensitivity:',rec)\n",
    "print ('F1 Score:',f1)"
   ]
  },
  {
   "cell_type": "code",
   "execution_count": 45,
   "id": "222c477a",
   "metadata": {},
   "outputs": [],
   "source": [
    "model='nb2bal'\n",
    "depdelay='no'\n",
    "\n",
    "cur.execute(\"INSERT OR REPLACE INTO s13_models(model,dep_delay,Specificity, Accuracy, Precision, Recall, f1_score) VALUES(?,?,?,?,?,?,?)\",(model,depdelay,spec,acc,prec,rec,f1))\n",
    "conn.commit()"
   ]
  },
  {
   "cell_type": "markdown",
   "id": "85cffa82",
   "metadata": {},
   "source": [
    "\n",
    "\n",
    "##### Ada Boost Classifier"
   ]
  },
  {
   "cell_type": "code",
   "execution_count": 46,
   "id": "427d46b8",
   "metadata": {},
   "outputs": [
    {
     "name": "stdout",
     "output_type": "stream",
     "text": [
      "Accuracy Score: 0.5710\n"
     ]
    }
   ],
   "source": [
    "ada = AdaBoostClassifier(n_estimators=12, random_state=42,algorithm='SAMME')\n",
    "score=cross_val_score(ada, X_train, y_train, cv=StratifiedKFold(n_splits=5), scoring='accuracy').mean()\n",
    "print('Accuracy Score: %.4f' % score)"
   ]
  },
  {
   "cell_type": "code",
   "execution_count": 47,
   "id": "f2c6bb5e",
   "metadata": {},
   "outputs": [
    {
     "data": {
      "text/plain": [
       "<sklearn.metrics._plot.confusion_matrix.ConfusionMatrixDisplay at 0x7fa1743c7f10>"
      ]
     },
     "execution_count": 47,
     "metadata": {},
     "output_type": "execute_result"
    },
    {
     "data": {
      "image/png": "[encoded data removed]",
      "text/plain": [
       "<Figure size 432x288 with 2 Axes>"
      ]
     },
     "metadata": {
      "needs_background": "light"
     },
     "output_type": "display_data"
    }
   ],
   "source": [
    "ada.fit(X_train, y_train)\n",
    "y_pred = ada.predict(X_test)\n",
    "\n",
    "cm=confusion_matrix(y_test, y_pred)\n",
    "tn, fp, fn, tp = confusion_matrix(y_test, y_pred).ravel()\n",
    "\n",
    "disp = ConfusionMatrixDisplay(confusion_matrix=cm)\n",
    "disp.plot(cmap='Purples') "
   ]
  },
  {
   "cell_type": "code",
   "execution_count": 48,
   "id": "5c1eedda",
   "metadata": {},
   "outputs": [
    {
     "name": "stdout",
     "output_type": "stream",
     "text": [
      "Specificity: 0.6187\n",
      "Accuracy: 0.5784\n",
      "Precision: 0.5853\n",
      "Recall or Sensitivity: 0.5381\n",
      "F1 Score: 0.5607\n"
     ]
    }
   ],
   "source": [
    "spec= round(tn/(tn+fp), 4)\n",
    "acc= round(metrics.accuracy_score(y_test, y_pred), 4)\n",
    "prec= round(metrics.precision_score(y_test, y_pred), 4)\n",
    "rec= round(metrics.recall_score(y_test, y_pred), 4)\n",
    "f1= round(metrics.f1_score(y_test, y_pred), 4)\n",
    "print ('Specificity:',spec)\n",
    "print ('Accuracy:',acc)\n",
    "print ('Precision:',prec)\n",
    "print ('Recall or Sensitivity:',rec)\n",
    "print ('F1 Score:',f1)"
   ]
  },
  {
   "cell_type": "code",
   "execution_count": 49,
   "id": "a9cb42b6",
   "metadata": {},
   "outputs": [],
   "source": [
    "model='ada2bal'\n",
    "depdelay='no'\n",
    "\n",
    "cur.execute(\"INSERT OR REPLACE INTO s13_models(model,dep_delay,Specificity, Accuracy, Precision, Recall, f1_score) VALUES(?,?,?,?,?,?,?)\",(model,depdelay,spec,acc,prec,rec,f1))\n",
    "conn.commit()"
   ]
  },
  {
   "cell_type": "markdown",
   "id": "f641f90b",
   "metadata": {},
   "source": [
    "##### Gaussian Process Classifier"
   ]
  },
  {
   "cell_type": "code",
   "execution_count": 50,
   "id": "e006ad4d",
   "metadata": {},
   "outputs": [
    {
     "name": "stdout",
     "output_type": "stream",
     "text": [
      "Accuracy Score: 0.5938\n"
     ]
    }
   ],
   "source": [
    "gpc = GaussianProcessClassifier(kernel=1*RBF(1.0))\n",
    "score=cross_val_score(gpc, X_train, y_train, cv=StratifiedKFold(n_splits=5), scoring='accuracy').mean()\n",
    "print('Accuracy Score: %.4f' % score)"
   ]
  },
  {
   "cell_type": "code",
   "execution_count": 51,
   "id": "b569fe12",
   "metadata": {},
   "outputs": [
    {
     "data": {
      "text/plain": [
       "<sklearn.metrics._plot.confusion_matrix.ConfusionMatrixDisplay at 0x7fa174d52100>"
      ]
     },
     "execution_count": 51,
     "metadata": {},
     "output_type": "execute_result"
    },
    {
     "data": {
      "image/png": "[encoded data removed]",
      "text/plain": [
       "<Figure size 432x288 with 2 Axes>"
      ]
     },
     "metadata": {
      "needs_background": "light"
     },
     "output_type": "display_data"
    }
   ],
   "source": [
    "gpc.fit(X_train, y_train)\n",
    "y_pred = gpc.predict(X_test)\n",
    "\n",
    "cm=confusion_matrix(y_test, y_pred)\n",
    "tn, fp, fn, tp = confusion_matrix(y_test, y_pred).ravel()\n",
    "\n",
    "disp = ConfusionMatrixDisplay(confusion_matrix=cm)\n",
    "disp.plot(cmap='Purples') "
   ]
  },
  {
   "cell_type": "code",
   "execution_count": 52,
   "id": "352400b7",
   "metadata": {},
   "outputs": [
    {
     "name": "stdout",
     "output_type": "stream",
     "text": [
      "Specificity: 0.5885\n",
      "Accuracy: 0.5849\n",
      "Precision: 0.5855\n",
      "Recall or Sensitivity: 0.5813\n",
      "F1 Score: 0.5834\n"
     ]
    }
   ],
   "source": [
    "spec= round(tn/(tn+fp), 4)\n",
    "acc= round(metrics.accuracy_score(y_test, y_pred), 4)\n",
    "prec= round(metrics.precision_score(y_test, y_pred), 4)\n",
    "rec= round(metrics.recall_score(y_test, y_pred), 4)\n",
    "f1= round(metrics.f1_score(y_test, y_pred), 4)\n",
    "print ('Specificity:',spec)\n",
    "print ('Accuracy:',acc)\n",
    "print ('Precision:',prec)\n",
    "print ('Recall or Sensitivity:',rec)\n",
    "print ('F1 Score:',f1)"
   ]
  },
  {
   "cell_type": "code",
   "execution_count": 53,
   "id": "2d85d7d1",
   "metadata": {},
   "outputs": [],
   "source": [
    "model='gp2bal'\n",
    "depdelay='no'\n",
    "\n",
    "cur.execute(\"INSERT OR REPLACE INTO s13_models(model,dep_delay,Specificity, Accuracy, Precision, Recall, f1_score) VALUES(?,?,?,?,?,?,?)\",(model,depdelay,spec,acc,prec,rec,f1))\n",
    "conn.commit()"
   ]
  },
  {
   "cell_type": "markdown",
   "id": "3bfba12d",
   "metadata": {},
   "source": [
    "\n",
    "\n",
    "\n",
    "##### XGboost"
   ]
  },
  {
   "cell_type": "code",
   "execution_count": 12,
   "id": "bfb2ebd7",
   "metadata": {},
   "outputs": [
    {
     "data": {
      "text/plain": [
       "0.49974779319041607"
      ]
     },
     "execution_count": 12,
     "metadata": {},
     "output_type": "execute_result"
    }
   ],
   "source": [
    "xg_reg = xgb.XGBClassifier(objective=\"reg:squarederror\", booster=\"gblinear\", colsample_bytree = 0.3, learning_rate = 0.1,\n",
    "                           max_depth = 5, alpha = 10, n_estimators = 1000, verbosity = 0)\n",
    "scores = cross_val_score(xg_reg, X_train, y_train, cv=StratifiedKFold(n_splits=5), scoring='accuracy').mean()\n",
    "scores"
   ]
  },
  {
   "cell_type": "code",
   "execution_count": 13,
   "id": "3f43363a",
   "metadata": {},
   "outputs": [
    {
     "name": "stdout",
     "output_type": "stream",
     "text": [
      "Accuracy: 0.342665\n"
     ]
    }
   ],
   "source": [
    "xg_reg.fit(X_train,y_train)\n",
    "preds = xg_reg.predict(X_test)\n",
    "\n",
    "acc = metrics.accuracy_score(y_test, preds)\n",
    "print(\"Accuracy: %f\" % (acc))"
   ]
  },
  {
   "cell_type": "code",
   "execution_count": 14,
   "id": "534789d0",
   "metadata": {},
   "outputs": [
    {
     "data": {
      "text/plain": [
       "<sklearn.metrics._plot.confusion_matrix.ConfusionMatrixDisplay at 0x7f8985611610>"
      ]
     },
     "execution_count": 14,
     "metadata": {},
     "output_type": "execute_result"
    },
    {
     "data": {
      "image/png": "[encoded data removed]",
      "text/plain": [
       "<Figure size 432x288 with 2 Axes>"
      ]
     },
     "metadata": {
      "needs_background": "light"
     },
     "output_type": "display_data"
    }
   ],
   "source": [
    "xg_reg.fit(X_train, y_train)\n",
    "y_pred = xg_reg.predict(X_test)\n",
    "\n",
    "cm=confusion_matrix(y_test, y_pred)\n",
    "tn, fp, fn, tp = confusion_matrix(y_test, y_pred).ravel()\n",
    "\n",
    "disp = ConfusionMatrixDisplay(confusion_matrix=cm)\n",
    "disp.plot(cmap='Purples') "
   ]
  },
  {
   "cell_type": "code",
   "execution_count": 15,
   "id": "86c72a4d",
   "metadata": {},
   "outputs": [
    {
     "name": "stdout",
     "output_type": "stream",
     "text": [
      "Specificity: 0.5809\n",
      "Accuracy: 0.5692\n",
      "Precision: 0.7205\n",
      "Recall or Sensitivity: 0.5631\n",
      "F1 Score: 0.6321\n"
     ]
    }
   ],
   "source": [
    "spec= round(tn/(tn+fp), 4)\n",
    "acc= round(metrics.accuracy_score(y_test, y_pred), 4)\n",
    "prec= round(metrics.precision_score(y_test, y_pred), 4)\n",
    "rec= round(metrics.recall_score(y_test, y_pred), 4)\n",
    "f1= round(metrics.f1_score(y_test, y_pred), 4)\n",
    "print ('Specificity:',spec)\n",
    "print ('Accuracy:',acc)\n",
    "print ('Precision:',prec)\n",
    "print ('Recall or Sensitivity:',rec)\n",
    "print ('F1 Score:',f1)"
   ]
  },
  {
   "cell_type": "code",
   "execution_count": 16,
   "id": "065c806a",
   "metadata": {},
   "outputs": [],
   "source": [
    "model='xgb2bal'\n",
    "depdelay='no'\n",
    "\n",
    "cur.execute(\"INSERT OR REPLACE INTO s13_models(model,dep_delay,Specificity, Accuracy, Precision, Recall, f1_score) VALUES(?,?,?,?,?,?,?)\",(model,depdelay,spec,acc,prec,rec,f1))\n",
    "conn.commit()"
   ]
  },
  {
   "cell_type": "code",
   "execution_count": null,
   "id": "0562b2f2",
   "metadata": {},
   "outputs": [],
   "source": []
  }
 ],
 "metadata": {
  "kernelspec": {
   "display_name": "Python 3",
   "language": "python",
   "name": "python3"
  },
  "language_info": {
   "codemirror_mode": {
    "name": "ipython",
    "version": 3
   },
   "file_extension": ".py",
   "mimetype": "text/x-python",
   "name": "python",
   "nbconvert_exporter": "python",
   "pygments_lexer": "ipython3",
   "version": "3.8.5"
  }
 },
 "nbformat": 4,
 "nbformat_minor": 5
}
