{
 "cells": [
  {
   "cell_type": "markdown",
   "id": "660f1b52",
   "metadata": {},
   "source": [
    "### Bases de dades noSQL. MongoDB"
   ]
  },
  {
   "cell_type": "code",
   "execution_count": 1,
   "id": "840a1ccc",
   "metadata": {},
   "outputs": [],
   "source": [
    "import pandas as pd\n",
    "import pymongo\n",
    "from pymongo import MongoClient"
   ]
  },
  {
   "cell_type": "markdown",
   "id": "cc7d4231",
   "metadata": {},
   "source": [
    "##### Connect to the local server and the database"
   ]
  },
  {
   "cell_type": "code",
   "execution_count": 2,
   "id": "52ccc70b",
   "metadata": {},
   "outputs": [],
   "source": [
    "myclient = pymongo.MongoClient(\"mongodb://localhost:27017/\")"
   ]
  },
  {
   "cell_type": "code",
   "execution_count": 3,
   "id": "b0c7efa8",
   "metadata": {},
   "outputs": [
    {
     "data": {
      "text/plain": [
       "Database(MongoClient(host=['localhost:27017'], document_class=dict, tz_aware=False, connect=True), 'shopping')"
      ]
     },
     "execution_count": 3,
     "metadata": {},
     "output_type": "execute_result"
    }
   ],
   "source": [
    "connection = MongoClient()\n",
    "db = myclient['shopping']\n",
    "db"
   ]
  },
  {
   "cell_type": "markdown",
   "id": "8951bd01",
   "metadata": {},
   "source": [
    "terminal commands\n",
    "cd data\n",
    "mkdir db\n",
    "mongod --dbpath ~/data/db"
   ]
  },
  {
   "cell_type": "code",
   "execution_count": 6,
   "id": "033425cb",
   "metadata": {},
   "outputs": [
    {
     "data": {
      "text/plain": [
       "['Shops', 'Clients', 'Purchases', 'Products']"
      ]
     },
     "execution_count": 6,
     "metadata": {},
     "output_type": "execute_result"
    }
   ],
   "source": [
    "#Collection list\n",
    "collection = db.list_collection_names()\n",
    "collection"
   ]
  },
  {
   "cell_type": "code",
   "execution_count": 7,
   "id": "92462189",
   "metadata": {},
   "outputs": [
    {
     "name": "stdout",
     "output_type": "stream",
     "text": [
      "{'name': 'Fresh', 'type': 'Fruit & Vegetables', 'location': {'addres': 'Jamestown Road, 5', 'PC': 'NW1'}}\n",
      "{'name': 'Nemo', 'type': 'Fish Mongers', 'location': {'addres': 'Tottenham Court Road, 124', 'PC': 'W1C'}}\n",
      "{'name': 'Beat Box', 'type': 'Wine & Liquor', 'location': {'addres': 'Charlotte Street, 32', 'PC': 'W1C'}}\n",
      "{'name': 'Superama', 'type': 'Supermarket', 'location': {'addres': 'Culiacan 40', 'PC': 'NW6'}}\n"
     ]
    }
   ],
   "source": [
    "# Shops collection content\n",
    "\n",
    "mycol = db[\"Shops\"]\n",
    "\n",
    "for x in mycol.find({},{\"_id\":0}):\n",
    "  print(x) "
   ]
  },
  {
   "cell_type": "code",
   "execution_count": 9,
   "id": "c2f4741b",
   "metadata": {},
   "outputs": [
    {
     "name": "stdout",
     "output_type": "stream",
     "text": [
      "{'name': 'Robert', 'Surname': 'Smith', 'Age': 53}\n",
      "{'name': 'Beth', 'Surname': 'Gibbons', 'Age': 44}\n",
      "{'name': 'Max', 'Surname': 'Ritter', 'Age': 28}\n",
      "{'name': 'Jo', 'Surname': 'Grant', 'Age': 62}\n"
     ]
    }
   ],
   "source": [
    "# Clients collection content\n",
    "\n",
    "mycol = db[\"Clients\"]\n",
    "\n",
    "for x in mycol.find({},{\"_id\":0}):\n",
    "  print(x) "
   ]
  },
  {
   "cell_type": "code",
   "execution_count": 10,
   "id": "884a51d8",
   "metadata": {},
   "outputs": [
    {
     "name": "stdout",
     "output_type": "stream",
     "text": [
      "{'product': 'Pears', 'type': 'fruit', 'price': Decimal128('2.90')}\n",
      "{'product': 'Oranges', 'type': 'fruit', 'price': Decimal128('2.50')}\n",
      "{'product': 'Green beans', 'type': 'Vegetable', 'price': Decimal128('4.50')}\n",
      "{'product': 'Potatoes', 'type': 'Vegetable', 'price': Decimal128('2.50')}\n",
      "{'product': 'Wallnuts', 'type': 'Nuts', 'price': Decimal128('7.50')}\n",
      "{'product': 'Pistachios', 'type': 'Nuts', 'price': Decimal128('14.50')}\n",
      "{'product': 'Cod', 'type': 'Fish', 'price': Decimal128('10.50')}\n",
      "{'product': 'Sea Bass', 'type': 'Fish', 'price': Decimal128('13.50')}\n",
      "{'product': 'Mussels', 'type': 'Shellfish', 'price': Decimal128('9.00')}\n",
      "{'product': 'Clams', 'type': 'Shellfish', 'price': Decimal128('6.50')}\n",
      "{'product': 'Octopus', 'type': 'Seafood', 'price': Decimal128('11.00')}\n",
      "{'product': 'Squid', 'type': 'Seafood', 'price': Decimal128('7.00')}\n",
      "{'product': 'Tia Maria', 'type': 'Liquor', 'price': Decimal128('21.00')}\n",
      "{'product': 'Limoncello', 'type': 'Liquor', 'price': Decimal128('15.50')}\n",
      "{'product': 'Tonic Water', 'type': 'Soft_drink', 'price': Decimal128('3.50')}\n",
      "{'product': 'Soda', 'type': 'Soft_drink', 'price': Decimal128('2.50')}\n",
      "{'product': 'Turbio', 'type': 'Wine', 'price': Decimal128('2.50')}\n",
      "{'product': 'Muga', 'type': 'Wine', 'price': Decimal128('4.00')}\n"
     ]
    }
   ],
   "source": [
    "# Products collection content\n",
    "\n",
    "mycol = db[\"Products\"]\n",
    "\n",
    "for x in mycol.find({},{\"_id\":0}):\n",
    "  print(x) "
   ]
  },
  {
   "cell_type": "code",
   "execution_count": 11,
   "id": "94a88acf",
   "metadata": {},
   "outputs": [
    {
     "data": {
      "text/html": [
       "<div>\n",
       "<style scoped>\n",
       "    .dataframe tbody tr th:only-of-type {\n",
       "        vertical-align: middle;\n",
       "    }\n",
       "\n",
       "    .dataframe tbody tr th {\n",
       "        vertical-align: top;\n",
       "    }\n",
       "\n",
       "    .dataframe thead th {\n",
       "        text-align: right;\n",
       "    }\n",
       "</style>\n",
       "<table border=\"1\" class=\"dataframe\">\n",
       "  <thead>\n",
       "    <tr style=\"text-align: right;\">\n",
       "      <th></th>\n",
       "      <th>tktcode</th>\n",
       "      <th>date</th>\n",
       "      <th>price</th>\n",
       "      <th>quantity</th>\n",
       "      <th>Subtotal</th>\n",
       "      <th>product</th>\n",
       "      <th>shop</th>\n",
       "      <th>shop_type</th>\n",
       "      <th>Client</th>\n",
       "      <th>Prod_type</th>\n",
       "    </tr>\n",
       "  </thead>\n",
       "  <tbody>\n",
       "    <tr>\n",
       "      <th>0</th>\n",
       "      <td>tk1</td>\n",
       "      <td>2021-08-18</td>\n",
       "      <td>2.9</td>\n",
       "      <td>10</td>\n",
       "      <td>29.0</td>\n",
       "      <td>Pears</td>\n",
       "      <td>Superama</td>\n",
       "      <td>Supermarket</td>\n",
       "      <td>Robert Smith</td>\n",
       "      <td>Fruit</td>\n",
       "    </tr>\n",
       "    <tr>\n",
       "      <th>1</th>\n",
       "      <td>tk1</td>\n",
       "      <td>2021-08-18</td>\n",
       "      <td>4.5</td>\n",
       "      <td>1</td>\n",
       "      <td>4.5</td>\n",
       "      <td>Green beans</td>\n",
       "      <td>Superama</td>\n",
       "      <td>Supermarket</td>\n",
       "      <td>Robert Smith</td>\n",
       "      <td>Vegetable</td>\n",
       "    </tr>\n",
       "  </tbody>\n",
       "</table>\n",
       "</div>"
      ],
      "text/plain": [
       "  tktcode        date  price  quantity  Subtotal      product      shop  \\\n",
       "0     tk1  2021-08-18    2.9        10      29.0        Pears  Superama   \n",
       "1     tk1  2021-08-18    4.5         1       4.5  Green beans  Superama   \n",
       "\n",
       "     shop_type        Client  Prod_type  \n",
       "0  Supermarket  Robert Smith      Fruit  \n",
       "1  Supermarket  Robert Smith  Vegetable  "
      ]
     },
     "execution_count": 11,
     "metadata": {},
     "output_type": "execute_result"
    }
   ],
   "source": [
    "df = pd.read_csv('../s17_tasca/shopping.csv', engine = 'python')\n",
    "df.drop(['Unnamed: 0'], axis=1, inplace=True)\n",
    "df.head(2)"
   ]
  },
  {
   "cell_type": "code",
   "execution_count": 12,
   "id": "6e11c721",
   "metadata": {},
   "outputs": [],
   "source": [
    "# Will use the pandas database to fill the Purchases collectioon\n",
    "\n",
    "import json\n",
    "records = json.loads(df.T.to_json()).values()"
   ]
  },
  {
   "cell_type": "code",
   "execution_count": null,
   "id": "0dbca4c9",
   "metadata": {},
   "outputs": [],
   "source": [
    "db.Purchases.insert(records)"
   ]
  },
  {
   "cell_type": "code",
   "execution_count": null,
   "id": "75bc5760",
   "metadata": {},
   "outputs": [],
   "source": [
    "# Purchases collection content\n",
    "\n",
    "mycol = db[\"Purchases\"]\n",
    "\n",
    "for x in mycol.find({},{\"_id\":0}):\n",
    "  print(x) "
   ]
  },
  {
   "cell_type": "code",
   "execution_count": 40,
   "id": "b277e0b3",
   "metadata": {},
   "outputs": [
    {
     "data": {
      "text/plain": [
       "<pymongo.results.InsertManyResult at 0x7f9d9df6e800>"
      ]
     },
     "execution_count": 40,
     "metadata": {},
     "output_type": "execute_result"
    }
   ],
   "source": [
    "# Insert extra data insto the database (with no client name to see the result in the pandas frame)\n",
    "mycol = db[\"Purchases\"]\n",
    "\n",
    "mylist = [\n",
    "{\"tktcode\":\"tk6\",\"date\":\"2021-08-21\",\"price\":2.9,\"quantity\":15,\"Subtotal\":43.5,\"product\":\"Pears\",\"shop\":\"Fresh\",\"shop_type\":\"Fruit & Vegetab\",\"Prod_type\":\"Fruit\"},\n",
    "{\"tktcode\":\"tk6\",\"date\":\"2021-08-21\",\"price\":2.5,\"quantity\":10,\"Subtotal\":25.0,\"product\":\"Oranges\",\"shop\":\"Fresh\",\"shop_type\":\"Fruit & Vegetab\",\"Prod_type\":\"Fruit\"},\n",
    "{\"tktcode\":\"tk6\",\"date\":\"2021-08-21\",\"price\":4.5,\"quantity\":7,\"Subtotal\":31.5,\"product\":\"Green beans\",\"shop\":\"Fresh\",\"shop_type\":\"Fruit & Vegetab\",\"Prod_type\":\"Vegetable\"},\n",
    "{\"tktcode\":\"tk6\",\"date\":\"2021-08-21\",\"price\":2.5,\"quantity\":5,\"Subtotal\":12.5,\"product\":\"Potatoes\",\"shop\":\"Fresh\",\"shop_type\":\"Fruit & Vegetab\",\"Prod_type\":\"Vegetable\"}\n",
    "]\n",
    "\n",
    "mycol.insert_many(mylist)"
   ]
  },
  {
   "cell_type": "markdown",
   "id": "b5bcc1a7",
   "metadata": {},
   "source": [
    "<br><br><br><br><br>\n",
    "##### Convert the purchases collection into different panda frames"
   ]
  },
  {
   "cell_type": "code",
   "execution_count": 41,
   "id": "9e467503",
   "metadata": {},
   "outputs": [],
   "source": [
    "collection = db.Purchases\n",
    "data = pd.DataFrame(list(collection.find()))"
   ]
  },
  {
   "cell_type": "code",
   "execution_count": 86,
   "id": "0af6e284",
   "metadata": {},
   "outputs": [
    {
     "data": {
      "text/html": [
       "<div>\n",
       "<style scoped>\n",
       "    .dataframe tbody tr th:only-of-type {\n",
       "        vertical-align: middle;\n",
       "    }\n",
       "\n",
       "    .dataframe tbody tr th {\n",
       "        vertical-align: top;\n",
       "    }\n",
       "\n",
       "    .dataframe thead th {\n",
       "        text-align: right;\n",
       "    }\n",
       "</style>\n",
       "<table border=\"1\" class=\"dataframe\">\n",
       "  <thead>\n",
       "    <tr style=\"text-align: right;\">\n",
       "      <th></th>\n",
       "      <th>_id</th>\n",
       "      <th>tktcode</th>\n",
       "      <th>date</th>\n",
       "      <th>price</th>\n",
       "      <th>quantity</th>\n",
       "      <th>Subtotal</th>\n",
       "      <th>product</th>\n",
       "      <th>shop</th>\n",
       "      <th>shop_type</th>\n",
       "      <th>Client</th>\n",
       "      <th>Prod_type</th>\n",
       "    </tr>\n",
       "  </thead>\n",
       "  <tbody>\n",
       "    <tr>\n",
       "      <th>0</th>\n",
       "      <td>612387845b58440301eb879e</td>\n",
       "      <td>tk1</td>\n",
       "      <td>2021-08-18</td>\n",
       "      <td>2.9</td>\n",
       "      <td>10</td>\n",
       "      <td>29.0</td>\n",
       "      <td>Pears</td>\n",
       "      <td>Superama</td>\n",
       "      <td>Supermarket</td>\n",
       "      <td>Robert Smith</td>\n",
       "      <td>Fruit</td>\n",
       "    </tr>\n",
       "    <tr>\n",
       "      <th>1</th>\n",
       "      <td>612387845b58440301eb879f</td>\n",
       "      <td>tk1</td>\n",
       "      <td>2021-08-18</td>\n",
       "      <td>4.5</td>\n",
       "      <td>1</td>\n",
       "      <td>4.5</td>\n",
       "      <td>Green beans</td>\n",
       "      <td>Superama</td>\n",
       "      <td>Supermarket</td>\n",
       "      <td>Robert Smith</td>\n",
       "      <td>Vegetable</td>\n",
       "    </tr>\n",
       "    <tr>\n",
       "      <th>2</th>\n",
       "      <td>612387845b58440301eb87a0</td>\n",
       "      <td>tk1</td>\n",
       "      <td>2021-08-18</td>\n",
       "      <td>2.5</td>\n",
       "      <td>2</td>\n",
       "      <td>5.0</td>\n",
       "      <td>Potatoes</td>\n",
       "      <td>Superama</td>\n",
       "      <td>Supermarket</td>\n",
       "      <td>Robert Smith</td>\n",
       "      <td>Vegetable</td>\n",
       "    </tr>\n",
       "    <tr>\n",
       "      <th>3</th>\n",
       "      <td>612387845b58440301eb87a1</td>\n",
       "      <td>tk1</td>\n",
       "      <td>2021-08-18</td>\n",
       "      <td>10.5</td>\n",
       "      <td>1</td>\n",
       "      <td>10.5</td>\n",
       "      <td>Cod</td>\n",
       "      <td>Superama</td>\n",
       "      <td>Supermarket</td>\n",
       "      <td>Robert Smith</td>\n",
       "      <td>Fish</td>\n",
       "    </tr>\n",
       "    <tr>\n",
       "      <th>4</th>\n",
       "      <td>612387845b58440301eb87a2</td>\n",
       "      <td>tk1</td>\n",
       "      <td>2021-08-18</td>\n",
       "      <td>3.5</td>\n",
       "      <td>10</td>\n",
       "      <td>35.0</td>\n",
       "      <td>Tonic Water</td>\n",
       "      <td>Superama</td>\n",
       "      <td>Supermarket</td>\n",
       "      <td>Robert Smith</td>\n",
       "      <td>Soft_drink</td>\n",
       "    </tr>\n",
       "  </tbody>\n",
       "</table>\n",
       "</div>"
      ],
      "text/plain": [
       "                        _id tktcode        date  price  quantity  Subtotal  \\\n",
       "0  612387845b58440301eb879e     tk1  2021-08-18    2.9        10      29.0   \n",
       "1  612387845b58440301eb879f     tk1  2021-08-18    4.5         1       4.5   \n",
       "2  612387845b58440301eb87a0     tk1  2021-08-18    2.5         2       5.0   \n",
       "3  612387845b58440301eb87a1     tk1  2021-08-18   10.5         1      10.5   \n",
       "4  612387845b58440301eb87a2     tk1  2021-08-18    3.5        10      35.0   \n",
       "\n",
       "       product      shop    shop_type        Client   Prod_type  \n",
       "0        Pears  Superama  Supermarket  Robert Smith       Fruit  \n",
       "1  Green beans  Superama  Supermarket  Robert Smith   Vegetable  \n",
       "2     Potatoes  Superama  Supermarket  Robert Smith   Vegetable  \n",
       "3          Cod  Superama  Supermarket  Robert Smith        Fish  \n",
       "4  Tonic Water  Superama  Supermarket  Robert Smith  Soft_drink  "
      ]
     },
     "execution_count": 86,
     "metadata": {},
     "output_type": "execute_result"
    }
   ],
   "source": [
    "data.head()"
   ]
  },
  {
   "cell_type": "code",
   "execution_count": 94,
   "id": "58117fe1",
   "metadata": {},
   "outputs": [
    {
     "data": {
      "text/plain": [
       "shop\n",
       "Beat Box     240.0\n",
       "Fresh        709.5\n",
       "Nemo         181.5\n",
       "Superama    1173.3\n",
       "Name: Subtotal, dtype: float64"
      ]
     },
     "execution_count": 94,
     "metadata": {},
     "output_type": "execute_result"
    }
   ],
   "source": [
    "data.groupby(['shop'])['Subtotal'].sum()"
   ]
  },
  {
   "cell_type": "code",
   "execution_count": 96,
   "id": "4ea9476e",
   "metadata": {},
   "outputs": [],
   "source": [
    "#Find all purchases @ Fresh, don't show the ID, date and tiketcode\n",
    " \n",
    "mydoc = mycol.find({ \"shop\": \"Fresh\" },{ \"_id\": 0,\"tktcode\": 0,\"date\": 0 })\n",
    "\n",
    "fresh_list = []\n",
    "for x in mydoc:\n",
    "  fresh_list.append(x) "
   ]
  },
  {
   "cell_type": "code",
   "execution_count": 97,
   "id": "6688dfdf",
   "metadata": {},
   "outputs": [],
   "source": [
    "# Converting to the DataFrame\n",
    "fresh = pd.DataFrame(fresh_list)"
   ]
  },
  {
   "cell_type": "code",
   "execution_count": 98,
   "id": "e27aa1b1",
   "metadata": {},
   "outputs": [
    {
     "data": {
      "text/html": [
       "<div>\n",
       "<style scoped>\n",
       "    .dataframe tbody tr th:only-of-type {\n",
       "        vertical-align: middle;\n",
       "    }\n",
       "\n",
       "    .dataframe tbody tr th {\n",
       "        vertical-align: top;\n",
       "    }\n",
       "\n",
       "    .dataframe thead th {\n",
       "        text-align: right;\n",
       "    }\n",
       "</style>\n",
       "<table border=\"1\" class=\"dataframe\">\n",
       "  <thead>\n",
       "    <tr style=\"text-align: right;\">\n",
       "      <th></th>\n",
       "      <th>price</th>\n",
       "      <th>quantity</th>\n",
       "      <th>Subtotal</th>\n",
       "      <th>product</th>\n",
       "      <th>shop</th>\n",
       "      <th>shop_type</th>\n",
       "      <th>Client</th>\n",
       "      <th>Prod_type</th>\n",
       "    </tr>\n",
       "  </thead>\n",
       "  <tbody>\n",
       "    <tr>\n",
       "      <th>0</th>\n",
       "      <td>2.9</td>\n",
       "      <td>10</td>\n",
       "      <td>29.0</td>\n",
       "      <td>Pears</td>\n",
       "      <td>Fresh</td>\n",
       "      <td>Fruit &amp; Vegetab</td>\n",
       "      <td>Beth Gibbons</td>\n",
       "      <td>Fruit</td>\n",
       "    </tr>\n",
       "    <tr>\n",
       "      <th>1</th>\n",
       "      <td>2.5</td>\n",
       "      <td>10</td>\n",
       "      <td>25.0</td>\n",
       "      <td>Oranges</td>\n",
       "      <td>Fresh</td>\n",
       "      <td>Fruit &amp; Vegetab</td>\n",
       "      <td>Beth Gibbons</td>\n",
       "      <td>Fruit</td>\n",
       "    </tr>\n",
       "    <tr>\n",
       "      <th>2</th>\n",
       "      <td>4.5</td>\n",
       "      <td>10</td>\n",
       "      <td>45.0</td>\n",
       "      <td>Green beans</td>\n",
       "      <td>Fresh</td>\n",
       "      <td>Fruit &amp; Vegetab</td>\n",
       "      <td>Beth Gibbons</td>\n",
       "      <td>Vegetable</td>\n",
       "    </tr>\n",
       "    <tr>\n",
       "      <th>3</th>\n",
       "      <td>2.5</td>\n",
       "      <td>10</td>\n",
       "      <td>25.0</td>\n",
       "      <td>Potatoes</td>\n",
       "      <td>Fresh</td>\n",
       "      <td>Fruit &amp; Vegetab</td>\n",
       "      <td>Beth Gibbons</td>\n",
       "      <td>Vegetable</td>\n",
       "    </tr>\n",
       "    <tr>\n",
       "      <th>4</th>\n",
       "      <td>7.5</td>\n",
       "      <td>10</td>\n",
       "      <td>75.0</td>\n",
       "      <td>Wallnuts</td>\n",
       "      <td>Fresh</td>\n",
       "      <td>Fruit &amp; Vegetab</td>\n",
       "      <td>Beth Gibbons</td>\n",
       "      <td>Nuts</td>\n",
       "    </tr>\n",
       "  </tbody>\n",
       "</table>\n",
       "</div>"
      ],
      "text/plain": [
       "   price  quantity  Subtotal      product   shop        shop_type  \\\n",
       "0    2.9        10      29.0        Pears  Fresh  Fruit & Vegetab   \n",
       "1    2.5        10      25.0      Oranges  Fresh  Fruit & Vegetab   \n",
       "2    4.5        10      45.0  Green beans  Fresh  Fruit & Vegetab   \n",
       "3    2.5        10      25.0     Potatoes  Fresh  Fruit & Vegetab   \n",
       "4    7.5        10      75.0     Wallnuts  Fresh  Fruit & Vegetab   \n",
       "\n",
       "         Client  Prod_type  \n",
       "0  Beth Gibbons      Fruit  \n",
       "1  Beth Gibbons      Fruit  \n",
       "2  Beth Gibbons  Vegetable  \n",
       "3  Beth Gibbons  Vegetable  \n",
       "4  Beth Gibbons       Nuts  "
      ]
     },
     "execution_count": 98,
     "metadata": {},
     "output_type": "execute_result"
    }
   ],
   "source": [
    "fresh.head()"
   ]
  },
  {
   "cell_type": "code",
   "execution_count": 99,
   "id": "486e9efa",
   "metadata": {},
   "outputs": [
    {
     "data": {
      "text/html": [
       "<div>\n",
       "<style scoped>\n",
       "    .dataframe tbody tr th:only-of-type {\n",
       "        vertical-align: middle;\n",
       "    }\n",
       "\n",
       "    .dataframe tbody tr th {\n",
       "        vertical-align: top;\n",
       "    }\n",
       "\n",
       "    .dataframe thead th {\n",
       "        text-align: right;\n",
       "    }\n",
       "</style>\n",
       "<table border=\"1\" class=\"dataframe\">\n",
       "  <thead>\n",
       "    <tr style=\"text-align: right;\">\n",
       "      <th></th>\n",
       "      <th>price</th>\n",
       "      <th>quantity</th>\n",
       "      <th>Subtotal</th>\n",
       "      <th>product</th>\n",
       "      <th>shop</th>\n",
       "      <th>shop_type</th>\n",
       "      <th>Client</th>\n",
       "      <th>Prod_type</th>\n",
       "    </tr>\n",
       "  </thead>\n",
       "  <tbody>\n",
       "    <tr>\n",
       "      <th>count</th>\n",
       "      <td>19.000000</td>\n",
       "      <td>19.000000</td>\n",
       "      <td>19.000000</td>\n",
       "      <td>19</td>\n",
       "      <td>19</td>\n",
       "      <td>19</td>\n",
       "      <td>15</td>\n",
       "      <td>19</td>\n",
       "    </tr>\n",
       "    <tr>\n",
       "      <th>unique</th>\n",
       "      <td>NaN</td>\n",
       "      <td>NaN</td>\n",
       "      <td>NaN</td>\n",
       "      <td>5</td>\n",
       "      <td>1</td>\n",
       "      <td>1</td>\n",
       "      <td>1</td>\n",
       "      <td>3</td>\n",
       "    </tr>\n",
       "    <tr>\n",
       "      <th>top</th>\n",
       "      <td>NaN</td>\n",
       "      <td>NaN</td>\n",
       "      <td>NaN</td>\n",
       "      <td>Oranges</td>\n",
       "      <td>Fresh</td>\n",
       "      <td>Fruit &amp; Vegetab</td>\n",
       "      <td>Beth Gibbons</td>\n",
       "      <td>Fruit</td>\n",
       "    </tr>\n",
       "    <tr>\n",
       "      <th>freq</th>\n",
       "      <td>NaN</td>\n",
       "      <td>NaN</td>\n",
       "      <td>NaN</td>\n",
       "      <td>4</td>\n",
       "      <td>19</td>\n",
       "      <td>19</td>\n",
       "      <td>15</td>\n",
       "      <td>8</td>\n",
       "    </tr>\n",
       "    <tr>\n",
       "      <th>mean</th>\n",
       "      <td>3.794737</td>\n",
       "      <td>9.842105</td>\n",
       "      <td>37.342105</td>\n",
       "      <td>NaN</td>\n",
       "      <td>NaN</td>\n",
       "      <td>NaN</td>\n",
       "      <td>NaN</td>\n",
       "      <td>NaN</td>\n",
       "    </tr>\n",
       "    <tr>\n",
       "      <th>std</th>\n",
       "      <td>1.822536</td>\n",
       "      <td>1.803181</td>\n",
       "      <td>18.848116</td>\n",
       "      <td>NaN</td>\n",
       "      <td>NaN</td>\n",
       "      <td>NaN</td>\n",
       "      <td>NaN</td>\n",
       "      <td>NaN</td>\n",
       "    </tr>\n",
       "    <tr>\n",
       "      <th>min</th>\n",
       "      <td>2.500000</td>\n",
       "      <td>5.000000</td>\n",
       "      <td>12.500000</td>\n",
       "      <td>NaN</td>\n",
       "      <td>NaN</td>\n",
       "      <td>NaN</td>\n",
       "      <td>NaN</td>\n",
       "      <td>NaN</td>\n",
       "    </tr>\n",
       "    <tr>\n",
       "      <th>25%</th>\n",
       "      <td>2.500000</td>\n",
       "      <td>10.000000</td>\n",
       "      <td>25.000000</td>\n",
       "      <td>NaN</td>\n",
       "      <td>NaN</td>\n",
       "      <td>NaN</td>\n",
       "      <td>NaN</td>\n",
       "      <td>NaN</td>\n",
       "    </tr>\n",
       "    <tr>\n",
       "      <th>50%</th>\n",
       "      <td>2.900000</td>\n",
       "      <td>10.000000</td>\n",
       "      <td>29.000000</td>\n",
       "      <td>NaN</td>\n",
       "      <td>NaN</td>\n",
       "      <td>NaN</td>\n",
       "      <td>NaN</td>\n",
       "      <td>NaN</td>\n",
       "    </tr>\n",
       "    <tr>\n",
       "      <th>75%</th>\n",
       "      <td>4.500000</td>\n",
       "      <td>10.000000</td>\n",
       "      <td>45.000000</td>\n",
       "      <td>NaN</td>\n",
       "      <td>NaN</td>\n",
       "      <td>NaN</td>\n",
       "      <td>NaN</td>\n",
       "      <td>NaN</td>\n",
       "    </tr>\n",
       "    <tr>\n",
       "      <th>max</th>\n",
       "      <td>7.500000</td>\n",
       "      <td>15.000000</td>\n",
       "      <td>75.000000</td>\n",
       "      <td>NaN</td>\n",
       "      <td>NaN</td>\n",
       "      <td>NaN</td>\n",
       "      <td>NaN</td>\n",
       "      <td>NaN</td>\n",
       "    </tr>\n",
       "  </tbody>\n",
       "</table>\n",
       "</div>"
      ],
      "text/plain": [
       "            price   quantity   Subtotal  product   shop        shop_type  \\\n",
       "count   19.000000  19.000000  19.000000       19     19               19   \n",
       "unique        NaN        NaN        NaN        5      1                1   \n",
       "top           NaN        NaN        NaN  Oranges  Fresh  Fruit & Vegetab   \n",
       "freq          NaN        NaN        NaN        4     19               19   \n",
       "mean     3.794737   9.842105  37.342105      NaN    NaN              NaN   \n",
       "std      1.822536   1.803181  18.848116      NaN    NaN              NaN   \n",
       "min      2.500000   5.000000  12.500000      NaN    NaN              NaN   \n",
       "25%      2.500000  10.000000  25.000000      NaN    NaN              NaN   \n",
       "50%      2.900000  10.000000  29.000000      NaN    NaN              NaN   \n",
       "75%      4.500000  10.000000  45.000000      NaN    NaN              NaN   \n",
       "max      7.500000  15.000000  75.000000      NaN    NaN              NaN   \n",
       "\n",
       "              Client Prod_type  \n",
       "count             15        19  \n",
       "unique             1         3  \n",
       "top     Beth Gibbons     Fruit  \n",
       "freq              15         8  \n",
       "mean             NaN       NaN  \n",
       "std              NaN       NaN  \n",
       "min              NaN       NaN  \n",
       "25%              NaN       NaN  \n",
       "50%              NaN       NaN  \n",
       "75%              NaN       NaN  \n",
       "max              NaN       NaN  "
      ]
     },
     "execution_count": 99,
     "metadata": {},
     "output_type": "execute_result"
    }
   ],
   "source": [
    "fresh.describe(include='all')"
   ]
  },
  {
   "cell_type": "code",
   "execution_count": 75,
   "id": "0eb9f025",
   "metadata": {},
   "outputs": [
    {
     "data": {
      "text/html": [
       "<div>\n",
       "<style scoped>\n",
       "    .dataframe tbody tr th:only-of-type {\n",
       "        vertical-align: middle;\n",
       "    }\n",
       "\n",
       "    .dataframe tbody tr th {\n",
       "        vertical-align: top;\n",
       "    }\n",
       "\n",
       "    .dataframe thead th {\n",
       "        text-align: right;\n",
       "    }\n",
       "</style>\n",
       "<table border=\"1\" class=\"dataframe\">\n",
       "  <thead>\n",
       "    <tr style=\"text-align: right;\">\n",
       "      <th></th>\n",
       "      <th>Subtotal</th>\n",
       "      <th>product</th>\n",
       "      <th>shop</th>\n",
       "      <th>Client</th>\n",
       "    </tr>\n",
       "  </thead>\n",
       "  <tbody>\n",
       "    <tr>\n",
       "      <th>0</th>\n",
       "      <td>29.0</td>\n",
       "      <td>Pears</td>\n",
       "      <td>Superama</td>\n",
       "      <td>Robert Smith</td>\n",
       "    </tr>\n",
       "    <tr>\n",
       "      <th>1</th>\n",
       "      <td>35.0</td>\n",
       "      <td>Tonic Water</td>\n",
       "      <td>Superama</td>\n",
       "      <td>Robert Smith</td>\n",
       "    </tr>\n",
       "    <tr>\n",
       "      <th>2</th>\n",
       "      <td>37.5</td>\n",
       "      <td>Soda</td>\n",
       "      <td>Superama</td>\n",
       "      <td>Robert Smith</td>\n",
       "    </tr>\n",
       "    <tr>\n",
       "      <th>3</th>\n",
       "      <td>29.0</td>\n",
       "      <td>Pears</td>\n",
       "      <td>Fresh</td>\n",
       "      <td>Beth Gibbons</td>\n",
       "    </tr>\n",
       "    <tr>\n",
       "      <th>4</th>\n",
       "      <td>25.0</td>\n",
       "      <td>Oranges</td>\n",
       "      <td>Fresh</td>\n",
       "      <td>Beth Gibbons</td>\n",
       "    </tr>\n",
       "  </tbody>\n",
       "</table>\n",
       "</div>"
      ],
      "text/plain": [
       "   Subtotal      product      shop        Client\n",
       "0      29.0        Pears  Superama  Robert Smith\n",
       "1      35.0  Tonic Water  Superama  Robert Smith\n",
       "2      37.5         Soda  Superama  Robert Smith\n",
       "3      29.0        Pears     Fresh  Beth Gibbons\n",
       "4      25.0      Oranges     Fresh  Beth Gibbons"
      ]
     },
     "execution_count": 75,
     "metadata": {},
     "output_type": "execute_result"
    }
   ],
   "source": [
    "#Find all purchases where +20 was spent on a single product\n",
    "mydoc = mycol.find({ \"Subtotal\": { \"$gt\": 20 } },{ \"_id\": 0 ,\"product\": 1,\"Subtotal\": 1, \"shop\": 1,\"Client\": 1})\n",
    "\n",
    "m20list = []\n",
    "for x in mydoc:\n",
    "  m20list.append(x)\n",
    "\n",
    "# Converting to the DataFrame\n",
    "m20 = pd.DataFrame(m20list)\n",
    "m20.head()"
   ]
  },
  {
   "cell_type": "code",
   "execution_count": 92,
   "id": "3ef911f6",
   "metadata": {},
   "outputs": [
    {
     "data": {
      "text/plain": [
       "Client\n",
       "Beth Gibbons    777.0\n",
       "Jo Grant        108.0\n",
       "Max Ritter      598.8\n",
       "Robert Smith    304.5\n",
       "Name: Subtotal, dtype: float64"
      ]
     },
     "execution_count": 92,
     "metadata": {},
     "output_type": "execute_result"
    }
   ],
   "source": [
    "m20.groupby(['Client'])['Subtotal'].sum()"
   ]
  },
  {
   "cell_type": "code",
   "execution_count": 85,
   "id": "0656e26b",
   "metadata": {},
   "outputs": [
    {
     "data": {
      "text/html": [
       "<div>\n",
       "<style scoped>\n",
       "    .dataframe tbody tr th:only-of-type {\n",
       "        vertical-align: middle;\n",
       "    }\n",
       "\n",
       "    .dataframe tbody tr th {\n",
       "        vertical-align: top;\n",
       "    }\n",
       "\n",
       "    .dataframe thead th {\n",
       "        text-align: right;\n",
       "    }\n",
       "</style>\n",
       "<table border=\"1\" class=\"dataframe\">\n",
       "  <thead>\n",
       "    <tr style=\"text-align: right;\">\n",
       "      <th></th>\n",
       "      <th>Subtotal</th>\n",
       "      <th>product</th>\n",
       "      <th>shop</th>\n",
       "      <th>Client</th>\n",
       "    </tr>\n",
       "  </thead>\n",
       "  <tbody>\n",
       "    <tr>\n",
       "      <th>count</th>\n",
       "      <td>54.000000</td>\n",
       "      <td>54</td>\n",
       "      <td>54</td>\n",
       "      <td>51</td>\n",
       "    </tr>\n",
       "    <tr>\n",
       "      <th>unique</th>\n",
       "      <td>NaN</td>\n",
       "      <td>12</td>\n",
       "      <td>4</td>\n",
       "      <td>4</td>\n",
       "    </tr>\n",
       "    <tr>\n",
       "      <th>top</th>\n",
       "      <td>NaN</td>\n",
       "      <td>Pears</td>\n",
       "      <td>Superama</td>\n",
       "      <td>Beth Gibbons</td>\n",
       "    </tr>\n",
       "    <tr>\n",
       "      <th>freq</th>\n",
       "      <td>NaN</td>\n",
       "      <td>10</td>\n",
       "      <td>27</td>\n",
       "      <td>21</td>\n",
       "    </tr>\n",
       "    <tr>\n",
       "      <th>mean</th>\n",
       "      <td>34.968519</td>\n",
       "      <td>NaN</td>\n",
       "      <td>NaN</td>\n",
       "      <td>NaN</td>\n",
       "    </tr>\n",
       "    <tr>\n",
       "      <th>std</th>\n",
       "      <td>12.895133</td>\n",
       "      <td>NaN</td>\n",
       "      <td>NaN</td>\n",
       "      <td>NaN</td>\n",
       "    </tr>\n",
       "    <tr>\n",
       "      <th>min</th>\n",
       "      <td>21.000000</td>\n",
       "      <td>NaN</td>\n",
       "      <td>NaN</td>\n",
       "      <td>NaN</td>\n",
       "    </tr>\n",
       "    <tr>\n",
       "      <th>25%</th>\n",
       "      <td>25.000000</td>\n",
       "      <td>NaN</td>\n",
       "      <td>NaN</td>\n",
       "      <td>NaN</td>\n",
       "    </tr>\n",
       "    <tr>\n",
       "      <th>50%</th>\n",
       "      <td>33.000000</td>\n",
       "      <td>NaN</td>\n",
       "      <td>NaN</td>\n",
       "      <td>NaN</td>\n",
       "    </tr>\n",
       "    <tr>\n",
       "      <th>75%</th>\n",
       "      <td>37.500000</td>\n",
       "      <td>NaN</td>\n",
       "      <td>NaN</td>\n",
       "      <td>NaN</td>\n",
       "    </tr>\n",
       "    <tr>\n",
       "      <th>max</th>\n",
       "      <td>75.000000</td>\n",
       "      <td>NaN</td>\n",
       "      <td>NaN</td>\n",
       "      <td>NaN</td>\n",
       "    </tr>\n",
       "  </tbody>\n",
       "</table>\n",
       "</div>"
      ],
      "text/plain": [
       "         Subtotal product      shop        Client\n",
       "count   54.000000      54        54            51\n",
       "unique        NaN      12         4             4\n",
       "top           NaN   Pears  Superama  Beth Gibbons\n",
       "freq          NaN      10        27            21\n",
       "mean    34.968519     NaN       NaN           NaN\n",
       "std     12.895133     NaN       NaN           NaN\n",
       "min     21.000000     NaN       NaN           NaN\n",
       "25%     25.000000     NaN       NaN           NaN\n",
       "50%     33.000000     NaN       NaN           NaN\n",
       "75%     37.500000     NaN       NaN           NaN\n",
       "max     75.000000     NaN       NaN           NaN"
      ]
     },
     "execution_count": 85,
     "metadata": {},
     "output_type": "execute_result"
    }
   ],
   "source": [
    "m20.describe(include='all')"
   ]
  },
  {
   "cell_type": "code",
   "execution_count": 82,
   "id": "e74dc44d",
   "metadata": {},
   "outputs": [
    {
     "name": "stdout",
     "output_type": "stream",
     "text": [
      "<class 'pandas.core.frame.DataFrame'>\n",
      "RangeIndex: 54 entries, 0 to 53\n",
      "Data columns (total 4 columns):\n",
      " #   Column    Non-Null Count  Dtype  \n",
      "---  ------    --------------  -----  \n",
      " 0   Subtotal  54 non-null     float64\n",
      " 1   product   54 non-null     object \n",
      " 2   shop      54 non-null     object \n",
      " 3   Client    51 non-null     object \n",
      "dtypes: float64(1), object(3)\n",
      "memory usage: 1.8+ KB\n"
     ]
    }
   ],
   "source": [
    "m20.info()"
   ]
  },
  {
   "cell_type": "code",
   "execution_count": null,
   "id": "89eb1d2d",
   "metadata": {},
   "outputs": [],
   "source": []
  }
 ],
 "metadata": {
  "kernelspec": {
   "display_name": "Python 3",
   "language": "python",
   "name": "python3"
  },
  "language_info": {
   "codemirror_mode": {
    "name": "ipython",
    "version": 3
   },
   "file_extension": ".py",
   "mimetype": "text/x-python",
   "name": "python",
   "nbconvert_exporter": "python",
   "pygments_lexer": "ipython3",
   "version": "3.8.5"
  }
 },
 "nbformat": 4,
 "nbformat_minor": 5
}
