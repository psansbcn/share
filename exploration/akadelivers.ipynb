{
  "nbformat": 4,
  "nbformat_minor": 0,
  "metadata": {
    "colab": {
      "name": "akadelivers.ipynb",
      "provenance": [],
      "collapsed_sections": [],
      "toc_visible": true
    },
    "kernelspec": {
      "name": "python3",
      "display_name": "Python 3"
    },
    "language_info": {
      "name": "python"
    }
  },
  "cells": [
    {
      "cell_type": "markdown",
      "metadata": {
        "id": "LeZbbV2wm2cO"
      },
      "source": [
        "# **Akadelivers**"
      ]
    },
    {
      "cell_type": "code",
      "metadata": {
        "id": "xHF6Ss_EmtDW"
      },
      "source": [
        "#import necessary libraries\n",
        "import sys\n",
        "import pandas as pd \n",
        "import seaborn as sns\n",
        "import matplotlib.pyplot as plt\n",
        "%matplotlib inline\n",
        "from geopy.geocoders import Nominatim\n",
        "\n",
        "import time\n",
        "from datetime import datetime\n",
        "from datetime import date\n",
        "import string"
      ],
      "execution_count": null,
      "outputs": []
    },
    {
      "cell_type": "code",
      "metadata": {
        "colab": {
          "base_uri": "https://localhost:8080/",
          "height": 424
        },
        "id": "pkqJDofamvPi",
        "outputId": "772a0dc2-56c9-4b9a-8a79-e7ac5191a718"
      },
      "source": [
        "#load train database\n",
        "df=pd.read_csv('/content/drive/MyDrive/akadelivers/train.csv')\n",
        "df"
      ],
      "execution_count": null,
      "outputs": [
        {
          "output_type": "execute_result",
          "data": {
            "text/html": [
              "<div>\n",
              "<style scoped>\n",
              "    .dataframe tbody tr th:only-of-type {\n",
              "        vertical-align: middle;\n",
              "    }\n",
              "\n",
              "    .dataframe tbody tr th {\n",
              "        vertical-align: top;\n",
              "    }\n",
              "\n",
              "    .dataframe thead th {\n",
              "        text-align: right;\n",
              "    }\n",
              "</style>\n",
              "<table border=\"1\" class=\"dataframe\">\n",
              "  <thead>\n",
              "    <tr style=\"text-align: right;\">\n",
              "      <th></th>\n",
              "      <th>order_id</th>\n",
              "      <th>local_time</th>\n",
              "      <th>country_code</th>\n",
              "      <th>store_address</th>\n",
              "      <th>payment_status</th>\n",
              "      <th>n_of_products</th>\n",
              "      <th>products_total</th>\n",
              "      <th>final_status</th>\n",
              "    </tr>\n",
              "  </thead>\n",
              "  <tbody>\n",
              "    <tr>\n",
              "      <th>0</th>\n",
              "      <td>33446280</td>\n",
              "      <td>14:11:09</td>\n",
              "      <td>AR</td>\n",
              "      <td>55379</td>\n",
              "      <td>PAID</td>\n",
              "      <td>2</td>\n",
              "      <td>11.88</td>\n",
              "      <td>DeliveredStatus</td>\n",
              "    </tr>\n",
              "    <tr>\n",
              "      <th>1</th>\n",
              "      <td>33107339</td>\n",
              "      <td>11:47:41</td>\n",
              "      <td>GT</td>\n",
              "      <td>23487</td>\n",
              "      <td>PAID</td>\n",
              "      <td>2</td>\n",
              "      <td>5.20</td>\n",
              "      <td>DeliveredStatus</td>\n",
              "    </tr>\n",
              "    <tr>\n",
              "      <th>2</th>\n",
              "      <td>32960645</td>\n",
              "      <td>11:53:53</td>\n",
              "      <td>CR</td>\n",
              "      <td>62229</td>\n",
              "      <td>PAID</td>\n",
              "      <td>1</td>\n",
              "      <td>6.03</td>\n",
              "      <td>DeliveredStatus</td>\n",
              "    </tr>\n",
              "    <tr>\n",
              "      <th>3</th>\n",
              "      <td>32089564</td>\n",
              "      <td>20:15:21</td>\n",
              "      <td>ES</td>\n",
              "      <td>29446</td>\n",
              "      <td>PAID</td>\n",
              "      <td>6</td>\n",
              "      <td>6.37</td>\n",
              "      <td>DeliveredStatus</td>\n",
              "    </tr>\n",
              "    <tr>\n",
              "      <th>4</th>\n",
              "      <td>32157739</td>\n",
              "      <td>21:32:16</td>\n",
              "      <td>AR</td>\n",
              "      <td>13917</td>\n",
              "      <td>PAID</td>\n",
              "      <td>1</td>\n",
              "      <td>5.36</td>\n",
              "      <td>CanceledStatus</td>\n",
              "    </tr>\n",
              "    <tr>\n",
              "      <th>...</th>\n",
              "      <td>...</td>\n",
              "      <td>...</td>\n",
              "      <td>...</td>\n",
              "      <td>...</td>\n",
              "      <td>...</td>\n",
              "      <td>...</td>\n",
              "      <td>...</td>\n",
              "      <td>...</td>\n",
              "    </tr>\n",
              "    <tr>\n",
              "      <th>54325</th>\n",
              "      <td>33443728</td>\n",
              "      <td>13:54:33</td>\n",
              "      <td>AR</td>\n",
              "      <td>63825</td>\n",
              "      <td>PAID</td>\n",
              "      <td>2</td>\n",
              "      <td>10.39</td>\n",
              "      <td>DeliveredStatus</td>\n",
              "    </tr>\n",
              "    <tr>\n",
              "      <th>54326</th>\n",
              "      <td>33499561</td>\n",
              "      <td>17:16:09</td>\n",
              "      <td>AR</td>\n",
              "      <td>27741</td>\n",
              "      <td>PAID</td>\n",
              "      <td>1</td>\n",
              "      <td>9.07</td>\n",
              "      <td>DeliveredStatus</td>\n",
              "    </tr>\n",
              "    <tr>\n",
              "      <th>54327</th>\n",
              "      <td>32895248</td>\n",
              "      <td>20:14:59</td>\n",
              "      <td>PA</td>\n",
              "      <td>65895</td>\n",
              "      <td>PAID</td>\n",
              "      <td>2</td>\n",
              "      <td>1.65</td>\n",
              "      <td>DeliveredStatus</td>\n",
              "    </tr>\n",
              "    <tr>\n",
              "      <th>54328</th>\n",
              "      <td>32792276</td>\n",
              "      <td>13:24:05</td>\n",
              "      <td>ES</td>\n",
              "      <td>20134</td>\n",
              "      <td>PAID</td>\n",
              "      <td>6</td>\n",
              "      <td>8.04</td>\n",
              "      <td>DeliveredStatus</td>\n",
              "    </tr>\n",
              "    <tr>\n",
              "      <th>54329</th>\n",
              "      <td>32695191</td>\n",
              "      <td>12:21:30</td>\n",
              "      <td>PE</td>\n",
              "      <td>46853</td>\n",
              "      <td>PAID</td>\n",
              "      <td>2</td>\n",
              "      <td>12.01</td>\n",
              "      <td>DeliveredStatus</td>\n",
              "    </tr>\n",
              "  </tbody>\n",
              "</table>\n",
              "<p>54330 rows × 8 columns</p>\n",
              "</div>"
            ],
            "text/plain": [
              "       order_id local_time  ... products_total     final_status\n",
              "0      33446280   14:11:09  ...          11.88  DeliveredStatus\n",
              "1      33107339   11:47:41  ...           5.20  DeliveredStatus\n",
              "2      32960645   11:53:53  ...           6.03  DeliveredStatus\n",
              "3      32089564   20:15:21  ...           6.37  DeliveredStatus\n",
              "4      32157739   21:32:16  ...           5.36   CanceledStatus\n",
              "...         ...        ...  ...            ...              ...\n",
              "54325  33443728   13:54:33  ...          10.39  DeliveredStatus\n",
              "54326  33499561   17:16:09  ...           9.07  DeliveredStatus\n",
              "54327  32895248   20:14:59  ...           1.65  DeliveredStatus\n",
              "54328  32792276   13:24:05  ...           8.04  DeliveredStatus\n",
              "54329  32695191   12:21:30  ...          12.01  DeliveredStatus\n",
              "\n",
              "[54330 rows x 8 columns]"
            ]
          },
          "metadata": {},
          "execution_count": 2
        }
      ]
    },
    {
      "cell_type": "code",
      "metadata": {
        "id": "IG4Ju249pFph",
        "colab": {
          "base_uri": "https://localhost:8080/"
        },
        "outputId": "c85a2045-37b2-44d3-d867-2e4342c915fb"
      },
      "source": [
        "#delete the last emty rows\n",
        "df.dropna(axis=0, subset=['order_id'],inplace=True)\n",
        "#check for NaN values\n",
        "df.isnull().sum()"
      ],
      "execution_count": null,
      "outputs": [
        {
          "output_type": "execute_result",
          "data": {
            "text/plain": [
              "order_id          0\n",
              "local_time        0\n",
              "country_code      0\n",
              "store_address     0\n",
              "payment_status    0\n",
              "n_of_products     0\n",
              "products_total    0\n",
              "final_status      0\n",
              "dtype: int64"
            ]
          },
          "metadata": {},
          "execution_count": 3
        }
      ]
    },
    {
      "cell_type": "markdown",
      "metadata": {
        "id": "HjSaStXgsfsk"
      },
      "source": [
        "## Objetivos"
      ]
    },
    {
      "cell_type": "markdown",
      "metadata": {
        "id": "2544xsWhsqLZ"
      },
      "source": [
        "### 1. ¿Cuáles son los 3 países en los que más pedidos se realizan?"
      ]
    },
    {
      "cell_type": "code",
      "metadata": {
        "id": "jF-RDy83q18G",
        "colab": {
          "base_uri": "https://localhost:8080/",
          "height": 422
        },
        "outputId": "258caaed-ca72-454c-acd3-47144a3820f8"
      },
      "source": [
        "\n",
        "fig, ax = plt.subplots(figsize=(12,6))\n",
        "df['country_code'].value_counts(sort=True).nlargest(10).plot.bar()\n",
        "ax.spines['right'].set_visible(False)\n",
        "ax.spines['top'].set_visible(False)\n",
        "ax.set_title(\"Pedidos por hora en España\",fontsize=20)\n",
        "ax.set_ylabel(\"Porcentaje (%)\",fontsize=15)\n",
        "ax.set_xlabel(\"Horas\",fontsize=15)\n",
        "ax.tick_params(labelsize=12)"
      ],
      "execution_count": null,
      "outputs": [
        {
          "output_type": "display_data",
          "data": {
            "image/png": "[encoded data removed]",
            "text/plain": [
              "<Figure size 864x432 with 1 Axes>"
            ]
          },
          "metadata": {
            "needs_background": "light"
          }
        }
      ]
    },
    {
      "cell_type": "code",
      "metadata": {
        "id": "Kt9iwTAbubmf"
      },
      "source": [
        "#get a new dataframe only with the total deliveries\n",
        "dfmap=df['country_code'].value_counts()\n",
        "dfmap=pd.DataFrame(dfmap).reset_index()\n",
        "dfmap.columns = ['country_code','total']"
      ],
      "execution_count": null,
      "outputs": []
    },
    {
      "cell_type": "code",
      "metadata": {
        "id": "pG8wlkUJ10sz"
      },
      "source": [
        "# Find geolocation and country nami in Spanish\n",
        "geolocator = Nominatim(user_agent=\"akadelivers1\")\n",
        "def longitude(n):\n",
        "    rr=geolocator.geocode(n)\n",
        "    lon=rr.longitude\n",
        "    return lon\n",
        "def latitude(m):\n",
        "    ss=geolocator.geocode(m)\n",
        "    lat=ss.latitude\n",
        "    return lat\n",
        "def name(nm):\n",
        "    tt=geolocator.geocode(nm,  language='es')[0]\n",
        "    return tt\n",
        "dfmap['lon'] = dfmap['country_code'].apply(longitude)\n",
        "dfmap['lat'] = dfmap['country_code'].apply(latitude)\n",
        "dfmap['Country'] = dfmap['country_code'].apply(name)"
      ],
      "execution_count": null,
      "outputs": []
    },
    {
      "cell_type": "code",
      "metadata": {
        "id": "mpUByguFwcjs",
        "colab": {
          "base_uri": "https://localhost:8080/",
          "height": 143
        },
        "outputId": "ebdae560-dece-440f-f0d1-62ccb3d192b3"
      },
      "source": [
        "dfmap.head(3)"
      ],
      "execution_count": null,
      "outputs": [
        {
          "output_type": "execute_result",
          "data": {
            "text/html": [
              "<div>\n",
              "<style scoped>\n",
              "    .dataframe tbody tr th:only-of-type {\n",
              "        vertical-align: middle;\n",
              "    }\n",
              "\n",
              "    .dataframe tbody tr th {\n",
              "        vertical-align: top;\n",
              "    }\n",
              "\n",
              "    .dataframe thead th {\n",
              "        text-align: right;\n",
              "    }\n",
              "</style>\n",
              "<table border=\"1\" class=\"dataframe\">\n",
              "  <thead>\n",
              "    <tr style=\"text-align: right;\">\n",
              "      <th></th>\n",
              "      <th>country_code</th>\n",
              "      <th>total</th>\n",
              "      <th>lon</th>\n",
              "      <th>lat</th>\n",
              "      <th>Country</th>\n",
              "    </tr>\n",
              "  </thead>\n",
              "  <tbody>\n",
              "    <tr>\n",
              "      <th>0</th>\n",
              "      <td>AR</td>\n",
              "      <td>11854</td>\n",
              "      <td>-64.967282</td>\n",
              "      <td>-34.996496</td>\n",
              "      <td>Argentina</td>\n",
              "    </tr>\n",
              "    <tr>\n",
              "      <th>1</th>\n",
              "      <td>ES</td>\n",
              "      <td>11554</td>\n",
              "      <td>-4.837979</td>\n",
              "      <td>39.326068</td>\n",
              "      <td>España</td>\n",
              "    </tr>\n",
              "    <tr>\n",
              "      <th>2</th>\n",
              "      <td>TR</td>\n",
              "      <td>5696</td>\n",
              "      <td>34.924965</td>\n",
              "      <td>38.959759</td>\n",
              "      <td>Turquía</td>\n",
              "    </tr>\n",
              "  </tbody>\n",
              "</table>\n",
              "</div>"
            ],
            "text/plain": [
              "  country_code  total        lon        lat    Country\n",
              "0           AR  11854 -64.967282 -34.996496  Argentina\n",
              "1           ES  11554  -4.837979  39.326068     España\n",
              "2           TR   5696  34.924965  38.959759    Turquía"
            ]
          },
          "metadata": {},
          "execution_count": 7
        }
      ]
    },
    {
      "cell_type": "code",
      "metadata": {
        "id": "TVMvRBwndYQJ",
        "colab": {
          "base_uri": "https://localhost:8080/"
        },
        "outputId": "bca2b0c3-fc0a-4f7d-976e-e4c5da98e17d"
      },
      "source": [
        "print('Los tres países con el mayor número de entregas son:')\n",
        "print(' - ',str(dfmap['Country'][0])+ ' con un total de ' + str(dfmap['total'][0]) + ' entregas')\n",
        "print(' - ',str(dfmap['Country'][1])+ ' con un total de ' + str(dfmap['total'][1]) + ' entregas')\n",
        "print(' - ',str(dfmap['Country'][2])+ ' con un total de ' + str(dfmap['total'][2]) + ' entregas')"
      ],
      "execution_count": null,
      "outputs": [
        {
          "output_type": "stream",
          "name": "stdout",
          "text": [
            "Los tres países con el mayor número de entregas son:\n",
            " -  Argentina con un total de 11854 entregas\n",
            " -  España con un total de 11554 entregas\n",
            " -  Turquía con un total de 5696 entregas\n"
          ]
        }
      ]
    },
    {
      "cell_type": "code",
      "metadata": {
        "id": "zjIFMmgDw1aF",
        "colab": {
          "base_uri": "https://localhost:8080/",
          "height": 562
        },
        "outputId": "5d2a712a-a735-4ab9-a8b5-42a757cffc7b"
      },
      "source": [
        "import plotly.graph_objects as go\n",
        "\n",
        "dfmap['text'] = dfmap['Country'] + '<br>Entregas: ' + (dfmap['total']).astype(str)\n",
        "limits = [(0,3000)]\n",
        "color=['red']\n",
        "colors = [\"royalblue\",\"lightgrey\",\"orange\",\"orange\",\"orange\"]\n",
        "scale = 4500\n",
        "\n",
        "fig = go.Figure()\n",
        "\n",
        "for i in range(len(limits)):\n",
        "  lim = limits[i]\n",
        "  df_sub = df[lim[0]:lim[1]]\n",
        "  fig.add_trace(go.Scattergeo(\n",
        "      locationmode = 'USA-states',\n",
        "      lon = dfmap['lon'],\n",
        "      lat = dfmap['lat'],\n",
        "      text = dfmap['text'],\n",
        "      marker = dict(\n",
        "          size = dfmap['total']/scale*20,\n",
        "          color = colors[2:5],\n",
        "          opacity=0.6,\n",
        "          line_color='rgb(255,255,255)',\n",
        "          line_width=0.9,\n",
        "          sizemode = 'diameter',\n",
        "          sizeref=1),\n",
        "      name = '{0} - {1}'.format(lim[0],lim[1])))\n",
        "\n",
        "fig.update_layout(\n",
        "        title_text = 'Akadeliveries entregas por país (En naranja los tres primeros en número de entregas)',\n",
        "        showlegend = False,\n",
        "        width=1100,\n",
        "        geo = dict(\n",
        "            scope = 'world',\n",
        "            landcolor = 'rgb(255, 255, 255)',\n",
        "            bgcolor = 'rgba(234, 234, 234, 1.0)',\n",
        "            framewidth=0,\n",
        "        )\n",
        "    )\n",
        "\n",
        "fig.show()"
      ],
      "execution_count": null,
      "outputs": [
        {
          "output_type": "display_data",
          "data": {
            "text/html": [
              "<html>\n",
              "<head><meta charset=\"utf-8\" /></head>\n",
              "<body>\n",
              "    <div>\n",
              "            <script src=\"https://cdnjs.cloudflare.com/ajax/libs/mathjax/2.7.5/MathJax.js?config=TeX-AMS-MML_SVG\"></script><script type=\"text/javascript\">if (window.MathJax) {MathJax.Hub.Config({SVG: {font: \"STIX-Web\"}});}</script>\n",
              "                <script type=\"text/javascript\">window.PlotlyConfig = {MathJaxConfig: 'local'};</script>\n",
              "        <script src=\"https://cdn.plot.ly/plotly-latest.min.js\"></script>    \n",
              "            <div id=\"d323e37d-b6de-44d6-bd69-3fe44c2b91f3\" class=\"plotly-graph-div\" style=\"height:525px; width:1100px;\"></div>\n",
              "            <script type=\"text/javascript\">\n",
              "                \n",
              "                    window.PLOTLYENV=window.PLOTLYENV || {};\n",
              "                    \n",
              "                if (document.getElementById(\"d323e37d-b6de-44d6-bd69-3fe44c2b91f3\")) {\n",
              "                    Plotly.newPlot(\n",
              "                        'd323e37d-b6de-44d6-bd69-3fe44c2b91f3',\n",
              "                        [{\"lat\": [-34.9964963, 39.3260685, 38.9597594, -6.8699697, 49.4871968, 42.6384261, -1.3397668, 45.9852129, 46.603354, 26.2540493, 31.1728205, 45.22086405, -31.7613365, 8.559559, 40.0332629, 15.6356088, 41.6809707, 19.0974031, -32.8755548, 1.4419683, 50.0874654, 7.9897371, -10.3333333], \"locationmode\": \"USA-states\", \"lon\": [-64.9672817, -4.8379791, 34.9249653, -75.0458515, 31.2718321, 12.674297, -79.3666965, 24.6859225, 1.8883335, 29.2675469, -7.3362482, 10.037037979628856, -71.3187697, -81.1308434, -7.8896263, -89.8988087, 44.0287382, -70.3028026, -56.0201525, 38.4313975, 14.4212535, -5.5679458, -53.2], \"marker\": {\"color\": [\"orange\", \"orange\", \"orange\"], \"line\": {\"color\": \"rgb(255,255,255)\", \"width\": 0.9}, \"opacity\": 0.6, \"size\": [52.684444444444445, 51.35111111111111, 25.315555555555555, 19.04, 16.573333333333334, 11.275555555555556, 10.066666666666666, 8.697777777777777, 8.493333333333334, 7.302222222222222, 6.426666666666668, 4.444444444444445, 4.417777777777777, 4.04, 3.635555555555556, 2.2711111111111113, 2.1555555555555554, 1.991111111111111, 0.7511111111111112, 0.37333333333333335, 0.1288888888888889, 0.026666666666666665, 0.0044444444444444444], \"sizemode\": \"diameter\", \"sizeref\": 1}, \"name\": \"0 - 3000\", \"text\": [\"Argentina<br>Entregas: 11854\", \"Espa\\u00f1a<br>Entregas: 11554\", \"Turqu\\u00eda<br>Entregas: 5696\", \"Per\\u00fa<br>Entregas: 4284\", \"Ucrania<br>Entregas: 3729\", \"Italia<br>Entregas: 2537\", \"Ecuador<br>Entregas: 2265\", \"Ruman\\u00eda<br>Entregas: 1957\", \"Francia<br>Entregas: 1911\", \"Egipto<br>Entregas: 1643\", \"Marruecos<br>Entregas: 1446\", \"Cremona, Lombard\\u00eda, Italia<br>Entregas: 1000\", \"Chile<br>Entregas: 994\", \"Panam\\u00e1<br>Entregas: 909\", \"Portugal<br>Entregas: 818\", \"Guatemala<br>Entregas: 511\", \"Georgia<br>Entregas: 485\", \"Rep\\u00fablica Dominicana<br>Entregas: 448\", \"Uruguay<br>Entregas: 169\", \"Kenia<br>Entregas: 84\", \"Praga, Praha, Chequia<br>Entregas: 29\", \"Costa de Marfil<br>Entregas: 6\", \"Brasil<br>Entregas: 1\"], \"type\": \"scattergeo\"}],\n",
              "                        {\"geo\": {\"bgcolor\": \"rgba(234, 234, 234, 1.0)\", \"framewidth\": 0, \"landcolor\": \"rgb(255, 255, 255)\", \"scope\": \"world\"}, \"showlegend\": false, \"template\": {\"data\": {\"bar\": [{\"error_x\": {\"color\": \"#2a3f5f\"}, \"error_y\": {\"color\": \"#2a3f5f\"}, \"marker\": {\"line\": {\"color\": \"#E5ECF6\", \"width\": 0.5}}, \"type\": \"bar\"}], \"barpolar\": [{\"marker\": {\"line\": {\"color\": \"#E5ECF6\", \"width\": 0.5}}, \"type\": \"barpolar\"}], \"carpet\": [{\"aaxis\": {\"endlinecolor\": \"#2a3f5f\", \"gridcolor\": \"white\", \"linecolor\": \"white\", \"minorgridcolor\": \"white\", \"startlinecolor\": \"#2a3f5f\"}, \"baxis\": {\"endlinecolor\": \"#2a3f5f\", \"gridcolor\": \"white\", \"linecolor\": \"white\", \"minorgridcolor\": \"white\", \"startlinecolor\": \"#2a3f5f\"}, \"type\": \"carpet\"}], \"choropleth\": [{\"colorbar\": {\"outlinewidth\": 0, \"ticks\": \"\"}, \"type\": \"choropleth\"}], \"contour\": [{\"colorbar\": {\"outlinewidth\": 0, \"ticks\": \"\"}, \"colorscale\": [[0.0, \"#0d0887\"], [0.1111111111111111, \"#46039f\"], [0.2222222222222222, \"#7201a8\"], [0.3333333333333333, \"#9c179e\"], [0.4444444444444444, \"#bd3786\"], [0.5555555555555556, \"#d8576b\"], [0.6666666666666666, \"#ed7953\"], [0.7777777777777778, \"#fb9f3a\"], [0.8888888888888888, \"#fdca26\"], [1.0, \"#f0f921\"]], \"type\": \"contour\"}], \"contourcarpet\": [{\"colorbar\": {\"outlinewidth\": 0, \"ticks\": \"\"}, \"type\": \"contourcarpet\"}], \"heatmap\": [{\"colorbar\": {\"outlinewidth\": 0, \"ticks\": \"\"}, \"colorscale\": [[0.0, \"#0d0887\"], [0.1111111111111111, \"#46039f\"], [0.2222222222222222, \"#7201a8\"], [0.3333333333333333, \"#9c179e\"], [0.4444444444444444, \"#bd3786\"], [0.5555555555555556, \"#d8576b\"], [0.6666666666666666, \"#ed7953\"], [0.7777777777777778, \"#fb9f3a\"], [0.8888888888888888, \"#fdca26\"], [1.0, \"#f0f921\"]], \"type\": \"heatmap\"}], \"heatmapgl\": [{\"colorbar\": {\"outlinewidth\": 0, \"ticks\": \"\"}, \"colorscale\": [[0.0, \"#0d0887\"], [0.1111111111111111, \"#46039f\"], [0.2222222222222222, \"#7201a8\"], [0.3333333333333333, \"#9c179e\"], [0.4444444444444444, \"#bd3786\"], [0.5555555555555556, \"#d8576b\"], [0.6666666666666666, \"#ed7953\"], [0.7777777777777778, \"#fb9f3a\"], [0.8888888888888888, \"#fdca26\"], [1.0, \"#f0f921\"]], \"type\": \"heatmapgl\"}], \"histogram\": [{\"marker\": {\"colorbar\": {\"outlinewidth\": 0, \"ticks\": \"\"}}, \"type\": \"histogram\"}], \"histogram2d\": [{\"colorbar\": {\"outlinewidth\": 0, \"ticks\": \"\"}, \"colorscale\": [[0.0, \"#0d0887\"], [0.1111111111111111, \"#46039f\"], [0.2222222222222222, \"#7201a8\"], [0.3333333333333333, \"#9c179e\"], [0.4444444444444444, \"#bd3786\"], [0.5555555555555556, \"#d8576b\"], [0.6666666666666666, \"#ed7953\"], [0.7777777777777778, \"#fb9f3a\"], [0.8888888888888888, \"#fdca26\"], [1.0, \"#f0f921\"]], \"type\": \"histogram2d\"}], \"histogram2dcontour\": [{\"colorbar\": {\"outlinewidth\": 0, \"ticks\": \"\"}, \"colorscale\": [[0.0, \"#0d0887\"], [0.1111111111111111, \"#46039f\"], [0.2222222222222222, \"#7201a8\"], [0.3333333333333333, \"#9c179e\"], [0.4444444444444444, \"#bd3786\"], [0.5555555555555556, \"#d8576b\"], [0.6666666666666666, \"#ed7953\"], [0.7777777777777778, \"#fb9f3a\"], [0.8888888888888888, \"#fdca26\"], [1.0, \"#f0f921\"]], \"type\": \"histogram2dcontour\"}], \"mesh3d\": [{\"colorbar\": {\"outlinewidth\": 0, \"ticks\": \"\"}, \"type\": \"mesh3d\"}], \"parcoords\": [{\"line\": {\"colorbar\": {\"outlinewidth\": 0, \"ticks\": \"\"}}, \"type\": \"parcoords\"}], \"pie\": [{\"automargin\": true, \"type\": \"pie\"}], \"scatter\": [{\"marker\": {\"colorbar\": {\"outlinewidth\": 0, \"ticks\": \"\"}}, \"type\": \"scatter\"}], \"scatter3d\": [{\"line\": {\"colorbar\": {\"outlinewidth\": 0, \"ticks\": \"\"}}, \"marker\": {\"colorbar\": {\"outlinewidth\": 0, \"ticks\": \"\"}}, \"type\": \"scatter3d\"}], \"scattercarpet\": [{\"marker\": {\"colorbar\": {\"outlinewidth\": 0, \"ticks\": \"\"}}, \"type\": \"scattercarpet\"}], \"scattergeo\": [{\"marker\": {\"colorbar\": {\"outlinewidth\": 0, \"ticks\": \"\"}}, \"type\": \"scattergeo\"}], \"scattergl\": [{\"marker\": {\"colorbar\": {\"outlinewidth\": 0, \"ticks\": \"\"}}, \"type\": \"scattergl\"}], \"scattermapbox\": [{\"marker\": {\"colorbar\": {\"outlinewidth\": 0, \"ticks\": \"\"}}, \"type\": \"scattermapbox\"}], \"scatterpolar\": [{\"marker\": {\"colorbar\": {\"outlinewidth\": 0, \"ticks\": \"\"}}, \"type\": \"scatterpolar\"}], \"scatterpolargl\": [{\"marker\": {\"colorbar\": {\"outlinewidth\": 0, \"ticks\": \"\"}}, \"type\": \"scatterpolargl\"}], \"scatterternary\": [{\"marker\": {\"colorbar\": {\"outlinewidth\": 0, \"ticks\": \"\"}}, \"type\": \"scatterternary\"}], \"surface\": [{\"colorbar\": {\"outlinewidth\": 0, \"ticks\": \"\"}, \"colorscale\": [[0.0, \"#0d0887\"], [0.1111111111111111, \"#46039f\"], [0.2222222222222222, \"#7201a8\"], [0.3333333333333333, \"#9c179e\"], [0.4444444444444444, \"#bd3786\"], [0.5555555555555556, \"#d8576b\"], [0.6666666666666666, \"#ed7953\"], [0.7777777777777778, \"#fb9f3a\"], [0.8888888888888888, \"#fdca26\"], [1.0, \"#f0f921\"]], \"type\": \"surface\"}], \"table\": [{\"cells\": {\"fill\": {\"color\": \"#EBF0F8\"}, \"line\": {\"color\": \"white\"}}, \"header\": {\"fill\": {\"color\": \"#C8D4E3\"}, \"line\": {\"color\": \"white\"}}, \"type\": \"table\"}]}, \"layout\": {\"annotationdefaults\": {\"arrowcolor\": \"#2a3f5f\", \"arrowhead\": 0, \"arrowwidth\": 1}, \"coloraxis\": {\"colorbar\": {\"outlinewidth\": 0, \"ticks\": \"\"}}, \"colorscale\": {\"diverging\": [[0, \"#8e0152\"], [0.1, \"#c51b7d\"], [0.2, \"#de77ae\"], [0.3, \"#f1b6da\"], [0.4, \"#fde0ef\"], [0.5, \"#f7f7f7\"], [0.6, \"#e6f5d0\"], [0.7, \"#b8e186\"], [0.8, \"#7fbc41\"], [0.9, \"#4d9221\"], [1, \"#276419\"]], \"sequential\": [[0.0, \"#0d0887\"], [0.1111111111111111, \"#46039f\"], [0.2222222222222222, \"#7201a8\"], [0.3333333333333333, \"#9c179e\"], [0.4444444444444444, \"#bd3786\"], [0.5555555555555556, \"#d8576b\"], [0.6666666666666666, \"#ed7953\"], [0.7777777777777778, \"#fb9f3a\"], [0.8888888888888888, \"#fdca26\"], [1.0, \"#f0f921\"]], \"sequentialminus\": [[0.0, \"#0d0887\"], [0.1111111111111111, \"#46039f\"], [0.2222222222222222, \"#7201a8\"], [0.3333333333333333, \"#9c179e\"], [0.4444444444444444, \"#bd3786\"], [0.5555555555555556, \"#d8576b\"], [0.6666666666666666, \"#ed7953\"], [0.7777777777777778, \"#fb9f3a\"], [0.8888888888888888, \"#fdca26\"], [1.0, \"#f0f921\"]]}, \"colorway\": [\"#636efa\", \"#EF553B\", \"#00cc96\", \"#ab63fa\", \"#FFA15A\", \"#19d3f3\", \"#FF6692\", \"#B6E880\", \"#FF97FF\", \"#FECB52\"], \"font\": {\"color\": \"#2a3f5f\"}, \"geo\": {\"bgcolor\": \"white\", \"lakecolor\": \"white\", \"landcolor\": \"#E5ECF6\", \"showlakes\": true, \"showland\": true, \"subunitcolor\": \"white\"}, \"hoverlabel\": {\"align\": \"left\"}, \"hovermode\": \"closest\", \"mapbox\": {\"style\": \"light\"}, \"paper_bgcolor\": \"white\", \"plot_bgcolor\": \"#E5ECF6\", \"polar\": {\"angularaxis\": {\"gridcolor\": \"white\", \"linecolor\": \"white\", \"ticks\": \"\"}, \"bgcolor\": \"#E5ECF6\", \"radialaxis\": {\"gridcolor\": \"white\", \"linecolor\": \"white\", \"ticks\": \"\"}}, \"scene\": {\"xaxis\": {\"backgroundcolor\": \"#E5ECF6\", \"gridcolor\": \"white\", \"gridwidth\": 2, \"linecolor\": \"white\", \"showbackground\": true, \"ticks\": \"\", \"zerolinecolor\": \"white\"}, \"yaxis\": {\"backgroundcolor\": \"#E5ECF6\", \"gridcolor\": \"white\", \"gridwidth\": 2, \"linecolor\": \"white\", \"showbackground\": true, \"ticks\": \"\", \"zerolinecolor\": \"white\"}, \"zaxis\": {\"backgroundcolor\": \"#E5ECF6\", \"gridcolor\": \"white\", \"gridwidth\": 2, \"linecolor\": \"white\", \"showbackground\": true, \"ticks\": \"\", \"zerolinecolor\": \"white\"}}, \"shapedefaults\": {\"line\": {\"color\": \"#2a3f5f\"}}, \"ternary\": {\"aaxis\": {\"gridcolor\": \"white\", \"linecolor\": \"white\", \"ticks\": \"\"}, \"baxis\": {\"gridcolor\": \"white\", \"linecolor\": \"white\", \"ticks\": \"\"}, \"bgcolor\": \"#E5ECF6\", \"caxis\": {\"gridcolor\": \"white\", \"linecolor\": \"white\", \"ticks\": \"\"}}, \"title\": {\"x\": 0.05}, \"xaxis\": {\"automargin\": true, \"gridcolor\": \"white\", \"linecolor\": \"white\", \"ticks\": \"\", \"title\": {\"standoff\": 15}, \"zerolinecolor\": \"white\", \"zerolinewidth\": 2}, \"yaxis\": {\"automargin\": true, \"gridcolor\": \"white\", \"linecolor\": \"white\", \"ticks\": \"\", \"title\": {\"standoff\": 15}, \"zerolinecolor\": \"white\", \"zerolinewidth\": 2}}}, \"title\": {\"text\": \"Akadeliveries entregas por pa\\u00eds (En naranja los tres primeros en n\\u00famero de entregas)\"}, \"width\": 1100},\n",
              "                        {\"responsive\": true}\n",
              "                    ).then(function(){\n",
              "                            \n",
              "var gd = document.getElementById('d323e37d-b6de-44d6-bd69-3fe44c2b91f3');\n",
              "var x = new MutationObserver(function (mutations, observer) {{\n",
              "        var display = window.getComputedStyle(gd).display;\n",
              "        if (!display || display === 'none') {{\n",
              "            console.log([gd, 'removed!']);\n",
              "            Plotly.purge(gd);\n",
              "            observer.disconnect();\n",
              "        }}\n",
              "}});\n",
              "\n",
              "// Listen for the removal of the full notebook cells\n",
              "var notebookContainer = gd.closest('#notebook-container');\n",
              "if (notebookContainer) {{\n",
              "    x.observe(notebookContainer, {childList: true});\n",
              "}}\n",
              "\n",
              "// Listen for the clearing of the current output cell\n",
              "var outputEl = gd.closest('.output');\n",
              "if (outputEl) {{\n",
              "    x.observe(outputEl, {childList: true});\n",
              "}}\n",
              "\n",
              "                        })\n",
              "                };\n",
              "                \n",
              "            </script>\n",
              "        </div>\n",
              "</body>\n",
              "</html>"
            ]
          },
          "metadata": {}
        }
      ]
    },
    {
      "cell_type": "markdown",
      "metadata": {
        "id": "6fN7UZi7f2Mx"
      },
      "source": [
        "\n",
        "\n",
        "```\n",
        "# This is formatted as code\n",
        "```\n",
        "\n",
        "### 2. ¿Cuáles son las horas en las que se realizan más pedidos en España?"
      ]
    },
    {
      "cell_type": "code",
      "metadata": {
        "id": "MhtpHozdf6qY"
      },
      "source": [
        "dfes=df[df['country_code'] != 'ES']"
      ],
      "execution_count": null,
      "outputs": []
    },
    {
      "cell_type": "code",
      "metadata": {
        "id": "7z0T63lkiBeF",
        "colab": {
          "base_uri": "https://localhost:8080/"
        },
        "outputId": "f3bc9cd0-f185-4f8d-928a-9841b07e0a2b"
      },
      "source": [
        "# convert local_time hour format\n",
        "dfes['local_time']=dfes['local_time'].str[:2].astype(int)"
      ],
      "execution_count": null,
      "outputs": [
        {
          "output_type": "stream",
          "name": "stderr",
          "text": [
            "/usr/local/lib/python3.7/dist-packages/ipykernel_launcher.py:2: SettingWithCopyWarning: \n",
            "A value is trying to be set on a copy of a slice from a DataFrame.\n",
            "Try using .loc[row_indexer,col_indexer] = value instead\n",
            "\n",
            "See the caveats in the documentation: https://pandas.pydata.org/pandas-docs/stable/user_guide/indexing.html#returning-a-view-versus-a-copy\n",
            "  \n"
          ]
        }
      ]
    },
    {
      "cell_type": "code",
      "metadata": {
        "id": "J5N4ps63kPR6",
        "colab": {
          "base_uri": "https://localhost:8080/",
          "height": 417
        },
        "outputId": "94a7f44a-a3b3-4d1a-8026-fd35c9c3595f"
      },
      "source": [
        "fig, ax = plt.subplots(figsize=(12,6))\n",
        "sns.histplot(data=dfes, x=\"local_time\", binwidth=1, stat=\"percent\", discrete=True, color='#ff9900', edgecolor=\"w\")\n",
        "ax.spines['right'].set_visible(False)\n",
        "ax.spines['top'].set_visible(False)\n",
        "ax.set_title(\"Pedidos por hora en España\",fontsize=20)\n",
        "ax.set_ylabel(\"Porcentaje (%)\",fontsize=15)\n",
        "ax.set_xlabel(\"Horas\",fontsize=15)\n",
        "ax.tick_params(labelsize=12)"
      ],
      "execution_count": null,
      "outputs": [
        {
          "output_type": "display_data",
          "data": {
            "image/png": "[encoded data removed]",
            "text/plain": [
              "<Figure size 864x432 with 1 Axes>"
            ]
          },
          "metadata": {
            "needs_background": "light"
          }
        }
      ]
    },
    {
      "cell_type": "code",
      "metadata": {
        "id": "5w90rQONUyOG"
      },
      "source": [
        "es=pd.DataFrame(dfes['local_time'].value_counts()[0:3]).reset_index()"
      ],
      "execution_count": null,
      "outputs": []
    },
    {
      "cell_type": "code",
      "metadata": {
        "colab": {
          "base_uri": "https://localhost:8080/"
        },
        "id": "hWufeGYcWoDt",
        "outputId": "578d5363-db44-4874-bb38-ffd0c5c46faa"
      },
      "source": [
        "print('Horas con mayor número de entregas en España:')\n",
        "print(' - ',str(es['index'][0])+ 'h con un total de ' + str(es['local_time'][0]) + ' entregas')\n",
        "print(' - ',str(es['index'][1])+ 'h con un total de ' + str(es['local_time'][1]) + ' entregas')\n",
        "print(' - ',str(es['index'][2])+ 'h con un total de ' + str(es['local_time'][2]) + ' entregas')"
      ],
      "execution_count": null,
      "outputs": [
        {
          "output_type": "stream",
          "name": "stdout",
          "text": [
            "Horas con mayor número de entregas en España:\n",
            " -  20h con un total de 4976 entregas\n",
            " -  21h con un total de 4339 entregas\n",
            " -  19h con un total de 3790 entregas\n"
          ]
        }
      ]
    },
    {
      "cell_type": "markdown",
      "metadata": {
        "id": "F7zlMcI2Z1Ka"
      },
      "source": [
        "### 3. ¿Cuál es el precio medio por pedido en la tienda con ID 12513?"
      ]
    },
    {
      "cell_type": "code",
      "metadata": {
        "colab": {
          "base_uri": "https://localhost:8080/"
        },
        "id": "mlPBIGlabKsC",
        "outputId": "2674ca24-b092-4834-ea05-ef5876ef756d"
      },
      "source": [
        "dfid=(df[df['store_address'] == 12513.0]).mean()\n",
        "rnd=round(dfid['products_total'],2)\n",
        "print('Precio medio de la tienda ID 12513 es:', rnd)"
      ],
      "execution_count": null,
      "outputs": [
        {
          "output_type": "stream",
          "name": "stdout",
          "text": [
            "Precio medio de la tienda ID 12513 es: 17.39\n"
          ]
        }
      ]
    },
    {
      "cell_type": "markdown",
      "metadata": {
        "id": "y1hRgymjdNtC"
      },
      "source": [
        "### 4. Qué porcentaje de repartidores pondrías por cada turno para que sean capaces de hacer frente a los picos de demanda.\n",
        "\n",
        "Teniendo en cuenta los picos de demanda en España, si los repartidores trabajan en turnos de 8horas.<br>\n",
        "\n",
        "Turno 1 (00:00-08:00)<br>\n",
        "Turno 2 (08:00-16:00)<br>\n",
        "Turno 3 (16:00-00:00)\n"
      ]
    },
    {
      "cell_type": "code",
      "metadata": {
        "id": "2KZGQT6Ed3V0"
      },
      "source": [
        "df1 = dfes[(dfes['local_time'] >= 0) & (dfes['local_time'] < 8)]\n",
        "df2 = dfes[(dfes['local_time'] >= 8) & (dfes['local_time'] < 16)]\n",
        "df3 = dfes[(dfes['local_time'] >= 16)]"
      ],
      "execution_count": null,
      "outputs": []
    },
    {
      "cell_type": "code",
      "metadata": {
        "id": "ZvCMQJ0ofMkH"
      },
      "source": [
        "total=df1['local_time'].value_counts().max() + df2['local_time'].value_counts().max() + df3['local_time'].value_counts().max()"
      ],
      "execution_count": null,
      "outputs": []
    },
    {
      "cell_type": "code",
      "metadata": {
        "colab": {
          "base_uri": "https://localhost:8080/"
        },
        "id": "0gfpQVOCgPJH",
        "outputId": "cfbd1963-dbb3-4868-9e13-1242ee612533"
      },
      "source": [
        "round((df1['local_time'].value_counts().max()/total)*100 , 2)"
      ],
      "execution_count": null,
      "outputs": [
        {
          "output_type": "execute_result",
          "data": {
            "text/plain": [
              "4.74"
            ]
          },
          "metadata": {},
          "execution_count": 15
        }
      ]
    },
    {
      "cell_type": "code",
      "metadata": {
        "colab": {
          "base_uri": "https://localhost:8080/"
        },
        "id": "0wV59XWLhIp3",
        "outputId": "8b18cce9-b645-416b-dfb6-4534559daf21"
      },
      "source": [
        "print('Porcentaje de trabajadores:')\n",
        "print('Turno 1 (00:00-08:00):',round((df1['local_time'].value_counts().max()/total)*100 , 2),'%')\n",
        "print('Turno 2 (08:00-16:00):',round((df2['local_time'].value_counts().max()/total)*100 , 2),'%')\n",
        "print('Turno 3 (16:00-00:00):',round((df3['local_time'].value_counts().max()/total)*100 , 2),'%')\n",
        "print('\\nEl porcentaje se basa en el número de perdidos durante el pico de cara período,\\nno en el total de pedidos durante el período')"
      ],
      "execution_count": null,
      "outputs": [
        {
          "output_type": "stream",
          "name": "stdout",
          "text": [
            "Porcentaje de trabajadores:\n",
            "Turno 1 (00:00-08:00): 4.74 %\n",
            "Turno 2 (08:00-16:00): 38.65 %\n",
            "Turno 3 (16:00-00:00): 56.6 %\n",
            "\n",
            "El porcentaje se basa en el número de perdidos durante el pico de cara período,\n",
            "no en el total de pedidos durante el período\n"
          ]
        }
      ]
    },
    {
      "cell_type": "code",
      "metadata": {
        "id": "qyrWSEIThdXs"
      },
      "source": [
        ""
      ],
      "execution_count": null,
      "outputs": []
    }
  ]
}
