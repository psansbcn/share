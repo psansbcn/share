{
  "nbformat": 4,
  "nbformat_minor": 0,
  "metadata": {
    "colab": {
      "name": "explore_train_akadeliveries.ipynb",
      "provenance": [],
      "collapsed_sections": []
    },
    "kernelspec": {
      "name": "python3",
      "display_name": "Python 3"
    },
    "language_info": {
      "name": "python"
    }
  },
  "cells": [
    {
      "cell_type": "code",
      "metadata": {
        "id": "8MGRC8lkIRdi"
      },
      "source": [
        "import sys\n",
        "import pandas as pd \n",
        "import seaborn as sns\n",
        "import matplotlib.pyplot as plt\n",
        "%matplotlib inline\n",
        "\n",
        "import warnings\n",
        "warnings.simplefilter('ignore')\n",
        "\n",
        "import numpy as np"
      ],
      "execution_count": null,
      "outputs": []
    },
    {
      "cell_type": "code",
      "metadata": {
        "colab": {
          "base_uri": "https://localhost:8080/",
          "height": 238
        },
        "id": "EiT1Ba-SIdpF",
        "outputId": "6061dfda-ca4b-45f7-e45f-99e12e976534"
      },
      "source": [
        "df=pd.read_csv('/content/drive/MyDrive/akadelivers/train.csv', index_col=0)\n",
        "df.head()"
      ],
      "execution_count": null,
      "outputs": [
        {
          "output_type": "execute_result",
          "data": {
            "text/html": [
              "<div>\n",
              "<style scoped>\n",
              "    .dataframe tbody tr th:only-of-type {\n",
              "        vertical-align: middle;\n",
              "    }\n",
              "\n",
              "    .dataframe tbody tr th {\n",
              "        vertical-align: top;\n",
              "    }\n",
              "\n",
              "    .dataframe thead th {\n",
              "        text-align: right;\n",
              "    }\n",
              "</style>\n",
              "<table border=\"1\" class=\"dataframe\">\n",
              "  <thead>\n",
              "    <tr style=\"text-align: right;\">\n",
              "      <th style=\"min-width: {};\"></th>\n",
              "      <th style=\"min-width: {};\">local_time</th>\n",
              "      <th style=\"min-width: {};\">country_code</th>\n",
              "      <th style=\"min-width: {};\">store_address</th>\n",
              "      <th style=\"min-width: {};\">payment_status</th>\n",
              "      <th style=\"min-width: {};\">n_of_products</th>\n",
              "      <th style=\"min-width: {};\">products_total</th>\n",
              "      <th style=\"min-width: {};\">final_status</th>\n",
              "    </tr>\n",
              "    <tr>\n",
              "      <th style=\"min-width: {};\">order_id</th>\n",
              "      <th style=\"min-width: {};\"></th>\n",
              "      <th style=\"min-width: {};\"></th>\n",
              "      <th style=\"min-width: {};\"></th>\n",
              "      <th style=\"min-width: {};\"></th>\n",
              "      <th style=\"min-width: {};\"></th>\n",
              "      <th style=\"min-width: {};\"></th>\n",
              "      <th style=\"min-width: {};\"></th>\n",
              "    </tr>\n",
              "  </thead>\n",
              "  <tbody>\n",
              "    <tr>\n",
              "      <th>33446280</th>\n",
              "      <td>14:11:09</td>\n",
              "      <td>AR</td>\n",
              "      <td>55379</td>\n",
              "      <td>PAID</td>\n",
              "      <td>2</td>\n",
              "      <td>11.88</td>\n",
              "      <td>DeliveredStatus</td>\n",
              "    </tr>\n",
              "    <tr>\n",
              "      <th>33107339</th>\n",
              "      <td>11:47:41</td>\n",
              "      <td>GT</td>\n",
              "      <td>23487</td>\n",
              "      <td>PAID</td>\n",
              "      <td>2</td>\n",
              "      <td>5.20</td>\n",
              "      <td>DeliveredStatus</td>\n",
              "    </tr>\n",
              "    <tr>\n",
              "      <th>32960645</th>\n",
              "      <td>11:53:53</td>\n",
              "      <td>CR</td>\n",
              "      <td>62229</td>\n",
              "      <td>PAID</td>\n",
              "      <td>1</td>\n",
              "      <td>6.03</td>\n",
              "      <td>DeliveredStatus</td>\n",
              "    </tr>\n",
              "    <tr>\n",
              "      <th>32089564</th>\n",
              "      <td>20:15:21</td>\n",
              "      <td>ES</td>\n",
              "      <td>29446</td>\n",
              "      <td>PAID</td>\n",
              "      <td>6</td>\n",
              "      <td>6.37</td>\n",
              "      <td>DeliveredStatus</td>\n",
              "    </tr>\n",
              "    <tr>\n",
              "      <th>32157739</th>\n",
              "      <td>21:32:16</td>\n",
              "      <td>AR</td>\n",
              "      <td>13917</td>\n",
              "      <td>PAID</td>\n",
              "      <td>1</td>\n",
              "      <td>5.36</td>\n",
              "      <td>CanceledStatus</td>\n",
              "    </tr>\n",
              "  </tbody>\n",
              "</table>\n",
              "</div>"
            ],
            "text/plain": [
              "         local_time country_code  ...  products_total     final_status\n",
              "order_id                          ...                                 \n",
              "33446280   14:11:09           AR  ...           11.88  DeliveredStatus\n",
              "33107339   11:47:41           GT  ...            5.20  DeliveredStatus\n",
              "32960645   11:53:53           CR  ...            6.03  DeliveredStatus\n",
              "32089564   20:15:21           ES  ...            6.37  DeliveredStatus\n",
              "32157739   21:32:16           AR  ...            5.36   CanceledStatus\n",
              "\n",
              "[5 rows x 7 columns]"
            ]
          },
          "metadata": {},
          "execution_count": 4
        }
      ]
    },
    {
      "cell_type": "code",
      "metadata": {
        "colab": {
          "base_uri": "https://localhost:8080/"
        },
        "id": "xwooEeSuKYpp",
        "outputId": "019a610e-2cce-4f6b-c139-be090b5a3aa3"
      },
      "source": [
        "df.isnull().sum()"
      ],
      "execution_count": null,
      "outputs": [
        {
          "output_type": "execute_result",
          "data": {
            "text/plain": [
              "local_time        0\n",
              "country_code      0\n",
              "store_address     0\n",
              "payment_status    0\n",
              "n_of_products     0\n",
              "products_total    0\n",
              "final_status      0\n",
              "dtype: int64"
            ]
          },
          "metadata": {},
          "execution_count": 5
        }
      ]
    },
    {
      "cell_type": "code",
      "metadata": {
        "id": "KvSkAvnyNLN8"
      },
      "source": [
        "# convert local_time hour format\n",
        "df['local_time']=df['local_time'].str[:2].astype(int)"
      ],
      "execution_count": null,
      "outputs": []
    },
    {
      "cell_type": "markdown",
      "metadata": {
        "id": "KUUiNw__NnY9"
      },
      "source": [
        "### Find distributions"
      ]
    },
    {
      "cell_type": "code",
      "metadata": {
        "colab": {
          "base_uri": "https://localhost:8080/",
          "height": 570
        },
        "id": "AaWbaC-oSB5X",
        "outputId": "034b65c2-1c63-4a2e-ad8d-051e3d76fa7b"
      },
      "source": [
        "fig, ax = plt.subplots(4,1,figsize=(19,9))\n",
        "\n",
        "sns.boxplot(x=df[\"n_of_products\"], ax=ax[0], color='g')\n",
        "\n",
        "sns.boxplot(x=df[\"products_total\"], ax=ax[1], color='y')\n",
        "\n",
        "sns.boxplot(x=df[\"local_time\"], ax=ax[2], color='b')\n",
        "\n",
        "sns.boxplot(x=df[\"store_address\"], ax=ax[3], color='c')"
      ],
      "execution_count": null,
      "outputs": [
        {
          "output_type": "execute_result",
          "data": {
            "text/plain": [
              "<matplotlib.axes._subplots.AxesSubplot at 0x7f5936ad5710>"
            ]
          },
          "metadata": {},
          "execution_count": 270
        },
        {
          "output_type": "display_data",
          "data": {
            "image/png": "[encoded data removed]",
            "text/plain": [
              "<Figure size 1368x648 with 4 Axes>"
            ]
          },
          "metadata": {
            "needs_background": "light"
          }
        }
      ]
    },
    {
      "cell_type": "code",
      "metadata": {
        "id": "9jHuTGbmSPyW"
      },
      "source": [
        "#Transform some categorical columns to float or binary\n",
        "\n",
        "def payment(n):\n",
        "    if n == 'PAID':\n",
        "        return 1\n",
        "    elif n == 'NOT_PAID':\n",
        "        return 0\n",
        "    else:\n",
        "        return 0.5\n",
        "    \n",
        "df['payment_status'] = df['payment_status'].apply(payment)\n",
        "\n",
        "def deliver(n):\n",
        "    if n == 'DeliveredStatus':\n",
        "        return 1\n",
        "    else:\n",
        "        return 0\n",
        "    \n",
        "df['final_status'] = df['final_status'].apply(deliver)"
      ],
      "execution_count": null,
      "outputs": []
    },
    {
      "cell_type": "code",
      "metadata": {
        "colab": {
          "base_uri": "https://localhost:8080/",
          "height": 461
        },
        "id": "6dJPVxfWSg27",
        "outputId": "8821b5c7-58c3-4f5b-bfe5-97b84d747cea"
      },
      "source": [
        "# check correlation to discard columns if necessary\n",
        "corr = df.corr()\n",
        "cmap = sns.light_palette(\"#0c2a70\", as_cmap=True)\n",
        "mask = np.triu(corr)\n",
        "plt.figure(figsize=(19,8))\n",
        "sns.heatmap(corr, cmap='vlag', annot=True, linewidths=0.5, center=0.05, cbar=False, xticklabels=True, mask=mask)"
      ],
      "execution_count": null,
      "outputs": [
        {
          "output_type": "execute_result",
          "data": {
            "text/plain": [
              "<matplotlib.axes._subplots.AxesSubplot at 0x7f5ce9771150>"
            ]
          },
          "metadata": {},
          "execution_count": 8
        },
        {
          "output_type": "display_data",
          "data": {
            "image/png": "[encoded data removed]",
            "text/plain": [
              "<Figure size 1368x576 with 1 Axes>"
            ]
          },
          "metadata": {
            "needs_background": "light"
          }
        }
      ]
    },
    {
      "cell_type": "markdown",
      "metadata": {
        "id": "p82-LB5CSobQ"
      },
      "source": [
        "### Process columns"
      ]
    },
    {
      "cell_type": "code",
      "metadata": {
        "id": "yu9RA8Z7Sk5r"
      },
      "source": [
        "#cyclical features\n",
        "\n",
        "# local_time\n",
        "\n",
        "def sin(xxx):\n",
        "  yy=np.sin((xxx)*(2.*np.pi/24))\n",
        "  return yy\n",
        "df['hour_sin']=df['local_time'].apply(sin)\n",
        "\n",
        "def cos(xxx):\n",
        "  yy=np.cos((xxx)*(2.*np.pi/24))\n",
        "  return yy\n",
        "df['hour_cos']=df['local_time'].apply(sin)\n",
        "\n",
        "df.drop(['local_time'], axis=1, inplace=True)"
      ],
      "execution_count": null,
      "outputs": []
    },
    {
      "cell_type": "code",
      "metadata": {
        "id": "Iwwz-MRSSrLy"
      },
      "source": [
        "\n",
        "from sklearn.preprocessing import MinMaxScaler, RobustScaler, OneHotEncoder\n",
        "\n",
        "scaler = MinMaxScaler(feature_range=(0,1))\n",
        "df[['store_address']] = scaler.fit_transform(df[['store_address']])\n",
        "\n",
        "outscaler = MinMaxScaler(feature_range=(0,1))\n",
        "df[['n_of_products','products_total']] = outscaler.fit_transform(df[['n_of_products','products_total']])"
      ],
      "execution_count": null,
      "outputs": []
    },
    {
      "cell_type": "code",
      "metadata": {
        "id": "uTBD-bZ6S3F6"
      },
      "source": [
        "#Get dummies for countries\n",
        "\n",
        "one_hot = pd.get_dummies(df['country_code'])\n",
        "# Drop column B as it is now encoded\n",
        "df = df.drop('country_code',axis = 1)\n",
        "# Join the encoded df\n",
        "df = df.join(one_hot)"
      ],
      "execution_count": null,
      "outputs": []
    },
    {
      "cell_type": "code",
      "metadata": {
        "colab": {
          "base_uri": "https://localhost:8080/",
          "height": 258
        },
        "id": "GEBYcFa6S54J",
        "outputId": "819c6d95-57f6-48bc-9a02-cc137d147e28"
      },
      "source": [
        "df.head()\n"
      ],
      "execution_count": null,
      "outputs": [
        {
          "output_type": "execute_result",
          "data": {
            "text/html": [
              "<div>\n",
              "<style scoped>\n",
              "    .dataframe tbody tr th:only-of-type {\n",
              "        vertical-align: middle;\n",
              "    }\n",
              "\n",
              "    .dataframe tbody tr th {\n",
              "        vertical-align: top;\n",
              "    }\n",
              "\n",
              "    .dataframe thead th {\n",
              "        text-align: right;\n",
              "    }\n",
              "</style>\n",
              "<table border=\"1\" class=\"dataframe\">\n",
              "  <thead>\n",
              "    <tr style=\"text-align: right;\">\n",
              "      <th style=\"min-width: {};\"></th>\n",
              "      <th style=\"min-width: {};\">store_address</th>\n",
              "      <th style=\"min-width: {};\">payment_status</th>\n",
              "      <th style=\"min-width: {};\">n_of_products</th>\n",
              "      <th style=\"min-width: {};\">products_total</th>\n",
              "      <th style=\"min-width: {};\">final_status</th>\n",
              "      <th style=\"min-width: {};\">hour_sin</th>\n",
              "      <th style=\"min-width: {};\">hour_cos</th>\n",
              "      <th style=\"min-width: {};\">AR</th>\n",
              "      <th style=\"min-width: {};\">BR</th>\n",
              "      <th style=\"min-width: {};\">CI</th>\n",
              "      <th style=\"min-width: {};\">CL</th>\n",
              "      <th style=\"min-width: {};\">CR</th>\n",
              "      <th style=\"min-width: {};\">DO</th>\n",
              "      <th style=\"min-width: {};\">EC</th>\n",
              "      <th style=\"min-width: {};\">EG</th>\n",
              "      <th style=\"min-width: {};\">ES</th>\n",
              "      <th style=\"min-width: {};\">FR</th>\n",
              "      <th style=\"min-width: {};\">GE</th>\n",
              "      <th style=\"min-width: {};\">GT</th>\n",
              "      <th style=\"min-width: {};\">IT</th>\n",
              "      <th style=\"min-width: {};\">KE</th>\n",
              "      <th style=\"min-width: {};\">MA</th>\n",
              "      <th style=\"min-width: {};\">PA</th>\n",
              "      <th style=\"min-width: {};\">PE</th>\n",
              "      <th style=\"min-width: {};\">PR</th>\n",
              "      <th style=\"min-width: {};\">PT</th>\n",
              "      <th style=\"min-width: {};\">RO</th>\n",
              "      <th style=\"min-width: {};\">TR</th>\n",
              "      <th style=\"min-width: {};\">UA</th>\n",
              "      <th style=\"min-width: {};\">UY</th>\n",
              "    </tr>\n",
              "    <tr>\n",
              "      <th style=\"min-width: {};\">order_id</th>\n",
              "      <th style=\"min-width: {};\"></th>\n",
              "      <th style=\"min-width: {};\"></th>\n",
              "      <th style=\"min-width: {};\"></th>\n",
              "      <th style=\"min-width: {};\"></th>\n",
              "      <th style=\"min-width: {};\"></th>\n",
              "      <th style=\"min-width: {};\"></th>\n",
              "      <th style=\"min-width: {};\"></th>\n",
              "      <th style=\"min-width: {};\"></th>\n",
              "      <th style=\"min-width: {};\"></th>\n",
              "      <th style=\"min-width: {};\"></th>\n",
              "      <th style=\"min-width: {};\"></th>\n",
              "      <th style=\"min-width: {};\"></th>\n",
              "      <th style=\"min-width: {};\"></th>\n",
              "      <th style=\"min-width: {};\"></th>\n",
              "      <th style=\"min-width: {};\"></th>\n",
              "      <th style=\"min-width: {};\"></th>\n",
              "      <th style=\"min-width: {};\"></th>\n",
              "      <th style=\"min-width: {};\"></th>\n",
              "      <th style=\"min-width: {};\"></th>\n",
              "      <th style=\"min-width: {};\"></th>\n",
              "      <th style=\"min-width: {};\"></th>\n",
              "      <th style=\"min-width: {};\"></th>\n",
              "      <th style=\"min-width: {};\"></th>\n",
              "      <th style=\"min-width: {};\"></th>\n",
              "      <th style=\"min-width: {};\"></th>\n",
              "      <th style=\"min-width: {};\"></th>\n",
              "      <th style=\"min-width: {};\"></th>\n",
              "      <th style=\"min-width: {};\"></th>\n",
              "      <th style=\"min-width: {};\"></th>\n",
              "      <th style=\"min-width: {};\"></th>\n",
              "    </tr>\n",
              "  </thead>\n",
              "  <tbody>\n",
              "    <tr>\n",
              "      <th>33446280</th>\n",
              "      <td>0.735402</td>\n",
              "      <td>1.0</td>\n",
              "      <td>0.026316</td>\n",
              "      <td>0.053639</td>\n",
              "      <td>1</td>\n",
              "      <td>-0.500000</td>\n",
              "      <td>-0.500000</td>\n",
              "      <td>1</td>\n",
              "      <td>0</td>\n",
              "      <td>0</td>\n",
              "      <td>0</td>\n",
              "      <td>0</td>\n",
              "      <td>0</td>\n",
              "      <td>0</td>\n",
              "      <td>0</td>\n",
              "      <td>0</td>\n",
              "      <td>0</td>\n",
              "      <td>0</td>\n",
              "      <td>0</td>\n",
              "      <td>0</td>\n",
              "      <td>0</td>\n",
              "      <td>0</td>\n",
              "      <td>0</td>\n",
              "      <td>0</td>\n",
              "      <td>0</td>\n",
              "      <td>0</td>\n",
              "      <td>0</td>\n",
              "      <td>0</td>\n",
              "      <td>0</td>\n",
              "      <td>0</td>\n",
              "    </tr>\n",
              "    <tr>\n",
              "      <th>33107339</th>\n",
              "      <td>0.310436</td>\n",
              "      <td>1.0</td>\n",
              "      <td>0.026316</td>\n",
              "      <td>0.023478</td>\n",
              "      <td>1</td>\n",
              "      <td>0.258819</td>\n",
              "      <td>0.258819</td>\n",
              "      <td>0</td>\n",
              "      <td>0</td>\n",
              "      <td>0</td>\n",
              "      <td>0</td>\n",
              "      <td>0</td>\n",
              "      <td>0</td>\n",
              "      <td>0</td>\n",
              "      <td>0</td>\n",
              "      <td>0</td>\n",
              "      <td>0</td>\n",
              "      <td>0</td>\n",
              "      <td>1</td>\n",
              "      <td>0</td>\n",
              "      <td>0</td>\n",
              "      <td>0</td>\n",
              "      <td>0</td>\n",
              "      <td>0</td>\n",
              "      <td>0</td>\n",
              "      <td>0</td>\n",
              "      <td>0</td>\n",
              "      <td>0</td>\n",
              "      <td>0</td>\n",
              "      <td>0</td>\n",
              "    </tr>\n",
              "    <tr>\n",
              "      <th>32960645</th>\n",
              "      <td>0.826680</td>\n",
              "      <td>1.0</td>\n",
              "      <td>0.000000</td>\n",
              "      <td>0.027226</td>\n",
              "      <td>1</td>\n",
              "      <td>0.258819</td>\n",
              "      <td>0.258819</td>\n",
              "      <td>0</td>\n",
              "      <td>0</td>\n",
              "      <td>0</td>\n",
              "      <td>0</td>\n",
              "      <td>1</td>\n",
              "      <td>0</td>\n",
              "      <td>0</td>\n",
              "      <td>0</td>\n",
              "      <td>0</td>\n",
              "      <td>0</td>\n",
              "      <td>0</td>\n",
              "      <td>0</td>\n",
              "      <td>0</td>\n",
              "      <td>0</td>\n",
              "      <td>0</td>\n",
              "      <td>0</td>\n",
              "      <td>0</td>\n",
              "      <td>0</td>\n",
              "      <td>0</td>\n",
              "      <td>0</td>\n",
              "      <td>0</td>\n",
              "      <td>0</td>\n",
              "      <td>0</td>\n",
              "    </tr>\n",
              "    <tr>\n",
              "      <th>32089564</th>\n",
              "      <td>0.389841</td>\n",
              "      <td>1.0</td>\n",
              "      <td>0.131579</td>\n",
              "      <td>0.028761</td>\n",
              "      <td>1</td>\n",
              "      <td>-0.866025</td>\n",
              "      <td>-0.866025</td>\n",
              "      <td>0</td>\n",
              "      <td>0</td>\n",
              "      <td>0</td>\n",
              "      <td>0</td>\n",
              "      <td>0</td>\n",
              "      <td>0</td>\n",
              "      <td>0</td>\n",
              "      <td>0</td>\n",
              "      <td>1</td>\n",
              "      <td>0</td>\n",
              "      <td>0</td>\n",
              "      <td>0</td>\n",
              "      <td>0</td>\n",
              "      <td>0</td>\n",
              "      <td>0</td>\n",
              "      <td>0</td>\n",
              "      <td>0</td>\n",
              "      <td>0</td>\n",
              "      <td>0</td>\n",
              "      <td>0</td>\n",
              "      <td>0</td>\n",
              "      <td>0</td>\n",
              "      <td>0</td>\n",
              "    </tr>\n",
              "    <tr>\n",
              "      <th>32157739</th>\n",
              "      <td>0.182914</td>\n",
              "      <td>1.0</td>\n",
              "      <td>0.000000</td>\n",
              "      <td>0.024201</td>\n",
              "      <td>0</td>\n",
              "      <td>-0.707107</td>\n",
              "      <td>-0.707107</td>\n",
              "      <td>1</td>\n",
              "      <td>0</td>\n",
              "      <td>0</td>\n",
              "      <td>0</td>\n",
              "      <td>0</td>\n",
              "      <td>0</td>\n",
              "      <td>0</td>\n",
              "      <td>0</td>\n",
              "      <td>0</td>\n",
              "      <td>0</td>\n",
              "      <td>0</td>\n",
              "      <td>0</td>\n",
              "      <td>0</td>\n",
              "      <td>0</td>\n",
              "      <td>0</td>\n",
              "      <td>0</td>\n",
              "      <td>0</td>\n",
              "      <td>0</td>\n",
              "      <td>0</td>\n",
              "      <td>0</td>\n",
              "      <td>0</td>\n",
              "      <td>0</td>\n",
              "      <td>0</td>\n",
              "    </tr>\n",
              "  </tbody>\n",
              "</table>\n",
              "</div>"
            ],
            "text/plain": [
              "          store_address  payment_status  n_of_products  ...  TR  UA  UY\n",
              "order_id                                                ...            \n",
              "33446280       0.735402             1.0       0.026316  ...   0   0   0\n",
              "33107339       0.310436             1.0       0.026316  ...   0   0   0\n",
              "32960645       0.826680             1.0       0.000000  ...   0   0   0\n",
              "32089564       0.389841             1.0       0.131579  ...   0   0   0\n",
              "32157739       0.182914             1.0       0.000000  ...   0   0   0\n",
              "\n",
              "[5 rows x 30 columns]"
            ]
          },
          "metadata": {},
          "execution_count": 12
        }
      ]
    },
    {
      "cell_type": "code",
      "metadata": {
        "colab": {
          "base_uri": "https://localhost:8080/"
        },
        "id": "YcxvqCdNj6Qe",
        "outputId": "fee9b127-cf68-4da9-efef-b5121acb61eb"
      },
      "source": [
        "df.shape"
      ],
      "execution_count": null,
      "outputs": [
        {
          "output_type": "execute_result",
          "data": {
            "text/plain": [
              "(54330, 30)"
            ]
          },
          "metadata": {},
          "execution_count": 13
        }
      ]
    },
    {
      "cell_type": "code",
      "metadata": {
        "id": "i5UvoO0cUia9"
      },
      "source": [
        "#move column to end\n",
        "column_to_move = df.pop(\"final_status\")\n",
        "df.insert(len(df.columns), \"final_status\", column_to_move)"
      ],
      "execution_count": null,
      "outputs": []
    },
    {
      "cell_type": "code",
      "metadata": {
        "id": "YsFgylw7u_Jb",
        "colab": {
          "base_uri": "https://localhost:8080/"
        },
        "outputId": "9cbf83e8-54f0-47bf-8f85-886998cb3b1e"
      },
      "source": [
        "df['final_status'].value_counts()"
      ],
      "execution_count": null,
      "outputs": [
        {
          "output_type": "execute_result",
          "data": {
            "text/plain": [
              "1    48498\n",
              "0     5832\n",
              "Name: final_status, dtype: int64"
            ]
          },
          "metadata": {},
          "execution_count": 278
        }
      ]
    },
    {
      "cell_type": "markdown",
      "metadata": {
        "id": "UfO7KbVQU153"
      },
      "source": [
        "### Pre process test database"
      ]
    },
    {
      "cell_type": "code",
      "metadata": {
        "colab": {
          "base_uri": "https://localhost:8080/",
          "height": 238
        },
        "id": "pbQw0Z9ZUzbl",
        "outputId": "4c4ffab6-f3aa-46f1-da4d-c8c98aa0dfde"
      },
      "source": [
        "dftest=pd.read_csv('/content/drive/MyDrive/akadelivers/test_X.csv', index_col=0, sep=';')\n",
        "dftest.head()"
      ],
      "execution_count": null,
      "outputs": [
        {
          "output_type": "execute_result",
          "data": {
            "text/html": [
              "<div>\n",
              "<style scoped>\n",
              "    .dataframe tbody tr th:only-of-type {\n",
              "        vertical-align: middle;\n",
              "    }\n",
              "\n",
              "    .dataframe tbody tr th {\n",
              "        vertical-align: top;\n",
              "    }\n",
              "\n",
              "    .dataframe thead th {\n",
              "        text-align: right;\n",
              "    }\n",
              "</style>\n",
              "<table border=\"1\" class=\"dataframe\">\n",
              "  <thead>\n",
              "    <tr style=\"text-align: right;\">\n",
              "      <th style=\"min-width: {};\"></th>\n",
              "      <th style=\"min-width: {};\">local_time</th>\n",
              "      <th style=\"min-width: {};\">country_code</th>\n",
              "      <th style=\"min-width: {};\">store_address</th>\n",
              "      <th style=\"min-width: {};\">payment_status</th>\n",
              "      <th style=\"min-width: {};\">n_of_products</th>\n",
              "      <th style=\"min-width: {};\">products_total</th>\n",
              "    </tr>\n",
              "    <tr>\n",
              "      <th style=\"min-width: {};\">order_id</th>\n",
              "      <th style=\"min-width: {};\"></th>\n",
              "      <th style=\"min-width: {};\"></th>\n",
              "      <th style=\"min-width: {};\"></th>\n",
              "      <th style=\"min-width: {};\"></th>\n",
              "      <th style=\"min-width: {};\"></th>\n",
              "      <th style=\"min-width: {};\"></th>\n",
              "    </tr>\n",
              "  </thead>\n",
              "  <tbody>\n",
              "    <tr>\n",
              "      <th>32233784</th>\n",
              "      <td>17:50:09</td>\n",
              "      <td>MA</td>\n",
              "      <td>68169</td>\n",
              "      <td>PAID</td>\n",
              "      <td>1</td>\n",
              "      <td>61.63</td>\n",
              "    </tr>\n",
              "    <tr>\n",
              "      <th>32240990</th>\n",
              "      <td>18:38:08</td>\n",
              "      <td>ES</td>\n",
              "      <td>8220</td>\n",
              "      <td>PAID</td>\n",
              "      <td>11</td>\n",
              "      <td>15.99</td>\n",
              "    </tr>\n",
              "    <tr>\n",
              "      <th>33331821</th>\n",
              "      <td>22:11:59</td>\n",
              "      <td>IT</td>\n",
              "      <td>11169</td>\n",
              "      <td>PAID</td>\n",
              "      <td>4</td>\n",
              "      <td>5.89</td>\n",
              "    </tr>\n",
              "    <tr>\n",
              "      <th>33200505</th>\n",
              "      <td>22:13:55</td>\n",
              "      <td>AR</td>\n",
              "      <td>33371</td>\n",
              "      <td>PAID</td>\n",
              "      <td>3</td>\n",
              "      <td>7.85</td>\n",
              "    </tr>\n",
              "    <tr>\n",
              "      <th>32527480</th>\n",
              "      <td>12:01:04</td>\n",
              "      <td>TR</td>\n",
              "      <td>33958</td>\n",
              "      <td>PAID</td>\n",
              "      <td>2</td>\n",
              "      <td>4.75</td>\n",
              "    </tr>\n",
              "  </tbody>\n",
              "</table>\n",
              "</div>"
            ],
            "text/plain": [
              "         local_time country_code  ...  n_of_products products_total\n",
              "order_id                          ...                              \n",
              "32233784   17:50:09           MA  ...              1          61.63\n",
              "32240990   18:38:08           ES  ...             11          15.99\n",
              "33331821   22:11:59           IT  ...              4           5.89\n",
              "33200505   22:13:55           AR  ...              3           7.85\n",
              "32527480   12:01:04           TR  ...              2           4.75\n",
              "\n",
              "[5 rows x 6 columns]"
            ]
          },
          "metadata": {},
          "execution_count": 66
        }
      ]
    },
    {
      "cell_type": "code",
      "metadata": {
        "id": "nYzkHDALU4bK"
      },
      "source": [
        "# convert local_time hour format\n",
        "dftest['local_time']=dftest['local_time'].str[:2].astype(int)\n",
        "\n",
        "#Transform some categorical columns to float \n",
        "def payment(n):\n",
        "    if n == 'PAID':\n",
        "        return 1\n",
        "    elif n == 'NOT_PAID':\n",
        "        return 0\n",
        "    else:\n",
        "        return 0.5\n",
        "    \n",
        "dftest['payment_status'] = dftest['payment_status'].apply(payment)\n",
        "\n",
        "# cyclical features\n",
        "# local_time\n",
        "dftest['hour_sin']=dftest['local_time'].apply(sin)\n",
        "dftest['hour_cos']=dftest['local_time'].apply(sin)\n",
        "\n",
        "dftest.drop(['local_time'], axis=1, inplace=True)\n",
        "\n",
        "scaler = MinMaxScaler(feature_range=(0,1))\n",
        "dftest[['store_address']] = scaler.fit_transform(dftest[['store_address']])\n",
        "\n",
        "outscaler = MinMaxScaler(feature_range=(0,1))\n",
        "dftest[['n_of_products','products_total']] = outscaler.fit_transform(dftest[['n_of_products','products_total']])\n",
        "\n",
        "#Get dummies for countries\n",
        "\n",
        "one_hot1 = pd.get_dummies(dftest['country_code'])\n",
        "# Drop column B as it is now encoded\n",
        "dftest = dftest.drop('country_code',axis = 1)\n",
        "# Join the encoded df\n",
        "dftest = dftest.join(one_hot1)\n"
      ],
      "execution_count": null,
      "outputs": []
    },
    {
      "cell_type": "code",
      "metadata": {
        "colab": {
          "base_uri": "https://localhost:8080/",
          "height": 258
        },
        "id": "Ca_w25V3WIM5",
        "outputId": "8ddc3f1f-16d0-4dc7-dfbd-67003f0a8498"
      },
      "source": [
        "dftest.head()"
      ],
      "execution_count": null,
      "outputs": [
        {
          "output_type": "execute_result",
          "data": {
            "text/html": [
              "<div>\n",
              "<style scoped>\n",
              "    .dataframe tbody tr th:only-of-type {\n",
              "        vertical-align: middle;\n",
              "    }\n",
              "\n",
              "    .dataframe tbody tr th {\n",
              "        vertical-align: top;\n",
              "    }\n",
              "\n",
              "    .dataframe thead th {\n",
              "        text-align: right;\n",
              "    }\n",
              "</style>\n",
              "<table border=\"1\" class=\"dataframe\">\n",
              "  <thead>\n",
              "    <tr style=\"text-align: right;\">\n",
              "      <th style=\"min-width: {};\"></th>\n",
              "      <th style=\"min-width: {};\">store_address</th>\n",
              "      <th style=\"min-width: {};\">payment_status</th>\n",
              "      <th style=\"min-width: {};\">n_of_products</th>\n",
              "      <th style=\"min-width: {};\">products_total</th>\n",
              "      <th style=\"min-width: {};\">hour_sin</th>\n",
              "      <th style=\"min-width: {};\">hour_cos</th>\n",
              "      <th style=\"min-width: {};\">AR</th>\n",
              "      <th style=\"min-width: {};\">DO</th>\n",
              "      <th style=\"min-width: {};\">EC</th>\n",
              "      <th style=\"min-width: {};\">EG</th>\n",
              "      <th style=\"min-width: {};\">ES</th>\n",
              "      <th style=\"min-width: {};\">FR</th>\n",
              "      <th style=\"min-width: {};\">IT</th>\n",
              "      <th style=\"min-width: {};\">MA</th>\n",
              "      <th style=\"min-width: {};\">PA</th>\n",
              "      <th style=\"min-width: {};\">PE</th>\n",
              "      <th style=\"min-width: {};\">TR</th>\n",
              "      <th style=\"min-width: {};\">UA</th>\n",
              "    </tr>\n",
              "    <tr>\n",
              "      <th style=\"min-width: {};\">order_id</th>\n",
              "      <th style=\"min-width: {};\"></th>\n",
              "      <th style=\"min-width: {};\"></th>\n",
              "      <th style=\"min-width: {};\"></th>\n",
              "      <th style=\"min-width: {};\"></th>\n",
              "      <th style=\"min-width: {};\"></th>\n",
              "      <th style=\"min-width: {};\"></th>\n",
              "      <th style=\"min-width: {};\"></th>\n",
              "      <th style=\"min-width: {};\"></th>\n",
              "      <th style=\"min-width: {};\"></th>\n",
              "      <th style=\"min-width: {};\"></th>\n",
              "      <th style=\"min-width: {};\"></th>\n",
              "      <th style=\"min-width: {};\"></th>\n",
              "      <th style=\"min-width: {};\"></th>\n",
              "      <th style=\"min-width: {};\"></th>\n",
              "      <th style=\"min-width: {};\"></th>\n",
              "      <th style=\"min-width: {};\"></th>\n",
              "      <th style=\"min-width: {};\"></th>\n",
              "      <th style=\"min-width: {};\"></th>\n",
              "    </tr>\n",
              "  </thead>\n",
              "  <tbody>\n",
              "    <tr>\n",
              "      <th>32233784</th>\n",
              "      <td>0.959686</td>\n",
              "      <td>1</td>\n",
              "      <td>0.0</td>\n",
              "      <td>1.000000</td>\n",
              "      <td>-9.659258e-01</td>\n",
              "      <td>-9.659258e-01</td>\n",
              "      <td>0</td>\n",
              "      <td>0</td>\n",
              "      <td>0</td>\n",
              "      <td>0</td>\n",
              "      <td>0</td>\n",
              "      <td>0</td>\n",
              "      <td>0</td>\n",
              "      <td>1</td>\n",
              "      <td>0</td>\n",
              "      <td>0</td>\n",
              "      <td>0</td>\n",
              "      <td>0</td>\n",
              "    </tr>\n",
              "    <tr>\n",
              "      <th>32240990</th>\n",
              "      <td>0.067216</td>\n",
              "      <td>1</td>\n",
              "      <td>1.0</td>\n",
              "      <td>0.250082</td>\n",
              "      <td>-1.000000e+00</td>\n",
              "      <td>-1.000000e+00</td>\n",
              "      <td>0</td>\n",
              "      <td>0</td>\n",
              "      <td>0</td>\n",
              "      <td>0</td>\n",
              "      <td>1</td>\n",
              "      <td>0</td>\n",
              "      <td>0</td>\n",
              "      <td>0</td>\n",
              "      <td>0</td>\n",
              "      <td>0</td>\n",
              "      <td>0</td>\n",
              "      <td>0</td>\n",
              "    </tr>\n",
              "    <tr>\n",
              "      <th>33331821</th>\n",
              "      <td>0.111118</td>\n",
              "      <td>1</td>\n",
              "      <td>0.3</td>\n",
              "      <td>0.084128</td>\n",
              "      <td>-5.000000e-01</td>\n",
              "      <td>-5.000000e-01</td>\n",
              "      <td>0</td>\n",
              "      <td>0</td>\n",
              "      <td>0</td>\n",
              "      <td>0</td>\n",
              "      <td>0</td>\n",
              "      <td>0</td>\n",
              "      <td>1</td>\n",
              "      <td>0</td>\n",
              "      <td>0</td>\n",
              "      <td>0</td>\n",
              "      <td>0</td>\n",
              "      <td>0</td>\n",
              "    </tr>\n",
              "    <tr>\n",
              "      <th>33200505</th>\n",
              "      <td>0.441642</td>\n",
              "      <td>1</td>\n",
              "      <td>0.2</td>\n",
              "      <td>0.116333</td>\n",
              "      <td>-5.000000e-01</td>\n",
              "      <td>-5.000000e-01</td>\n",
              "      <td>1</td>\n",
              "      <td>0</td>\n",
              "      <td>0</td>\n",
              "      <td>0</td>\n",
              "      <td>0</td>\n",
              "      <td>0</td>\n",
              "      <td>0</td>\n",
              "      <td>0</td>\n",
              "      <td>0</td>\n",
              "      <td>0</td>\n",
              "      <td>0</td>\n",
              "      <td>0</td>\n",
              "    </tr>\n",
              "    <tr>\n",
              "      <th>32527480</th>\n",
              "      <td>0.450381</td>\n",
              "      <td>1</td>\n",
              "      <td>0.1</td>\n",
              "      <td>0.065396</td>\n",
              "      <td>1.224647e-16</td>\n",
              "      <td>1.224647e-16</td>\n",
              "      <td>0</td>\n",
              "      <td>0</td>\n",
              "      <td>0</td>\n",
              "      <td>0</td>\n",
              "      <td>0</td>\n",
              "      <td>0</td>\n",
              "      <td>0</td>\n",
              "      <td>0</td>\n",
              "      <td>0</td>\n",
              "      <td>0</td>\n",
              "      <td>1</td>\n",
              "      <td>0</td>\n",
              "    </tr>\n",
              "  </tbody>\n",
              "</table>\n",
              "</div>"
            ],
            "text/plain": [
              "          store_address  payment_status  n_of_products  ...  PE  TR  UA\n",
              "order_id                                                ...            \n",
              "32233784       0.959686               1            0.0  ...   0   0   0\n",
              "32240990       0.067216               1            1.0  ...   0   0   0\n",
              "33331821       0.111118               1            0.3  ...   0   0   0\n",
              "33200505       0.441642               1            0.2  ...   0   0   0\n",
              "32527480       0.450381               1            0.1  ...   0   1   0\n",
              "\n",
              "[5 rows x 18 columns]"
            ]
          },
          "metadata": {},
          "execution_count": 68
        }
      ]
    },
    {
      "cell_type": "code",
      "metadata": {
        "colab": {
          "base_uri": "https://localhost:8080/"
        },
        "id": "riFFx8NDWnDy",
        "outputId": "2e1b84e6-bbdb-4d98-dc4c-5526cabb83cc"
      },
      "source": [
        "dftest.shape"
      ],
      "execution_count": null,
      "outputs": [
        {
          "output_type": "execute_result",
          "data": {
            "text/plain": [
              "(30, 18)"
            ]
          },
          "metadata": {},
          "execution_count": 69
        }
      ]
    },
    {
      "cell_type": "code",
      "metadata": {
        "colab": {
          "base_uri": "https://localhost:8080/",
          "height": 258
        },
        "id": "XdsWquJrW7yL",
        "outputId": "6b80c4cc-5f14-46c7-9d56-6c22bcdffc53"
      },
      "source": [
        "df.head()"
      ],
      "execution_count": null,
      "outputs": [
        {
          "output_type": "execute_result",
          "data": {
            "text/html": [
              "<div>\n",
              "<style scoped>\n",
              "    .dataframe tbody tr th:only-of-type {\n",
              "        vertical-align: middle;\n",
              "    }\n",
              "\n",
              "    .dataframe tbody tr th {\n",
              "        vertical-align: top;\n",
              "    }\n",
              "\n",
              "    .dataframe thead th {\n",
              "        text-align: right;\n",
              "    }\n",
              "</style>\n",
              "<table border=\"1\" class=\"dataframe\">\n",
              "  <thead>\n",
              "    <tr style=\"text-align: right;\">\n",
              "      <th style=\"min-width: {};\"></th>\n",
              "      <th style=\"min-width: {};\">store_address</th>\n",
              "      <th style=\"min-width: {};\">payment_status</th>\n",
              "      <th style=\"min-width: {};\">n_of_products</th>\n",
              "      <th style=\"min-width: {};\">products_total</th>\n",
              "      <th style=\"min-width: {};\">hour_sin</th>\n",
              "      <th style=\"min-width: {};\">hour_cos</th>\n",
              "      <th style=\"min-width: {};\">AR</th>\n",
              "      <th style=\"min-width: {};\">BR</th>\n",
              "      <th style=\"min-width: {};\">CI</th>\n",
              "      <th style=\"min-width: {};\">CL</th>\n",
              "      <th style=\"min-width: {};\">CR</th>\n",
              "      <th style=\"min-width: {};\">DO</th>\n",
              "      <th style=\"min-width: {};\">EC</th>\n",
              "      <th style=\"min-width: {};\">EG</th>\n",
              "      <th style=\"min-width: {};\">ES</th>\n",
              "      <th style=\"min-width: {};\">FR</th>\n",
              "      <th style=\"min-width: {};\">GE</th>\n",
              "      <th style=\"min-width: {};\">GT</th>\n",
              "      <th style=\"min-width: {};\">IT</th>\n",
              "      <th style=\"min-width: {};\">KE</th>\n",
              "      <th style=\"min-width: {};\">MA</th>\n",
              "      <th style=\"min-width: {};\">PA</th>\n",
              "      <th style=\"min-width: {};\">PE</th>\n",
              "      <th style=\"min-width: {};\">PR</th>\n",
              "      <th style=\"min-width: {};\">PT</th>\n",
              "      <th style=\"min-width: {};\">RO</th>\n",
              "      <th style=\"min-width: {};\">TR</th>\n",
              "      <th style=\"min-width: {};\">UA</th>\n",
              "      <th style=\"min-width: {};\">UY</th>\n",
              "      <th style=\"min-width: {};\">final_status</th>\n",
              "    </tr>\n",
              "    <tr>\n",
              "      <th style=\"min-width: {};\">order_id</th>\n",
              "      <th style=\"min-width: {};\"></th>\n",
              "      <th style=\"min-width: {};\"></th>\n",
              "      <th style=\"min-width: {};\"></th>\n",
              "      <th style=\"min-width: {};\"></th>\n",
              "      <th style=\"min-width: {};\"></th>\n",
              "      <th style=\"min-width: {};\"></th>\n",
              "      <th style=\"min-width: {};\"></th>\n",
              "      <th style=\"min-width: {};\"></th>\n",
              "      <th style=\"min-width: {};\"></th>\n",
              "      <th style=\"min-width: {};\"></th>\n",
              "      <th style=\"min-width: {};\"></th>\n",
              "      <th style=\"min-width: {};\"></th>\n",
              "      <th style=\"min-width: {};\"></th>\n",
              "      <th style=\"min-width: {};\"></th>\n",
              "      <th style=\"min-width: {};\"></th>\n",
              "      <th style=\"min-width: {};\"></th>\n",
              "      <th style=\"min-width: {};\"></th>\n",
              "      <th style=\"min-width: {};\"></th>\n",
              "      <th style=\"min-width: {};\"></th>\n",
              "      <th style=\"min-width: {};\"></th>\n",
              "      <th style=\"min-width: {};\"></th>\n",
              "      <th style=\"min-width: {};\"></th>\n",
              "      <th style=\"min-width: {};\"></th>\n",
              "      <th style=\"min-width: {};\"></th>\n",
              "      <th style=\"min-width: {};\"></th>\n",
              "      <th style=\"min-width: {};\"></th>\n",
              "      <th style=\"min-width: {};\"></th>\n",
              "      <th style=\"min-width: {};\"></th>\n",
              "      <th style=\"min-width: {};\"></th>\n",
              "      <th style=\"min-width: {};\"></th>\n",
              "    </tr>\n",
              "  </thead>\n",
              "  <tbody>\n",
              "    <tr>\n",
              "      <th>33446280</th>\n",
              "      <td>0.735402</td>\n",
              "      <td>1.0</td>\n",
              "      <td>0.026316</td>\n",
              "      <td>0.053639</td>\n",
              "      <td>-0.500000</td>\n",
              "      <td>-0.500000</td>\n",
              "      <td>1</td>\n",
              "      <td>0</td>\n",
              "      <td>0</td>\n",
              "      <td>0</td>\n",
              "      <td>0</td>\n",
              "      <td>0</td>\n",
              "      <td>0</td>\n",
              "      <td>0</td>\n",
              "      <td>0</td>\n",
              "      <td>0</td>\n",
              "      <td>0</td>\n",
              "      <td>0</td>\n",
              "      <td>0</td>\n",
              "      <td>0</td>\n",
              "      <td>0</td>\n",
              "      <td>0</td>\n",
              "      <td>0</td>\n",
              "      <td>0</td>\n",
              "      <td>0</td>\n",
              "      <td>0</td>\n",
              "      <td>0</td>\n",
              "      <td>0</td>\n",
              "      <td>0</td>\n",
              "      <td>1</td>\n",
              "    </tr>\n",
              "    <tr>\n",
              "      <th>33107339</th>\n",
              "      <td>0.310436</td>\n",
              "      <td>1.0</td>\n",
              "      <td>0.026316</td>\n",
              "      <td>0.023478</td>\n",
              "      <td>0.258819</td>\n",
              "      <td>0.258819</td>\n",
              "      <td>0</td>\n",
              "      <td>0</td>\n",
              "      <td>0</td>\n",
              "      <td>0</td>\n",
              "      <td>0</td>\n",
              "      <td>0</td>\n",
              "      <td>0</td>\n",
              "      <td>0</td>\n",
              "      <td>0</td>\n",
              "      <td>0</td>\n",
              "      <td>0</td>\n",
              "      <td>1</td>\n",
              "      <td>0</td>\n",
              "      <td>0</td>\n",
              "      <td>0</td>\n",
              "      <td>0</td>\n",
              "      <td>0</td>\n",
              "      <td>0</td>\n",
              "      <td>0</td>\n",
              "      <td>0</td>\n",
              "      <td>0</td>\n",
              "      <td>0</td>\n",
              "      <td>0</td>\n",
              "      <td>1</td>\n",
              "    </tr>\n",
              "    <tr>\n",
              "      <th>32960645</th>\n",
              "      <td>0.826680</td>\n",
              "      <td>1.0</td>\n",
              "      <td>0.000000</td>\n",
              "      <td>0.027226</td>\n",
              "      <td>0.258819</td>\n",
              "      <td>0.258819</td>\n",
              "      <td>0</td>\n",
              "      <td>0</td>\n",
              "      <td>0</td>\n",
              "      <td>0</td>\n",
              "      <td>1</td>\n",
              "      <td>0</td>\n",
              "      <td>0</td>\n",
              "      <td>0</td>\n",
              "      <td>0</td>\n",
              "      <td>0</td>\n",
              "      <td>0</td>\n",
              "      <td>0</td>\n",
              "      <td>0</td>\n",
              "      <td>0</td>\n",
              "      <td>0</td>\n",
              "      <td>0</td>\n",
              "      <td>0</td>\n",
              "      <td>0</td>\n",
              "      <td>0</td>\n",
              "      <td>0</td>\n",
              "      <td>0</td>\n",
              "      <td>0</td>\n",
              "      <td>0</td>\n",
              "      <td>1</td>\n",
              "    </tr>\n",
              "    <tr>\n",
              "      <th>32089564</th>\n",
              "      <td>0.389841</td>\n",
              "      <td>1.0</td>\n",
              "      <td>0.131579</td>\n",
              "      <td>0.028761</td>\n",
              "      <td>-0.866025</td>\n",
              "      <td>-0.866025</td>\n",
              "      <td>0</td>\n",
              "      <td>0</td>\n",
              "      <td>0</td>\n",
              "      <td>0</td>\n",
              "      <td>0</td>\n",
              "      <td>0</td>\n",
              "      <td>0</td>\n",
              "      <td>0</td>\n",
              "      <td>1</td>\n",
              "      <td>0</td>\n",
              "      <td>0</td>\n",
              "      <td>0</td>\n",
              "      <td>0</td>\n",
              "      <td>0</td>\n",
              "      <td>0</td>\n",
              "      <td>0</td>\n",
              "      <td>0</td>\n",
              "      <td>0</td>\n",
              "      <td>0</td>\n",
              "      <td>0</td>\n",
              "      <td>0</td>\n",
              "      <td>0</td>\n",
              "      <td>0</td>\n",
              "      <td>1</td>\n",
              "    </tr>\n",
              "    <tr>\n",
              "      <th>32157739</th>\n",
              "      <td>0.182914</td>\n",
              "      <td>1.0</td>\n",
              "      <td>0.000000</td>\n",
              "      <td>0.024201</td>\n",
              "      <td>-0.707107</td>\n",
              "      <td>-0.707107</td>\n",
              "      <td>1</td>\n",
              "      <td>0</td>\n",
              "      <td>0</td>\n",
              "      <td>0</td>\n",
              "      <td>0</td>\n",
              "      <td>0</td>\n",
              "      <td>0</td>\n",
              "      <td>0</td>\n",
              "      <td>0</td>\n",
              "      <td>0</td>\n",
              "      <td>0</td>\n",
              "      <td>0</td>\n",
              "      <td>0</td>\n",
              "      <td>0</td>\n",
              "      <td>0</td>\n",
              "      <td>0</td>\n",
              "      <td>0</td>\n",
              "      <td>0</td>\n",
              "      <td>0</td>\n",
              "      <td>0</td>\n",
              "      <td>0</td>\n",
              "      <td>0</td>\n",
              "      <td>0</td>\n",
              "      <td>0</td>\n",
              "    </tr>\n",
              "  </tbody>\n",
              "</table>\n",
              "</div>"
            ],
            "text/plain": [
              "          store_address  payment_status  n_of_products  ...  UA  UY  final_status\n",
              "order_id                                                ...                      \n",
              "33446280       0.735402             1.0       0.026316  ...   0   0             1\n",
              "33107339       0.310436             1.0       0.026316  ...   0   0             1\n",
              "32960645       0.826680             1.0       0.000000  ...   0   0             1\n",
              "32089564       0.389841             1.0       0.131579  ...   0   0             1\n",
              "32157739       0.182914             1.0       0.000000  ...   0   0             0\n",
              "\n",
              "[5 rows x 30 columns]"
            ]
          },
          "metadata": {},
          "execution_count": 70
        }
      ]
    },
    {
      "cell_type": "code",
      "metadata": {
        "colab": {
          "base_uri": "https://localhost:8080/"
        },
        "id": "dlHoVAaOXD4m",
        "outputId": "63ed6e4b-306e-4c27-ef43-7d3407a2b8a8"
      },
      "source": [
        "df.shape"
      ],
      "execution_count": null,
      "outputs": [
        {
          "output_type": "execute_result",
          "data": {
            "text/plain": [
              "(54330, 30)"
            ]
          },
          "metadata": {},
          "execution_count": 71
        }
      ]
    },
    {
      "cell_type": "markdown",
      "metadata": {
        "id": "-E1uFg3AoJ2J"
      },
      "source": [
        "### Apply LazyClassifier to find the bes ML model"
      ]
    },
    {
      "cell_type": "code",
      "metadata": {
        "id": "daAxMfggWagZ"
      },
      "source": [
        "import sklearn\n",
        "from sklearn.utils._testing import ignore_warnings\n",
        "from sklearn.model_selection import train_test_split\n",
        "\n",
        "from sklearn import metrics\n",
        "from sklearn.metrics import f1_score, precision_score\n",
        "\n",
        "from sklearn.metrics import confusion_matrix\n",
        "\n"
      ],
      "execution_count": null,
      "outputs": []
    },
    {
      "cell_type": "code",
      "metadata": {
        "id": "eOIkLDz92j1b"
      },
      "source": [
        "import lazypredict\n",
        "from lazypredict.Supervised import LazyClassifier"
      ],
      "execution_count": null,
      "outputs": []
    },
    {
      "cell_type": "code",
      "metadata": {
        "id": "k8C3VhKpAD7h"
      },
      "source": [
        "dfsmall = df.sample(frac =.2)"
      ],
      "execution_count": null,
      "outputs": []
    },
    {
      "cell_type": "code",
      "metadata": {
        "id": "3-llzL1blHGA"
      },
      "source": [
        "target_column = ['final_status'] \n",
        "predictors = list(set(list(dfsmall.columns))-set(target_column))"
      ],
      "execution_count": null,
      "outputs": []
    },
    {
      "cell_type": "code",
      "metadata": {
        "id": "4qzUxN39lHAq",
        "colab": {
          "base_uri": "https://localhost:8080/"
        },
        "outputId": "b211c964-82bf-48f5-d3e9-bf3e7f9deffb"
      },
      "source": [
        "X = dfsmall[predictors].values\n",
        "y = dfsmall[target_column].values\n",
        "\n",
        "X_train, X_test, y_train, y_test = train_test_split(X, y, test_size=0.20, random_state=40)\n",
        "print(X_train.shape); print(X_test.shape)"
      ],
      "execution_count": null,
      "outputs": [
        {
          "output_type": "stream",
          "name": "stdout",
          "text": [
            "(8692, 29)\n",
            "(2174, 29)\n"
          ]
        }
      ]
    },
    {
      "cell_type": "code",
      "metadata": {
        "id": "zRgRKNW8ogBC"
      },
      "source": [
        "#Apply SMOTE to balance oversampling\n",
        "\n",
        "from imblearn.over_sampling import SMOTE\n",
        "sm = SMOTE(random_state=42)\n",
        "X_sm, y_sm = sm.fit_resample(X_train, y_train)"
      ],
      "execution_count": null,
      "outputs": []
    },
    {
      "cell_type": "code",
      "metadata": {
        "colab": {
          "base_uri": "https://localhost:8080/"
        },
        "id": "Z3-u9YFW6Gq-",
        "outputId": "75ad6106-c4f4-481a-ff5c-d7719f5efd9c"
      },
      "source": [
        "(unique, counts) = np.unique(y_sm, return_counts=True)\n",
        "frequencies = np.asarray((unique, counts)).T\n",
        "frequencies"
      ],
      "execution_count": null,
      "outputs": [
        {
          "output_type": "execute_result",
          "data": {
            "text/plain": [
              "array([[   0, 7778],\n",
              "       [   1, 7778]])"
            ]
          },
          "metadata": {},
          "execution_count": 76
        }
      ]
    },
    {
      "cell_type": "code",
      "metadata": {
        "id": "PvhYYI_-t6kv"
      },
      "source": [
        "clf = LazyClassifier(verbose=0,ignore_warnings=True, custom_metric=None)"
      ],
      "execution_count": null,
      "outputs": []
    },
    {
      "cell_type": "code",
      "metadata": {
        "id": "ecq_iHDslG2E",
        "colab": {
          "base_uri": "https://localhost:8080/"
        },
        "outputId": "1e3c646a-35e3-4bfd-ae1d-bc42599593e2"
      },
      "source": [
        "models,predictions = clf.fit(X_sm ,X_test, y_sm, y_test)"
      ],
      "execution_count": null,
      "outputs": [
        {
          "output_type": "stream",
          "name": "stderr",
          "text": [
            "100%|██████████| 29/29 [02:08<00:00,  4.44s/it]\n"
          ]
        }
      ]
    },
    {
      "cell_type": "code",
      "metadata": {
        "id": "YReX4oBGBAVh"
      },
      "source": [
        "lazies=models.to_dict()"
      ],
      "execution_count": null,
      "outputs": []
    },
    {
      "cell_type": "code",
      "metadata": {
        "id": "18ViySf9BAOU"
      },
      "source": [
        "dflazy=pd.DataFrame.from_dict(lazies)"
      ],
      "execution_count": null,
      "outputs": []
    },
    {
      "cell_type": "code",
      "metadata": {
        "colab": {
          "base_uri": "https://localhost:8080/",
          "height": 896
        },
        "id": "6ujH9pkEBAGp",
        "outputId": "aa749fd7-35ae-4a9e-ebce-1b2c8f66bedc"
      },
      "source": [
        "dflazy=dflazy.sort_values(by='F1 Score', ascending=False)\n",
        "dflazy"
      ],
      "execution_count": null,
      "outputs": [
        {
          "output_type": "execute_result",
          "data": {
            "text/html": [
              "<div>\n",
              "<style scoped>\n",
              "    .dataframe tbody tr th:only-of-type {\n",
              "        vertical-align: middle;\n",
              "    }\n",
              "\n",
              "    .dataframe tbody tr th {\n",
              "        vertical-align: top;\n",
              "    }\n",
              "\n",
              "    .dataframe thead th {\n",
              "        text-align: right;\n",
              "    }\n",
              "</style>\n",
              "<table border=\"1\" class=\"dataframe\">\n",
              "  <thead>\n",
              "    <tr style=\"text-align: right;\">\n",
              "      <th></th>\n",
              "      <th>Accuracy</th>\n",
              "      <th>Balanced Accuracy</th>\n",
              "      <th>ROC AUC</th>\n",
              "      <th>F1 Score</th>\n",
              "      <th>Time Taken</th>\n",
              "    </tr>\n",
              "  </thead>\n",
              "  <tbody>\n",
              "    <tr>\n",
              "      <th>XGBClassifier</th>\n",
              "      <td>0.85</td>\n",
              "      <td>0.53</td>\n",
              "      <td>0.53</td>\n",
              "      <td>0.84</td>\n",
              "      <td>2.30</td>\n",
              "    </tr>\n",
              "    <tr>\n",
              "      <th>LGBMClassifier</th>\n",
              "      <td>0.86</td>\n",
              "      <td>0.51</td>\n",
              "      <td>0.51</td>\n",
              "      <td>0.84</td>\n",
              "      <td>0.50</td>\n",
              "    </tr>\n",
              "    <tr>\n",
              "      <th>RandomForestClassifier</th>\n",
              "      <td>0.83</td>\n",
              "      <td>0.53</td>\n",
              "      <td>0.53</td>\n",
              "      <td>0.83</td>\n",
              "      <td>2.17</td>\n",
              "    </tr>\n",
              "    <tr>\n",
              "      <th>BaggingClassifier</th>\n",
              "      <td>0.82</td>\n",
              "      <td>0.52</td>\n",
              "      <td>0.52</td>\n",
              "      <td>0.82</td>\n",
              "      <td>0.65</td>\n",
              "    </tr>\n",
              "    <tr>\n",
              "      <th>ExtraTreesClassifier</th>\n",
              "      <td>0.81</td>\n",
              "      <td>0.53</td>\n",
              "      <td>0.53</td>\n",
              "      <td>0.82</td>\n",
              "      <td>1.77</td>\n",
              "    </tr>\n",
              "    <tr>\n",
              "      <th>AdaBoostClassifier</th>\n",
              "      <td>0.80</td>\n",
              "      <td>0.52</td>\n",
              "      <td>0.52</td>\n",
              "      <td>0.81</td>\n",
              "      <td>0.94</td>\n",
              "    </tr>\n",
              "    <tr>\n",
              "      <th>DecisionTreeClassifier</th>\n",
              "      <td>0.80</td>\n",
              "      <td>0.53</td>\n",
              "      <td>0.53</td>\n",
              "      <td>0.81</td>\n",
              "      <td>0.14</td>\n",
              "    </tr>\n",
              "    <tr>\n",
              "      <th>PassiveAggressiveClassifier</th>\n",
              "      <td>0.78</td>\n",
              "      <td>0.51</td>\n",
              "      <td>0.51</td>\n",
              "      <td>0.80</td>\n",
              "      <td>0.08</td>\n",
              "    </tr>\n",
              "    <tr>\n",
              "      <th>ExtraTreeClassifier</th>\n",
              "      <td>0.75</td>\n",
              "      <td>0.55</td>\n",
              "      <td>0.55</td>\n",
              "      <td>0.79</td>\n",
              "      <td>0.06</td>\n",
              "    </tr>\n",
              "    <tr>\n",
              "      <th>Perceptron</th>\n",
              "      <td>0.67</td>\n",
              "      <td>0.55</td>\n",
              "      <td>0.55</td>\n",
              "      <td>0.73</td>\n",
              "      <td>0.09</td>\n",
              "    </tr>\n",
              "    <tr>\n",
              "      <th>LabelPropagation</th>\n",
              "      <td>0.67</td>\n",
              "      <td>0.55</td>\n",
              "      <td>0.55</td>\n",
              "      <td>0.73</td>\n",
              "      <td>11.71</td>\n",
              "    </tr>\n",
              "    <tr>\n",
              "      <th>LabelSpreading</th>\n",
              "      <td>0.66</td>\n",
              "      <td>0.55</td>\n",
              "      <td>0.55</td>\n",
              "      <td>0.73</td>\n",
              "      <td>18.76</td>\n",
              "    </tr>\n",
              "    <tr>\n",
              "      <th>KNeighborsClassifier</th>\n",
              "      <td>0.66</td>\n",
              "      <td>0.55</td>\n",
              "      <td>0.55</td>\n",
              "      <td>0.72</td>\n",
              "      <td>2.27</td>\n",
              "    </tr>\n",
              "    <tr>\n",
              "      <th>SVC</th>\n",
              "      <td>0.63</td>\n",
              "      <td>0.57</td>\n",
              "      <td>0.57</td>\n",
              "      <td>0.71</td>\n",
              "      <td>21.41</td>\n",
              "    </tr>\n",
              "    <tr>\n",
              "      <th>NearestCentroid</th>\n",
              "      <td>0.63</td>\n",
              "      <td>0.55</td>\n",
              "      <td>0.55</td>\n",
              "      <td>0.70</td>\n",
              "      <td>0.07</td>\n",
              "    </tr>\n",
              "    <tr>\n",
              "      <th>BernoulliNB</th>\n",
              "      <td>0.62</td>\n",
              "      <td>0.57</td>\n",
              "      <td>0.57</td>\n",
              "      <td>0.70</td>\n",
              "      <td>0.06</td>\n",
              "    </tr>\n",
              "    <tr>\n",
              "      <th>RidgeClassifierCV</th>\n",
              "      <td>0.60</td>\n",
              "      <td>0.56</td>\n",
              "      <td>0.56</td>\n",
              "      <td>0.68</td>\n",
              "      <td>0.10</td>\n",
              "    </tr>\n",
              "    <tr>\n",
              "      <th>RidgeClassifier</th>\n",
              "      <td>0.60</td>\n",
              "      <td>0.56</td>\n",
              "      <td>0.56</td>\n",
              "      <td>0.68</td>\n",
              "      <td>0.07</td>\n",
              "    </tr>\n",
              "    <tr>\n",
              "      <th>LinearDiscriminantAnalysis</th>\n",
              "      <td>0.60</td>\n",
              "      <td>0.56</td>\n",
              "      <td>0.56</td>\n",
              "      <td>0.68</td>\n",
              "      <td>0.19</td>\n",
              "    </tr>\n",
              "    <tr>\n",
              "      <th>CalibratedClassifierCV</th>\n",
              "      <td>0.60</td>\n",
              "      <td>0.56</td>\n",
              "      <td>0.56</td>\n",
              "      <td>0.68</td>\n",
              "      <td>11.53</td>\n",
              "    </tr>\n",
              "    <tr>\n",
              "      <th>LogisticRegression</th>\n",
              "      <td>0.60</td>\n",
              "      <td>0.56</td>\n",
              "      <td>0.56</td>\n",
              "      <td>0.68</td>\n",
              "      <td>0.12</td>\n",
              "    </tr>\n",
              "    <tr>\n",
              "      <th>LinearSVC</th>\n",
              "      <td>0.60</td>\n",
              "      <td>0.56</td>\n",
              "      <td>0.56</td>\n",
              "      <td>0.68</td>\n",
              "      <td>3.47</td>\n",
              "    </tr>\n",
              "    <tr>\n",
              "      <th>NuSVC</th>\n",
              "      <td>0.59</td>\n",
              "      <td>0.51</td>\n",
              "      <td>0.51</td>\n",
              "      <td>0.67</td>\n",
              "      <td>49.75</td>\n",
              "    </tr>\n",
              "    <tr>\n",
              "      <th>SGDClassifier</th>\n",
              "      <td>0.55</td>\n",
              "      <td>0.53</td>\n",
              "      <td>0.53</td>\n",
              "      <td>0.64</td>\n",
              "      <td>0.22</td>\n",
              "    </tr>\n",
              "    <tr>\n",
              "      <th>DummyClassifier</th>\n",
              "      <td>0.50</td>\n",
              "      <td>0.52</td>\n",
              "      <td>0.52</td>\n",
              "      <td>0.59</td>\n",
              "      <td>0.04</td>\n",
              "    </tr>\n",
              "    <tr>\n",
              "      <th>QuadraticDiscriminantAnalysis</th>\n",
              "      <td>0.41</td>\n",
              "      <td>0.47</td>\n",
              "      <td>0.47</td>\n",
              "      <td>0.51</td>\n",
              "      <td>0.10</td>\n",
              "    </tr>\n",
              "    <tr>\n",
              "      <th>GaussianNB</th>\n",
              "      <td>0.11</td>\n",
              "      <td>0.49</td>\n",
              "      <td>0.49</td>\n",
              "      <td>0.04</td>\n",
              "      <td>0.05</td>\n",
              "    </tr>\n",
              "  </tbody>\n",
              "</table>\n",
              "</div>"
            ],
            "text/plain": [
              "                               Accuracy  ...  Time Taken\n",
              "XGBClassifier                      0.85  ...        2.30\n",
              "LGBMClassifier                     0.86  ...        0.50\n",
              "RandomForestClassifier             0.83  ...        2.17\n",
              "BaggingClassifier                  0.82  ...        0.65\n",
              "ExtraTreesClassifier               0.81  ...        1.77\n",
              "AdaBoostClassifier                 0.80  ...        0.94\n",
              "DecisionTreeClassifier             0.80  ...        0.14\n",
              "PassiveAggressiveClassifier        0.78  ...        0.08\n",
              "ExtraTreeClassifier                0.75  ...        0.06\n",
              "Perceptron                         0.67  ...        0.09\n",
              "LabelPropagation                   0.67  ...       11.71\n",
              "LabelSpreading                     0.66  ...       18.76\n",
              "KNeighborsClassifier               0.66  ...        2.27\n",
              "SVC                                0.63  ...       21.41\n",
              "NearestCentroid                    0.63  ...        0.07\n",
              "BernoulliNB                        0.62  ...        0.06\n",
              "RidgeClassifierCV                  0.60  ...        0.10\n",
              "RidgeClassifier                    0.60  ...        0.07\n",
              "LinearDiscriminantAnalysis         0.60  ...        0.19\n",
              "CalibratedClassifierCV             0.60  ...       11.53\n",
              "LogisticRegression                 0.60  ...        0.12\n",
              "LinearSVC                          0.60  ...        3.47\n",
              "NuSVC                              0.59  ...       49.75\n",
              "SGDClassifier                      0.55  ...        0.22\n",
              "DummyClassifier                    0.50  ...        0.04\n",
              "QuadraticDiscriminantAnalysis      0.41  ...        0.10\n",
              "GaussianNB                         0.11  ...        0.05\n",
              "\n",
              "[27 rows x 5 columns]"
            ]
          },
          "metadata": {},
          "execution_count": 32
        }
      ]
    },
    {
      "cell_type": "markdown",
      "metadata": {
        "id": "cnQAXm5zC4on"
      },
      "source": [
        "### LGBMClassifier"
      ]
    },
    {
      "cell_type": "code",
      "metadata": {
        "id": "w8YvHO6uA_-K"
      },
      "source": [
        "import lightgbm as ltb\n"
      ],
      "execution_count": null,
      "outputs": []
    },
    {
      "cell_type": "code",
      "metadata": {
        "id": "qcuhIkdbDUxV"
      },
      "source": [
        "fit_params={\"early_stopping_rounds\":30, \n",
        "            \"eval_metric\" : 'auc', \n",
        "            \"eval_set\" : [(X_test,y_test)],\n",
        "            'eval_names': ['valid'],\n",
        "            #'callbacks': [lgb.reset_parameter(learning_rate=learning_rate_010_decay_power_099)],\n",
        "            'verbose': 100,\n",
        "            'categorical_feature': 'auto'}"
      ],
      "execution_count": null,
      "outputs": []
    },
    {
      "cell_type": "code",
      "metadata": {
        "id": "cDpErX7OQJLQ"
      },
      "source": [
        "n_HP_points_to_test = 100\n",
        "\n",
        "import lightgbm as lgb\n",
        "from sklearn.model_selection import RandomizedSearchCV, GridSearchCV\n",
        "\n",
        "#n_estimators is set to a \"large value\". The actual number of trees build will depend on early stopping and 5000 define only the absolute maximum\n",
        "clf = lgb.LGBMClassifier(max_depth=-1, random_state=314, silent=True, metric='None', n_jobs=4, n_estimators=5000)\n",
        "gs = RandomizedSearchCV(\n",
        "    estimator=clf, param_distributions=param_test, \n",
        "    n_iter=n_HP_points_to_test,\n",
        "    scoring='roc_auc',\n",
        "    cv=3,\n",
        "    refit=True,\n",
        "    random_state=314,\n",
        "    verbose=True)\n",
        "\n",
        "gs.fit(X_sm, y_sm, **fit_params)\n",
        "print('Best score reached: {} with params: {} '.format(gs.best_score_, gs.best_params_))"
      ],
      "execution_count": null,
      "outputs": []
    },
    {
      "cell_type": "code",
      "metadata": {
        "id": "7mO4SwB6DUvm"
      },
      "source": [
        "opt_parameters = {'colsample_bytree': 0.952164731370897,\n",
        "                  'min_child_samples': 111,\n",
        "                  'min_child_weight': 0.01,\n",
        "                  'num_leaves': 38,\n",
        "                  'reg_alpha': 0,\n",
        "                  'reg_lambda': 0.1,\n",
        "                  'subsample': 0.3029313662262354}\n",
        "\n",
        "model = ltb.LGBMClassifier(**opt_parameters)\n",
        "model.fit(X_sm, y_sm)\n",
        "\n",
        "expected_y  = y_test\n",
        "predicted_y = model.predict(X_test)"
      ],
      "execution_count": null,
      "outputs": []
    },
    {
      "cell_type": "code",
      "metadata": {
        "colab": {
          "base_uri": "https://localhost:8080/",
          "height": 283
        },
        "id": "gbufmKU5DUs4",
        "outputId": "fde29e32-6037-41c3-aebc-ec0173832e8d"
      },
      "source": [
        "cm = confusion_matrix(y_test, predicted_y)\n",
        "\n",
        "cm_matrix = pd.DataFrame(data=cm, columns=['Actual Positive:1', 'Actual Negative:0'], index=['Predict Positive:1', 'Predict Negative:0'])\n",
        "\n",
        "sns.heatmap(cm_matrix, annot=True, fmt='d', cmap='YlGnBu')"
      ],
      "execution_count": null,
      "outputs": [
        {
          "output_type": "execute_result",
          "data": {
            "text/plain": [
              "<matplotlib.axes._subplots.AxesSubplot at 0x7f5cc58e8950>"
            ]
          },
          "metadata": {},
          "execution_count": 115
        },
        {
          "output_type": "display_data",
          "data": {
            "image/png": "[encoded data removed]",
            "text/plain": [
              "<Figure size 432x288 with 2 Axes>"
            ]
          },
          "metadata": {
            "needs_background": "light"
          }
        }
      ]
    },
    {
      "cell_type": "code",
      "metadata": {
        "colab": {
          "base_uri": "https://localhost:8080/"
        },
        "id": "F_88ByQ4DUqP",
        "outputId": "9b0c801d-335c-4f24-efed-d204d0002c62"
      },
      "source": [
        "print('F1 Score: %.3f' % f1_score(y_test, predicted_y))\n",
        "print('Precision Score: %.3f' % precision_score(y_test, predicted_y))"
      ],
      "execution_count": null,
      "outputs": [
        {
          "output_type": "stream",
          "name": "stdout",
          "text": [
            "F1 Score: 0.920\n",
            "Precision Score: 0.892\n"
          ]
        }
      ]
    },
    {
      "cell_type": "markdown",
      "metadata": {
        "id": "eLQ0igS2HxXw"
      },
      "source": [
        "# XGBClassifier"
      ]
    },
    {
      "cell_type": "code",
      "metadata": {
        "id": "U7OhvXJ0HEFC"
      },
      "source": [
        "from xgboost import XGBClassifier\n",
        "import xgboost as xgb\n",
        "from sklearn.model_selection import cross_val_score, KFold"
      ],
      "execution_count": null,
      "outputs": []
    },
    {
      "cell_type": "code",
      "metadata": {
        "id": "5xkV-_YyHECi",
        "colab": {
          "base_uri": "https://localhost:8080/"
        },
        "outputId": "05cb776d-5704-4c2f-830a-18dfd17390df"
      },
      "source": [
        "xgb_model = xgb.XGBClassifier( random_state=42)\n",
        "xgb_model.fit(X_sm, y_sm)\n",
        "\n",
        "y_pred = xgb_model.predict(X_test)\n",
        "\n",
        "print(confusion_matrix(y_test, y_pred))"
      ],
      "execution_count": null,
      "outputs": [
        {
          "output_type": "stream",
          "name": "stdout",
          "text": [
            "[[  34  210]\n",
            " [ 132 1798]]\n"
          ]
        }
      ]
    },
    {
      "cell_type": "code",
      "metadata": {
        "colab": {
          "base_uri": "https://localhost:8080/",
          "height": 283
        },
        "id": "jVrzjrp9PVrE",
        "outputId": "b118d4af-f226-4b46-80f8-d0b9be9bcdab"
      },
      "source": [
        "cm = confusion_matrix(y_test, y_pred)\n",
        "\n",
        "cm_matrix = pd.DataFrame(data=cm, columns=['Actual Positive:1', 'Actual Negative:0'], index=['Predict Positive:1', 'Predict Negative:0'])\n",
        "\n",
        "sns.heatmap(cm_matrix, annot=True, fmt='d', cmap='YlGnBu')"
      ],
      "execution_count": null,
      "outputs": [
        {
          "output_type": "execute_result",
          "data": {
            "text/plain": [
              "<matplotlib.axes._subplots.AxesSubplot at 0x7f5cc5e90810>"
            ]
          },
          "metadata": {},
          "execution_count": 79
        },
        {
          "output_type": "display_data",
          "data": {
            "image/png": "[encoded data removed]",
            "text/plain": [
              "<Figure size 432x288 with 2 Axes>"
            ]
          },
          "metadata": {
            "needs_background": "light"
          }
        }
      ]
    },
    {
      "cell_type": "code",
      "metadata": {
        "colab": {
          "base_uri": "https://localhost:8080/"
        },
        "id": "JHS09CySNUY0",
        "outputId": "b20a27fc-a66a-4444-af89-827473abfa4b"
      },
      "source": [
        "print('F1 Score: %.3f' % f1_score(y_test, y_pred))\n",
        "print('Precision Score: %.3f' % precision_score(y_test, y_pred))"
      ],
      "execution_count": null,
      "outputs": [
        {
          "output_type": "stream",
          "name": "stdout",
          "text": [
            "F1 Score: 0.913\n",
            "Precision Score: 0.895\n"
          ]
        }
      ]
    },
    {
      "cell_type": "markdown",
      "metadata": {
        "id": "DPw9xkYTWX90"
      },
      "source": [
        "## Random Forest Classification"
      ]
    },
    {
      "cell_type": "code",
      "metadata": {
        "id": "Oxcz97mvSPZZ"
      },
      "source": [
        "from sklearn.ensemble import RandomForestClassifier\n",
        "clf=RandomForestClassifier(n_estimators=100)\n",
        "\n",
        "clf.fit(X_sm,y_sm)\n",
        "\n",
        "y_pred=clf.predict(X_test)"
      ],
      "execution_count": null,
      "outputs": []
    },
    {
      "cell_type": "code",
      "metadata": {
        "colab": {
          "base_uri": "https://localhost:8080/",
          "height": 283
        },
        "id": "xcFV1_ioSPSH",
        "outputId": "5abdad7d-932c-4629-a764-8562a7ec02ef"
      },
      "source": [
        "cm = confusion_matrix(y_test, y_pred)\n",
        "\n",
        "cm_matrix = pd.DataFrame(data=cm, columns=['Actual Positive:1', 'Actual Negative:0'], index=['Predict Positive:1', 'Predict Negative:0'])\n",
        "\n",
        "sns.heatmap(cm_matrix, annot=True, fmt='d', cmap='YlGnBu')"
      ],
      "execution_count": null,
      "outputs": [
        {
          "output_type": "execute_result",
          "data": {
            "text/plain": [
              "<matplotlib.axes._subplots.AxesSubplot at 0x7f5cde8da7d0>"
            ]
          },
          "metadata": {},
          "execution_count": 90
        },
        {
          "output_type": "display_data",
          "data": {
            "image/png": "[encoded data removed]",
            "text/plain": [
              "<Figure size 432x288 with 2 Axes>"
            ]
          },
          "metadata": {
            "needs_background": "light"
          }
        }
      ]
    },
    {
      "cell_type": "code",
      "metadata": {
        "colab": {
          "base_uri": "https://localhost:8080/"
        },
        "id": "3RfG1ENfSPJ2",
        "outputId": "df4cfbf2-6652-4f2f-92a5-75390d7bbb16"
      },
      "source": [
        "print('F1 Score: %.3f' % f1_score(y_test, y_pred))\n",
        "print('Precision Score: %.3f' % precision_score(y_test, y_pred))"
      ],
      "execution_count": null,
      "outputs": [
        {
          "output_type": "stream",
          "name": "stdout",
          "text": [
            "F1 Score: 0.902\n",
            "Precision Score: 0.892\n"
          ]
        }
      ]
    },
    {
      "cell_type": "markdown",
      "metadata": {
        "id": "hfJr85PWS3Bo"
      },
      "source": [
        "AS we are looking for the highest F1 Score will choose the **XGBClassifier** model. \n",
        "If would prefer to mistake a possible cancellation, RandomForestClassifier would probably be a better option because a slighty higher precision"
      ]
    },
    {
      "cell_type": "markdown",
      "metadata": {
        "id": "uCV3BYyHVQkF"
      },
      "source": [
        "# Prediction"
      ]
    },
    {
      "cell_type": "code",
      "metadata": {
        "id": "pZ5whsmXaux2"
      },
      "source": [
        "list1=list(df.columns)"
      ],
      "execution_count": null,
      "outputs": []
    },
    {
      "cell_type": "code",
      "metadata": {
        "id": "1WchmHekazf5"
      },
      "source": [
        "list2=list(dftest.columns)"
      ],
      "execution_count": null,
      "outputs": []
    },
    {
      "cell_type": "code",
      "metadata": {
        "colab": {
          "base_uri": "https://localhost:8080/"
        },
        "id": "C_Bh_Geeb01e",
        "outputId": "e9b6e579-414c-4d7e-8db6-86d837bc418d"
      },
      "source": [
        "print(\"Missing values in second list:\", (set(list1).difference(list2)))"
      ],
      "execution_count": null,
      "outputs": [
        {
          "output_type": "stream",
          "name": "stdout",
          "text": [
            "Missing values in second list: {'BR', 'CL', 'PT', 'final_status', 'UY', 'GE', 'PR', 'GT', 'CI', 'CR', 'RO', 'KE'}\n"
          ]
        }
      ]
    },
    {
      "cell_type": "code",
      "metadata": {
        "id": "OGfqgI_4b_WC"
      },
      "source": [
        "newcols=['BR', 'CL', 'PT', 'UY', 'GE', 'PR', 'GT', 'CI', 'CR', 'RO', 'KE']\n",
        "\n",
        "for new in newcols:\n",
        "  dftest[new] = 0"
      ],
      "execution_count": null,
      "outputs": []
    },
    {
      "cell_type": "code",
      "metadata": {
        "id": "T9UeryIXVQHm",
        "colab": {
          "base_uri": "https://localhost:8080/"
        },
        "outputId": "a4b9cd19-017d-4ace-da8b-85928fd95d9e"
      },
      "source": [
        "# make a prediction\n",
        "ynew = xgb_model.predict(dftest)\n",
        "\n",
        "predicciones = pd.DataFrame(data=ynew)\n",
        "predicciones.to_csv('/content/drive/MyDrive/akadelivers/predicciones.csv')"
      ],
      "execution_count": null,
      "outputs": [
        {
          "output_type": "stream",
          "name": "stdout",
          "text": [
            "[1, 1, 1, 1, 1, 1, 1, 1, 1, 1, 1, 1, 0, 1, 1, 1, 1, 1, 1, 1, 1, 1, 1, 1, 1, 1, 1, 1, 1, 1]\n"
          ]
        }
      ]
    }
  ]
}