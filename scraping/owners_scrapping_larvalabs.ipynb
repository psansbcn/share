{
 "cells": [
  {
   "cell_type": "markdown",
   "id": "d2a04744",
   "metadata": {},
   "source": [
    "### Owners webscrapping. Larvalabs"
   ]
  },
  {
   "cell_type": "code",
   "execution_count": 1,
   "id": "33c00c08",
   "metadata": {},
   "outputs": [
    {
     "name": "stderr",
     "output_type": "stream",
     "text": [
      "<ipython-input-1-f9c28eccaf23>:8: DeprecationWarning: use setter for headless property instead of set_headless\n",
      "  opts.set_headless()\n"
     ]
    }
   ],
   "source": [
    "from selenium.webdriver import Firefox\n",
    "from selenium.webdriver.firefox.options import Options\n",
    "from selenium import webdriver\n",
    "import pandas as pd \n",
    "import re \n",
    "\n",
    "opts = Options()\n",
    "opts.set_headless()\n",
    "assert opts.headless  # Operating in headless mode\n",
    "\n",
    "from selenium import webdriver as selenium_webdriver\n",
    "from selenium.webdriver.firefox.options import Options as selenium_options\n",
    "from selenium.webdriver.common.desired_capabilities import DesiredCapabilities as selenium_DesiredCapabilities"
   ]
  },
  {
   "cell_type": "code",
   "execution_count": 2,
   "id": "8f431470",
   "metadata": {},
   "outputs": [],
   "source": [
    "driver = Firefox(options=opts)\n",
    "driver.implicitly_wait(1)"
   ]
  },
  {
   "cell_type": "code",
   "execution_count": 3,
   "id": "9b5b4727",
   "metadata": {},
   "outputs": [],
   "source": [
    "url='https://www.larvalabs.com/cryptopunks/leaderboard'\n",
    "driver.get(url)"
   ]
  },
  {
   "cell_type": "markdown",
   "id": "8edac338",
   "metadata": {},
   "source": [
    "##### Get all links to each owner page"
   ]
  },
  {
   "cell_type": "code",
   "execution_count": 4,
   "id": "bf9d04cd",
   "metadata": {},
   "outputs": [],
   "source": [
    "ownerslinks=[]\n",
    "links = driver.find_elements_by_class_name('pinklink')\n",
    "for lnk in links:\n",
    "        ownerslinks.append(lnk.get_attribute(\"href\"))"
   ]
  },
  {
   "cell_type": "code",
   "execution_count": 5,
   "id": "d0395232",
   "metadata": {},
   "outputs": [],
   "source": [
    "# save list into a dataframe and save df to a file\n",
    "df = pd.DataFrame(ownerslinks)\n",
    "df.to_csv('ownerslinks.csv')"
   ]
  },
  {
   "cell_type": "markdown",
   "id": "0e5119ad",
   "metadata": {},
   "source": [
    "##### Test different attributes on a single owner's page"
   ]
  },
  {
   "cell_type": "code",
   "execution_count": null,
   "id": "f33d0331",
   "metadata": {},
   "outputs": [],
   "source": [
    "df=pd.read_csv('ownerslinks.csv')\n",
    "ownerslinks=list(df['0'])\n",
    "ownerslinks"
   ]
  },
  {
   "cell_type": "code",
   "execution_count": 9,
   "id": "3c84de16",
   "metadata": {},
   "outputs": [],
   "source": [
    "url1=ownerslinks[0]\n",
    "driv§§er.get(url1)"
   ]
  },
  {
   "cell_type": "code",
   "execution_count": 10,
   "id": "e632484a",
   "metadata": {},
   "outputs": [
    {
     "name": "stdout",
     "output_type": "stream",
     "text": [
      "EtherScan  0xc352b534e8b987e036\n"
     ]
    }
   ],
   "source": [
    "d=driver.find_element_by_xpath(\"//h3[@class='m-b-0']/span\").get_attribute(\"textContent\")\n",
    "print('EtherScan ',d)"
   ]
  },
  {
   "cell_type": "code",
   "execution_count": 11,
   "id": "9b4c9bb2",
   "metadata": {},
   "outputs": [
    {
     "name": "stdout",
     "output_type": "stream",
     "text": [
      "OpenSea Account  None\n"
     ]
    }
   ],
   "source": [
    "os=driver.find_element_by_xpath(\"//div[@class='col-md-4 punk-stat'][2]\").get_attribute(\"textContent\")\n",
    "os=re.findall(r'(\\S.*?)\\n', os)[-1]\n",
    "print('OpenSea Account ',os)"
   ]
  },
  {
   "cell_type": "code",
   "execution_count": 12,
   "id": "2b86cfc0",
   "metadata": {},
   "outputs": [
    {
     "name": "stdout",
     "output_type": "stream",
     "text": [
      "Total Punks Owned  430\n"
     ]
    }
   ],
   "source": [
    "own=driver.find_element_by_xpath(\"//div[@class='row punk-stat-line'][2]/div[@class='col-md-4 punk-stat']\").get_attribute(\"textContent\")\n",
    "own=re.findall(r'(\\S.*?)\\n', own)[-1]\n",
    "print('Total Punks Owned ',own)"
   ]
  },
  {
   "cell_type": "code",
   "execution_count": 13,
   "id": "12ad517c",
   "metadata": {},
   "outputs": [
    {
     "name": "stdout",
     "output_type": "stream",
     "text": [
      "Ethereums spent: 29.19 \n",
      "Dollar spent: 103,327\n"
     ]
    }
   ],
   "source": [
    "spen=driver.find_element_by_xpath(\"//div[@class='row punk-stat-line'][2]/div[@class='col-md-4 punk-stat'][3]\").get_attribute(\"textContent\")\n",
    "eth1=re.findall(r'(\\S.*?)Ξ', spen)[-1]\n",
    "doll1=re.findall(r'\\$(.*?)\\)', spen)[-1]\n",
    "print('Ethereums spent:',eth1,'\\nDollar spent:',doll1)"
   ]
  },
  {
   "cell_type": "code",
   "execution_count": 14,
   "id": "9dce38cf",
   "metadata": {},
   "outputs": [
    {
     "name": "stdout",
     "output_type": "stream",
     "text": [
      "Ethereums earned: 2.2K \n",
      "Dollar earned: 7.77M\n"
     ]
    }
   ],
   "source": [
    "earn=driver.find_element_by_xpath(\"//div[@class='row punk-stat-line'][3]/div[@class='col-md-4 punk-stat'][3]\").get_attribute(\"textContent\")\n",
    "eth=re.findall(r'(\\S.*?)Ξ', earn)[-1]\n",
    "doll=re.findall(r'\\$(.*?)\\)', earn)[-1]\n",
    "print('Ethereums earned:',eth,'\\nDollar earned:',doll)"
   ]
  },
  {
   "cell_type": "code",
   "execution_count": 26,
   "id": "9bd3881b",
   "metadata": {},
   "outputs": [
    {
     "data": {
      "text/plain": [
       "3055"
      ]
     },
     "execution_count": 26,
     "metadata": {},
     "output_type": "execute_result"
    }
   ],
   "source": [
    "len(ownerslinks)"
   ]
  },
  {
   "cell_type": "code",
   "execution_count": 16,
   "id": "44e4dc58",
   "metadata": {},
   "outputs": [],
   "source": [
    "etherscan, opensea,owned, ethereums_spent, dollar_spent, ethereums_earned, dollar_earned = [],[],[],[],[],[],[]"
   ]
  },
  {
   "cell_type": "code",
   "execution_count": null,
   "id": "44f9f761",
   "metadata": {},
   "outputs": [],
   "source": [
    "n=0\n",
    "while n < len(ownerslinks):\n",
    "    driver.get(ownerslinks[n])\n",
    "    d=driver.find_element_by_xpath(\"//h3[@class='m-b-0']/span\").get_attribute(\"textContent\")\n",
    "    etherscan.append(d)\n",
    "    \n",
    "    os=driver.find_element_by_xpath(\"//div[@class='col-md-4 punk-stat'][2]\").get_attribute(\"textContent\")\n",
    "    os=re.findall(r'(\\S.*?)\\n', os)[-1]\n",
    "    opensea.append(os)\n",
    "    \n",
    "    own=driver.find_element_by_xpath(\"//div[@class='row punk-stat-line'][2]/div[@class='col-md-4 punk-stat']\").get_attribute(\"textContent\")\n",
    "    own=re.findall(r'(\\S.*?)\\n', own)[-1]\n",
    "    owned.append(own)\n",
    "    \n",
    "    spen=driver.find_element_by_xpath(\"//div[@class='row punk-stat-line'][2]/div[@class='col-md-4 punk-stat'][3]\").get_attribute(\"textContent\")\n",
    "    eth1=re.findall(r'(\\S.*?)Ξ', spen)[-1]\n",
    "    doll1=re.findall(r'\\$(.*?)\\)', spen)[-1]\n",
    "    ethereums_spent.append(eth1)\n",
    "    dollar_spent.append(doll1)\n",
    "    \n",
    "    earn=driver.find_element_by_xpath(\"//div[@class='row punk-stat-line'][3]/div[@class='col-md-4 punk-stat'][3]\").get_attribute(\"textContent\")\n",
    "    eth=re.findall(r'(\\S.*?)Ξ', earn)[-1]\n",
    "    doll=re.findall(r'\\$(.*?)\\)', earn)[-1]\n",
    "    ethereums_earned.append(eth)\n",
    "    dollar_earned.append(doll)\n",
    "\n",
    "\n",
    "    print(n)\n",
    "    n=n+1"
   ]
  },
  {
   "cell_type": "code",
   "execution_count": 21,
   "id": "ea4af204",
   "metadata": {},
   "outputs": [],
   "source": [
    "dfetherscan = pd.DataFrame(etherscan)\n",
    "dfopensea = pd.DataFrame(opensea)\n",
    "dfowned = pd.DataFrame(owned)\n",
    "dfethereums_spent = pd.DataFrame(ethereums_spent)\n",
    "dfdollar_spent = pd.DataFrame(dollar_spent)\n",
    "dfethereums_earned = pd.DataFrame(ethereums_earned)\n",
    "dfdollar_earned = pd.DataFrame(dollar_earned)"
   ]
  },
  {
   "cell_type": "code",
   "execution_count": 23,
   "id": "679b65c7",
   "metadata": {},
   "outputs": [],
   "source": [
    "dfetherscan.to_csv('test1.csv')\n",
    "dfopensea.to_csv('test2.csv')\n",
    "dfowned.to_csv('test3.csv')\n",
    "dfethereums_spent.to_csv('test4.csv')\n",
    "dfdollar_spent.to_csv('test5.csv')\n",
    "dfethereums_earned.to_csv('test6.csv')\n",
    "dfdollar_earned.to_csv('test7.csv')"
   ]
  },
  {
   "cell_type": "code",
   "execution_count": 24,
   "id": "ab2413cf",
   "metadata": {},
   "outputs": [],
   "source": [
    "resultdf = pd.concat([dfetherscan, dfopensea,dfowned,dfethereums_spent,dfdollar_spent,dfethereums_earned,dfdollar_earned], axis=1)"
   ]
  },
  {
   "cell_type": "code",
   "execution_count": 25,
   "id": "c2bf281a",
   "metadata": {},
   "outputs": [
    {
     "data": {
      "text/html": [
       "<div>\n",
       "<style scoped>\n",
       "    .dataframe tbody tr th:only-of-type {\n",
       "        vertical-align: middle;\n",
       "    }\n",
       "\n",
       "    .dataframe tbody tr th {\n",
       "        vertical-align: top;\n",
       "    }\n",
       "\n",
       "    .dataframe thead th {\n",
       "        text-align: right;\n",
       "    }\n",
       "</style>\n",
       "<table border=\"1\" class=\"dataframe\">\n",
       "  <thead>\n",
       "    <tr style=\"text-align: right;\">\n",
       "      <th></th>\n",
       "      <th>0</th>\n",
       "      <th>0</th>\n",
       "      <th>0</th>\n",
       "      <th>0</th>\n",
       "      <th>0</th>\n",
       "      <th>0</th>\n",
       "      <th>0</th>\n",
       "    </tr>\n",
       "  </thead>\n",
       "  <tbody>\n",
       "    <tr>\n",
       "      <th>0</th>\n",
       "      <td>0xc352b534e8b987e036</td>\n",
       "      <td>None</td>\n",
       "      <td>430</td>\n",
       "      <td>29.19</td>\n",
       "      <td>103,327</td>\n",
       "      <td>2.2K</td>\n",
       "      <td>7.77M</td>\n",
       "    </tr>\n",
       "    <tr>\n",
       "      <th>1</th>\n",
       "      <td>0xb7f7f6c52f2e2fdb19</td>\n",
       "      <td>WrappedCryptoPunks-Escrow</td>\n",
       "      <td>308</td>\n",
       "      <td>0.00</td>\n",
       "      <td>0.00</td>\n",
       "      <td>0.00</td>\n",
       "      <td>0.00</td>\n",
       "    </tr>\n",
       "    <tr>\n",
       "      <th>2</th>\n",
       "      <td>0xa25803ab86a327786b</td>\n",
       "      <td>None</td>\n",
       "      <td>254</td>\n",
       "      <td>0.00</td>\n",
       "      <td>0.00</td>\n",
       "      <td>1.69K</td>\n",
       "      <td>6M</td>\n",
       "    </tr>\n",
       "    <tr>\n",
       "      <th>3</th>\n",
       "      <td>0xb88f61e6fbda83fbff</td>\n",
       "      <td>None</td>\n",
       "      <td>215</td>\n",
       "      <td>0.00</td>\n",
       "      <td>0.00</td>\n",
       "      <td>0.00</td>\n",
       "      <td>0.00</td>\n",
       "    </tr>\n",
       "    <tr>\n",
       "      <th>4</th>\n",
       "      <td>0x577ebc5de943e35cdf</td>\n",
       "      <td>None</td>\n",
       "      <td>173</td>\n",
       "      <td>884.51</td>\n",
       "      <td>3.13M</td>\n",
       "      <td>11.62K</td>\n",
       "      <td>41.14M</td>\n",
       "    </tr>\n",
       "  </tbody>\n",
       "</table>\n",
       "</div>"
      ],
      "text/plain": [
       "                      0                          0    0       0        0  \\\n",
       "0  0xc352b534e8b987e036                       None  430   29.19  103,327   \n",
       "1  0xb7f7f6c52f2e2fdb19  WrappedCryptoPunks-Escrow  308    0.00     0.00   \n",
       "2  0xa25803ab86a327786b                       None  254    0.00     0.00   \n",
       "3  0xb88f61e6fbda83fbff                       None  215    0.00     0.00   \n",
       "4  0x577ebc5de943e35cdf                       None  173  884.51    3.13M   \n",
       "\n",
       "        0       0  \n",
       "0    2.2K   7.77M  \n",
       "1    0.00    0.00  \n",
       "2   1.69K      6M  \n",
       "3    0.00    0.00  \n",
       "4  11.62K  41.14M  "
      ]
     },
     "execution_count": 25,
     "metadata": {},
     "output_type": "execute_result"
    }
   ],
   "source": [
    "resultdf.head()"
   ]
  },
  {
   "cell_type": "code",
   "execution_count": 26,
   "id": "3da911b5",
   "metadata": {},
   "outputs": [],
   "source": [
    "resultdf.to_csv('result.csv')"
   ]
  },
  {
   "cell_type": "code",
   "execution_count": 29,
   "id": "cd858f6f",
   "metadata": {},
   "outputs": [],
   "source": [
    "url2='https://www.larvalabs.com/cryptopunks/accountinfo?account=0xb3a66b7ce5bd65b0ea5c858b9824cba285dc5a8b'\n",
    "driver.get(url2)"
   ]
  },
  {
   "cell_type": "code",
   "execution_count": 30,
   "id": "999ca417",
   "metadata": {},
   "outputs": [
    {
     "name": "stdout",
     "output_type": "stream",
     "text": [
      "phua.eth\n"
     ]
    }
   ],
   "source": [
    "d=driver.find_element_by_xpath(\"//div[@class='col-md-4 punk-stat'][3]/a\").get_attribute(\"textContent\")\n",
    "print(d)"
   ]
  },
  {
   "cell_type": "code",
   "execution_count": 31,
   "id": "68c0b97d",
   "metadata": {},
   "outputs": [],
   "source": [
    "ens=[]"
   ]
  },
  {
   "cell_type": "code",
   "execution_count": null,
   "id": "7ad902f1",
   "metadata": {},
   "outputs": [],
   "source": [
    "n=0\n",
    "while n < len(ownerslinks):\n",
    "    driver.get(ownerslinks[n])\n",
    "    try:\n",
    "        d=driver.find_element_by_xpath(\"//div[@class='col-md-4 punk-stat'][3]/a\").get_attribute(\"textContent\")\n",
    "        ens.append(d)\n",
    "        print(n,d)\n",
    "    except:\n",
    "        ens.append('None')\n",
    "        print(n,'none')\n",
    "    n=n+1"
   ]
  },
  {
   "cell_type": "code",
   "execution_count": 33,
   "id": "dbe848d4",
   "metadata": {},
   "outputs": [],
   "source": [
    "dfens = pd.DataFrame(ens)"
   ]
  },
  {
   "cell_type": "code",
   "execution_count": 34,
   "id": "de74746f",
   "metadata": {},
   "outputs": [],
   "source": [
    "dfens.to_csv('ens.csv')"
   ]
  },
  {
   "cell_type": "code",
   "execution_count": null,
   "id": "26d9a12e",
   "metadata": {},
   "outputs": [],
   "source": []
  }
 ],
 "metadata": {
  "kernelspec": {
   "display_name": "Python 3",
   "language": "python",
   "name": "python3"
  },
  "language_info": {
   "codemirror_mode": {
    "name": "ipython",
    "version": 3
   },
   "file_extension": ".py",
   "mimetype": "text/x-python",
   "name": "python",
   "nbconvert_exporter": "python",
   "pygments_lexer": "ipython3",
   "version": "3.8.5"
  }
 },
 "nbformat": 4,
 "nbformat_minor": 5
}
