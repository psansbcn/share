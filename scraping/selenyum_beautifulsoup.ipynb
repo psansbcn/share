{
 "cells": [
  {
   "cell_type": "markdown",
   "id": "0fae8b5a",
   "metadata": {},
   "source": [
    "##### Open BolsadeMadrid website with Selenium"
   ]
  },
  {
   "cell_type": "code",
   "execution_count": 12,
   "id": "8fac37ba",
   "metadata": {},
   "outputs": [
    {
     "name": "stderr",
     "output_type": "stream",
     "text": [
      "<ipython-input-12-79c39fba795c>:7: DeprecationWarning: use setter for headless property instead of set_headless\n",
      "  opts.set_headless()\n"
     ]
    }
   ],
   "source": [
    "from selenium.webdriver import Firefox\n",
    "from selenium.webdriver.firefox.options import Options\n",
    "import pandas as pd \n",
    "import re \n",
    "\n",
    "opts = Options()\n",
    "opts.set_headless()\n",
    "assert opts.headless  # Operating in headless mode"
   ]
  },
  {
   "cell_type": "code",
   "execution_count": 25,
   "id": "661bd8d7",
   "metadata": {},
   "outputs": [],
   "source": [
    "driver = Firefox(options=opts)\n",
    "driver.get('https://www.bolsamadrid.es')"
   ]
  },
  {
   "cell_type": "markdown",
   "id": "25972074",
   "metadata": {},
   "source": [
    "##### Process to lacate the Comité asesor members page"
   ]
  },
  {
   "cell_type": "code",
   "execution_count": 28,
   "id": "406254ac",
   "metadata": {},
   "outputs": [
    {
     "data": {
      "text/plain": [
       "'Bolsa de Madrid'"
      ]
     },
     "execution_count": 28,
     "metadata": {},
     "output_type": "execute_result"
    }
   ],
   "source": [
    "driver.title"
   ]
  },
  {
   "cell_type": "code",
   "execution_count": 30,
   "id": "786769ab",
   "metadata": {},
   "outputs": [
    {
     "data": {
      "text/plain": [
       "'Bolsa de Madrid - Mapa web'"
      ]
     },
     "execution_count": 30,
     "metadata": {},
     "output_type": "execute_result"
    }
   ],
   "source": [
    "# as the menu is in javascript, navigate through the Web Map\n",
    "# Find and click the Mapa Web link\n",
    "\n",
    "mapaweb_link = driver.find_element_by_partial_link_text('Mapa').click()\n",
    "# Check the page title to verify the navigation is correct\n",
    "driver.title"
   ]
  },
  {
   "cell_type": "code",
   "execution_count": 31,
   "id": "2db44e6a",
   "metadata": {},
   "outputs": [
    {
     "data": {
      "text/plain": [
       "'Bolsa de Madrid - Mapa web'"
      ]
     },
     "execution_count": 31,
     "metadata": {},
     "output_type": "execute_result"
    }
   ],
   "source": [
    "#the previous command sometimes fails due to the site coockies \n",
    "driver.get('https://www.bolsamadrid.es/esp/aspx/Comun/MapaWeb.aspx')\n",
    "driver.title"
   ]
  },
  {
   "cell_type": "code",
   "execution_count": 32,
   "id": "3d50d7bd",
   "metadata": {},
   "outputs": [],
   "source": [
    "# Display the content under 'Comité Asesor Técnico'\n",
    "element = driver.find_element_by_id(\"ctl00_Contenido_Mapan110\")\n",
    "driver.execute_script(\"arguments[0].click();\", element)"
   ]
  },
  {
   "cell_type": "code",
   "execution_count": 11,
   "id": "0029ed58",
   "metadata": {},
   "outputs": [],
   "source": [
    "# Click on memebers\n",
    "miembros_link = driver.find_element_by_id('ctl00_Contenido_Mapat113').click()"
   ]
  },
  {
   "cell_type": "code",
   "execution_count": 12,
   "id": "973655ac",
   "metadata": {},
   "outputs": [
    {
     "data": {
      "text/plain": [
       "'Bolsa de Madrid - Miembros'"
      ]
     },
     "execution_count": 12,
     "metadata": {},
     "output_type": "execute_result"
    }
   ],
   "source": [
    "driver.title"
   ]
  },
  {
   "cell_type": "code",
   "execution_count": 13,
   "id": "6a5d0f28",
   "metadata": {},
   "outputs": [
    {
     "name": "stdout",
     "output_type": "stream",
     "text": [
      "https://www.bolsamadrid.es/esp/SBolsas/Comite-Asesor-Tecnico-Miembros.aspx?1\n"
     ]
    }
   ],
   "source": [
    "url=driver.current_url\n",
    "print(url)"
   ]
  },
  {
   "cell_type": "markdown",
   "id": "321023a8",
   "metadata": {},
   "source": [
    "##### Once in 'Miembros' page, will use BeatifulSoup to get some content"
   ]
  },
  {
   "cell_type": "code",
   "execution_count": null,
   "id": "43c820a2",
   "metadata": {},
   "outputs": [],
   "source": [
    "import requests\n",
    "from bs4 import BeautifulSoup\n",
    "\n",
    "page = requests.get(url)\n",
    "\n",
    "soup = BeautifulSoup(page.content, \"html.parser\")\n",
    "soup"
   ]
  },
  {
   "cell_type": "code",
   "execution_count": 15,
   "id": "e32bd697",
   "metadata": {},
   "outputs": [],
   "source": [
    "#get the content in the central column where the Members are\n",
    "div = soup.find(\"div\", {\"class\": \"col5\"})"
   ]
  },
  {
   "cell_type": "code",
   "execution_count": null,
   "id": "0fd03afe",
   "metadata": {},
   "outputs": [],
   "source": [
    "# Get the list elements with the members information\n",
    "lili=[]\n",
    "uls = div.find_all('ul')\n",
    "for ul in uls:\n",
    "    newsoup = BeautifulSoup(str(ul), 'html.parser')\n",
    "    lis = newsoup.find_all('li')\n",
    "    for li in lis:\n",
    "        print(li)\n",
    "        print('..................')\n",
    "        lili.append(li)\n",
    "type(lili)"
   ]
  },
  {
   "cell_type": "code",
   "execution_count": null,
   "id": "d41bd960",
   "metadata": {},
   "outputs": [],
   "source": [
    "#clean the html to later extract the information\n",
    "names=[]\n",
    "studies=[]\n",
    "career=[]\n",
    "for ll in lili:\n",
    "    ll1=str(ll)\n",
    "    ll1=ll1.replace('<strong><strong>', '<strong>')\n",
    "    ll1=ll1.replace('</strong><br/></strong>', '<br/></strong>')\n",
    "    ll1=ll1.replace('Ph.D.', 'Ph D')\n",
    "    ll1=ll1.replace('Ph. D.', 'Ph D')\n",
    "    ll1=ll1.replace('U.', 'U')\n",
    "    ll1=ll1.replace('&amp;', '&')\n",
    "    ll1=ll1.replace('País Vasco, Mikel es Catedrático', 'País Vasco. Mikel es Catedrático')\n",
    "    ll1=ll1.replace('López</strong>', 'López,')\n",
    "    ll1=ll1.replace('miembro del mismo.', 'miembro del mismo.<br/>')\n",
    "    \n",
    "    name=re.findall(r'<strong.*?>(.*?)<br/>', ll1)\n",
    "    names.append(name)\n",
    "    print(name)\n",
    "    edu=re.findall(r'/strong.*?>(.*?)(?=\\.)', ll1)\n",
    "    studies.append(edu)\n",
    "    print(edu)\n",
    "    car=re.findall(r'\\.(.*?)</li>', ll1)\n",
    "    career.append(car)\n",
    "    print(car)\n",
    "    print('..............\\n\\n')"
   ]
  },
  {
   "cell_type": "markdown",
   "id": "8b62914e",
   "metadata": {},
   "source": [
    "##### Finnally, convert the information into a table"
   ]
  },
  {
   "cell_type": "code",
   "execution_count": 89,
   "id": "93126159",
   "metadata": {},
   "outputs": [],
   "source": [
    "career[9]=''"
   ]
  },
  {
   "cell_type": "code",
   "execution_count": 90,
   "id": "46ffdb0f",
   "metadata": {},
   "outputs": [],
   "source": [
    "names=[' '.join(strings) for strings in names]\n",
    "studies=[' '.join(strings) for strings in studies]\n",
    "career=[' '.join(strings) for strings in career]"
   ]
  },
  {
   "cell_type": "code",
   "execution_count": 91,
   "id": "83709e80",
   "metadata": {},
   "outputs": [
    {
     "data": {
      "text/html": [
       "<div>\n",
       "<style scoped>\n",
       "    .dataframe tbody tr th:only-of-type {\n",
       "        vertical-align: middle;\n",
       "    }\n",
       "\n",
       "    .dataframe tbody tr th {\n",
       "        vertical-align: top;\n",
       "    }\n",
       "\n",
       "    .dataframe thead th {\n",
       "        text-align: right;\n",
       "    }\n",
       "</style>\n",
       "<table border=\"1\" class=\"dataframe\">\n",
       "  <thead>\n",
       "    <tr style=\"text-align: right;\">\n",
       "      <th></th>\n",
       "      <th>Name</th>\n",
       "      <th>Studies</th>\n",
       "      <th>Career</th>\n",
       "    </tr>\n",
       "  </thead>\n",
       "  <tbody>\n",
       "    <tr>\n",
       "      <th>0</th>\n",
       "      <td>Mikel Tapia, en calidad de Presidente del mismo</td>\n",
       "      <td>Licenciado y Doctor en Economía por la Univers...</td>\n",
       "      <td>Mikel es Catedrático de Finanzas en la Univer...</td>\n",
       "    </tr>\n",
       "    <tr>\n",
       "      <th>1</th>\n",
       "      <td>Carmen Ansotegui</td>\n",
       "      <td>Carmen es Ph D in Economics por la Universidad...</td>\n",
       "      <td>Profesora de Finanzas en ESADE, donde ha impa...</td>\n",
       "    </tr>\n",
       "    <tr>\n",
       "      <th>2</th>\n",
       "      <td>Natividad Blasco</td>\n",
       "      <td>Licenciada y Doctora en Ciencias Económicas y ...</td>\n",
       "      <td>Además de su labor docente e investigadora, f...</td>\n",
       "    </tr>\n",
       "    <tr>\n",
       "      <th>3</th>\n",
       "      <td>Pablo Fernández</td>\n",
       "      <td>Doctor en Finanzas (Ph D Harvard U), MBA (IESE...</td>\n",
       "      <td>Profesor de Dirección Financiera en el IESE y...</td>\n",
       "    </tr>\n",
       "    <tr>\n",
       "      <th>4</th>\n",
       "      <td>Máximo Ferrando Bolado</td>\n",
       "      <td>Licenciado y Doctor en Ciencias Económicas y E...</td>\n",
       "      <td>Ha sido Catedrático de Finanzas Empresariales...</td>\n",
       "    </tr>\n",
       "    <tr>\n",
       "      <th>5</th>\n",
       "      <td>Marta Gómez-Puig</td>\n",
       "      <td>Licenciada en Ciencias Económicas y Empresaria...</td>\n",
       "      <td>Actualmente es Catedrática de Universidad en ...</td>\n",
       "    </tr>\n",
       "    <tr>\n",
       "      <th>6</th>\n",
       "      <td>Antonio Giralt</td>\n",
       "      <td>Licenciado en Ciencias Económicas y Empresaria...</td>\n",
       "      <td>Hasta 2016, Presidente del MAB y de LATIBEX, ...</td>\n",
       "    </tr>\n",
       "    <tr>\n",
       "      <th>7</th>\n",
       "      <td>José Ramón Lasuén</td>\n",
       "      <td>Es doctor en ciencias económicas y máster por ...</td>\n",
       "      <td>Dedicado a la docencia, ha sido profesor auxi...</td>\n",
       "    </tr>\n",
       "    <tr>\n",
       "      <th>8</th>\n",
       "      <td>Simón Sosvilla Rivero</td>\n",
       "      <td>Licenciado en Ciencias Económicas y Empresaria...</td>\n",
       "      <td>Ha sido Investigador senior y subdirector eje...</td>\n",
       "    </tr>\n",
       "    <tr>\n",
       "      <th>9</th>\n",
       "      <td>Carmen López, en calidad de Secretaria del Com...</td>\n",
       "      <td></td>\n",
       "      <td></td>\n",
       "    </tr>\n",
       "  </tbody>\n",
       "</table>\n",
       "</div>"
      ],
      "text/plain": [
       "                                                Name  \\\n",
       "0    Mikel Tapia, en calidad de Presidente del mismo   \n",
       "1                                   Carmen Ansotegui   \n",
       "2                                   Natividad Blasco   \n",
       "3                                    Pablo Fernández   \n",
       "4                             Máximo Ferrando Bolado   \n",
       "5                                   Marta Gómez-Puig   \n",
       "6                                     Antonio Giralt   \n",
       "7                                  José Ramón Lasuén   \n",
       "8                              Simón Sosvilla Rivero   \n",
       "9  Carmen López, en calidad de Secretaria del Com...   \n",
       "\n",
       "                                             Studies  \\\n",
       "0  Licenciado y Doctor en Economía por la Univers...   \n",
       "1  Carmen es Ph D in Economics por la Universidad...   \n",
       "2  Licenciada y Doctora en Ciencias Económicas y ...   \n",
       "3  Doctor en Finanzas (Ph D Harvard U), MBA (IESE...   \n",
       "4  Licenciado y Doctor en Ciencias Económicas y E...   \n",
       "5  Licenciada en Ciencias Económicas y Empresaria...   \n",
       "6  Licenciado en Ciencias Económicas y Empresaria...   \n",
       "7  Es doctor en ciencias económicas y máster por ...   \n",
       "8  Licenciado en Ciencias Económicas y Empresaria...   \n",
       "9                                                      \n",
       "\n",
       "                                              Career  \n",
       "0   Mikel es Catedrático de Finanzas en la Univer...  \n",
       "1   Profesora de Finanzas en ESADE, donde ha impa...  \n",
       "2   Además de su labor docente e investigadora, f...  \n",
       "3   Profesor de Dirección Financiera en el IESE y...  \n",
       "4   Ha sido Catedrático de Finanzas Empresariales...  \n",
       "5   Actualmente es Catedrática de Universidad en ...  \n",
       "6   Hasta 2016, Presidente del MAB y de LATIBEX, ...  \n",
       "7   Dedicado a la docencia, ha sido profesor auxi...  \n",
       "8   Ha sido Investigador senior y subdirector eje...  \n",
       "9                                                     "
      ]
     },
     "execution_count": 91,
     "metadata": {},
     "output_type": "execute_result"
    }
   ],
   "source": [
    "df = pd.DataFrame(list(zip(names, studies,career)),\n",
    "               columns =['Name', 'Studies','Career'])\n",
    "\n",
    "df"
   ]
  },
  {
   "cell_type": "code",
   "execution_count": null,
   "id": "9ff7953f",
   "metadata": {},
   "outputs": [],
   "source": []
  }
 ],
 "metadata": {
  "kernelspec": {
   "display_name": "Python 3",
   "language": "python",
   "name": "python3"
  },
  "language_info": {
   "codemirror_mode": {
    "name": "ipython",
    "version": 3
   },
   "file_extension": ".py",
   "mimetype": "text/x-python",
   "name": "python",
   "nbconvert_exporter": "python",
   "pygments_lexer": "ipython3",
   "version": "3.8.5"
  }
 },
 "nbformat": 4,
 "nbformat_minor": 5
}
