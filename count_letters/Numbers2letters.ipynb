{
 "cells": [
  {
   "cell_type": "markdown",
   "id": "daabac45",
   "metadata": {},
   "source": [
    "## Number letter counts"
   ]
  },
  {
   "cell_type": "code",
   "execution_count": 1,
   "id": "cdb59807",
   "metadata": {},
   "outputs": [
    {
     "data": {
      "text/plain": [
       "1000"
      ]
     },
     "execution_count": 1,
     "metadata": {},
     "output_type": "execute_result"
    }
   ],
   "source": [
    "def convert(num):\n",
    "    units = (\"\", \"one \", \"two \", \"three \", \"four \",\"five \", \"six \", \"seven \",\"eight \", \"nine \", \"ten \", \"eleven \", \"twelve \", \"thirteen \", \"fourteen \", \"fifteen \",\"sixteen \", \"seventeen \", \"eighteen \", \"nineteen \")\n",
    "    tens =(\"\", \"\", \"twenty \", \"thirty \", \"forty \", \"fifty \",\"sixty \",\"seventy \",\"eighty \",\"ninety \")\n",
    "\n",
    "    if num == 0:\n",
    "        return \"zero\"\n",
    "\n",
    "    elif num<20:\n",
    "        return  units[num] \n",
    "    \n",
    "    elif num % 100 == 0:\n",
    "        if num < 901:\n",
    "            return units[num // 100]+\"hundred\"\n",
    "        elif num > 901:\n",
    "            return units[num // 1000]+\"thousand\"\n",
    "\n",
    "    elif num<100:\n",
    "        return  tens[num // 10]+units[int(num % 10)] \n",
    "    \n",
    "    elif num % 1000 == 0:\n",
    "        return units[num // 1000]+\"thousand\"\n",
    "\n",
    "    elif num<1000:\n",
    "        return units[num // 100] +\"hundred\" +convert(int(num % 100))\n",
    "\n",
    "    elif num<100001: \n",
    "        return  convert(num // 1000)+ \"thousand\" + convert(int(num % 1000))\n",
    "\n",
    "numbers=[]\n",
    "    \n",
    "for i in range(1, 1001) :\n",
    "    numbers.append(convert(i))\n",
    "len(numbers)"
   ]
  },
  {
   "cell_type": "markdown",
   "id": "694ecac0",
   "metadata": {},
   "source": [
    "###   merge all numbers into a string"
   ]
  },
  {
   "cell_type": "code",
   "execution_count": 2,
   "id": "1a12dc7c",
   "metadata": {},
   "outputs": [],
   "source": [
    "new=''.join(numbers)"
   ]
  },
  {
   "cell_type": "code",
   "execution_count": 3,
   "id": "115098ee",
   "metadata": {},
   "outputs": [
    {
     "data": {
      "text/plain": [
       "'ven eight nine ten eleven twelve thirteen fourteen fifteen sixteen seventeen eighteen nineteen twenty twenty one twenty two twenty three twenty four twenty five twenty six twenty seven twenty eight twenty nine thirty thirty one thirty two thirty three thirty four thirty five thirty six thirty seven thirty eight thirty nine forty forty one forty two forty three forty four forty five forty six forty seven forty eight forty nine fifty fifty one fifty two fifty three fifty four fifty five fifty six fifty seven fifty eight fifty nine sixty sixty one sixty two sixty thr'"
      ]
     },
     "execution_count": 3,
     "metadata": {},
     "output_type": "execute_result"
    }
   ],
   "source": [
    "new[30:600]"
   ]
  },
  {
   "cell_type": "markdown",
   "id": "f888ab9d",
   "metadata": {},
   "source": [
    "### Remove spaces and count letters "
   ]
  },
  {
   "cell_type": "code",
   "execution_count": 4,
   "id": "5734c123",
   "metadata": {},
   "outputs": [],
   "source": [
    "text = new.replace(' ', '')"
   ]
  },
  {
   "cell_type": "code",
   "execution_count": 5,
   "id": "438f0a99",
   "metadata": {},
   "outputs": [
    {
     "data": {
      "text/plain": [
       "'htnineteneleventwelvethirteenfourteenfifteensixteenseventeeneighteennineteentwentytwentyonetwentytwotwentythreetwentyfourtwentyfivetwentysixtwentyseventwentyeighttwentyninethirtythirtyonethirtytwothirtythreethirtyfourthirtyfivethirtysixthirtyseventhirtyeightthirtyninefortyfortyonefortytwofortythreefortyfourfortyfivefortysixfortysevenfortyeightfortyninefiftyfiftyonefiftytwofiftythreefiftyfourfiftyfivefiftysixfiftysevenfiftyeightfiftyninesixtysixtyonesixtytwosixtythreesixtyfoursixtyfivesixtysixsixtysevensixtyeightsixtynineseventyseventyoneseventytwoseventythreeseven'"
      ]
     },
     "execution_count": 5,
     "metadata": {},
     "output_type": "execute_result"
    }
   ],
   "source": [
    "text[30:600]"
   ]
  },
  {
   "cell_type": "code",
   "execution_count": 6,
   "id": "d70b29ab",
   "metadata": {},
   "outputs": [
    {
     "data": {
      "text/plain": [
       "18451"
      ]
     },
     "execution_count": 6,
     "metadata": {},
     "output_type": "execute_result"
    }
   ],
   "source": [
    "len(text)"
   ]
  },
  {
   "cell_type": "code",
   "execution_count": 7,
   "id": "82011dc2",
   "metadata": {},
   "outputs": [
    {
     "name": "stdout",
     "output_type": "stream",
     "text": [
      "There are 21062 letters\n"
     ]
    }
   ],
   "source": [
    "print('There are',len(new),'letters')\n"
   ]
  },
  {
   "cell_type": "code",
   "execution_count": null,
   "id": "941bd03a",
   "metadata": {},
   "outputs": [],
   "source": []
  }
 ],
 "metadata": {
  "kernelspec": {
   "display_name": "Python 3 (ipykernel)",
   "language": "python",
   "name": "python3"
  },
  "language_info": {
   "codemirror_mode": {
    "name": "ipython",
    "version": 3
   },
   "file_extension": ".py",
   "mimetype": "text/x-python",
   "name": "python",
   "nbconvert_exporter": "python",
   "pygments_lexer": "ipython3",
   "version": "3.8.2"
  }
 },
 "nbformat": 4,
 "nbformat_minor": 5
}
