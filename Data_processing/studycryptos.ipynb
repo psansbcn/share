{
 "cells": [
  {
   "cell_type": "markdown",
   "id": "9ee89563",
   "metadata": {},
   "source": [
    "### stydy n.1"
   ]
  },
  {
   "cell_type": "code",
   "execution_count": 1,
   "id": "810649d9",
   "metadata": {},
   "outputs": [],
   "source": [
    "import pandas as pd\n",
    "\n",
    "import seaborn as sns\n",
    "import matplotlib.pyplot as plt"
   ]
  },
  {
   "cell_type": "code",
   "execution_count": 65,
   "id": "7f7758e2",
   "metadata": {},
   "outputs": [
    {
     "data": {
      "text/html": [
       "<div>\n",
       "<style scoped>\n",
       "    .dataframe tbody tr th:only-of-type {\n",
       "        vertical-align: middle;\n",
       "    }\n",
       "\n",
       "    .dataframe tbody tr th {\n",
       "        vertical-align: top;\n",
       "    }\n",
       "\n",
       "    .dataframe thead th {\n",
       "        text-align: right;\n",
       "    }\n",
       "</style>\n",
       "<table border=\"1\" class=\"dataframe\">\n",
       "  <thead>\n",
       "    <tr style=\"text-align: right;\">\n",
       "      <th></th>\n",
       "      <th>cryptopunkID</th>\n",
       "      <th>rarity_rank</th>\n",
       "      <th>tipus</th>\n",
       "      <th>skin</th>\n",
       "      <th>traits</th>\n",
       "      <th>owner</th>\n",
       "    </tr>\n",
       "  </thead>\n",
       "  <tbody>\n",
       "    <tr>\n",
       "      <th>0</th>\n",
       "      <td>0</td>\n",
       "      <td>2023</td>\n",
       "      <td>Female</td>\n",
       "      <td>Mid-skinned</td>\n",
       "      <td>Blonde Bob, Earring, Green Eye Shadow, Hidden ...</td>\n",
       "      <td>0xE08c32</td>\n",
       "    </tr>\n",
       "    <tr>\n",
       "      <th>1</th>\n",
       "      <td>1</td>\n",
       "      <td>4352</td>\n",
       "      <td>Male</td>\n",
       "      <td>Dark-skinned</td>\n",
       "      <td>Mohawk, Smile</td>\n",
       "      <td>0xB88F61</td>\n",
       "    </tr>\n",
       "    <tr>\n",
       "      <th>2</th>\n",
       "      <td>2</td>\n",
       "      <td>8090</td>\n",
       "      <td>Female</td>\n",
       "      <td>Light-skinned</td>\n",
       "      <td>Wild Hair</td>\n",
       "      <td>0x897aEA</td>\n",
       "    </tr>\n",
       "    <tr>\n",
       "      <th>3</th>\n",
       "      <td>3</td>\n",
       "      <td>7896</td>\n",
       "      <td>Male</td>\n",
       "      <td>Dark-skinned</td>\n",
       "      <td>Nerd Glasses, Pipe, Wild Hair</td>\n",
       "      <td>0xC352B5</td>\n",
       "    </tr>\n",
       "    <tr>\n",
       "      <th>4</th>\n",
       "      <td>4</td>\n",
       "      <td>7332</td>\n",
       "      <td>Male</td>\n",
       "      <td>Mid-skinned</td>\n",
       "      <td>Big Shades, Earring, Goat, Wild Hair</td>\n",
       "      <td>0xC352B5</td>\n",
       "    </tr>\n",
       "    <tr>\n",
       "      <th>...</th>\n",
       "      <td>...</td>\n",
       "      <td>...</td>\n",
       "      <td>...</td>\n",
       "      <td>...</td>\n",
       "      <td>...</td>\n",
       "      <td>...</td>\n",
       "    </tr>\n",
       "    <tr>\n",
       "      <th>9995</th>\n",
       "      <td>9995</td>\n",
       "      <td>2466</td>\n",
       "      <td>Female</td>\n",
       "      <td>Albino-skinned</td>\n",
       "      <td>Purple Eye Shadow, Straight Hair Dark</td>\n",
       "      <td>0x758353</td>\n",
       "    </tr>\n",
       "    <tr>\n",
       "      <th>9996</th>\n",
       "      <td>9996</td>\n",
       "      <td>4323</td>\n",
       "      <td>Male</td>\n",
       "      <td>Light-skinned</td>\n",
       "      <td>Cigarette, Crazy Hair, Earring, Smile</td>\n",
       "      <td>0xA9bFA9</td>\n",
       "    </tr>\n",
       "    <tr>\n",
       "      <th>9997</th>\n",
       "      <td>9997</td>\n",
       "      <td>498</td>\n",
       "      <td>Zombie</td>\n",
       "      <td>Zombie-skinned</td>\n",
       "      <td>Cap Forward, Front Beard</td>\n",
       "      <td>0x944D32</td>\n",
       "    </tr>\n",
       "    <tr>\n",
       "      <th>9998</th>\n",
       "      <td>9998</td>\n",
       "      <td>1271</td>\n",
       "      <td>Female</td>\n",
       "      <td>Mid-skinned</td>\n",
       "      <td>Black Lipstick, Clown Eyes Green, Wild White Hair</td>\n",
       "      <td>0xef764B</td>\n",
       "    </tr>\n",
       "    <tr>\n",
       "      <th>9999</th>\n",
       "      <td>9999</td>\n",
       "      <td>9233</td>\n",
       "      <td>Female</td>\n",
       "      <td>Dark-skinned</td>\n",
       "      <td>Mohawk, Nerd Glasses</td>\n",
       "      <td>0x0A383e</td>\n",
       "    </tr>\n",
       "  </tbody>\n",
       "</table>\n",
       "<p>10000 rows × 6 columns</p>\n",
       "</div>"
      ],
      "text/plain": [
       "      cryptopunkID  rarity_rank   tipus            skin  \\\n",
       "0                0         2023  Female     Mid-skinned   \n",
       "1                1         4352    Male    Dark-skinned   \n",
       "2                2         8090  Female   Light-skinned   \n",
       "3                3         7896    Male    Dark-skinned   \n",
       "4                4         7332    Male     Mid-skinned   \n",
       "...            ...          ...     ...             ...   \n",
       "9995          9995         2466  Female  Albino-skinned   \n",
       "9996          9996         4323    Male   Light-skinned   \n",
       "9997          9997          498  Zombie  Zombie-skinned   \n",
       "9998          9998         1271  Female     Mid-skinned   \n",
       "9999          9999         9233  Female    Dark-skinned   \n",
       "\n",
       "                                                 traits     owner  \n",
       "0     Blonde Bob, Earring, Green Eye Shadow, Hidden ...  0xE08c32  \n",
       "1                                         Mohawk, Smile  0xB88F61  \n",
       "2                                             Wild Hair  0x897aEA  \n",
       "3                         Nerd Glasses, Pipe, Wild Hair  0xC352B5  \n",
       "4                  Big Shades, Earring, Goat, Wild Hair  0xC352B5  \n",
       "...                                                 ...       ...  \n",
       "9995              Purple Eye Shadow, Straight Hair Dark  0x758353  \n",
       "9996              Cigarette, Crazy Hair, Earring, Smile  0xA9bFA9  \n",
       "9997                           Cap Forward, Front Beard  0x944D32  \n",
       "9998  Black Lipstick, Clown Eyes Green, Wild White Hair  0xef764B  \n",
       "9999                               Mohawk, Nerd Glasses  0x0A383e  \n",
       "\n",
       "[10000 rows x 6 columns]"
      ]
     },
     "execution_count": 65,
     "metadata": {},
     "output_type": "execute_result"
    }
   ],
   "source": [
    "df=pd.read_csv('cryptopunks.csv')\n",
    "df=df.drop(columns=['Unnamed: 0'])\n",
    "df"
   ]
  },
  {
   "cell_type": "markdown",
   "id": "439fe4b1",
   "metadata": {},
   "source": [
    "##### get list of traits"
   ]
  },
  {
   "cell_type": "code",
   "execution_count": 66,
   "id": "fa9b5ef0",
   "metadata": {},
   "outputs": [],
   "source": [
    "tr=[]\n",
    "for xx in df.traits:\n",
    "    tr.append(xx)"
   ]
  },
  {
   "cell_type": "code",
   "execution_count": 67,
   "id": "702a2555",
   "metadata": {},
   "outputs": [],
   "source": [
    "listToStr = ','.join([str(elem) for elem in tr])\n",
    "listToStr=listToStr.replace(', ',',').replace(' ,',',')\n",
    "list1=listToStr.split(\",\")\n",
    "trset=set(list1)"
   ]
  },
  {
   "cell_type": "code",
   "execution_count": 68,
   "id": "b1df813a",
   "metadata": {},
   "outputs": [],
   "source": [
    "traits_lst=list(trset)\n",
    "traits_lst.remove('nan')"
   ]
  },
  {
   "cell_type": "code",
   "execution_count": 69,
   "id": "577b99db",
   "metadata": {},
   "outputs": [
    {
     "name": "stdout",
     "output_type": "stream",
     "text": [
      "['Messy Hair', 'Mohawk Dark', 'Medical Mask', 'Pipe', 'Mustache', 'Horned Rim Glasses', 'Tiara', 'Cap Forward', 'Hidden Mole', 'Fedora', 'Pilot Helmet', 'Mohawk', 'Muttonchops', 'Clown Eyes Green', 'Bandana', 'Crazy Hair', '3D Glasses', 'Small Shades', 'Frumpy Hair', 'Big Beard', 'Headband', 'Wild Hair', 'Purple Lipstick', 'Half Shaved', 'Hidden Mustache', 'Big Shades', 'Luxurious Beard', 'VR', 'Mohawk Thin', 'Silver Chain', 'Chinstrap', 'Do-rag', 'Choker', 'Top Hat', 'Cigarette', 'Pigtails', 'Nerd Glasses', 'Vampire Hair', 'Straight Hair Blonde', 'Buck Teeth', 'Clown Nose', 'Wild Blonde', 'Gold Chain', 'Blonde Short', 'Smile', 'Handlebars', 'Blonde Bob', 'Frown', 'Beanie', 'Vape', 'Rosy Cheeks', 'Straight Hair', 'Cowboy Hat', 'Wild White Hair', 'Hidden Lipstick', 'Hidden Buck Teeth', 'Police Cap', 'Cap', 'Knitted Cap', 'Orange Side', 'Hot Lipstick', 'Earring', 'Spots', 'Tassle Hat', 'Classic Shades', 'Eye Patch', 'Hidden Earring', 'Clown Eyes Blue', 'Front Beard Dark', 'Shaved Head', 'Normal Beard', 'Goat', 'Shadow Beard', 'Stringy Hair', 'Purple Hair', 'Blue Eye Shadow', 'Normal Beard Black', 'Regular Shades', 'Green Eye Shadow', 'Straight Hair Dark', 'Mole', 'Hidden Frown', 'Clown Hair Green', 'Welding Goggles', 'Hidden Smile', 'Purple Eye Shadow', 'Red Mohawk', 'Eye Mask', 'Black Lipstick', 'Hoodie', 'Hidden Handlebars', 'Front Beard', 'Peak Spike', 'Dark Hair', 'Pink With Hat']\n"
     ]
    }
   ],
   "source": [
    "print(traits_lst)"
   ]
  },
  {
   "cell_type": "code",
   "execution_count": 70,
   "id": "6b5ca2c2",
   "metadata": {},
   "outputs": [],
   "source": [
    "# Hot encoding\n",
    "for ww in traits_lst:\n",
    "    def wording(n):\n",
    "        text=str(n)\n",
    "        if ww in text:\n",
    "            return int('1')\n",
    "        else:\n",
    "            return int('0')\n",
    "\n",
    "    df[ww] = df['traits'].apply(wording)\n"
   ]
  },
  {
   "cell_type": "code",
   "execution_count": 71,
   "id": "8b266663",
   "metadata": {},
   "outputs": [
    {
     "data": {
      "text/html": [
       "<div>\n",
       "<style scoped>\n",
       "    .dataframe tbody tr th:only-of-type {\n",
       "        vertical-align: middle;\n",
       "    }\n",
       "\n",
       "    .dataframe tbody tr th {\n",
       "        vertical-align: top;\n",
       "    }\n",
       "\n",
       "    .dataframe thead th {\n",
       "        text-align: right;\n",
       "    }\n",
       "</style>\n",
       "<table border=\"1\" class=\"dataframe\">\n",
       "  <thead>\n",
       "    <tr style=\"text-align: right;\">\n",
       "      <th></th>\n",
       "      <th>cryptopunkID</th>\n",
       "      <th>rarity_rank</th>\n",
       "      <th>tipus</th>\n",
       "      <th>skin</th>\n",
       "      <th>owner</th>\n",
       "      <th>Messy Hair</th>\n",
       "      <th>Mohawk Dark</th>\n",
       "      <th>Medical Mask</th>\n",
       "      <th>Pipe</th>\n",
       "      <th>Mustache</th>\n",
       "      <th>...</th>\n",
       "      <th>Purple Eye Shadow</th>\n",
       "      <th>Red Mohawk</th>\n",
       "      <th>Eye Mask</th>\n",
       "      <th>Black Lipstick</th>\n",
       "      <th>Hoodie</th>\n",
       "      <th>Hidden Handlebars</th>\n",
       "      <th>Front Beard</th>\n",
       "      <th>Peak Spike</th>\n",
       "      <th>Dark Hair</th>\n",
       "      <th>Pink With Hat</th>\n",
       "    </tr>\n",
       "  </thead>\n",
       "  <tbody>\n",
       "    <tr>\n",
       "      <th>0</th>\n",
       "      <td>0</td>\n",
       "      <td>2023</td>\n",
       "      <td>Female</td>\n",
       "      <td>Mid-skinned</td>\n",
       "      <td>0xE08c32</td>\n",
       "      <td>0</td>\n",
       "      <td>0</td>\n",
       "      <td>0</td>\n",
       "      <td>0</td>\n",
       "      <td>0</td>\n",
       "      <td>...</td>\n",
       "      <td>0</td>\n",
       "      <td>0</td>\n",
       "      <td>0</td>\n",
       "      <td>0</td>\n",
       "      <td>0</td>\n",
       "      <td>0</td>\n",
       "      <td>0</td>\n",
       "      <td>0</td>\n",
       "      <td>0</td>\n",
       "      <td>0</td>\n",
       "    </tr>\n",
       "    <tr>\n",
       "      <th>1</th>\n",
       "      <td>1</td>\n",
       "      <td>4352</td>\n",
       "      <td>Male</td>\n",
       "      <td>Dark-skinned</td>\n",
       "      <td>0xB88F61</td>\n",
       "      <td>0</td>\n",
       "      <td>0</td>\n",
       "      <td>0</td>\n",
       "      <td>0</td>\n",
       "      <td>0</td>\n",
       "      <td>...</td>\n",
       "      <td>0</td>\n",
       "      <td>0</td>\n",
       "      <td>0</td>\n",
       "      <td>0</td>\n",
       "      <td>0</td>\n",
       "      <td>0</td>\n",
       "      <td>0</td>\n",
       "      <td>0</td>\n",
       "      <td>0</td>\n",
       "      <td>0</td>\n",
       "    </tr>\n",
       "    <tr>\n",
       "      <th>2</th>\n",
       "      <td>2</td>\n",
       "      <td>8090</td>\n",
       "      <td>Female</td>\n",
       "      <td>Light-skinned</td>\n",
       "      <td>0x897aEA</td>\n",
       "      <td>0</td>\n",
       "      <td>0</td>\n",
       "      <td>0</td>\n",
       "      <td>0</td>\n",
       "      <td>0</td>\n",
       "      <td>...</td>\n",
       "      <td>0</td>\n",
       "      <td>0</td>\n",
       "      <td>0</td>\n",
       "      <td>0</td>\n",
       "      <td>0</td>\n",
       "      <td>0</td>\n",
       "      <td>0</td>\n",
       "      <td>0</td>\n",
       "      <td>0</td>\n",
       "      <td>0</td>\n",
       "    </tr>\n",
       "    <tr>\n",
       "      <th>3</th>\n",
       "      <td>3</td>\n",
       "      <td>7896</td>\n",
       "      <td>Male</td>\n",
       "      <td>Dark-skinned</td>\n",
       "      <td>0xC352B5</td>\n",
       "      <td>0</td>\n",
       "      <td>0</td>\n",
       "      <td>0</td>\n",
       "      <td>1</td>\n",
       "      <td>0</td>\n",
       "      <td>...</td>\n",
       "      <td>0</td>\n",
       "      <td>0</td>\n",
       "      <td>0</td>\n",
       "      <td>0</td>\n",
       "      <td>0</td>\n",
       "      <td>0</td>\n",
       "      <td>0</td>\n",
       "      <td>0</td>\n",
       "      <td>0</td>\n",
       "      <td>0</td>\n",
       "    </tr>\n",
       "    <tr>\n",
       "      <th>4</th>\n",
       "      <td>4</td>\n",
       "      <td>7332</td>\n",
       "      <td>Male</td>\n",
       "      <td>Mid-skinned</td>\n",
       "      <td>0xC352B5</td>\n",
       "      <td>0</td>\n",
       "      <td>0</td>\n",
       "      <td>0</td>\n",
       "      <td>0</td>\n",
       "      <td>0</td>\n",
       "      <td>...</td>\n",
       "      <td>0</td>\n",
       "      <td>0</td>\n",
       "      <td>0</td>\n",
       "      <td>0</td>\n",
       "      <td>0</td>\n",
       "      <td>0</td>\n",
       "      <td>0</td>\n",
       "      <td>0</td>\n",
       "      <td>0</td>\n",
       "      <td>0</td>\n",
       "    </tr>\n",
       "    <tr>\n",
       "      <th>...</th>\n",
       "      <td>...</td>\n",
       "      <td>...</td>\n",
       "      <td>...</td>\n",
       "      <td>...</td>\n",
       "      <td>...</td>\n",
       "      <td>...</td>\n",
       "      <td>...</td>\n",
       "      <td>...</td>\n",
       "      <td>...</td>\n",
       "      <td>...</td>\n",
       "      <td>...</td>\n",
       "      <td>...</td>\n",
       "      <td>...</td>\n",
       "      <td>...</td>\n",
       "      <td>...</td>\n",
       "      <td>...</td>\n",
       "      <td>...</td>\n",
       "      <td>...</td>\n",
       "      <td>...</td>\n",
       "      <td>...</td>\n",
       "      <td>...</td>\n",
       "    </tr>\n",
       "    <tr>\n",
       "      <th>9995</th>\n",
       "      <td>9995</td>\n",
       "      <td>2466</td>\n",
       "      <td>Female</td>\n",
       "      <td>Albino-skinned</td>\n",
       "      <td>0x758353</td>\n",
       "      <td>0</td>\n",
       "      <td>0</td>\n",
       "      <td>0</td>\n",
       "      <td>0</td>\n",
       "      <td>0</td>\n",
       "      <td>...</td>\n",
       "      <td>1</td>\n",
       "      <td>0</td>\n",
       "      <td>0</td>\n",
       "      <td>0</td>\n",
       "      <td>0</td>\n",
       "      <td>0</td>\n",
       "      <td>0</td>\n",
       "      <td>0</td>\n",
       "      <td>0</td>\n",
       "      <td>0</td>\n",
       "    </tr>\n",
       "    <tr>\n",
       "      <th>9996</th>\n",
       "      <td>9996</td>\n",
       "      <td>4323</td>\n",
       "      <td>Male</td>\n",
       "      <td>Light-skinned</td>\n",
       "      <td>0xA9bFA9</td>\n",
       "      <td>0</td>\n",
       "      <td>0</td>\n",
       "      <td>0</td>\n",
       "      <td>0</td>\n",
       "      <td>0</td>\n",
       "      <td>...</td>\n",
       "      <td>0</td>\n",
       "      <td>0</td>\n",
       "      <td>0</td>\n",
       "      <td>0</td>\n",
       "      <td>0</td>\n",
       "      <td>0</td>\n",
       "      <td>0</td>\n",
       "      <td>0</td>\n",
       "      <td>0</td>\n",
       "      <td>0</td>\n",
       "    </tr>\n",
       "    <tr>\n",
       "      <th>9997</th>\n",
       "      <td>9997</td>\n",
       "      <td>498</td>\n",
       "      <td>Zombie</td>\n",
       "      <td>Zombie-skinned</td>\n",
       "      <td>0x944D32</td>\n",
       "      <td>0</td>\n",
       "      <td>0</td>\n",
       "      <td>0</td>\n",
       "      <td>0</td>\n",
       "      <td>0</td>\n",
       "      <td>...</td>\n",
       "      <td>0</td>\n",
       "      <td>0</td>\n",
       "      <td>0</td>\n",
       "      <td>0</td>\n",
       "      <td>0</td>\n",
       "      <td>0</td>\n",
       "      <td>1</td>\n",
       "      <td>0</td>\n",
       "      <td>0</td>\n",
       "      <td>0</td>\n",
       "    </tr>\n",
       "    <tr>\n",
       "      <th>9998</th>\n",
       "      <td>9998</td>\n",
       "      <td>1271</td>\n",
       "      <td>Female</td>\n",
       "      <td>Mid-skinned</td>\n",
       "      <td>0xef764B</td>\n",
       "      <td>0</td>\n",
       "      <td>0</td>\n",
       "      <td>0</td>\n",
       "      <td>0</td>\n",
       "      <td>0</td>\n",
       "      <td>...</td>\n",
       "      <td>0</td>\n",
       "      <td>0</td>\n",
       "      <td>0</td>\n",
       "      <td>1</td>\n",
       "      <td>0</td>\n",
       "      <td>0</td>\n",
       "      <td>0</td>\n",
       "      <td>0</td>\n",
       "      <td>0</td>\n",
       "      <td>0</td>\n",
       "    </tr>\n",
       "    <tr>\n",
       "      <th>9999</th>\n",
       "      <td>9999</td>\n",
       "      <td>9233</td>\n",
       "      <td>Female</td>\n",
       "      <td>Dark-skinned</td>\n",
       "      <td>0x0A383e</td>\n",
       "      <td>0</td>\n",
       "      <td>0</td>\n",
       "      <td>0</td>\n",
       "      <td>0</td>\n",
       "      <td>0</td>\n",
       "      <td>...</td>\n",
       "      <td>0</td>\n",
       "      <td>0</td>\n",
       "      <td>0</td>\n",
       "      <td>0</td>\n",
       "      <td>0</td>\n",
       "      <td>0</td>\n",
       "      <td>0</td>\n",
       "      <td>0</td>\n",
       "      <td>0</td>\n",
       "      <td>0</td>\n",
       "    </tr>\n",
       "  </tbody>\n",
       "</table>\n",
       "<p>10000 rows × 100 columns</p>\n",
       "</div>"
      ],
      "text/plain": [
       "      cryptopunkID  rarity_rank   tipus            skin     owner  Messy Hair  \\\n",
       "0                0         2023  Female     Mid-skinned  0xE08c32           0   \n",
       "1                1         4352    Male    Dark-skinned  0xB88F61           0   \n",
       "2                2         8090  Female   Light-skinned  0x897aEA           0   \n",
       "3                3         7896    Male    Dark-skinned  0xC352B5           0   \n",
       "4                4         7332    Male     Mid-skinned  0xC352B5           0   \n",
       "...            ...          ...     ...             ...       ...         ...   \n",
       "9995          9995         2466  Female  Albino-skinned  0x758353           0   \n",
       "9996          9996         4323    Male   Light-skinned  0xA9bFA9           0   \n",
       "9997          9997          498  Zombie  Zombie-skinned  0x944D32           0   \n",
       "9998          9998         1271  Female     Mid-skinned  0xef764B           0   \n",
       "9999          9999         9233  Female    Dark-skinned  0x0A383e           0   \n",
       "\n",
       "      Mohawk Dark  Medical Mask  Pipe  Mustache  ...  Purple Eye Shadow  \\\n",
       "0               0             0     0         0  ...                  0   \n",
       "1               0             0     0         0  ...                  0   \n",
       "2               0             0     0         0  ...                  0   \n",
       "3               0             0     1         0  ...                  0   \n",
       "4               0             0     0         0  ...                  0   \n",
       "...           ...           ...   ...       ...  ...                ...   \n",
       "9995            0             0     0         0  ...                  1   \n",
       "9996            0             0     0         0  ...                  0   \n",
       "9997            0             0     0         0  ...                  0   \n",
       "9998            0             0     0         0  ...                  0   \n",
       "9999            0             0     0         0  ...                  0   \n",
       "\n",
       "      Red Mohawk  Eye Mask  Black Lipstick  Hoodie  Hidden Handlebars  \\\n",
       "0              0         0               0       0                  0   \n",
       "1              0         0               0       0                  0   \n",
       "2              0         0               0       0                  0   \n",
       "3              0         0               0       0                  0   \n",
       "4              0         0               0       0                  0   \n",
       "...          ...       ...             ...     ...                ...   \n",
       "9995           0         0               0       0                  0   \n",
       "9996           0         0               0       0                  0   \n",
       "9997           0         0               0       0                  0   \n",
       "9998           0         0               1       0                  0   \n",
       "9999           0         0               0       0                  0   \n",
       "\n",
       "      Front Beard  Peak Spike  Dark Hair  Pink With Hat  \n",
       "0               0           0          0              0  \n",
       "1               0           0          0              0  \n",
       "2               0           0          0              0  \n",
       "3               0           0          0              0  \n",
       "4               0           0          0              0  \n",
       "...           ...         ...        ...            ...  \n",
       "9995            0           0          0              0  \n",
       "9996            0           0          0              0  \n",
       "9997            1           0          0              0  \n",
       "9998            0           0          0              0  \n",
       "9999            0           0          0              0  \n",
       "\n",
       "[10000 rows x 100 columns]"
      ]
     },
     "execution_count": 71,
     "metadata": {},
     "output_type": "execute_result"
    }
   ],
   "source": [
    "df=df.drop(columns=['traits'])\n",
    "df"
   ]
  },
  {
   "cell_type": "code",
   "execution_count": 156,
   "id": "afc1e427",
   "metadata": {},
   "outputs": [
    {
     "data": {
      "text/plain": [
       "0       4\n",
       "1       2\n",
       "2       1\n",
       "3       3\n",
       "4       4\n",
       "       ..\n",
       "9995    3\n",
       "9996    4\n",
       "9997    3\n",
       "9998    3\n",
       "9999    2\n",
       "Name: total_traits, Length: 10000, dtype: int64"
      ]
     },
     "execution_count": 156,
     "metadata": {},
     "output_type": "execute_result"
    }
   ],
   "source": [
    "df['total_traits'] = df[traits_lst].sum(axis=1)\n",
    "df['total_traits']"
   ]
  },
  {
   "cell_type": "code",
   "execution_count": 157,
   "id": "9313bfe3",
   "metadata": {},
   "outputs": [],
   "source": [
    "df.to_csv('cryptopunks_traits1.csv')"
   ]
  },
  {
   "cell_type": "code",
   "execution_count": 108,
   "id": "9e6232a7",
   "metadata": {},
   "outputs": [
    {
     "data": {
      "text/html": [
       "<div>\n",
       "<style scoped>\n",
       "    .dataframe tbody tr th:only-of-type {\n",
       "        vertical-align: middle;\n",
       "    }\n",
       "\n",
       "    .dataframe tbody tr th {\n",
       "        vertical-align: top;\n",
       "    }\n",
       "\n",
       "    .dataframe thead th {\n",
       "        text-align: right;\n",
       "    }\n",
       "</style>\n",
       "<table border=\"1\" class=\"dataframe\">\n",
       "  <thead>\n",
       "    <tr style=\"text-align: right;\">\n",
       "      <th></th>\n",
       "      <th>index</th>\n",
       "      <th>0</th>\n",
       "    </tr>\n",
       "  </thead>\n",
       "  <tbody>\n",
       "    <tr>\n",
       "      <th>0</th>\n",
       "      <td>Messy Hair</td>\n",
       "      <td>460</td>\n",
       "    </tr>\n",
       "    <tr>\n",
       "      <th>1</th>\n",
       "      <td>Mohawk Dark</td>\n",
       "      <td>429</td>\n",
       "    </tr>\n",
       "    <tr>\n",
       "      <th>2</th>\n",
       "      <td>Medical Mask</td>\n",
       "      <td>175</td>\n",
       "    </tr>\n",
       "    <tr>\n",
       "      <th>3</th>\n",
       "      <td>Pipe</td>\n",
       "      <td>317</td>\n",
       "    </tr>\n",
       "    <tr>\n",
       "      <th>4</th>\n",
       "      <td>Mustache</td>\n",
       "      <td>288</td>\n",
       "    </tr>\n",
       "    <tr>\n",
       "      <th>...</th>\n",
       "      <td>...</td>\n",
       "      <td>...</td>\n",
       "    </tr>\n",
       "    <tr>\n",
       "      <th>90</th>\n",
       "      <td>Hidden Handlebars</td>\n",
       "      <td>5</td>\n",
       "    </tr>\n",
       "    <tr>\n",
       "      <th>91</th>\n",
       "      <td>Front Beard</td>\n",
       "      <td>533</td>\n",
       "    </tr>\n",
       "    <tr>\n",
       "      <th>92</th>\n",
       "      <td>Peak Spike</td>\n",
       "      <td>303</td>\n",
       "    </tr>\n",
       "    <tr>\n",
       "      <th>93</th>\n",
       "      <td>Dark Hair</td>\n",
       "      <td>157</td>\n",
       "    </tr>\n",
       "    <tr>\n",
       "      <th>94</th>\n",
       "      <td>Pink With Hat</td>\n",
       "      <td>95</td>\n",
       "    </tr>\n",
       "  </tbody>\n",
       "</table>\n",
       "<p>95 rows × 2 columns</p>\n",
       "</div>"
      ],
      "text/plain": [
       "                index    0\n",
       "0          Messy Hair  460\n",
       "1         Mohawk Dark  429\n",
       "2        Medical Mask  175\n",
       "3                Pipe  317\n",
       "4            Mustache  288\n",
       "..                ...  ...\n",
       "90  Hidden Handlebars    5\n",
       "91        Front Beard  533\n",
       "92         Peak Spike  303\n",
       "93          Dark Hair  157\n",
       "94      Pink With Hat   95\n",
       "\n",
       "[95 rows x 2 columns]"
      ]
     },
     "execution_count": 108,
     "metadata": {},
     "output_type": "execute_result"
    }
   ],
   "source": [
    "dftraits=df[traits_lst].sum(axis = 0, skipna = True).reset_index()\n",
    "dftraits"
   ]
  },
  {
   "cell_type": "code",
   "execution_count": 109,
   "id": "f24c63c3",
   "metadata": {},
   "outputs": [
    {
     "data": {
      "text/html": [
       "<div>\n",
       "<style scoped>\n",
       "    .dataframe tbody tr th:only-of-type {\n",
       "        vertical-align: middle;\n",
       "    }\n",
       "\n",
       "    .dataframe tbody tr th {\n",
       "        vertical-align: top;\n",
       "    }\n",
       "\n",
       "    .dataframe thead th {\n",
       "        text-align: right;\n",
       "    }\n",
       "</style>\n",
       "<table border=\"1\" class=\"dataframe\">\n",
       "  <thead>\n",
       "    <tr style=\"text-align: right;\">\n",
       "      <th></th>\n",
       "      <th>trait</th>\n",
       "      <th>number</th>\n",
       "    </tr>\n",
       "  </thead>\n",
       "  <tbody>\n",
       "    <tr>\n",
       "      <th>0</th>\n",
       "      <td>Messy Hair</td>\n",
       "      <td>460</td>\n",
       "    </tr>\n",
       "    <tr>\n",
       "      <th>1</th>\n",
       "      <td>Mohawk Dark</td>\n",
       "      <td>429</td>\n",
       "    </tr>\n",
       "    <tr>\n",
       "      <th>2</th>\n",
       "      <td>Medical Mask</td>\n",
       "      <td>175</td>\n",
       "    </tr>\n",
       "    <tr>\n",
       "      <th>3</th>\n",
       "      <td>Pipe</td>\n",
       "      <td>317</td>\n",
       "    </tr>\n",
       "    <tr>\n",
       "      <th>4</th>\n",
       "      <td>Mustache</td>\n",
       "      <td>288</td>\n",
       "    </tr>\n",
       "    <tr>\n",
       "      <th>...</th>\n",
       "      <td>...</td>\n",
       "      <td>...</td>\n",
       "    </tr>\n",
       "    <tr>\n",
       "      <th>90</th>\n",
       "      <td>Hidden Handlebars</td>\n",
       "      <td>5</td>\n",
       "    </tr>\n",
       "    <tr>\n",
       "      <th>91</th>\n",
       "      <td>Front Beard</td>\n",
       "      <td>533</td>\n",
       "    </tr>\n",
       "    <tr>\n",
       "      <th>92</th>\n",
       "      <td>Peak Spike</td>\n",
       "      <td>303</td>\n",
       "    </tr>\n",
       "    <tr>\n",
       "      <th>93</th>\n",
       "      <td>Dark Hair</td>\n",
       "      <td>157</td>\n",
       "    </tr>\n",
       "    <tr>\n",
       "      <th>94</th>\n",
       "      <td>Pink With Hat</td>\n",
       "      <td>95</td>\n",
       "    </tr>\n",
       "  </tbody>\n",
       "</table>\n",
       "<p>95 rows × 2 columns</p>\n",
       "</div>"
      ],
      "text/plain": [
       "                trait  number\n",
       "0          Messy Hair     460\n",
       "1         Mohawk Dark     429\n",
       "2        Medical Mask     175\n",
       "3                Pipe     317\n",
       "4            Mustache     288\n",
       "..                ...     ...\n",
       "90  Hidden Handlebars       5\n",
       "91        Front Beard     533\n",
       "92         Peak Spike     303\n",
       "93          Dark Hair     157\n",
       "94      Pink With Hat      95\n",
       "\n",
       "[95 rows x 2 columns]"
      ]
     },
     "execution_count": 109,
     "metadata": {},
     "output_type": "execute_result"
    }
   ],
   "source": [
    "#dftraits.reset_index()\n",
    "dftraits.columns=['trait','number']\n",
    "dftraits"
   ]
  },
  {
   "cell_type": "code",
   "execution_count": 142,
   "id": "395c7f4d",
   "metadata": {},
   "outputs": [],
   "source": [
    "\n",
    "def wording(n):\n",
    "    if 'Hidden' in n:\n",
    "        return int('1')\n",
    "    else:\n",
    "        return int('0')\n",
    "\n",
    "dftraits['hidden'] = dftraits['trait'].apply(wording)\n"
   ]
  },
  {
   "cell_type": "code",
   "execution_count": 151,
   "id": "7e3b980e",
   "metadata": {},
   "outputs": [
    {
     "data": {
      "text/html": [
       "<div>\n",
       "<style scoped>\n",
       "    .dataframe tbody tr th:only-of-type {\n",
       "        vertical-align: middle;\n",
       "    }\n",
       "\n",
       "    .dataframe tbody tr th {\n",
       "        vertical-align: top;\n",
       "    }\n",
       "\n",
       "    .dataframe thead th {\n",
       "        text-align: right;\n",
       "    }\n",
       "</style>\n",
       "<table border=\"1\" class=\"dataframe\">\n",
       "  <thead>\n",
       "    <tr style=\"text-align: right;\">\n",
       "      <th></th>\n",
       "      <th>trait</th>\n",
       "      <th>number</th>\n",
       "      <th>hidden</th>\n",
       "      <th>total_hidden</th>\n",
       "    </tr>\n",
       "  </thead>\n",
       "  <tbody>\n",
       "    <tr>\n",
       "      <th>0</th>\n",
       "      <td>Messy Hair</td>\n",
       "      <td>460</td>\n",
       "      <td>0</td>\n",
       "      <td>0</td>\n",
       "    </tr>\n",
       "    <tr>\n",
       "      <th>1</th>\n",
       "      <td>Mohawk Dark</td>\n",
       "      <td>429</td>\n",
       "      <td>0</td>\n",
       "      <td>0</td>\n",
       "    </tr>\n",
       "    <tr>\n",
       "      <th>2</th>\n",
       "      <td>Medical Mask</td>\n",
       "      <td>175</td>\n",
       "      <td>0</td>\n",
       "      <td>0</td>\n",
       "    </tr>\n",
       "    <tr>\n",
       "      <th>3</th>\n",
       "      <td>Pipe</td>\n",
       "      <td>317</td>\n",
       "      <td>0</td>\n",
       "      <td>0</td>\n",
       "    </tr>\n",
       "    <tr>\n",
       "      <th>4</th>\n",
       "      <td>Mustache</td>\n",
       "      <td>288</td>\n",
       "      <td>0</td>\n",
       "      <td>0</td>\n",
       "    </tr>\n",
       "    <tr>\n",
       "      <th>...</th>\n",
       "      <td>...</td>\n",
       "      <td>...</td>\n",
       "      <td>...</td>\n",
       "      <td>...</td>\n",
       "    </tr>\n",
       "    <tr>\n",
       "      <th>90</th>\n",
       "      <td>Hidden Handlebars</td>\n",
       "      <td>5</td>\n",
       "      <td>1</td>\n",
       "      <td>5</td>\n",
       "    </tr>\n",
       "    <tr>\n",
       "      <th>91</th>\n",
       "      <td>Front Beard</td>\n",
       "      <td>533</td>\n",
       "      <td>0</td>\n",
       "      <td>0</td>\n",
       "    </tr>\n",
       "    <tr>\n",
       "      <th>92</th>\n",
       "      <td>Peak Spike</td>\n",
       "      <td>303</td>\n",
       "      <td>0</td>\n",
       "      <td>0</td>\n",
       "    </tr>\n",
       "    <tr>\n",
       "      <th>93</th>\n",
       "      <td>Dark Hair</td>\n",
       "      <td>157</td>\n",
       "      <td>0</td>\n",
       "      <td>0</td>\n",
       "    </tr>\n",
       "    <tr>\n",
       "      <th>94</th>\n",
       "      <td>Pink With Hat</td>\n",
       "      <td>95</td>\n",
       "      <td>0</td>\n",
       "      <td>0</td>\n",
       "    </tr>\n",
       "  </tbody>\n",
       "</table>\n",
       "<p>95 rows × 4 columns</p>\n",
       "</div>"
      ],
      "text/plain": [
       "                trait  number  hidden  total_hidden\n",
       "0          Messy Hair     460       0             0\n",
       "1         Mohawk Dark     429       0             0\n",
       "2        Medical Mask     175       0             0\n",
       "3                Pipe     317       0             0\n",
       "4            Mustache     288       0             0\n",
       "..                ...     ...     ...           ...\n",
       "90  Hidden Handlebars       5       1             5\n",
       "91        Front Beard     533       0             0\n",
       "92         Peak Spike     303       0             0\n",
       "93          Dark Hair     157       0             0\n",
       "94      Pink With Hat      95       0             0\n",
       "\n",
       "[95 rows x 4 columns]"
      ]
     },
     "execution_count": 151,
     "metadata": {},
     "output_type": "execute_result"
    }
   ],
   "source": [
    "dftraits.columns=['trait','number','hidden','total_hidden']\n",
    "dftraits"
   ]
  },
  {
   "cell_type": "code",
   "execution_count": 163,
   "id": "0cb3dccf",
   "metadata": {},
   "outputs": [],
   "source": [
    "def hidden(n):\n",
    "    if n == 1:\n",
    "        return 'hidden'\n",
    "    else:\n",
    "        return 'shown'\n",
    "\n",
    "dftraits['hidden2'] = dftraits['hidden'].apply(hidden)"
   ]
  },
  {
   "cell_type": "code",
   "execution_count": 164,
   "id": "39e15b01",
   "metadata": {},
   "outputs": [
    {
     "data": {
      "text/html": [
       "<div>\n",
       "<style scoped>\n",
       "    .dataframe tbody tr th:only-of-type {\n",
       "        vertical-align: middle;\n",
       "    }\n",
       "\n",
       "    .dataframe tbody tr th {\n",
       "        vertical-align: top;\n",
       "    }\n",
       "\n",
       "    .dataframe thead th {\n",
       "        text-align: right;\n",
       "    }\n",
       "</style>\n",
       "<table border=\"1\" class=\"dataframe\">\n",
       "  <thead>\n",
       "    <tr style=\"text-align: right;\">\n",
       "      <th></th>\n",
       "      <th>trait</th>\n",
       "      <th>number</th>\n",
       "      <th>hidden</th>\n",
       "      <th>total_hidden</th>\n",
       "      <th>hidden2</th>\n",
       "    </tr>\n",
       "  </thead>\n",
       "  <tbody>\n",
       "    <tr>\n",
       "      <th>0</th>\n",
       "      <td>Messy Hair</td>\n",
       "      <td>460</td>\n",
       "      <td>0</td>\n",
       "      <td>0</td>\n",
       "      <td>shown</td>\n",
       "    </tr>\n",
       "    <tr>\n",
       "      <th>1</th>\n",
       "      <td>Mohawk Dark</td>\n",
       "      <td>429</td>\n",
       "      <td>0</td>\n",
       "      <td>0</td>\n",
       "      <td>shown</td>\n",
       "    </tr>\n",
       "    <tr>\n",
       "      <th>2</th>\n",
       "      <td>Medical Mask</td>\n",
       "      <td>175</td>\n",
       "      <td>0</td>\n",
       "      <td>0</td>\n",
       "      <td>shown</td>\n",
       "    </tr>\n",
       "    <tr>\n",
       "      <th>3</th>\n",
       "      <td>Pipe</td>\n",
       "      <td>317</td>\n",
       "      <td>0</td>\n",
       "      <td>0</td>\n",
       "      <td>shown</td>\n",
       "    </tr>\n",
       "    <tr>\n",
       "      <th>4</th>\n",
       "      <td>Mustache</td>\n",
       "      <td>288</td>\n",
       "      <td>0</td>\n",
       "      <td>0</td>\n",
       "      <td>shown</td>\n",
       "    </tr>\n",
       "    <tr>\n",
       "      <th>...</th>\n",
       "      <td>...</td>\n",
       "      <td>...</td>\n",
       "      <td>...</td>\n",
       "      <td>...</td>\n",
       "      <td>...</td>\n",
       "    </tr>\n",
       "    <tr>\n",
       "      <th>90</th>\n",
       "      <td>Hidden Handlebars</td>\n",
       "      <td>5</td>\n",
       "      <td>1</td>\n",
       "      <td>5</td>\n",
       "      <td>hidden</td>\n",
       "    </tr>\n",
       "    <tr>\n",
       "      <th>91</th>\n",
       "      <td>Front Beard</td>\n",
       "      <td>533</td>\n",
       "      <td>0</td>\n",
       "      <td>0</td>\n",
       "      <td>shown</td>\n",
       "    </tr>\n",
       "    <tr>\n",
       "      <th>92</th>\n",
       "      <td>Peak Spike</td>\n",
       "      <td>303</td>\n",
       "      <td>0</td>\n",
       "      <td>0</td>\n",
       "      <td>shown</td>\n",
       "    </tr>\n",
       "    <tr>\n",
       "      <th>93</th>\n",
       "      <td>Dark Hair</td>\n",
       "      <td>157</td>\n",
       "      <td>0</td>\n",
       "      <td>0</td>\n",
       "      <td>shown</td>\n",
       "    </tr>\n",
       "    <tr>\n",
       "      <th>94</th>\n",
       "      <td>Pink With Hat</td>\n",
       "      <td>95</td>\n",
       "      <td>0</td>\n",
       "      <td>0</td>\n",
       "      <td>shown</td>\n",
       "    </tr>\n",
       "  </tbody>\n",
       "</table>\n",
       "<p>95 rows × 5 columns</p>\n",
       "</div>"
      ],
      "text/plain": [
       "                trait  number  hidden  total_hidden hidden2\n",
       "0          Messy Hair     460       0             0   shown\n",
       "1         Mohawk Dark     429       0             0   shown\n",
       "2        Medical Mask     175       0             0   shown\n",
       "3                Pipe     317       0             0   shown\n",
       "4            Mustache     288       0             0   shown\n",
       "..                ...     ...     ...           ...     ...\n",
       "90  Hidden Handlebars       5       1             5  hidden\n",
       "91        Front Beard     533       0             0   shown\n",
       "92         Peak Spike     303       0             0   shown\n",
       "93          Dark Hair     157       0             0   shown\n",
       "94      Pink With Hat      95       0             0   shown\n",
       "\n",
       "[95 rows x 5 columns]"
      ]
     },
     "execution_count": 164,
     "metadata": {},
     "output_type": "execute_result"
    }
   ],
   "source": [
    "dftraits"
   ]
  },
  {
   "cell_type": "code",
   "execution_count": 145,
   "id": "aebfead6",
   "metadata": {},
   "outputs": [],
   "source": [
    "hidden = dftraits.number * dftraits.Hidden\n",
    "dftraits['hidden']=hidden"
   ]
  },
  {
   "cell_type": "code",
   "execution_count": 152,
   "id": "b18010ea",
   "metadata": {},
   "outputs": [
    {
     "data": {
      "text/plain": [
       "636"
      ]
     },
     "execution_count": 152,
     "metadata": {},
     "output_type": "execute_result"
    }
   ],
   "source": [
    "dftraits['total_hidden'].sum()"
   ]
  },
  {
   "cell_type": "code",
   "execution_count": 153,
   "id": "c821b63b",
   "metadata": {},
   "outputs": [],
   "source": [
    "import plotly.express as px"
   ]
  },
  {
   "cell_type": "code",
   "execution_count": 169,
   "id": "cf01ea90",
   "metadata": {},
   "outputs": [
    {
     "data": {
      "application/vnd.plotly.v1+json": {
       "config": {
        "plotlyServerURL": "https://plot.ly"
       },
       "data": [
        {
         "branchvalues": "total",
         "domain": {
          "x": [
           0,
           1
          ],
          "y": [
           0,
           1
          ]
         },
         "hovertemplate": "labels=%{label}<br>number=%{value}<br>parent=%{parent}<br>id=%{id}<extra></extra>",
         "ids": [
          "shown/3D Glasses",
          "shown/Bandana",
          "shown/Beanie",
          "shown/Big Beard",
          "shown/Big Shades",
          "shown/Black Lipstick",
          "shown/Blonde Bob",
          "shown/Blonde Short",
          "shown/Blue Eye Shadow",
          "shown/Buck Teeth",
          "shown/Cap",
          "shown/Cap Forward",
          "shown/Chinstrap",
          "shown/Choker",
          "shown/Cigarette",
          "shown/Classic Shades",
          "shown/Clown Eyes Blue",
          "shown/Clown Eyes Green",
          "shown/Clown Hair Green",
          "shown/Clown Nose",
          "shown/Cowboy Hat",
          "shown/Crazy Hair",
          "shown/Dark Hair",
          "shown/Do-rag",
          "shown/Earring",
          "shown/Eye Mask",
          "shown/Eye Patch",
          "shown/Fedora",
          "shown/Front Beard",
          "shown/Front Beard Dark",
          "shown/Frown",
          "shown/Frumpy Hair",
          "shown/Goat",
          "shown/Gold Chain",
          "shown/Green Eye Shadow",
          "shown/Half Shaved",
          "shown/Handlebars",
          "shown/Headband",
          "hidden/Hidden Buck Teeth",
          "hidden/Hidden Earring",
          "hidden/Hidden Frown",
          "hidden/Hidden Handlebars",
          "hidden/Hidden Lipstick",
          "hidden/Hidden Mole",
          "hidden/Hidden Mustache",
          "hidden/Hidden Smile",
          "shown/Hoodie",
          "shown/Horned Rim Glasses",
          "shown/Hot Lipstick",
          "shown/Knitted Cap",
          "shown/Luxurious Beard",
          "shown/Medical Mask",
          "shown/Messy Hair",
          "shown/Mohawk",
          "shown/Mohawk Dark",
          "shown/Mohawk Thin",
          "shown/Mole",
          "shown/Mustache",
          "shown/Muttonchops",
          "shown/Nerd Glasses",
          "shown/Normal Beard",
          "shown/Normal Beard Black",
          "shown/Orange Side",
          "shown/Peak Spike",
          "shown/Pigtails",
          "shown/Pilot Helmet",
          "shown/Pink With Hat",
          "shown/Pipe",
          "shown/Police Cap",
          "shown/Purple Eye Shadow",
          "shown/Purple Hair",
          "shown/Purple Lipstick",
          "shown/Red Mohawk",
          "shown/Regular Shades",
          "shown/Rosy Cheeks",
          "shown/Shadow Beard",
          "shown/Shaved Head",
          "shown/Silver Chain",
          "shown/Small Shades",
          "shown/Smile",
          "shown/Spots",
          "shown/Straight Hair",
          "shown/Straight Hair Blonde",
          "shown/Straight Hair Dark",
          "shown/Stringy Hair",
          "shown/Tassle Hat",
          "shown/Tiara",
          "shown/Top Hat",
          "shown/VR",
          "shown/Vampire Hair",
          "shown/Vape",
          "shown/Welding Goggles",
          "shown/Wild Blonde",
          "shown/Wild Hair",
          "shown/Wild White Hair",
          "hidden",
          "shown"
         ],
         "labels": [
          "3D Glasses",
          "Bandana",
          "Beanie",
          "Big Beard",
          "Big Shades",
          "Black Lipstick",
          "Blonde Bob",
          "Blonde Short",
          "Blue Eye Shadow",
          "Buck Teeth",
          "Cap",
          "Cap Forward",
          "Chinstrap",
          "Choker",
          "Cigarette",
          "Classic Shades",
          "Clown Eyes Blue",
          "Clown Eyes Green",
          "Clown Hair Green",
          "Clown Nose",
          "Cowboy Hat",
          "Crazy Hair",
          "Dark Hair",
          "Do-rag",
          "Earring",
          "Eye Mask",
          "Eye Patch",
          "Fedora",
          "Front Beard",
          "Front Beard Dark",
          "Frown",
          "Frumpy Hair",
          "Goat",
          "Gold Chain",
          "Green Eye Shadow",
          "Half Shaved",
          "Handlebars",
          "Headband",
          "Hidden Buck Teeth",
          "Hidden Earring",
          "Hidden Frown",
          "Hidden Handlebars",
          "Hidden Lipstick",
          "Hidden Mole",
          "Hidden Mustache",
          "Hidden Smile",
          "Hoodie",
          "Horned Rim Glasses",
          "Hot Lipstick",
          "Knitted Cap",
          "Luxurious Beard",
          "Medical Mask",
          "Messy Hair",
          "Mohawk",
          "Mohawk Dark",
          "Mohawk Thin",
          "Mole",
          "Mustache",
          "Muttonchops",
          "Nerd Glasses",
          "Normal Beard",
          "Normal Beard Black",
          "Orange Side",
          "Peak Spike",
          "Pigtails",
          "Pilot Helmet",
          "Pink With Hat",
          "Pipe",
          "Police Cap",
          "Purple Eye Shadow",
          "Purple Hair",
          "Purple Lipstick",
          "Red Mohawk",
          "Regular Shades",
          "Rosy Cheeks",
          "Shadow Beard",
          "Shaved Head",
          "Silver Chain",
          "Small Shades",
          "Smile",
          "Spots",
          "Straight Hair",
          "Straight Hair Blonde",
          "Straight Hair Dark",
          "Stringy Hair",
          "Tassle Hat",
          "Tiara",
          "Top Hat",
          "VR",
          "Vampire Hair",
          "Vape",
          "Welding Goggles",
          "Wild Blonde",
          "Wild Hair",
          "Wild White Hair",
          "hidden",
          "shown"
         ],
         "name": "",
         "parents": [
          "shown",
          "shown",
          "shown",
          "shown",
          "shown",
          "shown",
          "shown",
          "shown",
          "shown",
          "shown",
          "shown",
          "shown",
          "shown",
          "shown",
          "shown",
          "shown",
          "shown",
          "shown",
          "shown",
          "shown",
          "shown",
          "shown",
          "shown",
          "shown",
          "shown",
          "shown",
          "shown",
          "shown",
          "shown",
          "shown",
          "shown",
          "shown",
          "shown",
          "shown",
          "shown",
          "shown",
          "shown",
          "shown",
          "hidden",
          "hidden",
          "hidden",
          "hidden",
          "hidden",
          "hidden",
          "hidden",
          "hidden",
          "shown",
          "shown",
          "shown",
          "shown",
          "shown",
          "shown",
          "shown",
          "shown",
          "shown",
          "shown",
          "shown",
          "shown",
          "shown",
          "shown",
          "shown",
          "shown",
          "shown",
          "shown",
          "shown",
          "shown",
          "shown",
          "shown",
          "shown",
          "shown",
          "shown",
          "shown",
          "shown",
          "shown",
          "shown",
          "shown",
          "shown",
          "shown",
          "shown",
          "shown",
          "shown",
          "shown",
          "shown",
          "shown",
          "shown",
          "shown",
          "shown",
          "shown",
          "shown",
          "shown",
          "shown",
          "shown",
          "shown",
          "shown",
          "shown",
          "",
          ""
         ],
         "type": "sunburst",
         "values": [
          286,
          481,
          44,
          146,
          535,
          617,
          147,
          129,
          266,
          78,
          1227,
          254,
          282,
          48,
          961,
          502,
          384,
          382,
          148,
          212,
          142,
          414,
          157,
          300,
          2459,
          293,
          461,
          186,
          533,
          260,
          261,
          442,
          295,
          169,
          271,
          147,
          263,
          406,
          2,
          483,
          45,
          5,
          22,
          44,
          3,
          32,
          259,
          535,
          696,
          419,
          286,
          175,
          460,
          1458,
          429,
          441,
          644,
          288,
          303,
          572,
          581,
          289,
          68,
          303,
          94,
          54,
          95,
          317,
          203,
          262,
          165,
          655,
          147,
          527,
          128,
          526,
          300,
          156,
          378,
          238,
          124,
          443,
          144,
          148,
          463,
          178,
          55,
          115,
          332,
          147,
          272,
          86,
          144,
          447,
          136,
          636,
          30273
         ]
        }
       ],
       "layout": {
        "legend": {
         "tracegroupgap": 0
        },
        "margin": {
         "t": 60
        },
        "template": {
         "data": {
          "bar": [
           {
            "error_x": {
             "color": "#2a3f5f"
            },
            "error_y": {
             "color": "#2a3f5f"
            },
            "marker": {
             "line": {
              "color": "#E5ECF6",
              "width": 0.5
             }
            },
            "type": "bar"
           }
          ],
          "barpolar": [
           {
            "marker": {
             "line": {
              "color": "#E5ECF6",
              "width": 0.5
             }
            },
            "type": "barpolar"
           }
          ],
          "carpet": [
           {
            "aaxis": {
             "endlinecolor": "#2a3f5f",
             "gridcolor": "white",
             "linecolor": "white",
             "minorgridcolor": "white",
             "startlinecolor": "#2a3f5f"
            },
            "baxis": {
             "endlinecolor": "#2a3f5f",
             "gridcolor": "white",
             "linecolor": "white",
             "minorgridcolor": "white",
             "startlinecolor": "#2a3f5f"
            },
            "type": "carpet"
           }
          ],
          "choropleth": [
           {
            "colorbar": {
             "outlinewidth": 0,
             "ticks": ""
            },
            "type": "choropleth"
           }
          ],
          "contour": [
           {
            "colorbar": {
             "outlinewidth": 0,
             "ticks": ""
            },
            "colorscale": [
             [
              0,
              "#0d0887"
             ],
             [
              0.1111111111111111,
              "#46039f"
             ],
             [
              0.2222222222222222,
              "#7201a8"
             ],
             [
              0.3333333333333333,
              "#9c179e"
             ],
             [
              0.4444444444444444,
              "#bd3786"
             ],
             [
              0.5555555555555556,
              "#d8576b"
             ],
             [
              0.6666666666666666,
              "#ed7953"
             ],
             [
              0.7777777777777778,
              "#fb9f3a"
             ],
             [
              0.8888888888888888,
              "#fdca26"
             ],
             [
              1,
              "#f0f921"
             ]
            ],
            "type": "contour"
           }
          ],
          "contourcarpet": [
           {
            "colorbar": {
             "outlinewidth": 0,
             "ticks": ""
            },
            "type": "contourcarpet"
           }
          ],
          "heatmap": [
           {
            "colorbar": {
             "outlinewidth": 0,
             "ticks": ""
            },
            "colorscale": [
             [
              0,
              "#0d0887"
             ],
             [
              0.1111111111111111,
              "#46039f"
             ],
             [
              0.2222222222222222,
              "#7201a8"
             ],
             [
              0.3333333333333333,
              "#9c179e"
             ],
             [
              0.4444444444444444,
              "#bd3786"
             ],
             [
              0.5555555555555556,
              "#d8576b"
             ],
             [
              0.6666666666666666,
              "#ed7953"
             ],
             [
              0.7777777777777778,
              "#fb9f3a"
             ],
             [
              0.8888888888888888,
              "#fdca26"
             ],
             [
              1,
              "#f0f921"
             ]
            ],
            "type": "heatmap"
           }
          ],
          "heatmapgl": [
           {
            "colorbar": {
             "outlinewidth": 0,
             "ticks": ""
            },
            "colorscale": [
             [
              0,
              "#0d0887"
             ],
             [
              0.1111111111111111,
              "#46039f"
             ],
             [
              0.2222222222222222,
              "#7201a8"
             ],
             [
              0.3333333333333333,
              "#9c179e"
             ],
             [
              0.4444444444444444,
              "#bd3786"
             ],
             [
              0.5555555555555556,
              "#d8576b"
             ],
             [
              0.6666666666666666,
              "#ed7953"
             ],
             [
              0.7777777777777778,
              "#fb9f3a"
             ],
             [
              0.8888888888888888,
              "#fdca26"
             ],
             [
              1,
              "#f0f921"
             ]
            ],
            "type": "heatmapgl"
           }
          ],
          "histogram": [
           {
            "marker": {
             "colorbar": {
              "outlinewidth": 0,
              "ticks": ""
             }
            },
            "type": "histogram"
           }
          ],
          "histogram2d": [
           {
            "colorbar": {
             "outlinewidth": 0,
             "ticks": ""
            },
            "colorscale": [
             [
              0,
              "#0d0887"
             ],
             [
              0.1111111111111111,
              "#46039f"
             ],
             [
              0.2222222222222222,
              "#7201a8"
             ],
             [
              0.3333333333333333,
              "#9c179e"
             ],
             [
              0.4444444444444444,
              "#bd3786"
             ],
             [
              0.5555555555555556,
              "#d8576b"
             ],
             [
              0.6666666666666666,
              "#ed7953"
             ],
             [
              0.7777777777777778,
              "#fb9f3a"
             ],
             [
              0.8888888888888888,
              "#fdca26"
             ],
             [
              1,
              "#f0f921"
             ]
            ],
            "type": "histogram2d"
           }
          ],
          "histogram2dcontour": [
           {
            "colorbar": {
             "outlinewidth": 0,
             "ticks": ""
            },
            "colorscale": [
             [
              0,
              "#0d0887"
             ],
             [
              0.1111111111111111,
              "#46039f"
             ],
             [
              0.2222222222222222,
              "#7201a8"
             ],
             [
              0.3333333333333333,
              "#9c179e"
             ],
             [
              0.4444444444444444,
              "#bd3786"
             ],
             [
              0.5555555555555556,
              "#d8576b"
             ],
             [
              0.6666666666666666,
              "#ed7953"
             ],
             [
              0.7777777777777778,
              "#fb9f3a"
             ],
             [
              0.8888888888888888,
              "#fdca26"
             ],
             [
              1,
              "#f0f921"
             ]
            ],
            "type": "histogram2dcontour"
           }
          ],
          "mesh3d": [
           {
            "colorbar": {
             "outlinewidth": 0,
             "ticks": ""
            },
            "type": "mesh3d"
           }
          ],
          "parcoords": [
           {
            "line": {
             "colorbar": {
              "outlinewidth": 0,
              "ticks": ""
             }
            },
            "type": "parcoords"
           }
          ],
          "pie": [
           {
            "automargin": true,
            "type": "pie"
           }
          ],
          "scatter": [
           {
            "marker": {
             "colorbar": {
              "outlinewidth": 0,
              "ticks": ""
             }
            },
            "type": "scatter"
           }
          ],
          "scatter3d": [
           {
            "line": {
             "colorbar": {
              "outlinewidth": 0,
              "ticks": ""
             }
            },
            "marker": {
             "colorbar": {
              "outlinewidth": 0,
              "ticks": ""
             }
            },
            "type": "scatter3d"
           }
          ],
          "scattercarpet": [
           {
            "marker": {
             "colorbar": {
              "outlinewidth": 0,
              "ticks": ""
             }
            },
            "type": "scattercarpet"
           }
          ],
          "scattergeo": [
           {
            "marker": {
             "colorbar": {
              "outlinewidth": 0,
              "ticks": ""
             }
            },
            "type": "scattergeo"
           }
          ],
          "scattergl": [
           {
            "marker": {
             "colorbar": {
              "outlinewidth": 0,
              "ticks": ""
             }
            },
            "type": "scattergl"
           }
          ],
          "scattermapbox": [
           {
            "marker": {
             "colorbar": {
              "outlinewidth": 0,
              "ticks": ""
             }
            },
            "type": "scattermapbox"
           }
          ],
          "scatterpolar": [
           {
            "marker": {
             "colorbar": {
              "outlinewidth": 0,
              "ticks": ""
             }
            },
            "type": "scatterpolar"
           }
          ],
          "scatterpolargl": [
           {
            "marker": {
             "colorbar": {
              "outlinewidth": 0,
              "ticks": ""
             }
            },
            "type": "scatterpolargl"
           }
          ],
          "scatterternary": [
           {
            "marker": {
             "colorbar": {
              "outlinewidth": 0,
              "ticks": ""
             }
            },
            "type": "scatterternary"
           }
          ],
          "surface": [
           {
            "colorbar": {
             "outlinewidth": 0,
             "ticks": ""
            },
            "colorscale": [
             [
              0,
              "#0d0887"
             ],
             [
              0.1111111111111111,
              "#46039f"
             ],
             [
              0.2222222222222222,
              "#7201a8"
             ],
             [
              0.3333333333333333,
              "#9c179e"
             ],
             [
              0.4444444444444444,
              "#bd3786"
             ],
             [
              0.5555555555555556,
              "#d8576b"
             ],
             [
              0.6666666666666666,
              "#ed7953"
             ],
             [
              0.7777777777777778,
              "#fb9f3a"
             ],
             [
              0.8888888888888888,
              "#fdca26"
             ],
             [
              1,
              "#f0f921"
             ]
            ],
            "type": "surface"
           }
          ],
          "table": [
           {
            "cells": {
             "fill": {
              "color": "#EBF0F8"
             },
             "line": {
              "color": "white"
             }
            },
            "header": {
             "fill": {
              "color": "#C8D4E3"
             },
             "line": {
              "color": "white"
             }
            },
            "type": "table"
           }
          ]
         },
         "layout": {
          "annotationdefaults": {
           "arrowcolor": "#2a3f5f",
           "arrowhead": 0,
           "arrowwidth": 1
          },
          "autotypenumbers": "strict",
          "coloraxis": {
           "colorbar": {
            "outlinewidth": 0,
            "ticks": ""
           }
          },
          "colorscale": {
           "diverging": [
            [
             0,
             "#8e0152"
            ],
            [
             0.1,
             "#c51b7d"
            ],
            [
             0.2,
             "#de77ae"
            ],
            [
             0.3,
             "#f1b6da"
            ],
            [
             0.4,
             "#fde0ef"
            ],
            [
             0.5,
             "#f7f7f7"
            ],
            [
             0.6,
             "#e6f5d0"
            ],
            [
             0.7,
             "#b8e186"
            ],
            [
             0.8,
             "#7fbc41"
            ],
            [
             0.9,
             "#4d9221"
            ],
            [
             1,
             "#276419"
            ]
           ],
           "sequential": [
            [
             0,
             "#0d0887"
            ],
            [
             0.1111111111111111,
             "#46039f"
            ],
            [
             0.2222222222222222,
             "#7201a8"
            ],
            [
             0.3333333333333333,
             "#9c179e"
            ],
            [
             0.4444444444444444,
             "#bd3786"
            ],
            [
             0.5555555555555556,
             "#d8576b"
            ],
            [
             0.6666666666666666,
             "#ed7953"
            ],
            [
             0.7777777777777778,
             "#fb9f3a"
            ],
            [
             0.8888888888888888,
             "#fdca26"
            ],
            [
             1,
             "#f0f921"
            ]
           ],
           "sequentialminus": [
            [
             0,
             "#0d0887"
            ],
            [
             0.1111111111111111,
             "#46039f"
            ],
            [
             0.2222222222222222,
             "#7201a8"
            ],
            [
             0.3333333333333333,
             "#9c179e"
            ],
            [
             0.4444444444444444,
             "#bd3786"
            ],
            [
             0.5555555555555556,
             "#d8576b"
            ],
            [
             0.6666666666666666,
             "#ed7953"
            ],
            [
             0.7777777777777778,
             "#fb9f3a"
            ],
            [
             0.8888888888888888,
             "#fdca26"
            ],
            [
             1,
             "#f0f921"
            ]
           ]
          },
          "colorway": [
           "#636efa",
           "#EF553B",
           "#00cc96",
           "#ab63fa",
           "#FFA15A",
           "#19d3f3",
           "#FF6692",
           "#B6E880",
           "#FF97FF",
           "#FECB52"
          ],
          "font": {
           "color": "#2a3f5f"
          },
          "geo": {
           "bgcolor": "white",
           "lakecolor": "white",
           "landcolor": "#E5ECF6",
           "showlakes": true,
           "showland": true,
           "subunitcolor": "white"
          },
          "hoverlabel": {
           "align": "left"
          },
          "hovermode": "closest",
          "mapbox": {
           "style": "light"
          },
          "paper_bgcolor": "white",
          "plot_bgcolor": "#E5ECF6",
          "polar": {
           "angularaxis": {
            "gridcolor": "white",
            "linecolor": "white",
            "ticks": ""
           },
           "bgcolor": "#E5ECF6",
           "radialaxis": {
            "gridcolor": "white",
            "linecolor": "white",
            "ticks": ""
           }
          },
          "scene": {
           "xaxis": {
            "backgroundcolor": "#E5ECF6",
            "gridcolor": "white",
            "gridwidth": 2,
            "linecolor": "white",
            "showbackground": true,
            "ticks": "",
            "zerolinecolor": "white"
           },
           "yaxis": {
            "backgroundcolor": "#E5ECF6",
            "gridcolor": "white",
            "gridwidth": 2,
            "linecolor": "white",
            "showbackground": true,
            "ticks": "",
            "zerolinecolor": "white"
           },
           "zaxis": {
            "backgroundcolor": "#E5ECF6",
            "gridcolor": "white",
            "gridwidth": 2,
            "linecolor": "white",
            "showbackground": true,
            "ticks": "",
            "zerolinecolor": "white"
           }
          },
          "shapedefaults": {
           "line": {
            "color": "#2a3f5f"
           }
          },
          "ternary": {
           "aaxis": {
            "gridcolor": "white",
            "linecolor": "white",
            "ticks": ""
           },
           "baxis": {
            "gridcolor": "white",
            "linecolor": "white",
            "ticks": ""
           },
           "bgcolor": "#E5ECF6",
           "caxis": {
            "gridcolor": "white",
            "linecolor": "white",
            "ticks": ""
           }
          },
          "title": {
           "x": 0.05
          },
          "xaxis": {
           "automargin": true,
           "gridcolor": "white",
           "linecolor": "white",
           "ticks": "",
           "title": {
            "standoff": 15
           },
           "zerolinecolor": "white",
           "zerolinewidth": 2
          },
          "yaxis": {
           "automargin": true,
           "gridcolor": "white",
           "linecolor": "white",
           "ticks": "",
           "title": {
            "standoff": 15
           },
           "zerolinecolor": "white",
           "zerolinewidth": 2
          }
         }
        }
       }
      },
      "text/html": [
       "<div>                            <div id=\"3b0a8981-703d-4c56-9473-03871e79ded5\" class=\"plotly-graph-div\" style=\"height:525px; width:100%;\"></div>            <script type=\"text/javascript\">                require([\"plotly\"], function(Plotly) {                    window.PLOTLYENV=window.PLOTLYENV || {};                                    if (document.getElementById(\"3b0a8981-703d-4c56-9473-03871e79ded5\")) {                    Plotly.newPlot(                        \"3b0a8981-703d-4c56-9473-03871e79ded5\",                        [{\"branchvalues\": \"total\", \"domain\": {\"x\": [0.0, 1.0], \"y\": [0.0, 1.0]}, \"hovertemplate\": \"labels=%{label}<br>number=%{value}<br>parent=%{parent}<br>id=%{id}<extra></extra>\", \"ids\": [\"shown/3D Glasses\", \"shown/Bandana\", \"shown/Beanie\", \"shown/Big Beard\", \"shown/Big Shades\", \"shown/Black Lipstick\", \"shown/Blonde Bob\", \"shown/Blonde Short\", \"shown/Blue Eye Shadow\", \"shown/Buck Teeth\", \"shown/Cap\", \"shown/Cap Forward\", \"shown/Chinstrap\", \"shown/Choker\", \"shown/Cigarette\", \"shown/Classic Shades\", \"shown/Clown Eyes Blue\", \"shown/Clown Eyes Green\", \"shown/Clown Hair Green\", \"shown/Clown Nose\", \"shown/Cowboy Hat\", \"shown/Crazy Hair\", \"shown/Dark Hair\", \"shown/Do-rag\", \"shown/Earring\", \"shown/Eye Mask\", \"shown/Eye Patch\", \"shown/Fedora\", \"shown/Front Beard\", \"shown/Front Beard Dark\", \"shown/Frown\", \"shown/Frumpy Hair\", \"shown/Goat\", \"shown/Gold Chain\", \"shown/Green Eye Shadow\", \"shown/Half Shaved\", \"shown/Handlebars\", \"shown/Headband\", \"hidden/Hidden Buck Teeth\", \"hidden/Hidden Earring\", \"hidden/Hidden Frown\", \"hidden/Hidden Handlebars\", \"hidden/Hidden Lipstick\", \"hidden/Hidden Mole\", \"hidden/Hidden Mustache\", \"hidden/Hidden Smile\", \"shown/Hoodie\", \"shown/Horned Rim Glasses\", \"shown/Hot Lipstick\", \"shown/Knitted Cap\", \"shown/Luxurious Beard\", \"shown/Medical Mask\", \"shown/Messy Hair\", \"shown/Mohawk\", \"shown/Mohawk Dark\", \"shown/Mohawk Thin\", \"shown/Mole\", \"shown/Mustache\", \"shown/Muttonchops\", \"shown/Nerd Glasses\", \"shown/Normal Beard\", \"shown/Normal Beard Black\", \"shown/Orange Side\", \"shown/Peak Spike\", \"shown/Pigtails\", \"shown/Pilot Helmet\", \"shown/Pink With Hat\", \"shown/Pipe\", \"shown/Police Cap\", \"shown/Purple Eye Shadow\", \"shown/Purple Hair\", \"shown/Purple Lipstick\", \"shown/Red Mohawk\", \"shown/Regular Shades\", \"shown/Rosy Cheeks\", \"shown/Shadow Beard\", \"shown/Shaved Head\", \"shown/Silver Chain\", \"shown/Small Shades\", \"shown/Smile\", \"shown/Spots\", \"shown/Straight Hair\", \"shown/Straight Hair Blonde\", \"shown/Straight Hair Dark\", \"shown/Stringy Hair\", \"shown/Tassle Hat\", \"shown/Tiara\", \"shown/Top Hat\", \"shown/VR\", \"shown/Vampire Hair\", \"shown/Vape\", \"shown/Welding Goggles\", \"shown/Wild Blonde\", \"shown/Wild Hair\", \"shown/Wild White Hair\", \"hidden\", \"shown\"], \"labels\": [\"3D Glasses\", \"Bandana\", \"Beanie\", \"Big Beard\", \"Big Shades\", \"Black Lipstick\", \"Blonde Bob\", \"Blonde Short\", \"Blue Eye Shadow\", \"Buck Teeth\", \"Cap\", \"Cap Forward\", \"Chinstrap\", \"Choker\", \"Cigarette\", \"Classic Shades\", \"Clown Eyes Blue\", \"Clown Eyes Green\", \"Clown Hair Green\", \"Clown Nose\", \"Cowboy Hat\", \"Crazy Hair\", \"Dark Hair\", \"Do-rag\", \"Earring\", \"Eye Mask\", \"Eye Patch\", \"Fedora\", \"Front Beard\", \"Front Beard Dark\", \"Frown\", \"Frumpy Hair\", \"Goat\", \"Gold Chain\", \"Green Eye Shadow\", \"Half Shaved\", \"Handlebars\", \"Headband\", \"Hidden Buck Teeth\", \"Hidden Earring\", \"Hidden Frown\", \"Hidden Handlebars\", \"Hidden Lipstick\", \"Hidden Mole\", \"Hidden Mustache\", \"Hidden Smile\", \"Hoodie\", \"Horned Rim Glasses\", \"Hot Lipstick\", \"Knitted Cap\", \"Luxurious Beard\", \"Medical Mask\", \"Messy Hair\", \"Mohawk\", \"Mohawk Dark\", \"Mohawk Thin\", \"Mole\", \"Mustache\", \"Muttonchops\", \"Nerd Glasses\", \"Normal Beard\", \"Normal Beard Black\", \"Orange Side\", \"Peak Spike\", \"Pigtails\", \"Pilot Helmet\", \"Pink With Hat\", \"Pipe\", \"Police Cap\", \"Purple Eye Shadow\", \"Purple Hair\", \"Purple Lipstick\", \"Red Mohawk\", \"Regular Shades\", \"Rosy Cheeks\", \"Shadow Beard\", \"Shaved Head\", \"Silver Chain\", \"Small Shades\", \"Smile\", \"Spots\", \"Straight Hair\", \"Straight Hair Blonde\", \"Straight Hair Dark\", \"Stringy Hair\", \"Tassle Hat\", \"Tiara\", \"Top Hat\", \"VR\", \"Vampire Hair\", \"Vape\", \"Welding Goggles\", \"Wild Blonde\", \"Wild Hair\", \"Wild White Hair\", \"hidden\", \"shown\"], \"name\": \"\", \"parents\": [\"shown\", \"shown\", \"shown\", \"shown\", \"shown\", \"shown\", \"shown\", \"shown\", \"shown\", \"shown\", \"shown\", \"shown\", \"shown\", \"shown\", \"shown\", \"shown\", \"shown\", \"shown\", \"shown\", \"shown\", \"shown\", \"shown\", \"shown\", \"shown\", \"shown\", \"shown\", \"shown\", \"shown\", \"shown\", \"shown\", \"shown\", \"shown\", \"shown\", \"shown\", \"shown\", \"shown\", \"shown\", \"shown\", \"hidden\", \"hidden\", \"hidden\", \"hidden\", \"hidden\", \"hidden\", \"hidden\", \"hidden\", \"shown\", \"shown\", \"shown\", \"shown\", \"shown\", \"shown\", \"shown\", \"shown\", \"shown\", \"shown\", \"shown\", \"shown\", \"shown\", \"shown\", \"shown\", \"shown\", \"shown\", \"shown\", \"shown\", \"shown\", \"shown\", \"shown\", \"shown\", \"shown\", \"shown\", \"shown\", \"shown\", \"shown\", \"shown\", \"shown\", \"shown\", \"shown\", \"shown\", \"shown\", \"shown\", \"shown\", \"shown\", \"shown\", \"shown\", \"shown\", \"shown\", \"shown\", \"shown\", \"shown\", \"shown\", \"shown\", \"shown\", \"shown\", \"shown\", \"\", \"\"], \"type\": \"sunburst\", \"values\": [286, 481, 44, 146, 535, 617, 147, 129, 266, 78, 1227, 254, 282, 48, 961, 502, 384, 382, 148, 212, 142, 414, 157, 300, 2459, 293, 461, 186, 533, 260, 261, 442, 295, 169, 271, 147, 263, 406, 2, 483, 45, 5, 22, 44, 3, 32, 259, 535, 696, 419, 286, 175, 460, 1458, 429, 441, 644, 288, 303, 572, 581, 289, 68, 303, 94, 54, 95, 317, 203, 262, 165, 655, 147, 527, 128, 526, 300, 156, 378, 238, 124, 443, 144, 148, 463, 178, 55, 115, 332, 147, 272, 86, 144, 447, 136, 636, 30273]}],                        {\"legend\": {\"tracegroupgap\": 0}, \"margin\": {\"t\": 60}, \"template\": {\"data\": {\"bar\": [{\"error_x\": {\"color\": \"#2a3f5f\"}, \"error_y\": {\"color\": \"#2a3f5f\"}, \"marker\": {\"line\": {\"color\": \"#E5ECF6\", \"width\": 0.5}}, \"type\": \"bar\"}], \"barpolar\": [{\"marker\": {\"line\": {\"color\": \"#E5ECF6\", \"width\": 0.5}}, \"type\": \"barpolar\"}], \"carpet\": [{\"aaxis\": {\"endlinecolor\": \"#2a3f5f\", \"gridcolor\": \"white\", \"linecolor\": \"white\", \"minorgridcolor\": \"white\", \"startlinecolor\": \"#2a3f5f\"}, \"baxis\": {\"endlinecolor\": \"#2a3f5f\", \"gridcolor\": \"white\", \"linecolor\": \"white\", \"minorgridcolor\": \"white\", \"startlinecolor\": \"#2a3f5f\"}, \"type\": \"carpet\"}], \"choropleth\": [{\"colorbar\": {\"outlinewidth\": 0, \"ticks\": \"\"}, \"type\": \"choropleth\"}], \"contour\": [{\"colorbar\": {\"outlinewidth\": 0, \"ticks\": \"\"}, \"colorscale\": [[0.0, \"#0d0887\"], [0.1111111111111111, \"#46039f\"], [0.2222222222222222, \"#7201a8\"], [0.3333333333333333, \"#9c179e\"], [0.4444444444444444, \"#bd3786\"], [0.5555555555555556, \"#d8576b\"], [0.6666666666666666, \"#ed7953\"], [0.7777777777777778, \"#fb9f3a\"], [0.8888888888888888, \"#fdca26\"], [1.0, \"#f0f921\"]], \"type\": \"contour\"}], \"contourcarpet\": [{\"colorbar\": {\"outlinewidth\": 0, \"ticks\": \"\"}, \"type\": \"contourcarpet\"}], \"heatmap\": [{\"colorbar\": {\"outlinewidth\": 0, \"ticks\": \"\"}, \"colorscale\": [[0.0, \"#0d0887\"], [0.1111111111111111, \"#46039f\"], [0.2222222222222222, \"#7201a8\"], [0.3333333333333333, \"#9c179e\"], [0.4444444444444444, \"#bd3786\"], [0.5555555555555556, \"#d8576b\"], [0.6666666666666666, \"#ed7953\"], [0.7777777777777778, \"#fb9f3a\"], [0.8888888888888888, \"#fdca26\"], [1.0, \"#f0f921\"]], \"type\": \"heatmap\"}], \"heatmapgl\": [{\"colorbar\": {\"outlinewidth\": 0, \"ticks\": \"\"}, \"colorscale\": [[0.0, \"#0d0887\"], [0.1111111111111111, \"#46039f\"], [0.2222222222222222, \"#7201a8\"], [0.3333333333333333, \"#9c179e\"], [0.4444444444444444, \"#bd3786\"], [0.5555555555555556, \"#d8576b\"], [0.6666666666666666, \"#ed7953\"], [0.7777777777777778, \"#fb9f3a\"], [0.8888888888888888, \"#fdca26\"], [1.0, \"#f0f921\"]], \"type\": \"heatmapgl\"}], \"histogram\": [{\"marker\": {\"colorbar\": {\"outlinewidth\": 0, \"ticks\": \"\"}}, \"type\": \"histogram\"}], \"histogram2d\": [{\"colorbar\": {\"outlinewidth\": 0, \"ticks\": \"\"}, \"colorscale\": [[0.0, \"#0d0887\"], [0.1111111111111111, \"#46039f\"], [0.2222222222222222, \"#7201a8\"], [0.3333333333333333, \"#9c179e\"], [0.4444444444444444, \"#bd3786\"], [0.5555555555555556, \"#d8576b\"], [0.6666666666666666, \"#ed7953\"], [0.7777777777777778, \"#fb9f3a\"], [0.8888888888888888, \"#fdca26\"], [1.0, \"#f0f921\"]], \"type\": \"histogram2d\"}], \"histogram2dcontour\": [{\"colorbar\": {\"outlinewidth\": 0, \"ticks\": \"\"}, \"colorscale\": [[0.0, \"#0d0887\"], [0.1111111111111111, \"#46039f\"], [0.2222222222222222, \"#7201a8\"], [0.3333333333333333, \"#9c179e\"], [0.4444444444444444, \"#bd3786\"], [0.5555555555555556, \"#d8576b\"], [0.6666666666666666, \"#ed7953\"], [0.7777777777777778, \"#fb9f3a\"], [0.8888888888888888, \"#fdca26\"], [1.0, \"#f0f921\"]], \"type\": \"histogram2dcontour\"}], \"mesh3d\": [{\"colorbar\": {\"outlinewidth\": 0, \"ticks\": \"\"}, \"type\": \"mesh3d\"}], \"parcoords\": [{\"line\": {\"colorbar\": {\"outlinewidth\": 0, \"ticks\": \"\"}}, \"type\": \"parcoords\"}], \"pie\": [{\"automargin\": true, \"type\": \"pie\"}], \"scatter\": [{\"marker\": {\"colorbar\": {\"outlinewidth\": 0, \"ticks\": \"\"}}, \"type\": \"scatter\"}], \"scatter3d\": [{\"line\": {\"colorbar\": {\"outlinewidth\": 0, \"ticks\": \"\"}}, \"marker\": {\"colorbar\": {\"outlinewidth\": 0, \"ticks\": \"\"}}, \"type\": \"scatter3d\"}], \"scattercarpet\": [{\"marker\": {\"colorbar\": {\"outlinewidth\": 0, \"ticks\": \"\"}}, \"type\": \"scattercarpet\"}], \"scattergeo\": [{\"marker\": {\"colorbar\": {\"outlinewidth\": 0, \"ticks\": \"\"}}, \"type\": \"scattergeo\"}], \"scattergl\": [{\"marker\": {\"colorbar\": {\"outlinewidth\": 0, \"ticks\": \"\"}}, \"type\": \"scattergl\"}], \"scattermapbox\": [{\"marker\": {\"colorbar\": {\"outlinewidth\": 0, \"ticks\": \"\"}}, \"type\": \"scattermapbox\"}], \"scatterpolar\": [{\"marker\": {\"colorbar\": {\"outlinewidth\": 0, \"ticks\": \"\"}}, \"type\": \"scatterpolar\"}], \"scatterpolargl\": [{\"marker\": {\"colorbar\": {\"outlinewidth\": 0, \"ticks\": \"\"}}, \"type\": \"scatterpolargl\"}], \"scatterternary\": [{\"marker\": {\"colorbar\": {\"outlinewidth\": 0, \"ticks\": \"\"}}, \"type\": \"scatterternary\"}], \"surface\": [{\"colorbar\": {\"outlinewidth\": 0, \"ticks\": \"\"}, \"colorscale\": [[0.0, \"#0d0887\"], [0.1111111111111111, \"#46039f\"], [0.2222222222222222, \"#7201a8\"], [0.3333333333333333, \"#9c179e\"], [0.4444444444444444, \"#bd3786\"], [0.5555555555555556, \"#d8576b\"], [0.6666666666666666, \"#ed7953\"], [0.7777777777777778, \"#fb9f3a\"], [0.8888888888888888, \"#fdca26\"], [1.0, \"#f0f921\"]], \"type\": \"surface\"}], \"table\": [{\"cells\": {\"fill\": {\"color\": \"#EBF0F8\"}, \"line\": {\"color\": \"white\"}}, \"header\": {\"fill\": {\"color\": \"#C8D4E3\"}, \"line\": {\"color\": \"white\"}}, \"type\": \"table\"}]}, \"layout\": {\"annotationdefaults\": {\"arrowcolor\": \"#2a3f5f\", \"arrowhead\": 0, \"arrowwidth\": 1}, \"autotypenumbers\": \"strict\", \"coloraxis\": {\"colorbar\": {\"outlinewidth\": 0, \"ticks\": \"\"}}, \"colorscale\": {\"diverging\": [[0, \"#8e0152\"], [0.1, \"#c51b7d\"], [0.2, \"#de77ae\"], [0.3, \"#f1b6da\"], [0.4, \"#fde0ef\"], [0.5, \"#f7f7f7\"], [0.6, \"#e6f5d0\"], [0.7, \"#b8e186\"], [0.8, \"#7fbc41\"], [0.9, \"#4d9221\"], [1, \"#276419\"]], \"sequential\": [[0.0, \"#0d0887\"], [0.1111111111111111, \"#46039f\"], [0.2222222222222222, \"#7201a8\"], [0.3333333333333333, \"#9c179e\"], [0.4444444444444444, \"#bd3786\"], [0.5555555555555556, \"#d8576b\"], [0.6666666666666666, \"#ed7953\"], [0.7777777777777778, \"#fb9f3a\"], [0.8888888888888888, \"#fdca26\"], [1.0, \"#f0f921\"]], \"sequentialminus\": [[0.0, \"#0d0887\"], [0.1111111111111111, \"#46039f\"], [0.2222222222222222, \"#7201a8\"], [0.3333333333333333, \"#9c179e\"], [0.4444444444444444, \"#bd3786\"], [0.5555555555555556, \"#d8576b\"], [0.6666666666666666, \"#ed7953\"], [0.7777777777777778, \"#fb9f3a\"], [0.8888888888888888, \"#fdca26\"], [1.0, \"#f0f921\"]]}, \"colorway\": [\"#636efa\", \"#EF553B\", \"#00cc96\", \"#ab63fa\", \"#FFA15A\", \"#19d3f3\", \"#FF6692\", \"#B6E880\", \"#FF97FF\", \"#FECB52\"], \"font\": {\"color\": \"#2a3f5f\"}, \"geo\": {\"bgcolor\": \"white\", \"lakecolor\": \"white\", \"landcolor\": \"#E5ECF6\", \"showlakes\": true, \"showland\": true, \"subunitcolor\": \"white\"}, \"hoverlabel\": {\"align\": \"left\"}, \"hovermode\": \"closest\", \"mapbox\": {\"style\": \"light\"}, \"paper_bgcolor\": \"white\", \"plot_bgcolor\": \"#E5ECF6\", \"polar\": {\"angularaxis\": {\"gridcolor\": \"white\", \"linecolor\": \"white\", \"ticks\": \"\"}, \"bgcolor\": \"#E5ECF6\", \"radialaxis\": {\"gridcolor\": \"white\", \"linecolor\": \"white\", \"ticks\": \"\"}}, \"scene\": {\"xaxis\": {\"backgroundcolor\": \"#E5ECF6\", \"gridcolor\": \"white\", \"gridwidth\": 2, \"linecolor\": \"white\", \"showbackground\": true, \"ticks\": \"\", \"zerolinecolor\": \"white\"}, \"yaxis\": {\"backgroundcolor\": \"#E5ECF6\", \"gridcolor\": \"white\", \"gridwidth\": 2, \"linecolor\": \"white\", \"showbackground\": true, \"ticks\": \"\", \"zerolinecolor\": \"white\"}, \"zaxis\": {\"backgroundcolor\": \"#E5ECF6\", \"gridcolor\": \"white\", \"gridwidth\": 2, \"linecolor\": \"white\", \"showbackground\": true, \"ticks\": \"\", \"zerolinecolor\": \"white\"}}, \"shapedefaults\": {\"line\": {\"color\": \"#2a3f5f\"}}, \"ternary\": {\"aaxis\": {\"gridcolor\": \"white\", \"linecolor\": \"white\", \"ticks\": \"\"}, \"baxis\": {\"gridcolor\": \"white\", \"linecolor\": \"white\", \"ticks\": \"\"}, \"bgcolor\": \"#E5ECF6\", \"caxis\": {\"gridcolor\": \"white\", \"linecolor\": \"white\", \"ticks\": \"\"}}, \"title\": {\"x\": 0.05}, \"xaxis\": {\"automargin\": true, \"gridcolor\": \"white\", \"linecolor\": \"white\", \"ticks\": \"\", \"title\": {\"standoff\": 15}, \"zerolinecolor\": \"white\", \"zerolinewidth\": 2}, \"yaxis\": {\"automargin\": true, \"gridcolor\": \"white\", \"linecolor\": \"white\", \"ticks\": \"\", \"title\": {\"standoff\": 15}, \"zerolinecolor\": \"white\", \"zerolinewidth\": 2}}}},                        {\"responsive\": true}                    ).then(function(){\n",
       "                            \n",
       "var gd = document.getElementById('3b0a8981-703d-4c56-9473-03871e79ded5');\n",
       "var x = new MutationObserver(function (mutations, observer) {{\n",
       "        var display = window.getComputedStyle(gd).display;\n",
       "        if (!display || display === 'none') {{\n",
       "            console.log([gd, 'removed!']);\n",
       "            Plotly.purge(gd);\n",
       "            observer.disconnect();\n",
       "        }}\n",
       "}});\n",
       "\n",
       "// Listen for the removal of the full notebook cells\n",
       "var notebookContainer = gd.closest('#notebook-container');\n",
       "if (notebookContainer) {{\n",
       "    x.observe(notebookContainer, {childList: true});\n",
       "}}\n",
       "\n",
       "// Listen for the clearing of the current output cell\n",
       "var outputEl = gd.closest('.output');\n",
       "if (outputEl) {{\n",
       "    x.observe(outputEl, {childList: true});\n",
       "}}\n",
       "\n",
       "                        })                };                });            </script>        </div>"
      ]
     },
     "metadata": {},
     "output_type": "display_data"
    }
   ],
   "source": [
    "fig = px.sunburst(dftraits, path=['hidden2','trait'], values='number')\n",
    "fig.show()\n",
    "#fig.write_image('test1.jpg', scale=10)"
   ]
  },
  {
   "cell_type": "code",
   "execution_count": 172,
   "id": "cfb67ebe",
   "metadata": {},
   "outputs": [
    {
     "data": {
      "text/plain": [
       "3    3933\n",
       "2    2713\n",
       "4    2168\n",
       "5     701\n",
       "1     280\n",
       "6     162\n",
       "7      26\n",
       "0       8\n",
       "8       8\n",
       "9       1\n",
       "Name: total_traits, dtype: int64"
      ]
     },
     "execution_count": 172,
     "metadata": {},
     "output_type": "execute_result"
    }
   ],
   "source": [
    "df['total_traits'].value_counts()"
   ]
  },
  {
   "cell_type": "code",
   "execution_count": null,
   "id": "ebbe25cc",
   "metadata": {},
   "outputs": [],
   "source": []
  }
 ],
 "metadata": {
  "kernelspec": {
   "display_name": "Python 3",
   "language": "python",
   "name": "python3"
  },
  "language_info": {
   "codemirror_mode": {
    "name": "ipython",
    "version": 3
   },
   "file_extension": ".py",
   "mimetype": "text/x-python",
   "name": "python",
   "nbconvert_exporter": "python",
   "pygments_lexer": "ipython3",
   "version": "3.8.5"
  }
 },
 "nbformat": 4,
 "nbformat_minor": 5
}
